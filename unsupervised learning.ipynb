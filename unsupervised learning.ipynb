{
 "cells": [
  {
   "cell_type": "code",
   "execution_count": 50,
   "id": "ed35440d",
   "metadata": {},
   "outputs": [],
   "source": [
    "# import all packages and set plots to be embedded inline\n",
    "import numpy as np\n",
    "import sklearn.gaussian_process as gp\n",
    "from sklearn.model_selection import cross_val_score\n",
    "from sklearn.metrics import mean_squared_error\n",
    "from sklearn.preprocessing import StandardScaler\n",
    "import matplotlib.pyplot as plt\n",
    "import pandas as pd\n",
    "import seaborn as sns\n",
    "import os\n",
    "from sklearn.gaussian_process import GaussianProcessRegressor\n",
    "from sklearn.gaussian_process.kernels import RBF\n",
    "from sklearn.model_selection import GridSearchCV\n",
    "from sklearn.model_selection import LeaveOneOut, cross_val_score\n",
    "import plotly.express as px\n",
    "from sklearn.decomposition import PCA\n",
    "from sklearn.cluster import KMeans\n",
    "from sklearn.metrics import silhouette_score"
   ]
  },
  {
   "cell_type": "code",
   "execution_count": 2,
   "id": "fdb5e9e4",
   "metadata": {},
   "outputs": [],
   "source": [
    "    X = pd.read_csv('descriptor_data.csv') "
   ]
  },
  {
   "cell_type": "code",
   "execution_count": 3,
   "id": "63533dad",
   "metadata": {
    "scrolled": true
   },
   "outputs": [
    {
     "data": {
      "text/html": [
       "<div>\n",
       "<style scoped>\n",
       "    .dataframe tbody tr th:only-of-type {\n",
       "        vertical-align: middle;\n",
       "    }\n",
       "\n",
       "    .dataframe tbody tr th {\n",
       "        vertical-align: top;\n",
       "    }\n",
       "\n",
       "    .dataframe thead th {\n",
       "        text-align: right;\n",
       "    }\n",
       "</style>\n",
       "<table border=\"1\" class=\"dataframe\">\n",
       "  <thead>\n",
       "    <tr style=\"text-align: right;\">\n",
       "      <th></th>\n",
       "      <th>Name</th>\n",
       "      <th>Metal</th>\n",
       "      <th>Atom_A</th>\n",
       "      <th>Atom_B</th>\n",
       "      <th>A-M-B Angle</th>\n",
       "      <th>M-A Distance</th>\n",
       "      <th>M-B Distance</th>\n",
       "      <th>Metal_NBO</th>\n",
       "      <th>A_NBO</th>\n",
       "      <th>B_NBO</th>\n",
       "      <th>...</th>\n",
       "      <th>% VBur asymm 2</th>\n",
       "      <th>% VBur asymm 3</th>\n",
       "      <th>% VBur octant 1</th>\n",
       "      <th>% VBur octant 2</th>\n",
       "      <th>% VBur octant 3</th>\n",
       "      <th>% VBur octant 4</th>\n",
       "      <th>% VBur octant 5</th>\n",
       "      <th>% VBur octant 6</th>\n",
       "      <th>% VBur octant 7</th>\n",
       "      <th>% VBur octant 8</th>\n",
       "    </tr>\n",
       "  </thead>\n",
       "  <tbody>\n",
       "    <tr>\n",
       "      <th>0</th>\n",
       "      <td>ligand-001-n-n-1</td>\n",
       "      <td>2</td>\n",
       "      <td>23</td>\n",
       "      <td>22</td>\n",
       "      <td>80.01004</td>\n",
       "      <td>2.324</td>\n",
       "      <td>2.324</td>\n",
       "      <td>0.26015</td>\n",
       "      <td>-0.42686</td>\n",
       "      <td>-0.42686</td>\n",
       "      <td>...</td>\n",
       "      <td>0.067555</td>\n",
       "      <td>0.051249</td>\n",
       "      <td>79.276929</td>\n",
       "      <td>75.605665</td>\n",
       "      <td>79.304883</td>\n",
       "      <td>75.750093</td>\n",
       "      <td>4.034663</td>\n",
       "      <td>0.242266</td>\n",
       "      <td>3.866940</td>\n",
       "      <td>0.228289</td>\n",
       "    </tr>\n",
       "    <tr>\n",
       "      <th>1</th>\n",
       "      <td>ligand-002-p-p-1</td>\n",
       "      <td>2</td>\n",
       "      <td>16</td>\n",
       "      <td>17</td>\n",
       "      <td>81.08750</td>\n",
       "      <td>2.404</td>\n",
       "      <td>2.406</td>\n",
       "      <td>-0.11874</td>\n",
       "      <td>1.06691</td>\n",
       "      <td>1.06830</td>\n",
       "      <td>...</td>\n",
       "      <td>5.049152</td>\n",
       "      <td>3.262439</td>\n",
       "      <td>81.564480</td>\n",
       "      <td>92.051808</td>\n",
       "      <td>83.060007</td>\n",
       "      <td>82.575475</td>\n",
       "      <td>5.101565</td>\n",
       "      <td>8.190458</td>\n",
       "      <td>6.671636</td>\n",
       "      <td>0.535781</td>\n",
       "    </tr>\n",
       "    <tr>\n",
       "      <th>2</th>\n",
       "      <td>ligand-003-p-p-2</td>\n",
       "      <td>3</td>\n",
       "      <td>1</td>\n",
       "      <td>12</td>\n",
       "      <td>88.85482</td>\n",
       "      <td>2.393</td>\n",
       "      <td>2.398</td>\n",
       "      <td>-0.12498</td>\n",
       "      <td>1.08763</td>\n",
       "      <td>1.08260</td>\n",
       "      <td>...</td>\n",
       "      <td>0.099003</td>\n",
       "      <td>0.173546</td>\n",
       "      <td>74.021618</td>\n",
       "      <td>74.375699</td>\n",
       "      <td>95.387626</td>\n",
       "      <td>96.706113</td>\n",
       "      <td>8.866008</td>\n",
       "      <td>10.035408</td>\n",
       "      <td>10.860045</td>\n",
       "      <td>10.669027</td>\n",
       "    </tr>\n",
       "    <tr>\n",
       "      <th>3</th>\n",
       "      <td>ligand-004-p-p-3</td>\n",
       "      <td>3</td>\n",
       "      <td>45</td>\n",
       "      <td>1</td>\n",
       "      <td>95.97953</td>\n",
       "      <td>2.432</td>\n",
       "      <td>2.441</td>\n",
       "      <td>-0.09320</td>\n",
       "      <td>1.06382</td>\n",
       "      <td>1.05890</td>\n",
       "      <td>...</td>\n",
       "      <td>0.822307</td>\n",
       "      <td>1.202013</td>\n",
       "      <td>97.623928</td>\n",
       "      <td>96.230898</td>\n",
       "      <td>70.308423</td>\n",
       "      <td>71.878494</td>\n",
       "      <td>11.675363</td>\n",
       "      <td>12.486023</td>\n",
       "      <td>18.496086</td>\n",
       "      <td>13.054417</td>\n",
       "    </tr>\n",
       "    <tr>\n",
       "      <th>4</th>\n",
       "      <td>ligand-005-c-n-1</td>\n",
       "      <td>1</td>\n",
       "      <td>2</td>\n",
       "      <td>59</td>\n",
       "      <td>86.57124</td>\n",
       "      <td>2.143</td>\n",
       "      <td>2.295</td>\n",
       "      <td>0.17756</td>\n",
       "      <td>0.22924</td>\n",
       "      <td>-0.40636</td>\n",
       "      <td>...</td>\n",
       "      <td>15.149786</td>\n",
       "      <td>30.368291</td>\n",
       "      <td>64.340291</td>\n",
       "      <td>88.292024</td>\n",
       "      <td>40.775252</td>\n",
       "      <td>96.850540</td>\n",
       "      <td>44.781960</td>\n",
       "      <td>9.821096</td>\n",
       "      <td>17.815878</td>\n",
       "      <td>11.330600</td>\n",
       "    </tr>\n",
       "    <tr>\n",
       "      <th>...</th>\n",
       "      <td>...</td>\n",
       "      <td>...</td>\n",
       "      <td>...</td>\n",
       "      <td>...</td>\n",
       "      <td>...</td>\n",
       "      <td>...</td>\n",
       "      <td>...</td>\n",
       "      <td>...</td>\n",
       "      <td>...</td>\n",
       "      <td>...</td>\n",
       "      <td>...</td>\n",
       "      <td>...</td>\n",
       "      <td>...</td>\n",
       "      <td>...</td>\n",
       "      <td>...</td>\n",
       "      <td>...</td>\n",
       "      <td>...</td>\n",
       "      <td>...</td>\n",
       "      <td>...</td>\n",
       "      <td>...</td>\n",
       "      <td>...</td>\n",
       "    </tr>\n",
       "    <tr>\n",
       "      <th>372</th>\n",
       "      <td>ligand-407-p-o-138</td>\n",
       "      <td>34</td>\n",
       "      <td>1</td>\n",
       "      <td>5</td>\n",
       "      <td>89.32942</td>\n",
       "      <td>2.459</td>\n",
       "      <td>2.263</td>\n",
       "      <td>0.18682</td>\n",
       "      <td>1.04370</td>\n",
       "      <td>-0.96597</td>\n",
       "      <td>...</td>\n",
       "      <td>8.995294</td>\n",
       "      <td>0.404165</td>\n",
       "      <td>98.401975</td>\n",
       "      <td>85.571189</td>\n",
       "      <td>63.939620</td>\n",
       "      <td>73.788669</td>\n",
       "      <td>9.793142</td>\n",
       "      <td>0.843272</td>\n",
       "      <td>26.481551</td>\n",
       "      <td>30.833023</td>\n",
       "    </tr>\n",
       "    <tr>\n",
       "      <th>373</th>\n",
       "      <td>ligand-408-p-o-139</td>\n",
       "      <td>34</td>\n",
       "      <td>1</td>\n",
       "      <td>5</td>\n",
       "      <td>89.17718</td>\n",
       "      <td>2.456</td>\n",
       "      <td>2.264</td>\n",
       "      <td>0.18774</td>\n",
       "      <td>1.04308</td>\n",
       "      <td>-0.96762</td>\n",
       "      <td>...</td>\n",
       "      <td>8.058843</td>\n",
       "      <td>0.998183</td>\n",
       "      <td>98.541744</td>\n",
       "      <td>85.613120</td>\n",
       "      <td>64.480060</td>\n",
       "      <td>73.467201</td>\n",
       "      <td>9.900298</td>\n",
       "      <td>0.773388</td>\n",
       "      <td>30.506895</td>\n",
       "      <td>31.699590</td>\n",
       "    </tr>\n",
       "    <tr>\n",
       "      <th>374</th>\n",
       "      <td>ligand-409-p-o-140</td>\n",
       "      <td>34</td>\n",
       "      <td>1</td>\n",
       "      <td>5</td>\n",
       "      <td>89.05786</td>\n",
       "      <td>2.465</td>\n",
       "      <td>2.263</td>\n",
       "      <td>0.19732</td>\n",
       "      <td>1.03890</td>\n",
       "      <td>-0.96986</td>\n",
       "      <td>...</td>\n",
       "      <td>8.174152</td>\n",
       "      <td>4.679929</td>\n",
       "      <td>96.706113</td>\n",
       "      <td>86.311964</td>\n",
       "      <td>66.912039</td>\n",
       "      <td>81.387439</td>\n",
       "      <td>11.894335</td>\n",
       "      <td>0.661573</td>\n",
       "      <td>30.138837</td>\n",
       "      <td>26.733135</td>\n",
       "    </tr>\n",
       "    <tr>\n",
       "      <th>375</th>\n",
       "      <td>ligand-411-p-o-95</td>\n",
       "      <td>13</td>\n",
       "      <td>1</td>\n",
       "      <td>4</td>\n",
       "      <td>77.82640</td>\n",
       "      <td>2.418</td>\n",
       "      <td>2.292</td>\n",
       "      <td>0.19136</td>\n",
       "      <td>1.04202</td>\n",
       "      <td>-1.08516</td>\n",
       "      <td>...</td>\n",
       "      <td>9.620760</td>\n",
       "      <td>14.170239</td>\n",
       "      <td>82.389117</td>\n",
       "      <td>89.116660</td>\n",
       "      <td>64.591875</td>\n",
       "      <td>97.414275</td>\n",
       "      <td>22.218599</td>\n",
       "      <td>7.459001</td>\n",
       "      <td>19.166977</td>\n",
       "      <td>16.795565</td>\n",
       "    </tr>\n",
       "    <tr>\n",
       "      <th>376</th>\n",
       "      <td>ligand-412-p-o-97</td>\n",
       "      <td>13</td>\n",
       "      <td>1</td>\n",
       "      <td>4</td>\n",
       "      <td>91.74673</td>\n",
       "      <td>2.407</td>\n",
       "      <td>2.310</td>\n",
       "      <td>0.15940</td>\n",
       "      <td>1.01806</td>\n",
       "      <td>-1.06287</td>\n",
       "      <td>...</td>\n",
       "      <td>12.444092</td>\n",
       "      <td>8.896291</td>\n",
       "      <td>85.328923</td>\n",
       "      <td>53.340477</td>\n",
       "      <td>90.486396</td>\n",
       "      <td>93.943347</td>\n",
       "      <td>11.405143</td>\n",
       "      <td>7.766493</td>\n",
       "      <td>0.633619</td>\n",
       "      <td>11.325941</td>\n",
       "    </tr>\n",
       "  </tbody>\n",
       "</table>\n",
       "<p>377 rows × 87 columns</p>\n",
       "</div>"
      ],
      "text/plain": [
       "                   Name  Metal  Atom_A  Atom_B  A-M-B Angle  M-A Distance  \\\n",
       "0      ligand-001-n-n-1      2      23      22     80.01004         2.324   \n",
       "1      ligand-002-p-p-1      2      16      17     81.08750         2.404   \n",
       "2      ligand-003-p-p-2      3       1      12     88.85482         2.393   \n",
       "3      ligand-004-p-p-3      3      45       1     95.97953         2.432   \n",
       "4      ligand-005-c-n-1      1       2      59     86.57124         2.143   \n",
       "..                  ...    ...     ...     ...          ...           ...   \n",
       "372  ligand-407-p-o-138     34       1       5     89.32942         2.459   \n",
       "373  ligand-408-p-o-139     34       1       5     89.17718         2.456   \n",
       "374  ligand-409-p-o-140     34       1       5     89.05786         2.465   \n",
       "375   ligand-411-p-o-95     13       1       4     77.82640         2.418   \n",
       "376   ligand-412-p-o-97     13       1       4     91.74673         2.407   \n",
       "\n",
       "     M-B Distance  Metal_NBO    A_NBO    B_NBO  ...  % VBur asymm 2  \\\n",
       "0           2.324    0.26015 -0.42686 -0.42686  ...        0.067555   \n",
       "1           2.406   -0.11874  1.06691  1.06830  ...        5.049152   \n",
       "2           2.398   -0.12498  1.08763  1.08260  ...        0.099003   \n",
       "3           2.441   -0.09320  1.06382  1.05890  ...        0.822307   \n",
       "4           2.295    0.17756  0.22924 -0.40636  ...       15.149786   \n",
       "..            ...        ...      ...      ...  ...             ...   \n",
       "372         2.263    0.18682  1.04370 -0.96597  ...        8.995294   \n",
       "373         2.264    0.18774  1.04308 -0.96762  ...        8.058843   \n",
       "374         2.263    0.19732  1.03890 -0.96986  ...        8.174152   \n",
       "375         2.292    0.19136  1.04202 -1.08516  ...        9.620760   \n",
       "376         2.310    0.15940  1.01806 -1.06287  ...       12.444092   \n",
       "\n",
       "     % VBur asymm 3  % VBur octant 1  % VBur octant 2  % VBur octant 3  \\\n",
       "0          0.051249        79.276929        75.605665        79.304883   \n",
       "1          3.262439        81.564480        92.051808        83.060007   \n",
       "2          0.173546        74.021618        74.375699        95.387626   \n",
       "3          1.202013        97.623928        96.230898        70.308423   \n",
       "4         30.368291        64.340291        88.292024        40.775252   \n",
       "..              ...              ...              ...              ...   \n",
       "372        0.404165        98.401975        85.571189        63.939620   \n",
       "373        0.998183        98.541744        85.613120        64.480060   \n",
       "374        4.679929        96.706113        86.311964        66.912039   \n",
       "375       14.170239        82.389117        89.116660        64.591875   \n",
       "376        8.896291        85.328923        53.340477        90.486396   \n",
       "\n",
       "     % VBur octant 4  % VBur octant 5  % VBur octant 6  % VBur octant 7  \\\n",
       "0          75.750093         4.034663         0.242266         3.866940   \n",
       "1          82.575475         5.101565         8.190458         6.671636   \n",
       "2          96.706113         8.866008        10.035408        10.860045   \n",
       "3          71.878494        11.675363        12.486023        18.496086   \n",
       "4          96.850540        44.781960         9.821096        17.815878   \n",
       "..               ...              ...              ...              ...   \n",
       "372        73.788669         9.793142         0.843272        26.481551   \n",
       "373        73.467201         9.900298         0.773388        30.506895   \n",
       "374        81.387439        11.894335         0.661573        30.138837   \n",
       "375        97.414275        22.218599         7.459001        19.166977   \n",
       "376        93.943347        11.405143         7.766493         0.633619   \n",
       "\n",
       "     % VBur octant 8  \n",
       "0           0.228289  \n",
       "1           0.535781  \n",
       "2          10.669027  \n",
       "3          13.054417  \n",
       "4          11.330600  \n",
       "..               ...  \n",
       "372        30.833023  \n",
       "373        31.699590  \n",
       "374        26.733135  \n",
       "375        16.795565  \n",
       "376        11.325941  \n",
       "\n",
       "[377 rows x 87 columns]"
      ]
     },
     "execution_count": 3,
     "metadata": {},
     "output_type": "execute_result"
    }
   ],
   "source": [
    "X"
   ]
  },
  {
   "cell_type": "code",
   "execution_count": 44,
   "id": "190130d7",
   "metadata": {},
   "outputs": [
    {
     "name": "stdout",
     "output_type": "stream",
     "text": [
      "\n",
      "Rows with missing values:\n",
      "Empty DataFrame\n",
      "Columns: [Name, Metal, Atom_A, Atom_B, A-M-B Angle, M-A Distance, M-B Distance, Metal_NBO, A_NBO, B_NBO, HOMO_LUMO, A-B_NBO, NBO-dist-2-avg, NBO-dist-3-avg, NBO-dist-4-avg, NBO-dist-2-a-avg, NBO-dist-3-a-avg, NBO-dist-4-a-avg, NBO-dist-2-b-avg, NBO-dist-3-b-avg, NBO-dist-4-b-avg, NBO-dist-2-a-b-diff, NBO-dist-3-a-b-diff, NBO-dist-4-a-b-diff, NBO-dist-2-min, NBO-dist-3-min, NBO-dist-4-min, NBO-dist-2-max, NBO-dist-3-max, NBO-dist-4-max, NBO-dist-2-a-min, NBO-dist-3-a-min, NBO-dist-4-a-min, NBO-dist-2-b-min, NBO-dist-3-b-min, NBO-dist-4-b-min, NBO-dist-2-a-max, NBO-dist-3-a-max, NBO-dist-4-a-max, NBO-dist-2-b-max, NBO-dist-3-b-max, NBO-dist-4-b-max, NBO-metal-donor-diff, NBO-metal-a-diff, NBO-metal-b-diff, NBO-dist-2-1-avg-diff, NBO-dist-3-2-avg-diff, NBO-dist-4-3-avg-diff, NBO-dist-2-1-a-avg-diff, NBO-dist-3-2-a-avg-diff, NBO-dist-4-3-a-avg-diff, NBO-dist-2-1-b-avg-diff, NBO-dist-3-2-b-avg-diff, NBO-dist-4-3-b-avg-diff, Metal_mullkien, A_mulliken, B_mulliken, A-B_mulliken, Mulliken-dist-2-avg, Mulliken-dist-3-avg, Mulliken-dist-4-avg, Total internal angle deviation %, Total % VBur, % VBur SE, % VBur SW, % VBur NE, % VBur NW, % VBur max, % VBur min, % VBur max min diff, % VBur NE NW diff, % VBur SE SW diff, % VBur NE SE diff, % VBur NW SW diff, % VBur NE SW diff, % VBur NW SE diff, % VBur asymm 1, % VBur asymm 2, % VBur asymm 3, % VBur octant 1, % VBur octant 2, % VBur octant 3, % VBur octant 4, % VBur octant 5, % VBur octant 6, % VBur octant 7, % VBur octant 8]\n",
      "Index: []\n",
      "\n",
      "[0 rows x 87 columns]\n"
     ]
    }
   ],
   "source": [
    "# Create a boolean mask where any column contains the string 'NaN'\n",
    "mask = X.apply(lambda x: x.astype(str).str.contains('NaN', na=False)).any(axis=1)\n",
    "\n",
    "# Get the indices of the rows where the mask is True\n",
    "nan_indices = X[mask].index\n",
    "missing_values = X.isnull()\n",
    "\n",
    "# Get the indices of rows with missing values\n",
    "rows_with_missing = X[X.isnull().any(axis=1)]\n",
    "\n",
    "# Print the rows with missing values\n",
    "print(\"\\nRows with missing values:\")\n",
    "print(rows_with_missing)\n",
    "\n",
    "# Get the indices of rows with missing values\n",
    "missing_indices = rows_with_missing.index.tolist()\n",
    "\n",
    "# Remove that indices by dropping\n",
    "X = X.dropna()\n",
    "\n",
    "# Add two columns, one with ligand_id, one with donor_atom_combination\n",
    "# Extract the 3-digit ligand ID and the donor atom combination\n",
    "X['ligand_id'] = X['Name'].str.extract(r'ligand-(\\d{3})')\n",
    "X['donor_atom_comb'] = X['Name'].str.extract(r'ligand-\\d{3}-([a-z]-[a-z])')"
   ]
  },
  {
   "cell_type": "code",
   "execution_count": 45,
   "id": "24a5590e",
   "metadata": {},
   "outputs": [
    {
     "data": {
      "text/html": [
       "<div>\n",
       "<style scoped>\n",
       "    .dataframe tbody tr th:only-of-type {\n",
       "        vertical-align: middle;\n",
       "    }\n",
       "\n",
       "    .dataframe tbody tr th {\n",
       "        vertical-align: top;\n",
       "    }\n",
       "\n",
       "    .dataframe thead th {\n",
       "        text-align: right;\n",
       "    }\n",
       "</style>\n",
       "<table border=\"1\" class=\"dataframe\">\n",
       "  <thead>\n",
       "    <tr style=\"text-align: right;\">\n",
       "      <th></th>\n",
       "      <th>Name</th>\n",
       "      <th>Metal</th>\n",
       "      <th>Atom_A</th>\n",
       "      <th>Atom_B</th>\n",
       "      <th>A-M-B Angle</th>\n",
       "      <th>M-A Distance</th>\n",
       "      <th>M-B Distance</th>\n",
       "      <th>Metal_NBO</th>\n",
       "      <th>A_NBO</th>\n",
       "      <th>B_NBO</th>\n",
       "      <th>...</th>\n",
       "      <th>% VBur octant 1</th>\n",
       "      <th>% VBur octant 2</th>\n",
       "      <th>% VBur octant 3</th>\n",
       "      <th>% VBur octant 4</th>\n",
       "      <th>% VBur octant 5</th>\n",
       "      <th>% VBur octant 6</th>\n",
       "      <th>% VBur octant 7</th>\n",
       "      <th>% VBur octant 8</th>\n",
       "      <th>ligand_id</th>\n",
       "      <th>donor_atom_comb</th>\n",
       "    </tr>\n",
       "  </thead>\n",
       "  <tbody>\n",
       "    <tr>\n",
       "      <th>1</th>\n",
       "      <td>ligand-002-p-p-1</td>\n",
       "      <td>2</td>\n",
       "      <td>16</td>\n",
       "      <td>17</td>\n",
       "      <td>81.08750</td>\n",
       "      <td>2.404</td>\n",
       "      <td>2.406</td>\n",
       "      <td>-0.11874</td>\n",
       "      <td>1.06691</td>\n",
       "      <td>1.06830</td>\n",
       "      <td>...</td>\n",
       "      <td>81.564480</td>\n",
       "      <td>92.051808</td>\n",
       "      <td>83.060007</td>\n",
       "      <td>82.575475</td>\n",
       "      <td>5.101565</td>\n",
       "      <td>8.190458</td>\n",
       "      <td>6.671636</td>\n",
       "      <td>0.535781</td>\n",
       "      <td>002</td>\n",
       "      <td>p-p</td>\n",
       "    </tr>\n",
       "    <tr>\n",
       "      <th>2</th>\n",
       "      <td>ligand-003-p-p-2</td>\n",
       "      <td>3</td>\n",
       "      <td>1</td>\n",
       "      <td>12</td>\n",
       "      <td>88.85482</td>\n",
       "      <td>2.393</td>\n",
       "      <td>2.398</td>\n",
       "      <td>-0.12498</td>\n",
       "      <td>1.08763</td>\n",
       "      <td>1.08260</td>\n",
       "      <td>...</td>\n",
       "      <td>74.021618</td>\n",
       "      <td>74.375699</td>\n",
       "      <td>95.387626</td>\n",
       "      <td>96.706113</td>\n",
       "      <td>8.866008</td>\n",
       "      <td>10.035408</td>\n",
       "      <td>10.860045</td>\n",
       "      <td>10.669027</td>\n",
       "      <td>003</td>\n",
       "      <td>p-p</td>\n",
       "    </tr>\n",
       "    <tr>\n",
       "      <th>3</th>\n",
       "      <td>ligand-004-p-p-3</td>\n",
       "      <td>3</td>\n",
       "      <td>45</td>\n",
       "      <td>1</td>\n",
       "      <td>95.97953</td>\n",
       "      <td>2.432</td>\n",
       "      <td>2.441</td>\n",
       "      <td>-0.09320</td>\n",
       "      <td>1.06382</td>\n",
       "      <td>1.05890</td>\n",
       "      <td>...</td>\n",
       "      <td>97.623928</td>\n",
       "      <td>96.230898</td>\n",
       "      <td>70.308423</td>\n",
       "      <td>71.878494</td>\n",
       "      <td>11.675363</td>\n",
       "      <td>12.486023</td>\n",
       "      <td>18.496086</td>\n",
       "      <td>13.054417</td>\n",
       "      <td>004</td>\n",
       "      <td>p-p</td>\n",
       "    </tr>\n",
       "    <tr>\n",
       "      <th>4</th>\n",
       "      <td>ligand-005-c-n-1</td>\n",
       "      <td>1</td>\n",
       "      <td>2</td>\n",
       "      <td>59</td>\n",
       "      <td>86.57124</td>\n",
       "      <td>2.143</td>\n",
       "      <td>2.295</td>\n",
       "      <td>0.17756</td>\n",
       "      <td>0.22924</td>\n",
       "      <td>-0.40636</td>\n",
       "      <td>...</td>\n",
       "      <td>64.340291</td>\n",
       "      <td>88.292024</td>\n",
       "      <td>40.775252</td>\n",
       "      <td>96.850540</td>\n",
       "      <td>44.781960</td>\n",
       "      <td>9.821096</td>\n",
       "      <td>17.815878</td>\n",
       "      <td>11.330600</td>\n",
       "      <td>005</td>\n",
       "      <td>c-n</td>\n",
       "    </tr>\n",
       "    <tr>\n",
       "      <th>5</th>\n",
       "      <td>ligand-006-c-n-2</td>\n",
       "      <td>1</td>\n",
       "      <td>2</td>\n",
       "      <td>44</td>\n",
       "      <td>86.23337</td>\n",
       "      <td>2.145</td>\n",
       "      <td>2.253</td>\n",
       "      <td>0.17159</td>\n",
       "      <td>0.23504</td>\n",
       "      <td>-0.40535</td>\n",
       "      <td>...</td>\n",
       "      <td>68.766306</td>\n",
       "      <td>82.636042</td>\n",
       "      <td>51.118151</td>\n",
       "      <td>87.183190</td>\n",
       "      <td>25.987700</td>\n",
       "      <td>0.475214</td>\n",
       "      <td>14.018822</td>\n",
       "      <td>9.122251</td>\n",
       "      <td>006</td>\n",
       "      <td>c-n</td>\n",
       "    </tr>\n",
       "    <tr>\n",
       "      <th>...</th>\n",
       "      <td>...</td>\n",
       "      <td>...</td>\n",
       "      <td>...</td>\n",
       "      <td>...</td>\n",
       "      <td>...</td>\n",
       "      <td>...</td>\n",
       "      <td>...</td>\n",
       "      <td>...</td>\n",
       "      <td>...</td>\n",
       "      <td>...</td>\n",
       "      <td>...</td>\n",
       "      <td>...</td>\n",
       "      <td>...</td>\n",
       "      <td>...</td>\n",
       "      <td>...</td>\n",
       "      <td>...</td>\n",
       "      <td>...</td>\n",
       "      <td>...</td>\n",
       "      <td>...</td>\n",
       "      <td>...</td>\n",
       "      <td>...</td>\n",
       "    </tr>\n",
       "    <tr>\n",
       "      <th>372</th>\n",
       "      <td>ligand-407-p-o-138</td>\n",
       "      <td>34</td>\n",
       "      <td>1</td>\n",
       "      <td>5</td>\n",
       "      <td>89.32942</td>\n",
       "      <td>2.459</td>\n",
       "      <td>2.263</td>\n",
       "      <td>0.18682</td>\n",
       "      <td>1.04370</td>\n",
       "      <td>-0.96597</td>\n",
       "      <td>...</td>\n",
       "      <td>98.401975</td>\n",
       "      <td>85.571189</td>\n",
       "      <td>63.939620</td>\n",
       "      <td>73.788669</td>\n",
       "      <td>9.793142</td>\n",
       "      <td>0.843272</td>\n",
       "      <td>26.481551</td>\n",
       "      <td>30.833023</td>\n",
       "      <td>407</td>\n",
       "      <td>p-o</td>\n",
       "    </tr>\n",
       "    <tr>\n",
       "      <th>373</th>\n",
       "      <td>ligand-408-p-o-139</td>\n",
       "      <td>34</td>\n",
       "      <td>1</td>\n",
       "      <td>5</td>\n",
       "      <td>89.17718</td>\n",
       "      <td>2.456</td>\n",
       "      <td>2.264</td>\n",
       "      <td>0.18774</td>\n",
       "      <td>1.04308</td>\n",
       "      <td>-0.96762</td>\n",
       "      <td>...</td>\n",
       "      <td>98.541744</td>\n",
       "      <td>85.613120</td>\n",
       "      <td>64.480060</td>\n",
       "      <td>73.467201</td>\n",
       "      <td>9.900298</td>\n",
       "      <td>0.773388</td>\n",
       "      <td>30.506895</td>\n",
       "      <td>31.699590</td>\n",
       "      <td>408</td>\n",
       "      <td>p-o</td>\n",
       "    </tr>\n",
       "    <tr>\n",
       "      <th>374</th>\n",
       "      <td>ligand-409-p-o-140</td>\n",
       "      <td>34</td>\n",
       "      <td>1</td>\n",
       "      <td>5</td>\n",
       "      <td>89.05786</td>\n",
       "      <td>2.465</td>\n",
       "      <td>2.263</td>\n",
       "      <td>0.19732</td>\n",
       "      <td>1.03890</td>\n",
       "      <td>-0.96986</td>\n",
       "      <td>...</td>\n",
       "      <td>96.706113</td>\n",
       "      <td>86.311964</td>\n",
       "      <td>66.912039</td>\n",
       "      <td>81.387439</td>\n",
       "      <td>11.894335</td>\n",
       "      <td>0.661573</td>\n",
       "      <td>30.138837</td>\n",
       "      <td>26.733135</td>\n",
       "      <td>409</td>\n",
       "      <td>p-o</td>\n",
       "    </tr>\n",
       "    <tr>\n",
       "      <th>375</th>\n",
       "      <td>ligand-411-p-o-95</td>\n",
       "      <td>13</td>\n",
       "      <td>1</td>\n",
       "      <td>4</td>\n",
       "      <td>77.82640</td>\n",
       "      <td>2.418</td>\n",
       "      <td>2.292</td>\n",
       "      <td>0.19136</td>\n",
       "      <td>1.04202</td>\n",
       "      <td>-1.08516</td>\n",
       "      <td>...</td>\n",
       "      <td>82.389117</td>\n",
       "      <td>89.116660</td>\n",
       "      <td>64.591875</td>\n",
       "      <td>97.414275</td>\n",
       "      <td>22.218599</td>\n",
       "      <td>7.459001</td>\n",
       "      <td>19.166977</td>\n",
       "      <td>16.795565</td>\n",
       "      <td>411</td>\n",
       "      <td>p-o</td>\n",
       "    </tr>\n",
       "    <tr>\n",
       "      <th>376</th>\n",
       "      <td>ligand-412-p-o-97</td>\n",
       "      <td>13</td>\n",
       "      <td>1</td>\n",
       "      <td>4</td>\n",
       "      <td>91.74673</td>\n",
       "      <td>2.407</td>\n",
       "      <td>2.310</td>\n",
       "      <td>0.15940</td>\n",
       "      <td>1.01806</td>\n",
       "      <td>-1.06287</td>\n",
       "      <td>...</td>\n",
       "      <td>85.328923</td>\n",
       "      <td>53.340477</td>\n",
       "      <td>90.486396</td>\n",
       "      <td>93.943347</td>\n",
       "      <td>11.405143</td>\n",
       "      <td>7.766493</td>\n",
       "      <td>0.633619</td>\n",
       "      <td>11.325941</td>\n",
       "      <td>412</td>\n",
       "      <td>p-o</td>\n",
       "    </tr>\n",
       "  </tbody>\n",
       "</table>\n",
       "<p>376 rows × 89 columns</p>\n",
       "</div>"
      ],
      "text/plain": [
       "                   Name  Metal  Atom_A  Atom_B  A-M-B Angle  M-A Distance  \\\n",
       "1      ligand-002-p-p-1      2      16      17     81.08750         2.404   \n",
       "2      ligand-003-p-p-2      3       1      12     88.85482         2.393   \n",
       "3      ligand-004-p-p-3      3      45       1     95.97953         2.432   \n",
       "4      ligand-005-c-n-1      1       2      59     86.57124         2.143   \n",
       "5      ligand-006-c-n-2      1       2      44     86.23337         2.145   \n",
       "..                  ...    ...     ...     ...          ...           ...   \n",
       "372  ligand-407-p-o-138     34       1       5     89.32942         2.459   \n",
       "373  ligand-408-p-o-139     34       1       5     89.17718         2.456   \n",
       "374  ligand-409-p-o-140     34       1       5     89.05786         2.465   \n",
       "375   ligand-411-p-o-95     13       1       4     77.82640         2.418   \n",
       "376   ligand-412-p-o-97     13       1       4     91.74673         2.407   \n",
       "\n",
       "     M-B Distance  Metal_NBO    A_NBO    B_NBO  ...  % VBur octant 1  \\\n",
       "1           2.406   -0.11874  1.06691  1.06830  ...        81.564480   \n",
       "2           2.398   -0.12498  1.08763  1.08260  ...        74.021618   \n",
       "3           2.441   -0.09320  1.06382  1.05890  ...        97.623928   \n",
       "4           2.295    0.17756  0.22924 -0.40636  ...        64.340291   \n",
       "5           2.253    0.17159  0.23504 -0.40535  ...        68.766306   \n",
       "..            ...        ...      ...      ...  ...              ...   \n",
       "372         2.263    0.18682  1.04370 -0.96597  ...        98.401975   \n",
       "373         2.264    0.18774  1.04308 -0.96762  ...        98.541744   \n",
       "374         2.263    0.19732  1.03890 -0.96986  ...        96.706113   \n",
       "375         2.292    0.19136  1.04202 -1.08516  ...        82.389117   \n",
       "376         2.310    0.15940  1.01806 -1.06287  ...        85.328923   \n",
       "\n",
       "     % VBur octant 2  % VBur octant 3  % VBur octant 4  % VBur octant 5  \\\n",
       "1          92.051808        83.060007        82.575475         5.101565   \n",
       "2          74.375699        95.387626        96.706113         8.866008   \n",
       "3          96.230898        70.308423        71.878494        11.675363   \n",
       "4          88.292024        40.775252        96.850540        44.781960   \n",
       "5          82.636042        51.118151        87.183190        25.987700   \n",
       "..               ...              ...              ...              ...   \n",
       "372        85.571189        63.939620        73.788669         9.793142   \n",
       "373        85.613120        64.480060        73.467201         9.900298   \n",
       "374        86.311964        66.912039        81.387439        11.894335   \n",
       "375        89.116660        64.591875        97.414275        22.218599   \n",
       "376        53.340477        90.486396        93.943347        11.405143   \n",
       "\n",
       "     % VBur octant 6  % VBur octant 7  % VBur octant 8  ligand_id  \\\n",
       "1           8.190458         6.671636         0.535781        002   \n",
       "2          10.035408        10.860045        10.669027        003   \n",
       "3          12.486023        18.496086        13.054417        004   \n",
       "4           9.821096        17.815878        11.330600        005   \n",
       "5           0.475214        14.018822         9.122251        006   \n",
       "..               ...              ...              ...        ...   \n",
       "372         0.843272        26.481551        30.833023        407   \n",
       "373         0.773388        30.506895        31.699590        408   \n",
       "374         0.661573        30.138837        26.733135        409   \n",
       "375         7.459001        19.166977        16.795565        411   \n",
       "376         7.766493         0.633619        11.325941        412   \n",
       "\n",
       "     donor_atom_comb  \n",
       "1                p-p  \n",
       "2                p-p  \n",
       "3                p-p  \n",
       "4                c-n  \n",
       "5                c-n  \n",
       "..               ...  \n",
       "372              p-o  \n",
       "373              p-o  \n",
       "374              p-o  \n",
       "375              p-o  \n",
       "376              p-o  \n",
       "\n",
       "[376 rows x 89 columns]"
      ]
     },
     "execution_count": 45,
     "metadata": {},
     "output_type": "execute_result"
    }
   ],
   "source": [
    "X"
   ]
  },
  {
   "cell_type": "code",
   "execution_count": null,
   "id": "95a3ddb2-bb3a-476e-9b04-2144522fa986",
   "metadata": {},
   "outputs": [],
   "source": []
  },
  {
   "cell_type": "code",
   "execution_count": 46,
   "id": "86e94e7c",
   "metadata": {},
   "outputs": [
    {
     "name": "stdout",
     "output_type": "stream",
     "text": [
      "<class 'pandas.core.series.Series'>\n"
     ]
    }
   ],
   "source": [
    "print(type(X['A-B_NBO']))\n",
    "A_B_NBO_values = X['A-B_NBO'].tolist()\n",
    "float_values = [float(value) for value in A_B_NBO_values]\n",
    "names = X['Name'].tolist()\n",
    "ligand_id = X['ligand_id'].tolist()\n",
    "donor_atom_comb = X['donor_atom_comb'].tolist()\n",
    "X_2 = X.drop(['Name', 'Metal','Atom_A', 'Atom_B','ligand_id','donor_atom_comb'], axis=1)"
   ]
  },
  {
   "cell_type": "code",
   "execution_count": 20,
   "id": "d8b9cb2c",
   "metadata": {},
   "outputs": [],
   "source": [
    "percent_buried_volume = X['Total % VBur']\n",
    "percent_buried_volume = [float(value) for value in percent_buried_volume]"
   ]
  },
  {
   "cell_type": "markdown",
   "id": "ba5e11d8-ac7b-467c-a5a6-d6124df50aa7",
   "metadata": {},
   "source": [
    "### Generate PCA map with all descriptors"
   ]
  },
  {
   "cell_type": "code",
   "execution_count": 80,
   "id": "733a836e",
   "metadata": {},
   "outputs": [
    {
     "data": {
      "application/vnd.plotly.v1+json": {
       "config": {
        "plotlyServerURL": "https://plot.ly"
       },
       "data": [
        {
         "hovertemplate": "color=p-p<br>PC 1=%{x}<br>PC 2=%{y}<br>PC 3=%{z}<br>text=%{text}<extra></extra>",
         "legendgroup": "p-p",
         "marker": {
          "color": "#636efa",
          "symbol": "circle"
         },
         "mode": "markers+text",
         "name": "p-p",
         "scene": "scene",
         "showlegend": true,
         "text": [
          "002",
          "003",
          "004",
          "013",
          "027",
          "029",
          "030",
          "031",
          "032",
          "033",
          "035",
          "036",
          "042",
          "043",
          "044",
          "046",
          "047",
          "048",
          "121",
          "125",
          "126",
          "127",
          "128",
          "129"
         ],
         "type": "scatter3d",
         "x": [
          3.6894714288727677,
          -8.700031725027255,
          -16.04508057983264,
          -3.5407027595489513,
          -25.800492399087343,
          2.9028160889458694,
          -5.690930174361443,
          -11.344757682384442,
          -20.54151459907659,
          -22.691690351957366,
          -8.347309740387313,
          -3.6248697652298083,
          -21.08258106783664,
          -53.930017966339804,
          -11.636747005028498,
          1.3857922006255203,
          -15.931982486566753,
          -15.492999876335597,
          11.714475363191651,
          -3.900933506218076,
          7.995511046579766,
          5.142114637827739,
          3.5307700752296047,
          16.874094088359236
         ],
         "y": [
          -5.086006111940136,
          -4.43936250219827,
          -0.36402254592207023,
          -1.9989071072853712,
          -4.101590986612711,
          5.660158460795502,
          2.9817458372644103,
          4.828144987018607,
          -11.617145289215209,
          -10.260190128546677,
          1.4515176794380695,
          -1.714091127413796,
          -4.928977625683559,
          -30.41778389838325,
          3.6106131126684344,
          -2.266634112793234,
          -2.606194725063737,
          -1.5838875410153515,
          15.23773944285549,
          8.958824679526064,
          1.7086313622887477,
          4.46617272987061,
          2.6585619748265676,
          8.36536197321077
         ],
         "z": [
          -7.133746907738927,
          6.693798379875554,
          -6.631076174058622,
          15.173730449966909,
          -11.92985021648061,
          -19.242249792997445,
          -34.611905898130914,
          -0.0491399332882701,
          15.730586827552846,
          49.21828012781834,
          -23.943146187202135,
          33.13889647518861,
          25.78912255836487,
          11.724632421516771,
          27.65949078177529,
          8.383377936187514,
          11.993243642331851,
          10.950275617374587,
          -21.25548113300984,
          -23.99738779048524,
          0.7637174628092436,
          -4.811255693637344,
          -8.355457954344843,
          -1.6599341941066732
         ]
        },
        {
         "hovertemplate": "color=c-n<br>PC 1=%{x}<br>PC 2=%{y}<br>PC 3=%{z}<br>text=%{text}<extra></extra>",
         "legendgroup": "c-n",
         "marker": {
          "color": "#EF553B",
          "symbol": "circle"
         },
         "mode": "markers+text",
         "name": "c-n",
         "scene": "scene",
         "showlegend": true,
         "text": [
          "005",
          "006",
          "007",
          "008",
          "009",
          "010",
          "011",
          "246",
          "247"
         ],
         "type": "scatter3d",
         "x": [
          -15.391295003018433,
          5.067325754137609,
          -6.901541524412689,
          11.502560192250716,
          17.413905785014684,
          -42.14712015196427,
          -15.904530658582434,
          -17.111257520518144,
          -10.118186799437854
         ],
         "y": [
          26.005289031260524,
          27.849427888738088,
          25.2751044050089,
          24.775826958941202,
          26.4746572622004,
          39.69766924709372,
          18.020118934984627,
          25.412299148982044,
          27.35611423386706
         ],
         "z": [
          -57.717494046415624,
          -39.82336351250382,
          -59.670000202802576,
          -59.9688762665339,
          60.882300213373505,
          -42.714692404101065,
          24.35073959772171,
          -28.109733718649167,
          -20.87784297138095
         ]
        },
        {
         "hovertemplate": "color=p-c<br>PC 1=%{x}<br>PC 2=%{y}<br>PC 3=%{z}<br>text=%{text}<extra></extra>",
         "legendgroup": "p-c",
         "marker": {
          "color": "#00cc96",
          "symbol": "circle"
         },
         "mode": "markers+text",
         "name": "p-c",
         "scene": "scene",
         "showlegend": true,
         "text": [
          "018",
          "019",
          "020",
          "021",
          "022",
          "053",
          "055",
          "056",
          "057",
          "058",
          "059",
          "060"
         ],
         "type": "scatter3d",
         "x": [
          -24.166609447534345,
          -2.9524232893382742,
          -3.352244824500025,
          -3.3628273492666056,
          -2.9463403708408427,
          1.073629992403891,
          -14.797448051334186,
          -6.019399044003083,
          -24.96050840378561,
          -15.120904734018092,
          -9.035689731921275,
          -9.778891718825516
         ],
         "y": [
          2.247029893129054,
          -11.547099252863699,
          -10.164244154826068,
          -10.104963319552185,
          -10.248893596521413,
          -10.70738574585971,
          -12.586080328197141,
          -9.278006326974845,
          -14.650683914296724,
          -6.653098576267555,
          -24.406497027096062,
          -8.597647350634636
         ],
         "z": [
          19.30618690361064,
          19.459355456878313,
          18.00076653540668,
          18.078691664510576,
          18.031694031517752,
          -38.78891195809726,
          -20.042218396523747,
          0.22737397316624036,
          -12.975585942900274,
          -5.900927197058379,
          -9.162764263072642,
          2.3516470429389433
         ]
        },
        {
         "hovertemplate": "color=p-o<br>PC 1=%{x}<br>PC 2=%{y}<br>PC 3=%{z}<br>text=%{text}<extra></extra>",
         "legendgroup": "p-o",
         "marker": {
          "color": "#ab63fa",
          "symbol": "circle"
         },
         "mode": "markers+text",
         "name": "p-o",
         "scene": "scene",
         "showlegend": true,
         "text": [
          "037",
          "038",
          "039",
          "040",
          "041",
          "080",
          "081",
          "082",
          "083",
          "084",
          "085",
          "086",
          "087",
          "088",
          "089",
          "090",
          "091",
          "092",
          "093",
          "094",
          "095",
          "096",
          "097",
          "098",
          "099",
          "100",
          "101",
          "102",
          "103",
          "104",
          "105",
          "106",
          "107",
          "108",
          "109",
          "110",
          "111",
          "112",
          "136",
          "137",
          "138",
          "139",
          "144",
          "145",
          "153",
          "154",
          "155",
          "156",
          "157",
          "158",
          "159",
          "160",
          "186",
          "187",
          "188",
          "189",
          "190",
          "191",
          "192",
          "193",
          "194",
          "195",
          "243",
          "244",
          "245",
          "251",
          "252",
          "253",
          "254",
          "255",
          "256",
          "261",
          "262",
          "263",
          "264",
          "265",
          "266",
          "267",
          "268",
          "269",
          "270",
          "271",
          "272",
          "273",
          "274",
          "275",
          "278",
          "279",
          "280",
          "281",
          "282",
          "283",
          "284",
          "285",
          "286",
          "287",
          "288",
          "289",
          "290",
          "291",
          "292",
          "293",
          "294",
          "295",
          "296",
          "297",
          "298",
          "299",
          "300",
          "301",
          "302",
          "303",
          "304",
          "305",
          "306",
          "310",
          "311",
          "312",
          "313",
          "316",
          "330",
          "340",
          "341",
          "342",
          "349",
          "350",
          "351",
          "352",
          "353",
          "355",
          "356",
          "392",
          "393",
          "394",
          "407",
          "408",
          "409",
          "411",
          "412"
         ],
         "type": "scatter3d",
         "x": [
          18.957401242201414,
          -9.586707357570221,
          36.898305530172166,
          -9.375378549418778,
          -17.227670276844,
          37.02097309295763,
          -15.490402376648651,
          2.580430369063966,
          -18.309746016525384,
          6.63372340766877,
          -11.582040687546241,
          -16.642223599460916,
          -27.984761741816666,
          -17.28845325855388,
          -17.015996460855053,
          -35.0942672461935,
          -35.52337472618696,
          -29.169811296814515,
          37.22467159332389,
          -12.042362245571402,
          -13.386866623361055,
          -32.37295853820887,
          -26.244146713383167,
          -30.60910383412188,
          -56.529812276207174,
          25.596080823695022,
          -1.6148667979709215,
          38.010418301312214,
          35.163120670859215,
          29.785326642935416,
          31.336289588899273,
          37.600375213409556,
          38.10897666729278,
          6.279700575166795,
          -8.777168860641515,
          -15.282034500853738,
          -17.388220074083836,
          4.864291353589113,
          -9.906581868435715,
          -26.99726715445516,
          -37.5161717639209,
          -21.597623940059812,
          -5.646515382488462,
          -8.830924847298258,
          39.55999831181902,
          35.90532549470703,
          35.38695809102665,
          36.53130010824645,
          38.67407320702015,
          36.661781748594706,
          36.07296439827268,
          35.66296930488708,
          16.259394544317495,
          37.35188783046256,
          11.550478581915998,
          8.078839181800548,
          -16.771509171914662,
          -32.225537769776054,
          3.2505239941525623,
          -16.67868328981335,
          5.708026063782796,
          6.792193443761764,
          6.187099280551138,
          -13.60564947397775,
          -51.4309407174667,
          37.09200726486772,
          16.042769903956593,
          32.76124694956204,
          0.2162210225171842,
          21.739799432703112,
          -67.38782486508187,
          -15.072760529265254,
          -10.936148630685425,
          2.693947558927142,
          -2.0172336281812115,
          25.582862984177623,
          14.419440565011197,
          -0.8040003304257667,
          7.812717627605522,
          -31.251184593166723,
          -41.935480414245355,
          -40.73896524303339,
          -27.905410944209727,
          4.372688049373177,
          7.812608564329953,
          -6.9698183540776375,
          -4.699595257395199,
          -8.62153009131007,
          2.3061284475166013,
          -57.07846824181113,
          -29.334051028393326,
          11.21936540042008,
          2.047952686487009,
          -6.305663345359339,
          3.3021742490731056,
          -22.407636169355417,
          -17.964791993142217,
          1.7166832979125446,
          1.566742120722205,
          -36.70959459823316,
          -36.291712342831815,
          -15.235262854140881,
          -19.483997895335744,
          20.478107572239246,
          -7.005197153269079,
          42.262182397731685,
          14.442133990107646,
          19.10998118720714,
          32.693124211465154,
          1.926204878568385,
          11.223049338856757,
          -20.37109798556737,
          15.680534957961896,
          -43.75310960945301,
          -50.60797513802951,
          21.961457241026963,
          23.36562324975592,
          24.582437043069643,
          22.60022605278422,
          6.513455639835009,
          29.40189286059643,
          24.262313153245334,
          -21.419886664013575,
          -22.163507758681718,
          2.250992862829017,
          -9.660315060988745,
          17.655773951483603,
          -6.067296935403722,
          -16.440787210655106,
          -8.901787969560127,
          -35.82805799724656,
          -6.877024632067018,
          -10.94195409046148,
          -5.96759873591981,
          -18.63004360875954,
          -20.878136871050817,
          -24.463509541511705,
          -25.573102698347903,
          3.5902659963526746
         ],
         "y": [
          26.3306931747715,
          39.22913115542516,
          -4.252406998971317,
          29.347378678010664,
          -37.07419304732652,
          48.804571614978336,
          27.569391265116817,
          33.35377381408567,
          37.60868118494049,
          52.5703929880424,
          -41.207901074073504,
          -36.349463612337175,
          -39.29059081846797,
          -33.045353111997436,
          11.838634892282148,
          11.081944027762614,
          10.19402658579954,
          43.67619231441607,
          -13.105497460196652,
          28.049931368995967,
          14.86410894308918,
          27.840891964278832,
          -26.880140303006005,
          23.284815072793524,
          13.085029833726958,
          -10.199031118111597,
          16.386441492617955,
          50.398145885512896,
          39.22182102978195,
          36.91547267876272,
          28.229448865378792,
          49.53832017957212,
          49.27874551956734,
          30.641776318450535,
          35.56886086315598,
          34.06760071187018,
          37.5293085879497,
          -43.12060896111769,
          33.08657610939653,
          4.756353515172042,
          17.655702171966496,
          4.514396841368289,
          29.813772880308967,
          20.119375094920425,
          50.12566834199816,
          53.340154603723725,
          52.579562914953634,
          52.537068315352,
          52.319118612579906,
          52.6610202768457,
          52.56811371636656,
          53.15950077205382,
          41.73468691501688,
          -13.130679106049296,
          49.429071663494476,
          52.54858888862806,
          23.213310829200932,
          -17.615012962852305,
          52.2044779993852,
          23.012381530494054,
          50.988543126431686,
          52.253571437637326,
          5.491539010709789,
          23.347940613020636,
          1.9194008125108288,
          -13.319871114026569,
          -15.176595670327632,
          -26.207471497119712,
          46.24301167193947,
          -29.309076516448854,
          4.770058528681171,
          13.736212031852569,
          17.15351139395327,
          22.407093119262395,
          18.242016249952794,
          -10.19432985286169,
          -23.980273943609447,
          16.28583323674202,
          10.738788076201729,
          17.596555246652922,
          5.310687991931615,
          3.630069098618243,
          11.942656402522843,
          23.246181854196692,
          10.746185751120068,
          11.684929582276457,
          35.9839858156653,
          19.320154849846762,
          26.924608286435433,
          -5.42449406692928,
          24.980458229990596,
          25.22148274456952,
          11.576350652628587,
          23.620219654341582,
          14.589472020579807,
          20.88987547470645,
          -18.26364298320967,
          13.361519984824222,
          14.276828261158723,
          18.83382064799169,
          15.878484865409217,
          7.208339006408769,
          9.712521348407055,
          44.96839082493051,
          44.43290823943181,
          -6.46768676688368,
          35.423581031616585,
          45.535138073659716,
          -13.77397674387065,
          31.78405320460543,
          -32.36244070533257,
          36.672375714179296,
          -39.356149903114336,
          14.932807080056211,
          18.895062474257603,
          -29.55458235856267,
          -30.275742175692002,
          -31.018971456479054,
          -30.916537583734264,
          8.646658938665704,
          44.30691578950232,
          27.98561792716432,
          36.49491828203094,
          -41.94701988387653,
          -35.71549101313305,
          -33.83988655958609,
          -38.40257840974778,
          -33.208557304132846,
          -29.03442214948026,
          29.799696304387194,
          10.894575181180997,
          49.424933059118906,
          34.25978309392019,
          45.07077391347215,
          19.68228766543755,
          17.57900095674116,
          15.813892447390666,
          13.756001818991807,
          22.825548968360273
         ],
         "z": [
          15.745017554871637,
          11.654012208469602,
          -5.026762123191048,
          -3.2263070016947446,
          9.84600004966848,
          -1.2924356264701884,
          -3.0610698358273196,
          -19.305079850729253,
          -25.19218277447767,
          6.948443938646903,
          10.387975386567918,
          8.667006689273045,
          -2.6545597308702926,
          7.75876615798508,
          8.370172059032168,
          6.5062130585579085,
          5.214932853490086,
          9.464222636912599,
          2.5729754041036292,
          -20.851966305211363,
          35.96744039063258,
          -12.25447070365842,
          3.401568292181095,
          -10.960589419300163,
          -13.70808189556722,
          -12.42158873160654,
          -13.853448515548966,
          0.9503888275868524,
          9.927301831107835,
          -14.251639894340348,
          20.545842642870912,
          -0.08170182617482828,
          -0.5496783174936414,
          -22.53345376829731,
          7.192377801694043,
          6.013581364324964,
          11.67526111791193,
          7.88562082851519,
          -14.929051744337642,
          -2.14522366815153,
          -34.5151653962503,
          -18.84253798133213,
          -12.656714718013856,
          -2.945484418234102,
          5.861304814533486,
          2.4781839363269773,
          2.585501872087839,
          3.399013401705305,
          0.34732671210152155,
          1.6344191907732248,
          4.369030419453839,
          5.021017988160058,
          8.1436369452929,
          2.603034100265485,
          -2.796638115304539,
          8.709519756449325,
          -19.048597813836153,
          5.620717928327982,
          -1.0933577876599356,
          -19.131911962225015,
          9.622932357081329,
          7.446122538304567,
          -30.789481500410457,
          -36.53403114718282,
          25.461259503338916,
          3.446197787097644,
          13.480712703144434,
          -7.284273178967094,
          19.045568928098124,
          -2.5070829125596736,
          5.981272781702732,
          -12.090479433964576,
          -19.917687079885578,
          -14.910660865042598,
          -15.842585594733809,
          -12.421941957275513,
          4.677395610092791,
          34.78013416302248,
          -26.32832215744238,
          -23.840306266866587,
          -11.161690557599053,
          -10.306289530274974,
          -6.8388762861789,
          19.92982325013374,
          -26.301799008125137,
          39.998768716496386,
          -8.727025203272214,
          -4.098241653401113,
          22.695587784382546,
          9.7039451187989,
          19.239848965924924,
          19.683559841439575,
          28.358869260282432,
          9.283678756537244,
          39.48665863254004,
          -35.072080133785185,
          34.7029049514299,
          20.050590061724034,
          -17.122594487661157,
          -28.312071393639652,
          -40.344329728150335,
          -13.773618383399391,
          -4.588364632259409,
          10.144179921531748,
          12.375655898591818,
          -0.30174454407944484,
          17.755947657796224,
          7.0709053942643845,
          13.588292258098935,
          4.725527573900289,
          -8.727190874378612,
          21.88447824806209,
          -18.1089428511232,
          8.018641492618771,
          1.4068343787338382,
          -3.2575180494302916,
          -2.204970076657871,
          0.06080619674065965,
          -1.7210298394488313,
          10.16944326424195,
          8.680970290692485,
          7.5154593382935335,
          15.4546595324647,
          2.982335373072288,
          3.8428021920689566,
          0.0606186210486071,
          -4.311236487839013,
          5.122806576830443,
          1.3325515055503514,
          3.465172106049925,
          4.718135733790632,
          10.965562530725952,
          17.67756214737842,
          12.13737277517817,
          -7.110051006860651,
          -8.174825802665111,
          -12.295582529659557,
          -26.277375382341365,
          24.25151072272177
         ]
        },
        {
         "hovertemplate": "color=n-n<br>PC 1=%{x}<br>PC 2=%{y}<br>PC 3=%{z}<br>text=%{text}<extra></extra>",
         "legendgroup": "n-n",
         "marker": {
          "color": "#FFA15A",
          "symbol": "circle"
         },
         "mode": "markers+text",
         "name": "n-n",
         "scene": "scene",
         "showlegend": true,
         "text": [
          "071",
          "072",
          "113",
          "114",
          "115",
          "116",
          "117",
          "130",
          "140",
          "141",
          "142",
          "143",
          "163",
          "164",
          "165",
          "166",
          "167",
          "168",
          "276",
          "277",
          "307",
          "308",
          "309",
          "314",
          "315",
          "317",
          "318",
          "319",
          "320",
          "321",
          "322",
          "323",
          "324",
          "325",
          "326",
          "327",
          "328",
          "329",
          "331",
          "332",
          "333",
          "334",
          "335",
          "336",
          "337",
          "338",
          "339",
          "343",
          "344",
          "345",
          "346",
          "347",
          "348",
          "357",
          "358",
          "359",
          "360",
          "361",
          "362",
          "363",
          "364",
          "365",
          "366",
          "367",
          "368",
          "369",
          "370",
          "378",
          "379",
          "380",
          "381",
          "382",
          "398",
          "399",
          "400",
          "401",
          "402",
          "403"
         ],
         "type": "scatter3d",
         "x": [
          57.69982115457801,
          58.009258556781944,
          9.986096276408674,
          -7.680698837279056,
          -12.333257575347728,
          10.258735804483333,
          8.300938622582425,
          -18.672677046770364,
          -27.109329221502314,
          11.045729177470438,
          8.772931346457655,
          -2.47912104050881,
          -20.663476839620174,
          -28.65605043111899,
          -14.760040064851676,
          -16.700118222473584,
          -46.70520286876923,
          -35.46252498558214,
          -31.38019878226166,
          -22.370423353357207,
          -49.89833392821357,
          -40.74900073339058,
          -41.59729050596842,
          -29.302388920872332,
          -70.05643036384585,
          31.080499760687417,
          15.575249724950483,
          12.60145948882197,
          19.61202702882535,
          10.168214140984256,
          5.450812765009414,
          35.27362180162058,
          19.645794235258382,
          7.290767074768201,
          20.329026700041194,
          11.72983243106843,
          -38.17627789664553,
          6.458228332586541,
          -57.31528894371746,
          -57.391836772532606,
          -57.17452897314179,
          -56.15457166864954,
          -40.306272606558984,
          -40.353242791070386,
          -40.42554500614705,
          -40.3788537616015,
          -38.47147279941842,
          -46.704082243271955,
          -50.39737374393656,
          -45.85124538166755,
          -49.46996654576665,
          -44.93108104134808,
          -49.49503350856366,
          11.74236035487716,
          10.874869793024441,
          3.8132100516858043,
          10.256803943947899,
          21.56038980679825,
          -34.37513508972843,
          -33.075171095030036,
          -33.06170928928084,
          -36.67299092902255,
          -33.818226732420754,
          -33.14569884641263,
          -5.160858158328946,
          -36.07282259748835,
          -14.055626132981095,
          -61.14538576389209,
          -60.979467875682666,
          -61.23805577069894,
          -58.77905126076792,
          -53.57191177917178,
          -27.57962708490123,
          4.1461356984750335,
          -43.32470694403388,
          -37.99855232396535,
          -16.904081154341014,
          -23.382702550851498
         ],
         "y": [
          31.209171752429622,
          31.308087652864273,
          -1.0650626811199033,
          2.668555773875383,
          -14.504887370592009,
          -1.3390581974888085,
          -1.0261438736091326,
          -19.677823483387645,
          24.366476539440463,
          14.720617803680268,
          41.23020547298536,
          40.29905671146538,
          -11.94600900490314,
          -9.853379938234047,
          -18.90366710532989,
          -14.274068033617995,
          -17.947294362791595,
          -16.563535165877653,
          -10.464282341142436,
          -6.515065163737419,
          -18.327954872749213,
          -14.232756967205358,
          -14.735918662926357,
          -29.375297565419366,
          -27.870982886483468,
          12.621616737973016,
          9.680805005244101,
          6.331468897288703,
          8.626569801668182,
          7.448047680469757,
          4.181722985052613,
          16.24817743807956,
          11.204420163721974,
          8.230067519584836,
          16.08563067709953,
          6.822137514906034,
          -18.880256596680983,
          4.701187155319755,
          -26.014596346123472,
          -26.212519712502097,
          -26.374665303732094,
          -25.301454746402694,
          -13.57545707912188,
          -13.778424498900005,
          -13.655627362643584,
          -13.601482247379641,
          -15.671517144701031,
          -19.7522042432608,
          -18.536631188268775,
          -19.39755416331404,
          -18.09802608384597,
          -19.090360538354734,
          -18.108503535404527,
          -38.78173965220791,
          -35.430481010658006,
          -27.218699880982022,
          -37.559634359229435,
          -17.85205719327513,
          -14.452476756028814,
          -24.62092516847183,
          -24.618385480046204,
          -23.31370903253983,
          -24.122135685228635,
          -24.77271632697183,
          36.77002510072242,
          11.456349149684803,
          -10.364865949490573,
          -23.426653741639125,
          -23.31750678521684,
          -23.45804689086153,
          -22.40611843116542,
          -20.161838154955575,
          1.7801075255516667,
          16.57782467916217,
          -16.282930062868704,
          -10.957685818658307,
          -12.079469787733554,
          -5.604153121305106
         ],
         "z": [
          -5.682660126186826,
          -5.659425692814892,
          1.2804528972088343,
          5.865423217794028,
          1.53680442648378,
          1.7509946091071877,
          -0.6006027044498847,
          0.6537404460427854,
          -15.973269456538878,
          -26.058879347539836,
          4.216537340149724,
          -6.6824444834149705,
          1.7301219222556476,
          -29.18896483517767,
          1.741812681327977,
          -7.478151235061434,
          -31.7646407084236,
          17.477270080576677,
          4.246211890130789,
          4.6420597307341325,
          -14.530621121071917,
          -12.273727190473325,
          -11.125772469159006,
          13.541384847987699,
          -19.326698771679336,
          31.78351711876615,
          -0.5899915911029138,
          19.43521860479991,
          -1.8740976139117478,
          -0.8822145842413645,
          10.615966459036251,
          17.738574390581466,
          0.49075126583154544,
          -35.92190140126822,
          -2.172760493071204,
          9.166084391682775,
          19.70405821960115,
          -13.578096482340076,
          29.482662124591542,
          29.704113599565343,
          29.05091476507306,
          28.330637791551943,
          3.9625583338335684,
          3.9651192930032946,
          3.909397713363708,
          3.9598953097729486,
          16.995483845284497,
          21.07183901553774,
          -14.46006846812519,
          21.54173882785052,
          -14.786020186289724,
          22.14835300609632,
          -15.002848600959,
          -20.504417202506527,
          -12.848556158578152,
          -3.5966228020954585,
          -15.958215670004206,
          -5.095711193044498,
          -13.189572747420387,
          0.3717024237526888,
          0.37666147812164424,
          1.3465139100428682,
          0.8649480272699738,
          1.0208121851695977,
          9.804352096769067,
          -13.898674229189858,
          37.387363849356255,
          -18.724292684604585,
          -18.15055373952039,
          -17.99674713418267,
          -16.047498037651987,
          -19.176842525761497,
          0.4868607307230625,
          -10.036317429599613,
          5.101640135003434,
          14.469657005212923,
          18.900687389781723,
          9.300337259108744
         ]
        },
        {
         "hovertemplate": "color=n-o<br>PC 1=%{x}<br>PC 2=%{y}<br>PC 3=%{z}<br>text=%{text}<extra></extra>",
         "legendgroup": "n-o",
         "marker": {
          "color": "#19d3f3",
          "symbol": "circle"
         },
         "mode": "markers+text",
         "name": "n-o",
         "scene": "scene",
         "showlegend": true,
         "text": [
          "073",
          "074",
          "075",
          "076",
          "077",
          "078",
          "079",
          "146",
          "147",
          "148",
          "149",
          "150",
          "151",
          "152",
          "161",
          "162",
          "169",
          "170",
          "171",
          "172",
          "173",
          "174",
          "175",
          "176",
          "177",
          "178",
          "179",
          "180",
          "181",
          "182",
          "183",
          "184",
          "196",
          "197",
          "198",
          "199",
          "200",
          "201",
          "202",
          "203",
          "204",
          "205",
          "206",
          "207",
          "208",
          "209",
          "210",
          "211",
          "212",
          "213",
          "214",
          "215",
          "216",
          "217",
          "218",
          "219",
          "220",
          "221",
          "222",
          "223",
          "224",
          "225",
          "226",
          "227",
          "228",
          "229",
          "230",
          "231",
          "232",
          "238",
          "239",
          "240",
          "241",
          "242"
         ],
         "type": "scatter3d",
         "x": [
          46.41498192002298,
          42.45601112636684,
          43.03253507094164,
          45.63383320748865,
          21.667141478046222,
          46.09072420920983,
          47.27954924504311,
          51.07606360043868,
          65.18910202002303,
          70.18304678425528,
          70.87255697393805,
          50.66413293929693,
          50.42076748167733,
          50.44840015317383,
          29.556867570439813,
          33.21403815412289,
          40.0081360387352,
          37.57881225279491,
          36.09740899463635,
          53.797654741293655,
          38.56047211485313,
          9.439666373685684,
          8.43425795338151,
          11.927896891562787,
          12.114050740689173,
          47.00188283210298,
          48.047254763447185,
          47.729427067749405,
          31.265904103561425,
          30.901489934697132,
          12.133840704013782,
          21.085535276524414,
          -13.25684335340678,
          44.914385167997985,
          14.326837877203571,
          38.29181849509813,
          52.01324216489454,
          63.2089941161169,
          57.05574284397756,
          49.752954640222654,
          36.90335721279194,
          33.70171571697084,
          68.27751534773182,
          45.50784600068461,
          59.31537222657337,
          31.25258682446616,
          46.85902869686577,
          44.002693042846715,
          32.59547435271286,
          48.70979282284914,
          46.48469341145484,
          38.94147542159467,
          33.18288978741638,
          21.62233718790697,
          43.98438274363761,
          15.093429919084892,
          8.533273861213825,
          5.482056567595935,
          18.44797326115901,
          34.503552114936475,
          34.536694978072106,
          33.0017616321871,
          50.08069438346041,
          39.82174847702685,
          34.42272880879389,
          41.31945986756464,
          27.304547814240628,
          -4.557829880710833,
          -6.535277528991978,
          8.29679836347852,
          1.665340195118926,
          32.85184977877417,
          23.45847684230081,
          10.334323673247047
         ],
         "y": [
          -31.126231846350215,
          -29.43643679699465,
          -29.45318387998908,
          -30.860025240710556,
          -20.6261447422973,
          -31.320422459796777,
          -30.884769928937814,
          -31.273586220155625,
          -3.3495858628772344,
          18.24381068821291,
          18.538060249390202,
          -35.55969802539977,
          -35.383587193047504,
          -35.359851080631806,
          -21.532575623710756,
          -25.22713865622632,
          -41.05323701103679,
          -35.77342227378813,
          -46.77993622160565,
          -15.366897969050312,
          -43.73625229038106,
          -29.370146959086593,
          -30.02054231568293,
          -13.911324296616744,
          -14.082128555545404,
          -26.014285114970665,
          -27.21762498843136,
          -26.818014123508828,
          -42.646671371978954,
          -40.16303471341063,
          -35.94479242123861,
          -28.940256929840288,
          44.28665551447183,
          50.765478408580506,
          61.20036982177525,
          55.0478038298543,
          -36.54028038231132,
          -19.80873185212362,
          -29.72159965622005,
          -29.38587295432975,
          55.950232083786176,
          56.7763370727141,
          0.41660557842608825,
          53.34573331587866,
          -21.416818535001564,
          -24.588123030400634,
          -28.514762099446916,
          -25.63317508111894,
          -22.014027288985815,
          -29.448035203335614,
          -29.321598059342143,
          -25.86612717015845,
          -24.473255660120326,
          -25.705086254653207,
          -29.547718533300987,
          -40.67218937120978,
          -33.53015907385959,
          -31.079346025066233,
          -33.155479195780075,
          -43.01026657180383,
          -42.24345992696627,
          -41.298509115458124,
          -9.531132707696829,
          -44.22371011976315,
          -42.740164980679616,
          -41.037566368233065,
          -36.782299605290554,
          -41.25861078863268,
          -45.104467666628665,
          -45.881135768084604,
          -33.07583837724815,
          -5.213929123707576,
          -27.565197600380966,
          -20.388527362314452
         ],
         "z": [
          7.399142133623161,
          9.376566816019952,
          10.324237164596784,
          6.942581523355624,
          -32.56545771892734,
          7.311258391568898,
          7.447252745051897,
          -12.85663917402902,
          -9.12209069121072,
          -15.170316680107092,
          -14.296891804563076,
          -3.1707759873409107,
          -3.049790250575516,
          -2.6328858703287756,
          16.375518091050953,
          15.154990397046499,
          -21.08858734970149,
          8.87281316074578,
          -8.505444643303866,
          12.888477745343714,
          -10.924441319089757,
          20.08786158829311,
          8.77852382745902,
          19.320099267607397,
          19.702686529196676,
          -3.0999958760647814,
          -2.6112867164446167,
          -5.198969810108451,
          -14.890135212354005,
          -18.4488027516877,
          -24.74051500391454,
          -32.9269728134936,
          0.28036442593354854,
          -8.774921849711927,
          -7.990552844883603,
          -1.8340721718934572,
          -5.579879690153152,
          13.691410745584767,
          1.0905364646243023,
          -14.849622811490304,
          -1.4519912528998289,
          -1.3706994354658648,
          -14.847902460163265,
          5.077814897495535,
          -8.926802217578379,
          9.010367272155365,
          6.450238280502096,
          6.016794099230041,
          14.586621351742359,
          7.764767692407769,
          4.593258680413132,
          12.194603433620312,
          14.764769419294334,
          -1.846803817667454,
          9.265436054335026,
          2.5124071167484225,
          6.19510844481181,
          5.970006004696083,
          9.405416334937437,
          -8.67492808557756,
          -14.545528139211797,
          -17.728343862563886,
          -16.7546474949205,
          -8.549738286745267,
          -9.088657893625172,
          -1.758947557602904,
          5.625677360282178,
          -9.612803084154987,
          -13.111604565783564,
          -1.9874951313446183,
          -11.234392828436524,
          31.368637556204007,
          -13.180312473712975,
          -1.40225526615195
         ]
        },
        {
         "hovertemplate": "color=p-n<br>PC 1=%{x}<br>PC 2=%{y}<br>PC 3=%{z}<br>text=%{text}<extra></extra>",
         "legendgroup": "p-n",
         "marker": {
          "color": "#FF6692",
          "symbol": "circle"
         },
         "mode": "markers+text",
         "name": "p-n",
         "scene": "scene",
         "showlegend": true,
         "text": [
          "118",
          "119",
          "120",
          "131",
          "132",
          "133",
          "134",
          "135",
          "233",
          "234",
          "236",
          "237",
          "383",
          "384",
          "385",
          "386",
          "387",
          "388",
          "389",
          "390",
          "391",
          "395",
          "396",
          "397",
          "404",
          "405",
          "406"
         ],
         "type": "scatter3d",
         "x": [
          -43.962303642876776,
          -44.63271143734275,
          -0.9504985417153806,
          13.98233378035072,
          -23.500973568486227,
          -58.74466536299426,
          -11.448846677870405,
          -37.12203742997784,
          -1.856707602592618,
          -22.101278304009465,
          -8.145113292804412,
          2.9783502216825157,
          -18.550567387019278,
          -15.904998021638848,
          5.093112007260496,
          -8.625951362343653,
          -10.87499034356944,
          21.111272649035662,
          3.3264643570871875,
          -5.4945684219529065,
          -22.08018616930675,
          -33.04417024136801,
          -55.129629161471,
          -53.495098220670805,
          -5.270380715369166,
          -7.53964021695818,
          -20.265191493536687
         ],
         "y": [
          -32.89101478014091,
          -32.96968175581256,
          -4.170126086064975,
          15.390954735785193,
          25.00234912831799,
          2.214318583363093,
          22.492419276553715,
          5.497434437622359,
          29.93113397598368,
          18.343038904374904,
          17.53583453665706,
          14.61990867267995,
          -9.461435588416213,
          -10.223183825370487,
          -3.68509744914786,
          5.876099042284204,
          1.1504890610436076,
          -9.95629740336805,
          -10.064760672430975,
          15.143487637338811,
          11.400744868787559,
          -14.643246405107767,
          -4.904494920465442,
          -12.188190086530444,
          -17.08329510493854,
          -19.750692455262325,
          -20.913732868161365
         ],
         "z": [
          12.334407977353406,
          12.526361418408541,
          20.119230622272042,
          2.6353616874833263,
          -1.2688602327984622,
          -6.022958026768082,
          9.238704934049467,
          11.740354270382046,
          32.03599062839572,
          -12.436656632260645,
          19.138675666089732,
          16.168355858470477,
          3.183665328620418,
          6.740616369691692,
          12.897587251952144,
          8.043630127907727,
          10.200767896782155,
          12.424445571445192,
          18.366236851016527,
          28.565549371064645,
          -34.45717823181159,
          11.603107852700672,
          7.799102367165687,
          -11.997207369596017,
          -4.328603999687544,
          -1.2529931795709421,
          -0.21614338951716147
         ]
        },
        {
         "hovertemplate": "color=c-o<br>PC 1=%{x}<br>PC 2=%{y}<br>PC 3=%{z}<br>text=%{text}<extra></extra>",
         "legendgroup": "c-o",
         "marker": {
          "color": "#B6E880",
          "symbol": "circle"
         },
         "mode": "markers+text",
         "name": "c-o",
         "scene": "scene",
         "showlegend": true,
         "text": [
          "122",
          "123",
          "124",
          "248",
          "249",
          "250",
          "257",
          "258",
          "259",
          "260",
          "354",
          "376",
          "377"
         ],
         "type": "scatter3d",
         "x": [
          35.372843908715424,
          -4.252217907476398,
          -58.09611236234456,
          -19.7826987027703,
          -14.697062775375187,
          -2.1272746901751414,
          -2.5906094498570855,
          33.061136930450964,
          26.190603910358345,
          16.16504368727152,
          30.952231097162606,
          2.8922356872622994,
          27.48540412048766
         ],
         "y": [
          -37.51579833032585,
          -54.79447481289289,
          12.102838484474425,
          13.672862793045665,
          3.674516639328443,
          40.26349561520436,
          49.884386512095546,
          -42.85777075770434,
          46.394659237787174,
          -30.627691437973912,
          -35.00364844736015,
          33.84756698629204,
          37.73718234805404
         ],
         "z": [
          -8.409133044529314,
          -5.297561448113636,
          7.862969040851575,
          37.105811635103244,
          34.316556250622696,
          -18.49399692568095,
          0.5494043254607965,
          -4.514976336714556,
          21.74446181022843,
          -30.407143177818046,
          -1.938429073147269,
          -44.168087968238574,
          14.539119779362135
         ]
        }
       ],
       "layout": {
        "coloraxis": {
         "colorbar": {
          "title": {
           "side": "top",
           "text": "Percent Buried<br>Volume"
          },
          "x": 0.85,
          "xanchor": "left",
          "y": 0.5,
          "yanchor": "middle"
         }
        },
        "height": 600,
        "legend": {
         "title": {
          "text": "color"
         },
         "tracegroupgap": 0
        },
        "scene": {
         "aspectmode": "auto",
         "aspectratio": {
          "x": 1.1231481104407817,
          "y": 0.9244328866143133,
          "z": 0.9631359244966519
         },
         "camera": {
          "center": {
           "x": 0,
           "y": 0,
           "z": 0
          },
          "eye": {
           "x": 0.5746502403913105,
           "y": 1.6155127741873148,
           "z": 0.35889098682756604
          },
          "projection": {
           "type": "perspective"
          },
          "up": {
           "x": 0,
           "y": 0,
           "z": 1
          }
         },
         "domain": {
          "x": [
           0,
           1
          ],
          "y": [
           0,
           1
          ]
         },
         "xaxis": {
          "title": {
           "text": "PC 1"
          },
          "type": "linear"
         },
         "yaxis": {
          "title": {
           "text": "PC 2"
          },
          "type": "linear"
         },
         "zaxis": {
          "title": {
           "text": "PC 3"
          },
          "type": "linear"
         }
        },
        "template": {
         "data": {
          "bar": [
           {
            "error_x": {
             "color": "#2a3f5f"
            },
            "error_y": {
             "color": "#2a3f5f"
            },
            "marker": {
             "line": {
              "color": "#E5ECF6",
              "width": 0.5
             },
             "pattern": {
              "fillmode": "overlay",
              "size": 10,
              "solidity": 0.2
             }
            },
            "type": "bar"
           }
          ],
          "barpolar": [
           {
            "marker": {
             "line": {
              "color": "#E5ECF6",
              "width": 0.5
             },
             "pattern": {
              "fillmode": "overlay",
              "size": 10,
              "solidity": 0.2
             }
            },
            "type": "barpolar"
           }
          ],
          "carpet": [
           {
            "aaxis": {
             "endlinecolor": "#2a3f5f",
             "gridcolor": "white",
             "linecolor": "white",
             "minorgridcolor": "white",
             "startlinecolor": "#2a3f5f"
            },
            "baxis": {
             "endlinecolor": "#2a3f5f",
             "gridcolor": "white",
             "linecolor": "white",
             "minorgridcolor": "white",
             "startlinecolor": "#2a3f5f"
            },
            "type": "carpet"
           }
          ],
          "choropleth": [
           {
            "colorbar": {
             "outlinewidth": 0,
             "ticks": ""
            },
            "type": "choropleth"
           }
          ],
          "contour": [
           {
            "colorbar": {
             "outlinewidth": 0,
             "ticks": ""
            },
            "colorscale": [
             [
              0,
              "#0d0887"
             ],
             [
              0.1111111111111111,
              "#46039f"
             ],
             [
              0.2222222222222222,
              "#7201a8"
             ],
             [
              0.3333333333333333,
              "#9c179e"
             ],
             [
              0.4444444444444444,
              "#bd3786"
             ],
             [
              0.5555555555555556,
              "#d8576b"
             ],
             [
              0.6666666666666666,
              "#ed7953"
             ],
             [
              0.7777777777777778,
              "#fb9f3a"
             ],
             [
              0.8888888888888888,
              "#fdca26"
             ],
             [
              1,
              "#f0f921"
             ]
            ],
            "type": "contour"
           }
          ],
          "contourcarpet": [
           {
            "colorbar": {
             "outlinewidth": 0,
             "ticks": ""
            },
            "type": "contourcarpet"
           }
          ],
          "heatmap": [
           {
            "colorbar": {
             "outlinewidth": 0,
             "ticks": ""
            },
            "colorscale": [
             [
              0,
              "#0d0887"
             ],
             [
              0.1111111111111111,
              "#46039f"
             ],
             [
              0.2222222222222222,
              "#7201a8"
             ],
             [
              0.3333333333333333,
              "#9c179e"
             ],
             [
              0.4444444444444444,
              "#bd3786"
             ],
             [
              0.5555555555555556,
              "#d8576b"
             ],
             [
              0.6666666666666666,
              "#ed7953"
             ],
             [
              0.7777777777777778,
              "#fb9f3a"
             ],
             [
              0.8888888888888888,
              "#fdca26"
             ],
             [
              1,
              "#f0f921"
             ]
            ],
            "type": "heatmap"
           }
          ],
          "heatmapgl": [
           {
            "colorbar": {
             "outlinewidth": 0,
             "ticks": ""
            },
            "colorscale": [
             [
              0,
              "#0d0887"
             ],
             [
              0.1111111111111111,
              "#46039f"
             ],
             [
              0.2222222222222222,
              "#7201a8"
             ],
             [
              0.3333333333333333,
              "#9c179e"
             ],
             [
              0.4444444444444444,
              "#bd3786"
             ],
             [
              0.5555555555555556,
              "#d8576b"
             ],
             [
              0.6666666666666666,
              "#ed7953"
             ],
             [
              0.7777777777777778,
              "#fb9f3a"
             ],
             [
              0.8888888888888888,
              "#fdca26"
             ],
             [
              1,
              "#f0f921"
             ]
            ],
            "type": "heatmapgl"
           }
          ],
          "histogram": [
           {
            "marker": {
             "pattern": {
              "fillmode": "overlay",
              "size": 10,
              "solidity": 0.2
             }
            },
            "type": "histogram"
           }
          ],
          "histogram2d": [
           {
            "colorbar": {
             "outlinewidth": 0,
             "ticks": ""
            },
            "colorscale": [
             [
              0,
              "#0d0887"
             ],
             [
              0.1111111111111111,
              "#46039f"
             ],
             [
              0.2222222222222222,
              "#7201a8"
             ],
             [
              0.3333333333333333,
              "#9c179e"
             ],
             [
              0.4444444444444444,
              "#bd3786"
             ],
             [
              0.5555555555555556,
              "#d8576b"
             ],
             [
              0.6666666666666666,
              "#ed7953"
             ],
             [
              0.7777777777777778,
              "#fb9f3a"
             ],
             [
              0.8888888888888888,
              "#fdca26"
             ],
             [
              1,
              "#f0f921"
             ]
            ],
            "type": "histogram2d"
           }
          ],
          "histogram2dcontour": [
           {
            "colorbar": {
             "outlinewidth": 0,
             "ticks": ""
            },
            "colorscale": [
             [
              0,
              "#0d0887"
             ],
             [
              0.1111111111111111,
              "#46039f"
             ],
             [
              0.2222222222222222,
              "#7201a8"
             ],
             [
              0.3333333333333333,
              "#9c179e"
             ],
             [
              0.4444444444444444,
              "#bd3786"
             ],
             [
              0.5555555555555556,
              "#d8576b"
             ],
             [
              0.6666666666666666,
              "#ed7953"
             ],
             [
              0.7777777777777778,
              "#fb9f3a"
             ],
             [
              0.8888888888888888,
              "#fdca26"
             ],
             [
              1,
              "#f0f921"
             ]
            ],
            "type": "histogram2dcontour"
           }
          ],
          "mesh3d": [
           {
            "colorbar": {
             "outlinewidth": 0,
             "ticks": ""
            },
            "type": "mesh3d"
           }
          ],
          "parcoords": [
           {
            "line": {
             "colorbar": {
              "outlinewidth": 0,
              "ticks": ""
             }
            },
            "type": "parcoords"
           }
          ],
          "pie": [
           {
            "automargin": true,
            "type": "pie"
           }
          ],
          "scatter": [
           {
            "fillpattern": {
             "fillmode": "overlay",
             "size": 10,
             "solidity": 0.2
            },
            "type": "scatter"
           }
          ],
          "scatter3d": [
           {
            "line": {
             "colorbar": {
              "outlinewidth": 0,
              "ticks": ""
             }
            },
            "marker": {
             "colorbar": {
              "outlinewidth": 0,
              "ticks": ""
             }
            },
            "type": "scatter3d"
           }
          ],
          "scattercarpet": [
           {
            "marker": {
             "colorbar": {
              "outlinewidth": 0,
              "ticks": ""
             }
            },
            "type": "scattercarpet"
           }
          ],
          "scattergeo": [
           {
            "marker": {
             "colorbar": {
              "outlinewidth": 0,
              "ticks": ""
             }
            },
            "type": "scattergeo"
           }
          ],
          "scattergl": [
           {
            "marker": {
             "colorbar": {
              "outlinewidth": 0,
              "ticks": ""
             }
            },
            "type": "scattergl"
           }
          ],
          "scattermapbox": [
           {
            "marker": {
             "colorbar": {
              "outlinewidth": 0,
              "ticks": ""
             }
            },
            "type": "scattermapbox"
           }
          ],
          "scatterpolar": [
           {
            "marker": {
             "colorbar": {
              "outlinewidth": 0,
              "ticks": ""
             }
            },
            "type": "scatterpolar"
           }
          ],
          "scatterpolargl": [
           {
            "marker": {
             "colorbar": {
              "outlinewidth": 0,
              "ticks": ""
             }
            },
            "type": "scatterpolargl"
           }
          ],
          "scatterternary": [
           {
            "marker": {
             "colorbar": {
              "outlinewidth": 0,
              "ticks": ""
             }
            },
            "type": "scatterternary"
           }
          ],
          "surface": [
           {
            "colorbar": {
             "outlinewidth": 0,
             "ticks": ""
            },
            "colorscale": [
             [
              0,
              "#0d0887"
             ],
             [
              0.1111111111111111,
              "#46039f"
             ],
             [
              0.2222222222222222,
              "#7201a8"
             ],
             [
              0.3333333333333333,
              "#9c179e"
             ],
             [
              0.4444444444444444,
              "#bd3786"
             ],
             [
              0.5555555555555556,
              "#d8576b"
             ],
             [
              0.6666666666666666,
              "#ed7953"
             ],
             [
              0.7777777777777778,
              "#fb9f3a"
             ],
             [
              0.8888888888888888,
              "#fdca26"
             ],
             [
              1,
              "#f0f921"
             ]
            ],
            "type": "surface"
           }
          ],
          "table": [
           {
            "cells": {
             "fill": {
              "color": "#EBF0F8"
             },
             "line": {
              "color": "white"
             }
            },
            "header": {
             "fill": {
              "color": "#C8D4E3"
             },
             "line": {
              "color": "white"
             }
            },
            "type": "table"
           }
          ]
         },
         "layout": {
          "annotationdefaults": {
           "arrowcolor": "#2a3f5f",
           "arrowhead": 0,
           "arrowwidth": 1
          },
          "autotypenumbers": "strict",
          "coloraxis": {
           "colorbar": {
            "outlinewidth": 0,
            "ticks": ""
           }
          },
          "colorscale": {
           "diverging": [
            [
             0,
             "#8e0152"
            ],
            [
             0.1,
             "#c51b7d"
            ],
            [
             0.2,
             "#de77ae"
            ],
            [
             0.3,
             "#f1b6da"
            ],
            [
             0.4,
             "#fde0ef"
            ],
            [
             0.5,
             "#f7f7f7"
            ],
            [
             0.6,
             "#e6f5d0"
            ],
            [
             0.7,
             "#b8e186"
            ],
            [
             0.8,
             "#7fbc41"
            ],
            [
             0.9,
             "#4d9221"
            ],
            [
             1,
             "#276419"
            ]
           ],
           "sequential": [
            [
             0,
             "#0d0887"
            ],
            [
             0.1111111111111111,
             "#46039f"
            ],
            [
             0.2222222222222222,
             "#7201a8"
            ],
            [
             0.3333333333333333,
             "#9c179e"
            ],
            [
             0.4444444444444444,
             "#bd3786"
            ],
            [
             0.5555555555555556,
             "#d8576b"
            ],
            [
             0.6666666666666666,
             "#ed7953"
            ],
            [
             0.7777777777777778,
             "#fb9f3a"
            ],
            [
             0.8888888888888888,
             "#fdca26"
            ],
            [
             1,
             "#f0f921"
            ]
           ],
           "sequentialminus": [
            [
             0,
             "#0d0887"
            ],
            [
             0.1111111111111111,
             "#46039f"
            ],
            [
             0.2222222222222222,
             "#7201a8"
            ],
            [
             0.3333333333333333,
             "#9c179e"
            ],
            [
             0.4444444444444444,
             "#bd3786"
            ],
            [
             0.5555555555555556,
             "#d8576b"
            ],
            [
             0.6666666666666666,
             "#ed7953"
            ],
            [
             0.7777777777777778,
             "#fb9f3a"
            ],
            [
             0.8888888888888888,
             "#fdca26"
            ],
            [
             1,
             "#f0f921"
            ]
           ]
          },
          "colorway": [
           "#636efa",
           "#EF553B",
           "#00cc96",
           "#ab63fa",
           "#FFA15A",
           "#19d3f3",
           "#FF6692",
           "#B6E880",
           "#FF97FF",
           "#FECB52"
          ],
          "font": {
           "color": "#2a3f5f"
          },
          "geo": {
           "bgcolor": "white",
           "lakecolor": "white",
           "landcolor": "#E5ECF6",
           "showlakes": true,
           "showland": true,
           "subunitcolor": "white"
          },
          "hoverlabel": {
           "align": "left"
          },
          "hovermode": "closest",
          "mapbox": {
           "style": "light"
          },
          "paper_bgcolor": "white",
          "plot_bgcolor": "#E5ECF6",
          "polar": {
           "angularaxis": {
            "gridcolor": "white",
            "linecolor": "white",
            "ticks": ""
           },
           "bgcolor": "#E5ECF6",
           "radialaxis": {
            "gridcolor": "white",
            "linecolor": "white",
            "ticks": ""
           }
          },
          "scene": {
           "xaxis": {
            "backgroundcolor": "#E5ECF6",
            "gridcolor": "white",
            "gridwidth": 2,
            "linecolor": "white",
            "showbackground": true,
            "ticks": "",
            "zerolinecolor": "white"
           },
           "yaxis": {
            "backgroundcolor": "#E5ECF6",
            "gridcolor": "white",
            "gridwidth": 2,
            "linecolor": "white",
            "showbackground": true,
            "ticks": "",
            "zerolinecolor": "white"
           },
           "zaxis": {
            "backgroundcolor": "#E5ECF6",
            "gridcolor": "white",
            "gridwidth": 2,
            "linecolor": "white",
            "showbackground": true,
            "ticks": "",
            "zerolinecolor": "white"
           }
          },
          "shapedefaults": {
           "line": {
            "color": "#2a3f5f"
           }
          },
          "ternary": {
           "aaxis": {
            "gridcolor": "white",
            "linecolor": "white",
            "ticks": ""
           },
           "baxis": {
            "gridcolor": "white",
            "linecolor": "white",
            "ticks": ""
           },
           "bgcolor": "#E5ECF6",
           "caxis": {
            "gridcolor": "white",
            "linecolor": "white",
            "ticks": ""
           }
          },
          "title": {
           "x": 0.05
          },
          "xaxis": {
           "automargin": true,
           "gridcolor": "white",
           "linecolor": "white",
           "ticks": "",
           "title": {
            "standoff": 15
           },
           "zerolinecolor": "white",
           "zerolinewidth": 2
          },
          "yaxis": {
           "automargin": true,
           "gridcolor": "white",
           "linecolor": "white",
           "ticks": "",
           "title": {
            "standoff": 15
           },
           "zerolinecolor": "white",
           "zerolinewidth": 2
          }
         }
        },
        "title": {
         "text": "Total Explained Variance: 74.57%",
         "x": 0.5,
         "xanchor": "center",
         "y": 0.9,
         "yanchor": "top"
        },
        "width": 800
       }
      },
      "image/png": "[encoded data removed]",
      "text/html": [
       "<div>                            <div id=\"53bca466-a1dc-4db7-a528-d5e1b6963b87\" class=\"plotly-graph-div\" style=\"height:600px; width:800px;\"></div>            <script type=\"text/javascript\">                require([\"plotly\"], function(Plotly) {                    window.PLOTLYENV=window.PLOTLYENV || {};                                    if (document.getElementById(\"53bca466-a1dc-4db7-a528-d5e1b6963b87\")) {                    Plotly.newPlot(                        \"53bca466-a1dc-4db7-a528-d5e1b6963b87\",                        [{\"hovertemplate\":\"color=p-p\\u003cbr\\u003ePC 1=%{x}\\u003cbr\\u003ePC 2=%{y}\\u003cbr\\u003ePC 3=%{z}\\u003cbr\\u003etext=%{text}\\u003cextra\\u003e\\u003c\\u002fextra\\u003e\",\"legendgroup\":\"p-p\",\"marker\":{\"color\":\"#636efa\",\"symbol\":\"circle\"},\"mode\":\"markers+text\",\"name\":\"p-p\",\"scene\":\"scene\",\"showlegend\":true,\"text\":[\"002\",\"003\",\"004\",\"013\",\"027\",\"029\",\"030\",\"031\",\"032\",\"033\",\"035\",\"036\",\"042\",\"043\",\"044\",\"046\",\"047\",\"048\",\"121\",\"125\",\"126\",\"127\",\"128\",\"129\"],\"x\":[3.6894714288727677,-8.700031725027255,-16.04508057983264,-3.5407027595489513,-25.800492399087343,2.9028160889458694,-5.690930174361443,-11.344757682384442,-20.54151459907659,-22.691690351957366,-8.347309740387313,-3.6248697652298083,-21.08258106783664,-53.930017966339804,-11.636747005028498,1.3857922006255203,-15.931982486566753,-15.492999876335597,11.714475363191651,-3.900933506218076,7.995511046579766,5.142114637827739,3.5307700752296047,16.874094088359236],\"y\":[-5.086006111940136,-4.43936250219827,-0.36402254592207023,-1.9989071072853712,-4.101590986612711,5.660158460795502,2.9817458372644103,4.828144987018607,-11.617145289215209,-10.260190128546677,1.4515176794380695,-1.714091127413796,-4.928977625683559,-30.41778389838325,3.6106131126684344,-2.266634112793234,-2.606194725063737,-1.5838875410153515,15.23773944285549,8.958824679526064,1.7086313622887477,4.46617272987061,2.6585619748265676,8.36536197321077],\"z\":[-7.133746907738927,6.693798379875554,-6.631076174058622,15.173730449966909,-11.92985021648061,-19.242249792997445,-34.611905898130914,-0.0491399332882701,15.730586827552846,49.21828012781834,-23.943146187202135,33.13889647518861,25.78912255836487,11.724632421516771,27.65949078177529,8.383377936187514,11.993243642331851,10.950275617374587,-21.25548113300984,-23.99738779048524,0.7637174628092436,-4.811255693637344,-8.355457954344843,-1.6599341941066732],\"type\":\"scatter3d\"},{\"hovertemplate\":\"color=c-n\\u003cbr\\u003ePC 1=%{x}\\u003cbr\\u003ePC 2=%{y}\\u003cbr\\u003ePC 3=%{z}\\u003cbr\\u003etext=%{text}\\u003cextra\\u003e\\u003c\\u002fextra\\u003e\",\"legendgroup\":\"c-n\",\"marker\":{\"color\":\"#EF553B\",\"symbol\":\"circle\"},\"mode\":\"markers+text\",\"name\":\"c-n\",\"scene\":\"scene\",\"showlegend\":true,\"text\":[\"005\",\"006\",\"007\",\"008\",\"009\",\"010\",\"011\",\"246\",\"247\"],\"x\":[-15.391295003018433,5.067325754137609,-6.901541524412689,11.502560192250716,17.413905785014684,-42.14712015196427,-15.904530658582434,-17.111257520518144,-10.118186799437854],\"y\":[26.005289031260524,27.849427888738088,25.2751044050089,24.775826958941202,26.4746572622004,39.69766924709372,18.020118934984627,25.412299148982044,27.35611423386706],\"z\":[-57.717494046415624,-39.82336351250382,-59.670000202802576,-59.9688762665339,60.882300213373505,-42.714692404101065,24.35073959772171,-28.109733718649167,-20.87784297138095],\"type\":\"scatter3d\"},{\"hovertemplate\":\"color=p-c\\u003cbr\\u003ePC 1=%{x}\\u003cbr\\u003ePC 2=%{y}\\u003cbr\\u003ePC 3=%{z}\\u003cbr\\u003etext=%{text}\\u003cextra\\u003e\\u003c\\u002fextra\\u003e\",\"legendgroup\":\"p-c\",\"marker\":{\"color\":\"#00cc96\",\"symbol\":\"circle\"},\"mode\":\"markers+text\",\"name\":\"p-c\",\"scene\":\"scene\",\"showlegend\":true,\"text\":[\"018\",\"019\",\"020\",\"021\",\"022\",\"053\",\"055\",\"056\",\"057\",\"058\",\"059\",\"060\"],\"x\":[-24.166609447534345,-2.9524232893382742,-3.352244824500025,-3.3628273492666056,-2.9463403708408427,1.073629992403891,-14.797448051334186,-6.019399044003083,-24.96050840378561,-15.120904734018092,-9.035689731921275,-9.778891718825516],\"y\":[2.247029893129054,-11.547099252863699,-10.164244154826068,-10.104963319552185,-10.248893596521413,-10.70738574585971,-12.586080328197141,-9.278006326974845,-14.650683914296724,-6.653098576267555,-24.406497027096062,-8.597647350634636],\"z\":[19.30618690361064,19.459355456878313,18.00076653540668,18.078691664510576,18.031694031517752,-38.78891195809726,-20.042218396523747,0.22737397316624036,-12.975585942900274,-5.900927197058379,-9.162764263072642,2.3516470429389433],\"type\":\"scatter3d\"},{\"hovertemplate\":\"color=p-o\\u003cbr\\u003ePC 1=%{x}\\u003cbr\\u003ePC 2=%{y}\\u003cbr\\u003ePC 3=%{z}\\u003cbr\\u003etext=%{text}\\u003cextra\\u003e\\u003c\\u002fextra\\u003e\",\"legendgroup\":\"p-o\",\"marker\":{\"color\":\"#ab63fa\",\"symbol\":\"circle\"},\"mode\":\"markers+text\",\"name\":\"p-o\",\"scene\":\"scene\",\"showlegend\":true,\"text\":[\"037\",\"038\",\"039\",\"040\",\"041\",\"080\",\"081\",\"082\",\"083\",\"084\",\"085\",\"086\",\"087\",\"088\",\"089\",\"090\",\"091\",\"092\",\"093\",\"094\",\"095\",\"096\",\"097\",\"098\",\"099\",\"100\",\"101\",\"102\",\"103\",\"104\",\"105\",\"106\",\"107\",\"108\",\"109\",\"110\",\"111\",\"112\",\"136\",\"137\",\"138\",\"139\",\"144\",\"145\",\"153\",\"154\",\"155\",\"156\",\"157\",\"158\",\"159\",\"160\",\"186\",\"187\",\"188\",\"189\",\"190\",\"191\",\"192\",\"193\",\"194\",\"195\",\"243\",\"244\",\"245\",\"251\",\"252\",\"253\",\"254\",\"255\",\"256\",\"261\",\"262\",\"263\",\"264\",\"265\",\"266\",\"267\",\"268\",\"269\",\"270\",\"271\",\"272\",\"273\",\"274\",\"275\",\"278\",\"279\",\"280\",\"281\",\"282\",\"283\",\"284\",\"285\",\"286\",\"287\",\"288\",\"289\",\"290\",\"291\",\"292\",\"293\",\"294\",\"295\",\"296\",\"297\",\"298\",\"299\",\"300\",\"301\",\"302\",\"303\",\"304\",\"305\",\"306\",\"310\",\"311\",\"312\",\"313\",\"316\",\"330\",\"340\",\"341\",\"342\",\"349\",\"350\",\"351\",\"352\",\"353\",\"355\",\"356\",\"392\",\"393\",\"394\",\"407\",\"408\",\"409\",\"411\",\"412\"],\"x\":[18.957401242201414,-9.586707357570221,36.898305530172166,-9.375378549418778,-17.227670276844,37.02097309295763,-15.490402376648651,2.580430369063966,-18.309746016525384,6.63372340766877,-11.582040687546241,-16.642223599460916,-27.984761741816666,-17.28845325855388,-17.015996460855053,-35.0942672461935,-35.52337472618696,-29.169811296814515,37.22467159332389,-12.042362245571402,-13.386866623361055,-32.37295853820887,-26.244146713383167,-30.60910383412188,-56.529812276207174,25.596080823695022,-1.6148667979709215,38.010418301312214,35.163120670859215,29.785326642935416,31.336289588899273,37.600375213409556,38.10897666729278,6.279700575166795,-8.777168860641515,-15.282034500853738,-17.388220074083836,4.864291353589113,-9.906581868435715,-26.99726715445516,-37.5161717639209,-21.597623940059812,-5.646515382488462,-8.830924847298258,39.55999831181902,35.90532549470703,35.38695809102665,36.53130010824645,38.67407320702015,36.661781748594706,36.07296439827268,35.66296930488708,16.259394544317495,37.35188783046256,11.550478581915998,8.078839181800548,-16.771509171914662,-32.225537769776054,3.2505239941525623,-16.67868328981335,5.708026063782796,6.792193443761764,6.187099280551138,-13.60564947397775,-51.4309407174667,37.09200726486772,16.042769903956593,32.76124694956204,0.2162210225171842,21.739799432703112,-67.38782486508187,-15.072760529265254,-10.936148630685425,2.693947558927142,-2.0172336281812115,25.582862984177623,14.419440565011197,-0.8040003304257667,7.812717627605522,-31.251184593166723,-41.935480414245355,-40.73896524303339,-27.905410944209727,4.372688049373177,7.812608564329953,-6.9698183540776375,-4.699595257395199,-8.62153009131007,2.3061284475166013,-57.07846824181113,-29.334051028393326,11.21936540042008,2.047952686487009,-6.305663345359339,3.3021742490731056,-22.407636169355417,-17.964791993142217,1.7166832979125446,1.566742120722205,-36.70959459823316,-36.291712342831815,-15.235262854140881,-19.483997895335744,20.478107572239246,-7.005197153269079,42.262182397731685,14.442133990107646,19.10998118720714,32.693124211465154,1.926204878568385,11.223049338856757,-20.37109798556737,15.680534957961896,-43.75310960945301,-50.60797513802951,21.961457241026963,23.36562324975592,24.582437043069643,22.60022605278422,6.513455639835009,29.40189286059643,24.262313153245334,-21.419886664013575,-22.163507758681718,2.250992862829017,-9.660315060988745,17.655773951483603,-6.067296935403722,-16.440787210655106,-8.901787969560127,-35.82805799724656,-6.877024632067018,-10.94195409046148,-5.96759873591981,-18.63004360875954,-20.878136871050817,-24.463509541511705,-25.573102698347903,3.5902659963526746],\"y\":[26.3306931747715,39.22913115542516,-4.252406998971317,29.347378678010664,-37.07419304732652,48.804571614978336,27.569391265116817,33.35377381408567,37.60868118494049,52.5703929880424,-41.207901074073504,-36.349463612337175,-39.29059081846797,-33.045353111997436,11.838634892282148,11.081944027762614,10.19402658579954,43.67619231441607,-13.105497460196652,28.049931368995967,14.86410894308918,27.840891964278832,-26.880140303006005,23.284815072793524,13.085029833726958,-10.199031118111597,16.386441492617955,50.398145885512896,39.22182102978195,36.91547267876272,28.229448865378792,49.53832017957212,49.27874551956734,30.641776318450535,35.56886086315598,34.06760071187018,37.5293085879497,-43.12060896111769,33.08657610939653,4.756353515172042,17.655702171966496,4.514396841368289,29.813772880308967,20.119375094920425,50.12566834199816,53.340154603723725,52.579562914953634,52.537068315352,52.319118612579906,52.6610202768457,52.56811371636656,53.15950077205382,41.73468691501688,-13.130679106049296,49.429071663494476,52.54858888862806,23.213310829200932,-17.615012962852305,52.2044779993852,23.012381530494054,50.988543126431686,52.253571437637326,5.491539010709789,23.347940613020636,1.9194008125108288,-13.319871114026569,-15.176595670327632,-26.207471497119712,46.24301167193947,-29.309076516448854,4.770058528681171,13.736212031852569,17.15351139395327,22.407093119262395,18.242016249952794,-10.19432985286169,-23.980273943609447,16.28583323674202,10.738788076201729,17.596555246652922,5.310687991931615,3.630069098618243,11.942656402522843,23.246181854196692,10.746185751120068,11.684929582276457,35.9839858156653,19.320154849846762,26.924608286435433,-5.42449406692928,24.980458229990596,25.22148274456952,11.576350652628587,23.620219654341582,14.589472020579807,20.88987547470645,-18.26364298320967,13.361519984824222,14.276828261158723,18.83382064799169,15.878484865409217,7.208339006408769,9.712521348407055,44.96839082493051,44.43290823943181,-6.46768676688368,35.423581031616585,45.535138073659716,-13.77397674387065,31.78405320460543,-32.36244070533257,36.672375714179296,-39.356149903114336,14.932807080056211,18.895062474257603,-29.55458235856267,-30.275742175692002,-31.018971456479054,-30.916537583734264,8.646658938665704,44.30691578950232,27.98561792716432,36.49491828203094,-41.94701988387653,-35.71549101313305,-33.83988655958609,-38.40257840974778,-33.208557304132846,-29.03442214948026,29.799696304387194,10.894575181180997,49.424933059118906,34.25978309392019,45.07077391347215,19.68228766543755,17.57900095674116,15.813892447390666,13.756001818991807,22.825548968360273],\"z\":[15.745017554871637,11.654012208469602,-5.026762123191048,-3.2263070016947446,9.84600004966848,-1.2924356264701884,-3.0610698358273196,-19.305079850729253,-25.19218277447767,6.948443938646903,10.387975386567918,8.667006689273045,-2.6545597308702926,7.75876615798508,8.370172059032168,6.5062130585579085,5.214932853490086,9.464222636912599,2.5729754041036292,-20.851966305211363,35.96744039063258,-12.25447070365842,3.401568292181095,-10.960589419300163,-13.70808189556722,-12.42158873160654,-13.853448515548966,0.9503888275868524,9.927301831107835,-14.251639894340348,20.545842642870912,-0.08170182617482828,-0.5496783174936414,-22.53345376829731,7.192377801694043,6.013581364324964,11.67526111791193,7.88562082851519,-14.929051744337642,-2.14522366815153,-34.5151653962503,-18.84253798133213,-12.656714718013856,-2.945484418234102,5.861304814533486,2.4781839363269773,2.585501872087839,3.399013401705305,0.34732671210152155,1.6344191907732248,4.369030419453839,5.021017988160058,8.1436369452929,2.603034100265485,-2.796638115304539,8.709519756449325,-19.048597813836153,5.620717928327982,-1.0933577876599356,-19.131911962225015,9.622932357081329,7.446122538304567,-30.789481500410457,-36.53403114718282,25.461259503338916,3.446197787097644,13.480712703144434,-7.284273178967094,19.045568928098124,-2.5070829125596736,5.981272781702732,-12.090479433964576,-19.917687079885578,-14.910660865042598,-15.842585594733809,-12.421941957275513,4.677395610092791,34.78013416302248,-26.32832215744238,-23.840306266866587,-11.161690557599053,-10.306289530274974,-6.8388762861789,19.92982325013374,-26.301799008125137,39.998768716496386,-8.727025203272214,-4.098241653401113,22.695587784382546,9.7039451187989,19.239848965924924,19.683559841439575,28.358869260282432,9.283678756537244,39.48665863254004,-35.072080133785185,34.7029049514299,20.050590061724034,-17.122594487661157,-28.312071393639652,-40.344329728150335,-13.773618383399391,-4.588364632259409,10.144179921531748,12.375655898591818,-0.30174454407944484,17.755947657796224,7.0709053942643845,13.588292258098935,4.725527573900289,-8.727190874378612,21.88447824806209,-18.1089428511232,8.018641492618771,1.4068343787338382,-3.2575180494302916,-2.204970076657871,0.06080619674065965,-1.7210298394488313,10.16944326424195,8.680970290692485,7.5154593382935335,15.4546595324647,2.982335373072288,3.8428021920689566,0.0606186210486071,-4.311236487839013,5.122806576830443,1.3325515055503514,3.465172106049925,4.718135733790632,10.965562530725952,17.67756214737842,12.13737277517817,-7.110051006860651,-8.174825802665111,-12.295582529659557,-26.277375382341365,24.25151072272177],\"type\":\"scatter3d\"},{\"hovertemplate\":\"color=n-n\\u003cbr\\u003ePC 1=%{x}\\u003cbr\\u003ePC 2=%{y}\\u003cbr\\u003ePC 3=%{z}\\u003cbr\\u003etext=%{text}\\u003cextra\\u003e\\u003c\\u002fextra\\u003e\",\"legendgroup\":\"n-n\",\"marker\":{\"color\":\"#FFA15A\",\"symbol\":\"circle\"},\"mode\":\"markers+text\",\"name\":\"n-n\",\"scene\":\"scene\",\"showlegend\":true,\"text\":[\"071\",\"072\",\"113\",\"114\",\"115\",\"116\",\"117\",\"130\",\"140\",\"141\",\"142\",\"143\",\"163\",\"164\",\"165\",\"166\",\"167\",\"168\",\"276\",\"277\",\"307\",\"308\",\"309\",\"314\",\"315\",\"317\",\"318\",\"319\",\"320\",\"321\",\"322\",\"323\",\"324\",\"325\",\"326\",\"327\",\"328\",\"329\",\"331\",\"332\",\"333\",\"334\",\"335\",\"336\",\"337\",\"338\",\"339\",\"343\",\"344\",\"345\",\"346\",\"347\",\"348\",\"357\",\"358\",\"359\",\"360\",\"361\",\"362\",\"363\",\"364\",\"365\",\"366\",\"367\",\"368\",\"369\",\"370\",\"378\",\"379\",\"380\",\"381\",\"382\",\"398\",\"399\",\"400\",\"401\",\"402\",\"403\"],\"x\":[57.69982115457801,58.009258556781944,9.986096276408674,-7.680698837279056,-12.333257575347728,10.258735804483333,8.300938622582425,-18.672677046770364,-27.109329221502314,11.045729177470438,8.772931346457655,-2.47912104050881,-20.663476839620174,-28.65605043111899,-14.760040064851676,-16.700118222473584,-46.70520286876923,-35.46252498558214,-31.38019878226166,-22.370423353357207,-49.89833392821357,-40.74900073339058,-41.59729050596842,-29.302388920872332,-70.05643036384585,31.080499760687417,15.575249724950483,12.60145948882197,19.61202702882535,10.168214140984256,5.450812765009414,35.27362180162058,19.645794235258382,7.290767074768201,20.329026700041194,11.72983243106843,-38.17627789664553,6.458228332586541,-57.31528894371746,-57.391836772532606,-57.17452897314179,-56.15457166864954,-40.306272606558984,-40.353242791070386,-40.42554500614705,-40.3788537616015,-38.47147279941842,-46.704082243271955,-50.39737374393656,-45.85124538166755,-49.46996654576665,-44.93108104134808,-49.49503350856366,11.74236035487716,10.874869793024441,3.8132100516858043,10.256803943947899,21.56038980679825,-34.37513508972843,-33.075171095030036,-33.06170928928084,-36.67299092902255,-33.818226732420754,-33.14569884641263,-5.160858158328946,-36.07282259748835,-14.055626132981095,-61.14538576389209,-60.979467875682666,-61.23805577069894,-58.77905126076792,-53.57191177917178,-27.57962708490123,4.1461356984750335,-43.32470694403388,-37.99855232396535,-16.904081154341014,-23.382702550851498],\"y\":[31.209171752429622,31.308087652864273,-1.0650626811199033,2.668555773875383,-14.504887370592009,-1.3390581974888085,-1.0261438736091326,-19.677823483387645,24.366476539440463,14.720617803680268,41.23020547298536,40.29905671146538,-11.94600900490314,-9.853379938234047,-18.90366710532989,-14.274068033617995,-17.947294362791595,-16.563535165877653,-10.464282341142436,-6.515065163737419,-18.327954872749213,-14.232756967205358,-14.735918662926357,-29.375297565419366,-27.870982886483468,12.621616737973016,9.680805005244101,6.331468897288703,8.626569801668182,7.448047680469757,4.181722985052613,16.24817743807956,11.204420163721974,8.230067519584836,16.08563067709953,6.822137514906034,-18.880256596680983,4.701187155319755,-26.014596346123472,-26.212519712502097,-26.374665303732094,-25.301454746402694,-13.57545707912188,-13.778424498900005,-13.655627362643584,-13.601482247379641,-15.671517144701031,-19.7522042432608,-18.536631188268775,-19.39755416331404,-18.09802608384597,-19.090360538354734,-18.108503535404527,-38.78173965220791,-35.430481010658006,-27.218699880982022,-37.559634359229435,-17.85205719327513,-14.452476756028814,-24.62092516847183,-24.618385480046204,-23.31370903253983,-24.122135685228635,-24.77271632697183,36.77002510072242,11.456349149684803,-10.364865949490573,-23.426653741639125,-23.31750678521684,-23.45804689086153,-22.40611843116542,-20.161838154955575,1.7801075255516667,16.57782467916217,-16.282930062868704,-10.957685818658307,-12.079469787733554,-5.604153121305106],\"z\":[-5.682660126186826,-5.659425692814892,1.2804528972088343,5.865423217794028,1.53680442648378,1.7509946091071877,-0.6006027044498847,0.6537404460427854,-15.973269456538878,-26.058879347539836,4.216537340149724,-6.6824444834149705,1.7301219222556476,-29.18896483517767,1.741812681327977,-7.478151235061434,-31.7646407084236,17.477270080576677,4.246211890130789,4.6420597307341325,-14.530621121071917,-12.273727190473325,-11.125772469159006,13.541384847987699,-19.326698771679336,31.78351711876615,-0.5899915911029138,19.43521860479991,-1.8740976139117478,-0.8822145842413645,10.615966459036251,17.738574390581466,0.49075126583154544,-35.92190140126822,-2.172760493071204,9.166084391682775,19.70405821960115,-13.578096482340076,29.482662124591542,29.704113599565343,29.05091476507306,28.330637791551943,3.9625583338335684,3.9651192930032946,3.909397713363708,3.9598953097729486,16.995483845284497,21.07183901553774,-14.46006846812519,21.54173882785052,-14.786020186289724,22.14835300609632,-15.002848600959,-20.504417202506527,-12.848556158578152,-3.5966228020954585,-15.958215670004206,-5.095711193044498,-13.189572747420387,0.3717024237526888,0.37666147812164424,1.3465139100428682,0.8649480272699738,1.0208121851695977,9.804352096769067,-13.898674229189858,37.387363849356255,-18.724292684604585,-18.15055373952039,-17.99674713418267,-16.047498037651987,-19.176842525761497,0.4868607307230625,-10.036317429599613,5.101640135003434,14.469657005212923,18.900687389781723,9.300337259108744],\"type\":\"scatter3d\"},{\"hovertemplate\":\"color=n-o\\u003cbr\\u003ePC 1=%{x}\\u003cbr\\u003ePC 2=%{y}\\u003cbr\\u003ePC 3=%{z}\\u003cbr\\u003etext=%{text}\\u003cextra\\u003e\\u003c\\u002fextra\\u003e\",\"legendgroup\":\"n-o\",\"marker\":{\"color\":\"#19d3f3\",\"symbol\":\"circle\"},\"mode\":\"markers+text\",\"name\":\"n-o\",\"scene\":\"scene\",\"showlegend\":true,\"text\":[\"073\",\"074\",\"075\",\"076\",\"077\",\"078\",\"079\",\"146\",\"147\",\"148\",\"149\",\"150\",\"151\",\"152\",\"161\",\"162\",\"169\",\"170\",\"171\",\"172\",\"173\",\"174\",\"175\",\"176\",\"177\",\"178\",\"179\",\"180\",\"181\",\"182\",\"183\",\"184\",\"196\",\"197\",\"198\",\"199\",\"200\",\"201\",\"202\",\"203\",\"204\",\"205\",\"206\",\"207\",\"208\",\"209\",\"210\",\"211\",\"212\",\"213\",\"214\",\"215\",\"216\",\"217\",\"218\",\"219\",\"220\",\"221\",\"222\",\"223\",\"224\",\"225\",\"226\",\"227\",\"228\",\"229\",\"230\",\"231\",\"232\",\"238\",\"239\",\"240\",\"241\",\"242\"],\"x\":[46.41498192002298,42.45601112636684,43.03253507094164,45.63383320748865,21.667141478046222,46.09072420920983,47.27954924504311,51.07606360043868,65.18910202002303,70.18304678425528,70.87255697393805,50.66413293929693,50.42076748167733,50.44840015317383,29.556867570439813,33.21403815412289,40.0081360387352,37.57881225279491,36.09740899463635,53.797654741293655,38.56047211485313,9.439666373685684,8.43425795338151,11.927896891562787,12.114050740689173,47.00188283210298,48.047254763447185,47.729427067749405,31.265904103561425,30.901489934697132,12.133840704013782,21.085535276524414,-13.25684335340678,44.914385167997985,14.326837877203571,38.29181849509813,52.01324216489454,63.2089941161169,57.05574284397756,49.752954640222654,36.90335721279194,33.70171571697084,68.27751534773182,45.50784600068461,59.31537222657337,31.25258682446616,46.85902869686577,44.002693042846715,32.59547435271286,48.70979282284914,46.48469341145484,38.94147542159467,33.18288978741638,21.62233718790697,43.98438274363761,15.093429919084892,8.533273861213825,5.482056567595935,18.44797326115901,34.503552114936475,34.536694978072106,33.0017616321871,50.08069438346041,39.82174847702685,34.42272880879389,41.31945986756464,27.304547814240628,-4.557829880710833,-6.535277528991978,8.29679836347852,1.665340195118926,32.85184977877417,23.45847684230081,10.334323673247047],\"y\":[-31.126231846350215,-29.43643679699465,-29.45318387998908,-30.860025240710556,-20.6261447422973,-31.320422459796777,-30.884769928937814,-31.273586220155625,-3.3495858628772344,18.24381068821291,18.538060249390202,-35.55969802539977,-35.383587193047504,-35.359851080631806,-21.532575623710756,-25.22713865622632,-41.05323701103679,-35.77342227378813,-46.77993622160565,-15.366897969050312,-43.73625229038106,-29.370146959086593,-30.02054231568293,-13.911324296616744,-14.082128555545404,-26.014285114970665,-27.21762498843136,-26.818014123508828,-42.646671371978954,-40.16303471341063,-35.94479242123861,-28.940256929840288,44.28665551447183,50.765478408580506,61.20036982177525,55.0478038298543,-36.54028038231132,-19.80873185212362,-29.72159965622005,-29.38587295432975,55.950232083786176,56.7763370727141,0.41660557842608825,53.34573331587866,-21.416818535001564,-24.588123030400634,-28.514762099446916,-25.63317508111894,-22.014027288985815,-29.448035203335614,-29.321598059342143,-25.86612717015845,-24.473255660120326,-25.705086254653207,-29.547718533300987,-40.67218937120978,-33.53015907385959,-31.079346025066233,-33.155479195780075,-43.01026657180383,-42.24345992696627,-41.298509115458124,-9.531132707696829,-44.22371011976315,-42.740164980679616,-41.037566368233065,-36.782299605290554,-41.25861078863268,-45.104467666628665,-45.881135768084604,-33.07583837724815,-5.213929123707576,-27.565197600380966,-20.388527362314452],\"z\":[7.399142133623161,9.376566816019952,10.324237164596784,6.942581523355624,-32.56545771892734,7.311258391568898,7.447252745051897,-12.85663917402902,-9.12209069121072,-15.170316680107092,-14.296891804563076,-3.1707759873409107,-3.049790250575516,-2.6328858703287756,16.375518091050953,15.154990397046499,-21.08858734970149,8.87281316074578,-8.505444643303866,12.888477745343714,-10.924441319089757,20.08786158829311,8.77852382745902,19.320099267607397,19.702686529196676,-3.0999958760647814,-2.6112867164446167,-5.198969810108451,-14.890135212354005,-18.4488027516877,-24.74051500391454,-32.9269728134936,0.28036442593354854,-8.774921849711927,-7.990552844883603,-1.8340721718934572,-5.579879690153152,13.691410745584767,1.0905364646243023,-14.849622811490304,-1.4519912528998289,-1.3706994354658648,-14.847902460163265,5.077814897495535,-8.926802217578379,9.010367272155365,6.450238280502096,6.016794099230041,14.586621351742359,7.764767692407769,4.593258680413132,12.194603433620312,14.764769419294334,-1.846803817667454,9.265436054335026,2.5124071167484225,6.19510844481181,5.970006004696083,9.405416334937437,-8.67492808557756,-14.545528139211797,-17.728343862563886,-16.7546474949205,-8.549738286745267,-9.088657893625172,-1.758947557602904,5.625677360282178,-9.612803084154987,-13.111604565783564,-1.9874951313446183,-11.234392828436524,31.368637556204007,-13.180312473712975,-1.40225526615195],\"type\":\"scatter3d\"},{\"hovertemplate\":\"color=p-n\\u003cbr\\u003ePC 1=%{x}\\u003cbr\\u003ePC 2=%{y}\\u003cbr\\u003ePC 3=%{z}\\u003cbr\\u003etext=%{text}\\u003cextra\\u003e\\u003c\\u002fextra\\u003e\",\"legendgroup\":\"p-n\",\"marker\":{\"color\":\"#FF6692\",\"symbol\":\"circle\"},\"mode\":\"markers+text\",\"name\":\"p-n\",\"scene\":\"scene\",\"showlegend\":true,\"text\":[\"118\",\"119\",\"120\",\"131\",\"132\",\"133\",\"134\",\"135\",\"233\",\"234\",\"236\",\"237\",\"383\",\"384\",\"385\",\"386\",\"387\",\"388\",\"389\",\"390\",\"391\",\"395\",\"396\",\"397\",\"404\",\"405\",\"406\"],\"x\":[-43.962303642876776,-44.63271143734275,-0.9504985417153806,13.98233378035072,-23.500973568486227,-58.74466536299426,-11.448846677870405,-37.12203742997784,-1.856707602592618,-22.101278304009465,-8.145113292804412,2.9783502216825157,-18.550567387019278,-15.904998021638848,5.093112007260496,-8.625951362343653,-10.87499034356944,21.111272649035662,3.3264643570871875,-5.4945684219529065,-22.08018616930675,-33.04417024136801,-55.129629161471,-53.495098220670805,-5.270380715369166,-7.53964021695818,-20.265191493536687],\"y\":[-32.89101478014091,-32.96968175581256,-4.170126086064975,15.390954735785193,25.00234912831799,2.214318583363093,22.492419276553715,5.497434437622359,29.93113397598368,18.343038904374904,17.53583453665706,14.61990867267995,-9.461435588416213,-10.223183825370487,-3.68509744914786,5.876099042284204,1.1504890610436076,-9.95629740336805,-10.064760672430975,15.143487637338811,11.400744868787559,-14.643246405107767,-4.904494920465442,-12.188190086530444,-17.08329510493854,-19.750692455262325,-20.913732868161365],\"z\":[12.334407977353406,12.526361418408541,20.119230622272042,2.6353616874833263,-1.2688602327984622,-6.022958026768082,9.238704934049467,11.740354270382046,32.03599062839572,-12.436656632260645,19.138675666089732,16.168355858470477,3.183665328620418,6.740616369691692,12.897587251952144,8.043630127907727,10.200767896782155,12.424445571445192,18.366236851016527,28.565549371064645,-34.45717823181159,11.603107852700672,7.799102367165687,-11.997207369596017,-4.328603999687544,-1.2529931795709421,-0.21614338951716147],\"type\":\"scatter3d\"},{\"hovertemplate\":\"color=c-o\\u003cbr\\u003ePC 1=%{x}\\u003cbr\\u003ePC 2=%{y}\\u003cbr\\u003ePC 3=%{z}\\u003cbr\\u003etext=%{text}\\u003cextra\\u003e\\u003c\\u002fextra\\u003e\",\"legendgroup\":\"c-o\",\"marker\":{\"color\":\"#B6E880\",\"symbol\":\"circle\"},\"mode\":\"markers+text\",\"name\":\"c-o\",\"scene\":\"scene\",\"showlegend\":true,\"text\":[\"122\",\"123\",\"124\",\"248\",\"249\",\"250\",\"257\",\"258\",\"259\",\"260\",\"354\",\"376\",\"377\"],\"x\":[35.372843908715424,-4.252217907476398,-58.09611236234456,-19.7826987027703,-14.697062775375187,-2.1272746901751414,-2.5906094498570855,33.061136930450964,26.190603910358345,16.16504368727152,30.952231097162606,2.8922356872622994,27.48540412048766],\"y\":[-37.51579833032585,-54.79447481289289,12.102838484474425,13.672862793045665,3.674516639328443,40.26349561520436,49.884386512095546,-42.85777075770434,46.394659237787174,-30.627691437973912,-35.00364844736015,33.84756698629204,37.73718234805404],\"z\":[-8.409133044529314,-5.297561448113636,7.862969040851575,37.105811635103244,34.316556250622696,-18.49399692568095,0.5494043254607965,-4.514976336714556,21.74446181022843,-30.407143177818046,-1.938429073147269,-44.168087968238574,14.539119779362135],\"type\":\"scatter3d\"}],                        {\"template\":{\"data\":{\"histogram2dcontour\":[{\"type\":\"histogram2dcontour\",\"colorbar\":{\"outlinewidth\":0,\"ticks\":\"\"},\"colorscale\":[[0.0,\"#0d0887\"],[0.1111111111111111,\"#46039f\"],[0.2222222222222222,\"#7201a8\"],[0.3333333333333333,\"#9c179e\"],[0.4444444444444444,\"#bd3786\"],[0.5555555555555556,\"#d8576b\"],[0.6666666666666666,\"#ed7953\"],[0.7777777777777778,\"#fb9f3a\"],[0.8888888888888888,\"#fdca26\"],[1.0,\"#f0f921\"]]}],\"choropleth\":[{\"type\":\"choropleth\",\"colorbar\":{\"outlinewidth\":0,\"ticks\":\"\"}}],\"histogram2d\":[{\"type\":\"histogram2d\",\"colorbar\":{\"outlinewidth\":0,\"ticks\":\"\"},\"colorscale\":[[0.0,\"#0d0887\"],[0.1111111111111111,\"#46039f\"],[0.2222222222222222,\"#7201a8\"],[0.3333333333333333,\"#9c179e\"],[0.4444444444444444,\"#bd3786\"],[0.5555555555555556,\"#d8576b\"],[0.6666666666666666,\"#ed7953\"],[0.7777777777777778,\"#fb9f3a\"],[0.8888888888888888,\"#fdca26\"],[1.0,\"#f0f921\"]]}],\"heatmap\":[{\"type\":\"heatmap\",\"colorbar\":{\"outlinewidth\":0,\"ticks\":\"\"},\"colorscale\":[[0.0,\"#0d0887\"],[0.1111111111111111,\"#46039f\"],[0.2222222222222222,\"#7201a8\"],[0.3333333333333333,\"#9c179e\"],[0.4444444444444444,\"#bd3786\"],[0.5555555555555556,\"#d8576b\"],[0.6666666666666666,\"#ed7953\"],[0.7777777777777778,\"#fb9f3a\"],[0.8888888888888888,\"#fdca26\"],[1.0,\"#f0f921\"]]}],\"heatmapgl\":[{\"type\":\"heatmapgl\",\"colorbar\":{\"outlinewidth\":0,\"ticks\":\"\"},\"colorscale\":[[0.0,\"#0d0887\"],[0.1111111111111111,\"#46039f\"],[0.2222222222222222,\"#7201a8\"],[0.3333333333333333,\"#9c179e\"],[0.4444444444444444,\"#bd3786\"],[0.5555555555555556,\"#d8576b\"],[0.6666666666666666,\"#ed7953\"],[0.7777777777777778,\"#fb9f3a\"],[0.8888888888888888,\"#fdca26\"],[1.0,\"#f0f921\"]]}],\"contourcarpet\":[{\"type\":\"contourcarpet\",\"colorbar\":{\"outlinewidth\":0,\"ticks\":\"\"}}],\"contour\":[{\"type\":\"contour\",\"colorbar\":{\"outlinewidth\":0,\"ticks\":\"\"},\"colorscale\":[[0.0,\"#0d0887\"],[0.1111111111111111,\"#46039f\"],[0.2222222222222222,\"#7201a8\"],[0.3333333333333333,\"#9c179e\"],[0.4444444444444444,\"#bd3786\"],[0.5555555555555556,\"#d8576b\"],[0.6666666666666666,\"#ed7953\"],[0.7777777777777778,\"#fb9f3a\"],[0.8888888888888888,\"#fdca26\"],[1.0,\"#f0f921\"]]}],\"surface\":[{\"type\":\"surface\",\"colorbar\":{\"outlinewidth\":0,\"ticks\":\"\"},\"colorscale\":[[0.0,\"#0d0887\"],[0.1111111111111111,\"#46039f\"],[0.2222222222222222,\"#7201a8\"],[0.3333333333333333,\"#9c179e\"],[0.4444444444444444,\"#bd3786\"],[0.5555555555555556,\"#d8576b\"],[0.6666666666666666,\"#ed7953\"],[0.7777777777777778,\"#fb9f3a\"],[0.8888888888888888,\"#fdca26\"],[1.0,\"#f0f921\"]]}],\"mesh3d\":[{\"type\":\"mesh3d\",\"colorbar\":{\"outlinewidth\":0,\"ticks\":\"\"}}],\"scatter\":[{\"fillpattern\":{\"fillmode\":\"overlay\",\"size\":10,\"solidity\":0.2},\"type\":\"scatter\"}],\"parcoords\":[{\"type\":\"parcoords\",\"line\":{\"colorbar\":{\"outlinewidth\":0,\"ticks\":\"\"}}}],\"scatterpolargl\":[{\"type\":\"scatterpolargl\",\"marker\":{\"colorbar\":{\"outlinewidth\":0,\"ticks\":\"\"}}}],\"bar\":[{\"error_x\":{\"color\":\"#2a3f5f\"},\"error_y\":{\"color\":\"#2a3f5f\"},\"marker\":{\"line\":{\"color\":\"#E5ECF6\",\"width\":0.5},\"pattern\":{\"fillmode\":\"overlay\",\"size\":10,\"solidity\":0.2}},\"type\":\"bar\"}],\"scattergeo\":[{\"type\":\"scattergeo\",\"marker\":{\"colorbar\":{\"outlinewidth\":0,\"ticks\":\"\"}}}],\"scatterpolar\":[{\"type\":\"scatterpolar\",\"marker\":{\"colorbar\":{\"outlinewidth\":0,\"ticks\":\"\"}}}],\"histogram\":[{\"marker\":{\"pattern\":{\"fillmode\":\"overlay\",\"size\":10,\"solidity\":0.2}},\"type\":\"histogram\"}],\"scattergl\":[{\"type\":\"scattergl\",\"marker\":{\"colorbar\":{\"outlinewidth\":0,\"ticks\":\"\"}}}],\"scatter3d\":[{\"type\":\"scatter3d\",\"line\":{\"colorbar\":{\"outlinewidth\":0,\"ticks\":\"\"}},\"marker\":{\"colorbar\":{\"outlinewidth\":0,\"ticks\":\"\"}}}],\"scattermapbox\":[{\"type\":\"scattermapbox\",\"marker\":{\"colorbar\":{\"outlinewidth\":0,\"ticks\":\"\"}}}],\"scatterternary\":[{\"type\":\"scatterternary\",\"marker\":{\"colorbar\":{\"outlinewidth\":0,\"ticks\":\"\"}}}],\"scattercarpet\":[{\"type\":\"scattercarpet\",\"marker\":{\"colorbar\":{\"outlinewidth\":0,\"ticks\":\"\"}}}],\"carpet\":[{\"aaxis\":{\"endlinecolor\":\"#2a3f5f\",\"gridcolor\":\"white\",\"linecolor\":\"white\",\"minorgridcolor\":\"white\",\"startlinecolor\":\"#2a3f5f\"},\"baxis\":{\"endlinecolor\":\"#2a3f5f\",\"gridcolor\":\"white\",\"linecolor\":\"white\",\"minorgridcolor\":\"white\",\"startlinecolor\":\"#2a3f5f\"},\"type\":\"carpet\"}],\"table\":[{\"cells\":{\"fill\":{\"color\":\"#EBF0F8\"},\"line\":{\"color\":\"white\"}},\"header\":{\"fill\":{\"color\":\"#C8D4E3\"},\"line\":{\"color\":\"white\"}},\"type\":\"table\"}],\"barpolar\":[{\"marker\":{\"line\":{\"color\":\"#E5ECF6\",\"width\":0.5},\"pattern\":{\"fillmode\":\"overlay\",\"size\":10,\"solidity\":0.2}},\"type\":\"barpolar\"}],\"pie\":[{\"automargin\":true,\"type\":\"pie\"}]},\"layout\":{\"autotypenumbers\":\"strict\",\"colorway\":[\"#636efa\",\"#EF553B\",\"#00cc96\",\"#ab63fa\",\"#FFA15A\",\"#19d3f3\",\"#FF6692\",\"#B6E880\",\"#FF97FF\",\"#FECB52\"],\"font\":{\"color\":\"#2a3f5f\"},\"hovermode\":\"closest\",\"hoverlabel\":{\"align\":\"left\"},\"paper_bgcolor\":\"white\",\"plot_bgcolor\":\"#E5ECF6\",\"polar\":{\"bgcolor\":\"#E5ECF6\",\"angularaxis\":{\"gridcolor\":\"white\",\"linecolor\":\"white\",\"ticks\":\"\"},\"radialaxis\":{\"gridcolor\":\"white\",\"linecolor\":\"white\",\"ticks\":\"\"}},\"ternary\":{\"bgcolor\":\"#E5ECF6\",\"aaxis\":{\"gridcolor\":\"white\",\"linecolor\":\"white\",\"ticks\":\"\"},\"baxis\":{\"gridcolor\":\"white\",\"linecolor\":\"white\",\"ticks\":\"\"},\"caxis\":{\"gridcolor\":\"white\",\"linecolor\":\"white\",\"ticks\":\"\"}},\"coloraxis\":{\"colorbar\":{\"outlinewidth\":0,\"ticks\":\"\"}},\"colorscale\":{\"sequential\":[[0.0,\"#0d0887\"],[0.1111111111111111,\"#46039f\"],[0.2222222222222222,\"#7201a8\"],[0.3333333333333333,\"#9c179e\"],[0.4444444444444444,\"#bd3786\"],[0.5555555555555556,\"#d8576b\"],[0.6666666666666666,\"#ed7953\"],[0.7777777777777778,\"#fb9f3a\"],[0.8888888888888888,\"#fdca26\"],[1.0,\"#f0f921\"]],\"sequentialminus\":[[0.0,\"#0d0887\"],[0.1111111111111111,\"#46039f\"],[0.2222222222222222,\"#7201a8\"],[0.3333333333333333,\"#9c179e\"],[0.4444444444444444,\"#bd3786\"],[0.5555555555555556,\"#d8576b\"],[0.6666666666666666,\"#ed7953\"],[0.7777777777777778,\"#fb9f3a\"],[0.8888888888888888,\"#fdca26\"],[1.0,\"#f0f921\"]],\"diverging\":[[0,\"#8e0152\"],[0.1,\"#c51b7d\"],[0.2,\"#de77ae\"],[0.3,\"#f1b6da\"],[0.4,\"#fde0ef\"],[0.5,\"#f7f7f7\"],[0.6,\"#e6f5d0\"],[0.7,\"#b8e186\"],[0.8,\"#7fbc41\"],[0.9,\"#4d9221\"],[1,\"#276419\"]]},\"xaxis\":{\"gridcolor\":\"white\",\"linecolor\":\"white\",\"ticks\":\"\",\"title\":{\"standoff\":15},\"zerolinecolor\":\"white\",\"automargin\":true,\"zerolinewidth\":2},\"yaxis\":{\"gridcolor\":\"white\",\"linecolor\":\"white\",\"ticks\":\"\",\"title\":{\"standoff\":15},\"zerolinecolor\":\"white\",\"automargin\":true,\"zerolinewidth\":2},\"scene\":{\"xaxis\":{\"backgroundcolor\":\"#E5ECF6\",\"gridcolor\":\"white\",\"linecolor\":\"white\",\"showbackground\":true,\"ticks\":\"\",\"zerolinecolor\":\"white\",\"gridwidth\":2},\"yaxis\":{\"backgroundcolor\":\"#E5ECF6\",\"gridcolor\":\"white\",\"linecolor\":\"white\",\"showbackground\":true,\"ticks\":\"\",\"zerolinecolor\":\"white\",\"gridwidth\":2},\"zaxis\":{\"backgroundcolor\":\"#E5ECF6\",\"gridcolor\":\"white\",\"linecolor\":\"white\",\"showbackground\":true,\"ticks\":\"\",\"zerolinecolor\":\"white\",\"gridwidth\":2}},\"shapedefaults\":{\"line\":{\"color\":\"#2a3f5f\"}},\"annotationdefaults\":{\"arrowcolor\":\"#2a3f5f\",\"arrowhead\":0,\"arrowwidth\":1},\"geo\":{\"bgcolor\":\"white\",\"landcolor\":\"#E5ECF6\",\"subunitcolor\":\"white\",\"showland\":true,\"showlakes\":true,\"lakecolor\":\"white\"},\"title\":{\"x\":0.05},\"mapbox\":{\"style\":\"light\"}}},\"scene\":{\"domain\":{\"x\":[0.0,1.0],\"y\":[0.0,1.0]},\"xaxis\":{\"title\":{\"text\":\"PC 1\"}},\"yaxis\":{\"title\":{\"text\":\"PC 2\"}},\"zaxis\":{\"title\":{\"text\":\"PC 3\"}}},\"legend\":{\"title\":{\"text\":\"color\"},\"tracegroupgap\":0},\"title\":{\"text\":\"Total Explained Variance: 74.57%\",\"x\":0.5,\"y\":0.9,\"xanchor\":\"center\",\"yanchor\":\"top\"},\"coloraxis\":{\"colorbar\":{\"title\":{\"text\":\"Percent Buried\\u003cbr\\u003eVolume\",\"side\":\"top\"},\"x\":0.85,\"y\":0.5,\"xanchor\":\"left\",\"yanchor\":\"middle\"}},\"width\":800,\"height\":600},                        {\"responsive\": true}                    ).then(function(){\n",
       "                            \n",
       "var gd = document.getElementById('53bca466-a1dc-4db7-a528-d5e1b6963b87');\n",
       "var x = new MutationObserver(function (mutations, observer) {{\n",
       "        var display = window.getComputedStyle(gd).display;\n",
       "        if (!display || display === 'none') {{\n",
       "            console.log([gd, 'removed!']);\n",
       "            Plotly.purge(gd);\n",
       "            observer.disconnect();\n",
       "        }}\n",
       "}});\n",
       "\n",
       "// Listen for the removal of the full notebook cells\n",
       "var notebookContainer = gd.closest('#notebook-container');\n",
       "if (notebookContainer) {{\n",
       "    x.observe(notebookContainer, {childList: true});\n",
       "}}\n",
       "\n",
       "// Listen for the clearing of the current output cell\n",
       "var outputEl = gd.closest('.output');\n",
       "if (outputEl) {{\n",
       "    x.observe(outputEl, {childList: true});\n",
       "}}\n",
       "\n",
       "                        })                };                });            </script>        </div>"
      ]
     },
     "metadata": {},
     "output_type": "display_data"
    }
   ],
   "source": [
    "\n",
    "# Generate PCA map with ALL descriptors - find out cluster combinations through this\n",
    "\n",
    "pca = PCA(n_components=3)\n",
    "components = pca.fit_transform(X_2)\n",
    "\n",
    "total_var = pca.explained_variance_ratio_.sum() * 100\n",
    "\n",
    "fig = px.scatter_3d(\n",
    "    components,\n",
    "    x=0,\n",
    "    y=1,\n",
    "    z=2,\n",
    "    text=ligand_id,\n",
    "    color = donor_atom_comb,\n",
    "    title=f'Total Explained Variance: {total_var:.2f}%',\n",
    "    labels={'0': 'PC 1', '1': 'PC 2', '2': 'PC 3'}\n",
    ")\n",
    "\n",
    "fig.update_layout(width=800, \n",
    "                  height=600,\n",
    "                  coloraxis_colorbar=dict(\n",
    "                  title=dict(text=\"Percent Buried<br>Volume\",\n",
    "                             side=\"top\"),\n",
    "                  x=0.85,  # Position the legend closer to the scatter plot\n",
    "                  y=0.5,\n",
    "                  xanchor='left',\n",
    "                  yanchor='middle'),\n",
    "                  title=dict(\n",
    "                  x=0.5,          # Horizontal position (centered)\n",
    "                  y=0.9,          # Vertical position (closer to the plot)\n",
    "                  xanchor='center',\n",
    "                  yanchor='top'\n",
    "                    ) \n",
    "                 )\n",
    "fig.show()"
   ]
  },
  {
   "cell_type": "code",
   "execution_count": 81,
   "id": "dbe8b261-7ea6-4a30-a97d-72453edf1311",
   "metadata": {
    "scrolled": true
   },
   "outputs": [
    {
     "name": "stderr",
     "output_type": "stream",
     "text": [
      "C:\\Users\\George\\.conda\\envs\\chem3\\Lib\\site-packages\\sklearn\\cluster\\_kmeans.py:1446: UserWarning:\n",
      "\n",
      "KMeans is known to have a memory leak on Windows with MKL, when there are less chunks than available threads. You can avoid it by setting the environment variable OMP_NUM_THREADS=2.\n",
      "\n"
     ]
    },
    {
     "name": "stdout",
     "output_type": "stream",
     "text": [
      "For n_clusters = 2, the average silhouette score is 0.332912449346667\n"
     ]
    },
    {
     "name": "stderr",
     "output_type": "stream",
     "text": [
      "C:\\Users\\George\\.conda\\envs\\chem3\\Lib\\site-packages\\sklearn\\cluster\\_kmeans.py:1446: UserWarning:\n",
      "\n",
      "KMeans is known to have a memory leak on Windows with MKL, when there are less chunks than available threads. You can avoid it by setting the environment variable OMP_NUM_THREADS=2.\n",
      "\n"
     ]
    },
    {
     "name": "stdout",
     "output_type": "stream",
     "text": [
      "For n_clusters = 3, the average silhouette score is 0.3642389911195937\n"
     ]
    },
    {
     "name": "stderr",
     "output_type": "stream",
     "text": [
      "C:\\Users\\George\\.conda\\envs\\chem3\\Lib\\site-packages\\sklearn\\cluster\\_kmeans.py:1446: UserWarning:\n",
      "\n",
      "KMeans is known to have a memory leak on Windows with MKL, when there are less chunks than available threads. You can avoid it by setting the environment variable OMP_NUM_THREADS=2.\n",
      "\n"
     ]
    },
    {
     "name": "stdout",
     "output_type": "stream",
     "text": [
      "For n_clusters = 4, the average silhouette score is 0.346057909975104\n"
     ]
    },
    {
     "name": "stderr",
     "output_type": "stream",
     "text": [
      "C:\\Users\\George\\.conda\\envs\\chem3\\Lib\\site-packages\\sklearn\\cluster\\_kmeans.py:1446: UserWarning:\n",
      "\n",
      "KMeans is known to have a memory leak on Windows with MKL, when there are less chunks than available threads. You can avoid it by setting the environment variable OMP_NUM_THREADS=2.\n",
      "\n"
     ]
    },
    {
     "name": "stdout",
     "output_type": "stream",
     "text": [
      "For n_clusters = 5, the average silhouette score is 0.3642408839023856\n"
     ]
    },
    {
     "name": "stderr",
     "output_type": "stream",
     "text": [
      "C:\\Users\\George\\.conda\\envs\\chem3\\Lib\\site-packages\\sklearn\\cluster\\_kmeans.py:1446: UserWarning:\n",
      "\n",
      "KMeans is known to have a memory leak on Windows with MKL, when there are less chunks than available threads. You can avoid it by setting the environment variable OMP_NUM_THREADS=2.\n",
      "\n"
     ]
    },
    {
     "name": "stdout",
     "output_type": "stream",
     "text": [
      "For n_clusters = 6, the average silhouette score is 0.33420773688670613\n"
     ]
    },
    {
     "name": "stderr",
     "output_type": "stream",
     "text": [
      "C:\\Users\\George\\.conda\\envs\\chem3\\Lib\\site-packages\\sklearn\\cluster\\_kmeans.py:1446: UserWarning:\n",
      "\n",
      "KMeans is known to have a memory leak on Windows with MKL, when there are less chunks than available threads. You can avoid it by setting the environment variable OMP_NUM_THREADS=2.\n",
      "\n"
     ]
    },
    {
     "name": "stdout",
     "output_type": "stream",
     "text": [
      "For n_clusters = 7, the average silhouette score is 0.3099752906252201\n"
     ]
    },
    {
     "name": "stderr",
     "output_type": "stream",
     "text": [
      "C:\\Users\\George\\.conda\\envs\\chem3\\Lib\\site-packages\\sklearn\\cluster\\_kmeans.py:1446: UserWarning:\n",
      "\n",
      "KMeans is known to have a memory leak on Windows with MKL, when there are less chunks than available threads. You can avoid it by setting the environment variable OMP_NUM_THREADS=2.\n",
      "\n"
     ]
    },
    {
     "name": "stdout",
     "output_type": "stream",
     "text": [
      "For n_clusters = 8, the average silhouette score is 0.30651448478245\n"
     ]
    },
    {
     "name": "stderr",
     "output_type": "stream",
     "text": [
      "C:\\Users\\George\\.conda\\envs\\chem3\\Lib\\site-packages\\sklearn\\cluster\\_kmeans.py:1446: UserWarning:\n",
      "\n",
      "KMeans is known to have a memory leak on Windows with MKL, when there are less chunks than available threads. You can avoid it by setting the environment variable OMP_NUM_THREADS=2.\n",
      "\n"
     ]
    },
    {
     "name": "stdout",
     "output_type": "stream",
     "text": [
      "For n_clusters = 9, the average silhouette score is 0.29730398842965866\n"
     ]
    },
    {
     "name": "stderr",
     "output_type": "stream",
     "text": [
      "C:\\Users\\George\\.conda\\envs\\chem3\\Lib\\site-packages\\sklearn\\cluster\\_kmeans.py:1446: UserWarning:\n",
      "\n",
      "KMeans is known to have a memory leak on Windows with MKL, when there are less chunks than available threads. You can avoid it by setting the environment variable OMP_NUM_THREADS=2.\n",
      "\n"
     ]
    },
    {
     "name": "stdout",
     "output_type": "stream",
     "text": [
      "For n_clusters = 10, the average silhouette score is 0.3082241785876624\n"
     ]
    },
    {
     "name": "stderr",
     "output_type": "stream",
     "text": [
      "C:\\Users\\George\\.conda\\envs\\chem3\\Lib\\site-packages\\sklearn\\cluster\\_kmeans.py:1446: UserWarning:\n",
      "\n",
      "KMeans is known to have a memory leak on Windows with MKL, when there are less chunks than available threads. You can avoid it by setting the environment variable OMP_NUM_THREADS=2.\n",
      "\n"
     ]
    },
    {
     "name": "stdout",
     "output_type": "stream",
     "text": [
      "For n_clusters = 11, the average silhouette score is 0.3153758151234942\n"
     ]
    },
    {
     "name": "stderr",
     "output_type": "stream",
     "text": [
      "C:\\Users\\George\\.conda\\envs\\chem3\\Lib\\site-packages\\sklearn\\cluster\\_kmeans.py:1446: UserWarning:\n",
      "\n",
      "KMeans is known to have a memory leak on Windows with MKL, when there are less chunks than available threads. You can avoid it by setting the environment variable OMP_NUM_THREADS=2.\n",
      "\n"
     ]
    },
    {
     "name": "stdout",
     "output_type": "stream",
     "text": [
      "For n_clusters = 12, the average silhouette score is 0.2878691989807568\n"
     ]
    },
    {
     "name": "stderr",
     "output_type": "stream",
     "text": [
      "C:\\Users\\George\\.conda\\envs\\chem3\\Lib\\site-packages\\sklearn\\cluster\\_kmeans.py:1446: UserWarning:\n",
      "\n",
      "KMeans is known to have a memory leak on Windows with MKL, when there are less chunks than available threads. You can avoid it by setting the environment variable OMP_NUM_THREADS=2.\n",
      "\n"
     ]
    },
    {
     "name": "stdout",
     "output_type": "stream",
     "text": [
      "For n_clusters = 13, the average silhouette score is 0.3315326308324646\n"
     ]
    },
    {
     "name": "stderr",
     "output_type": "stream",
     "text": [
      "C:\\Users\\George\\.conda\\envs\\chem3\\Lib\\site-packages\\sklearn\\cluster\\_kmeans.py:1446: UserWarning:\n",
      "\n",
      "KMeans is known to have a memory leak on Windows with MKL, when there are less chunks than available threads. You can avoid it by setting the environment variable OMP_NUM_THREADS=2.\n",
      "\n"
     ]
    },
    {
     "name": "stdout",
     "output_type": "stream",
     "text": [
      "For n_clusters = 14, the average silhouette score is 0.30586309357820335\n"
     ]
    },
    {
     "name": "stderr",
     "output_type": "stream",
     "text": [
      "C:\\Users\\George\\.conda\\envs\\chem3\\Lib\\site-packages\\sklearn\\cluster\\_kmeans.py:1446: UserWarning:\n",
      "\n",
      "KMeans is known to have a memory leak on Windows with MKL, when there are less chunks than available threads. You can avoid it by setting the environment variable OMP_NUM_THREADS=2.\n",
      "\n"
     ]
    },
    {
     "name": "stdout",
     "output_type": "stream",
     "text": [
      "For n_clusters = 15, the average silhouette score is 0.29600869757342396\n"
     ]
    },
    {
     "name": "stderr",
     "output_type": "stream",
     "text": [
      "C:\\Users\\George\\.conda\\envs\\chem3\\Lib\\site-packages\\sklearn\\cluster\\_kmeans.py:1446: UserWarning:\n",
      "\n",
      "KMeans is known to have a memory leak on Windows with MKL, when there are less chunks than available threads. You can avoid it by setting the environment variable OMP_NUM_THREADS=2.\n",
      "\n"
     ]
    },
    {
     "name": "stdout",
     "output_type": "stream",
     "text": [
      "For n_clusters = 16, the average silhouette score is 0.30621342310965366\n"
     ]
    },
    {
     "name": "stderr",
     "output_type": "stream",
     "text": [
      "C:\\Users\\George\\.conda\\envs\\chem3\\Lib\\site-packages\\sklearn\\cluster\\_kmeans.py:1446: UserWarning:\n",
      "\n",
      "KMeans is known to have a memory leak on Windows with MKL, when there are less chunks than available threads. You can avoid it by setting the environment variable OMP_NUM_THREADS=2.\n",
      "\n"
     ]
    },
    {
     "name": "stdout",
     "output_type": "stream",
     "text": [
      "For n_clusters = 17, the average silhouette score is 0.32745068471836786\n"
     ]
    },
    {
     "name": "stderr",
     "output_type": "stream",
     "text": [
      "C:\\Users\\George\\.conda\\envs\\chem3\\Lib\\site-packages\\sklearn\\cluster\\_kmeans.py:1446: UserWarning:\n",
      "\n",
      "KMeans is known to have a memory leak on Windows with MKL, when there are less chunks than available threads. You can avoid it by setting the environment variable OMP_NUM_THREADS=2.\n",
      "\n"
     ]
    },
    {
     "name": "stdout",
     "output_type": "stream",
     "text": [
      "For n_clusters = 18, the average silhouette score is 0.3226305250377543\n"
     ]
    },
    {
     "name": "stderr",
     "output_type": "stream",
     "text": [
      "C:\\Users\\George\\.conda\\envs\\chem3\\Lib\\site-packages\\sklearn\\cluster\\_kmeans.py:1446: UserWarning:\n",
      "\n",
      "KMeans is known to have a memory leak on Windows with MKL, when there are less chunks than available threads. You can avoid it by setting the environment variable OMP_NUM_THREADS=2.\n",
      "\n"
     ]
    },
    {
     "name": "stdout",
     "output_type": "stream",
     "text": [
      "For n_clusters = 19, the average silhouette score is 0.32143951188907943\n",
      "\n",
      "The optimal number of clusters is 5 with a silhouette score of 0.3642408839023856\n"
     ]
    },
    {
     "data": {
      "image/png": "[encoded data removed]",
      "text/plain": [
       "<Figure size 1000x600 with 1 Axes>"
      ]
     },
     "metadata": {},
     "output_type": "display_data"
    },
    {
     "name": "stdout",
     "output_type": "stream",
     "text": [
      "\n",
      "PCA Result DataFrame with Cluster Labels:\n",
      "           PC1        PC2        PC3  Cluster Ligand\n",
      "0     3.689471  -5.086006  -7.133747        4    NaN\n",
      "1    -8.700032  -4.439363   6.693798        4    002\n",
      "2   -16.045081  -0.364023  -6.631076        2    003\n",
      "3   -15.391295  26.005289 -57.717494        2    004\n",
      "4     5.067326  27.849428 -39.823364        2    005\n",
      "..         ...        ...        ...      ...    ...\n",
      "371 -18.630044  19.682288  -7.110051        2    406\n",
      "372 -20.878137  17.579001  -8.174826        2    407\n",
      "373 -24.463510  15.813892 -12.295583        2    408\n",
      "374 -25.573103  13.756002 -26.277375        2    409\n",
      "375   3.590266  22.825549  24.251511        4    411\n",
      "\n",
      "[376 rows x 5 columns]\n",
      "{'c1': ['038', '072', '073', '074', '075', '076', '077', '078', '092', '099', '111', '121', '122', '145', '146', '149', '150', '151', '160', '161', '168', '169', '170', '171', '172', '173', '174', '177', '178', '179', '180', '181', '182', '183', '186', '199', '200', '201', '202', '205', '207', '208', '209', '210', '211', '212', '213', '214', '215', '216', '217', '218', '219', '220', '221', '222', '223', '224', '225', '226', '227', '228', '229', '230', '231', '237', '238', '239', '240', '241', '250', '251', '252', '254', '257', '259', '264', '265', '296', '299', '301', '303', '309', '310', '311', '312', '348', '350', '353', '356', '357', '358', '359', '360', '387'], 'c2': ['022', '031', '040', '042', '053', '056', '057', '058', '084', '085', '086', '087', '089', '090', '096', '098', '114', '117', '118', '123', '129', '132', '134', '136', '162', '163', '164', '165', '166', '167', '190', '244', '255', '269', '270', '275', '276', '280', '287', '304', '305', '306', '307', '308', '313', '314', '327', '330', '331', '332', '333', '334', '335', '336', '337', '338', '341', '342', '343', '344', '345', '346', '347', '349', '351', '352', '355', '361', '362', '363', '364', '365', '366', '377', '378', '379', '380', '381', '382', '383', '394', '395', '396', '397', '399', '400', '401', '402', '403', '404', '405'], 'c3': ['003', '004', '005', '006', '007', '009', '027', '029', '033', '039', '048', '080', '081', '082', '093', '095', '097', '100', '107', '120', '124', '127', '131', '135', '137', '138', '139', '140', '142', '143', '144', '189', '192', '195', '233', '242', '243', '245', '246', '249', '260', '261', '262', '263', '267', '268', '271', '273', '277', '278', '286', '289', '290', '291', '292', '293', '324', '328', '368', '370', '390', '398', '406', '407', '408', '409'], 'c4': ['036', '060', '071', '079', '083', '101', '102', '103', '104', '105', '106', '141', '147', '148', '152', '153', '154', '155', '156', '157', '158', '159', '184', '187', '188', '191', '193', '194', '196', '197', '198', '203', '204', '206', '253', '256', '258', '294', '297', '298', '322', '329', '339', '376', '391'], 'c5': [nan, '002', '008', '010', '011', '013', '018', '019', '020', '021', '030', '032', '035', '037', '041', '043', '044', '046', '047', '055', '059', '088', '091', '094', '108', '109', '110', '112', '113', '115', '116', '119', '125', '126', '128', '130', '133', '175', '176', '232', '234', '236', '247', '248', '266', '272', '274', '279', '281', '282', '283', '284', '285', '288', '295', '300', '302', '315', '316', '317', '318', '319', '320', '321', '323', '325', '326', '340', '354', '367', '369', '384', '385', '386', '388', '389', '392', '393', '411']}\n"
     ]
    },
    {
     "name": "stderr",
     "output_type": "stream",
     "text": [
      "C:\\Users\\George\\.conda\\envs\\chem3\\Lib\\site-packages\\sklearn\\cluster\\_kmeans.py:1446: UserWarning:\n",
      "\n",
      "KMeans is known to have a memory leak on Windows with MKL, when there are less chunks than available threads. You can avoid it by setting the environment variable OMP_NUM_THREADS=2.\n",
      "\n"
     ]
    }
   ],
   "source": [
    "# Generate dataframe from pca data: \n",
    "pca_df = pd.DataFrame(data=components, columns=['PC1', 'PC2','PC3'])\n",
    "\n",
    "# Apply KMeans Clustering\n",
    "# Define a range of clusters to evaluate\n",
    "range_n_clusters = list(range(2, 20))\n",
    "\n",
    "# Initialize variables to store the best number of clusters and corresponding metrics\n",
    "best_n_clusters = 0\n",
    "best_silhouette_score = -1\n",
    "inertia = []\n",
    "\n",
    "# Iterate over different cluster numbers to find the optimal number\n",
    "for n_clusters in range_n_clusters:\n",
    "    kmeans = KMeans(init=\"k-means++\", n_clusters=n_clusters, n_init=4, random_state=42)\n",
    "    cluster_labels = kmeans.fit_predict(pca_df)\n",
    "    # Calculate silhouette score\n",
    "    silhouette_avg = silhouette_score(pca_df, cluster_labels)\n",
    "    inertia.append(kmeans.inertia_)\n",
    "    \n",
    "    print(f\"For n_clusters = {n_clusters}, the average silhouette score is {silhouette_avg}\")\n",
    "    \n",
    "    # Update the best silhouette score and corresponding number of clusters\n",
    "    if silhouette_avg > best_silhouette_score:\n",
    "        best_n_clusters = n_clusters\n",
    "        best_silhouette_score = silhouette_avg\n",
    "\n",
    "# Print the optimal number of clusters and the best silhouette score\n",
    "print(f\"\\nThe optimal number of clusters is {best_n_clusters} with a silhouette score of {best_silhouette_score}\")\n",
    "\n",
    "# Plot the inertia to visualize the elbow method\n",
    "plt.figure(figsize=(10, 6))\n",
    "plt.plot(range_n_clusters, inertia, marker='o')\n",
    "plt.title('Elbow Method For Optimal Number of Clusters')\n",
    "plt.xlabel('Number of Clusters')\n",
    "plt.ylabel('Inertia')\n",
    "plt.show()\n",
    "\n",
    "# Apply KMeans with the optimal number of clusters\n",
    "kmeans = KMeans(n_clusters=best_n_clusters, random_state=42)\n",
    "cluster_labels = kmeans.fit_predict(pca_df)\n",
    "\n",
    "# Add cluster labels to the PCA result DataFrame\n",
    "pca_df['Cluster'] = cluster_labels\n",
    "pca_df['Ligand'] = X['ligand_id']\n",
    "\n",
    "\n",
    "# Print the PCA result DataFrame with cluster labels\n",
    "print(\"\\nPCA Result DataFrame with Cluster Labels:\")\n",
    "print(pca_df)\n",
    "\n",
    "\n",
    "# Create a dictionary to store clusters and their corresponding ligands\n",
    "cluster_dict_all_descriptor = {}\n",
    "for cluster_num in range(best_n_clusters):\n",
    "    cluster_key = f'c{cluster_num + 1}'  # Create cluster key like 'c1', 'c2', etc.\n",
    "    ligands_in_cluster = pca_df[pca_df['Cluster'] == cluster_num]['Ligand'].tolist()\n",
    "    cluster_dict_all_descriptor[cluster_key] = ligands_in_cluster\n",
    "\n",
    "# Print the dictionary\n",
    "print(cluster_dict_all_descriptor)"
   ]
  },
  {
   "cell_type": "code",
   "execution_count": 82,
   "id": "00566dda",
   "metadata": {},
   "outputs": [
    {
     "name": "stdout",
     "output_type": "stream",
     "text": [
      "Index(['A-M-B Angle', 'M-A Distance', 'M-B Distance', 'Metal_NBO', 'A_NBO',\n",
      "       'B_NBO', 'HOMO_LUMO', 'A-B_NBO', 'NBO-dist-2-avg', 'NBO-dist-3-avg',\n",
      "       'NBO-dist-4-avg', 'NBO-dist-2-a-avg', 'NBO-dist-3-a-avg',\n",
      "       'NBO-dist-4-a-avg', 'NBO-dist-2-b-avg', 'NBO-dist-3-b-avg',\n",
      "       'NBO-dist-4-b-avg', 'NBO-dist-2-a-b-diff', 'NBO-dist-3-a-b-diff',\n",
      "       'NBO-dist-4-a-b-diff', 'NBO-dist-2-min', 'NBO-dist-3-min',\n",
      "       'NBO-dist-4-min', 'NBO-dist-2-max', 'NBO-dist-3-max', 'NBO-dist-4-max',\n",
      "       'NBO-dist-2-a-min', 'NBO-dist-3-a-min', 'NBO-dist-4-a-min',\n",
      "       'NBO-dist-2-b-min', 'NBO-dist-3-b-min', 'NBO-dist-4-b-min',\n",
      "       'NBO-dist-2-a-max', 'NBO-dist-3-a-max', 'NBO-dist-4-a-max',\n",
      "       'NBO-dist-2-b-max', 'NBO-dist-3-b-max', 'NBO-dist-4-b-max',\n",
      "       'NBO-metal-donor-diff', 'NBO-metal-a-diff', 'NBO-metal-b-diff',\n",
      "       'NBO-dist-2-1-avg-diff', 'NBO-dist-3-2-avg-diff',\n",
      "       'NBO-dist-4-3-avg-diff', 'NBO-dist-2-1-a-avg-diff',\n",
      "       'NBO-dist-3-2-a-avg-diff', 'NBO-dist-4-3-a-avg-diff',\n",
      "       'NBO-dist-2-1-b-avg-diff', 'NBO-dist-3-2-b-avg-diff',\n",
      "       'NBO-dist-4-3-b-avg-diff', 'Metal_mullkien', 'A_mulliken', 'B_mulliken',\n",
      "       'A-B_mulliken', 'Mulliken-dist-2-avg', 'Mulliken-dist-3-avg',\n",
      "       'Mulliken-dist-4-avg', 'Total internal angle deviation %',\n",
      "       'Total % VBur', '% VBur SE', '% VBur SW', '% VBur NE', '% VBur NW',\n",
      "       '% VBur max', '% VBur min', '% VBur max min diff', '% VBur NE NW diff',\n",
      "       '% VBur SE SW diff', '% VBur NE SE diff', '% VBur NW SW diff',\n",
      "       '% VBur NE SW diff', '% VBur NW SE diff', '% VBur asymm 1',\n",
      "       '% VBur asymm 2', '% VBur asymm 3', '% VBur octant 1',\n",
      "       '% VBur octant 2', '% VBur octant 3', '% VBur octant 4',\n",
      "       '% VBur octant 5', '% VBur octant 6', '% VBur octant 7',\n",
      "       '% VBur octant 8'],\n",
      "      dtype='object')\n"
     ]
    }
   ],
   "source": [
    "#Obtain only nbo based descriptor X_nbo\n",
    "# Obtain only percent buried volume based descriptor X_Vbur \n",
    "\n",
    "X_2_columns = X_2.columns\n",
    "print(X_2_columns)\n",
    "\n",
    "nbo_list = ['Metal_NBO', 'A_NBO', 'B_NBO', 'HOMO_LUMO', 'A-B_NBO',\n",
    "       'NBO-dist-2-avg', 'NBO-dist-3-avg', 'NBO-dist-4-avg',\n",
    "       'NBO-dist-2-a-avg', 'NBO-dist-3-a-avg', 'NBO-dist-4-a-avg',\n",
    "       'NBO-dist-2-b-avg', 'NBO-dist-3-b-avg', 'NBO-dist-4-b-avg',\n",
    "       'NBO-dist-2-a-b-diff', 'NBO-dist-3-a-b-diff', 'NBO-dist-4-a-b-diff',\n",
    "       'NBO-dist-2-min', 'NBO-dist-3-min', 'NBO-dist-4-min', 'NBO-dist-2-max',\n",
    "       'NBO-dist-3-max', 'NBO-dist-4-max', 'NBO-dist-2-a-min',\n",
    "       'NBO-dist-3-a-min', 'NBO-dist-4-a-min', 'NBO-dist-2-b-min',\n",
    "       'NBO-dist-3-b-min', 'NBO-dist-4-b-min', 'NBO-dist-2-a-max',\n",
    "       'NBO-dist-3-a-max', 'NBO-dist-4-a-max', 'NBO-dist-2-b-max',\n",
    "       'NBO-dist-3-b-max', 'NBO-dist-4-b-max', 'NBO-metal-donor-diff',\n",
    "       'NBO-metal-a-diff', 'NBO-metal-b-diff', 'NBO-dist-2-1-avg-diff',\n",
    "       'NBO-dist-3-2-avg-diff', 'NBO-dist-4-3-avg-diff',\n",
    "       'NBO-dist-2-1-a-avg-diff', 'NBO-dist-3-2-a-avg-diff',\n",
    "       'NBO-dist-4-3-a-avg-diff', 'NBO-dist-2-1-b-avg-diff',\n",
    "       'NBO-dist-3-2-b-avg-diff', 'NBO-dist-4-3-b-avg-diff', 'Metal_mullkien',\n",
    "       'A_mulliken', 'B_mulliken', 'A-B_mulliken', 'Mulliken-dist-2-avg',\n",
    "       'Mulliken-dist-3-avg', 'Mulliken-dist-4-avg']\n",
    "\n",
    "\n",
    "vbur_list = ['Total % VBur', '% VBur SE',\n",
    "       '% VBur SW', '% VBur NE', '% VBur NW', '% VBur max', '% VBur min',\n",
    "       '% VBur max min diff', '% VBur NE NW diff', '% VBur SE SW diff',\n",
    "       '% VBur NE SE diff', '% VBur NW SW diff', '% VBur NE SW diff',\n",
    "       '% VBur NW SE diff', '% VBur asymm 1', '% VBur asymm 2',\n",
    "       '% VBur asymm 3', '% VBur octant 1', '% VBur octant 2',\n",
    "       '% VBur octant 3', '% VBur octant 4', '% VBur octant 5',\n",
    "       '% VBur octant 6', '% VBur octant 7', '% VBur octant 8']\n",
    "\n",
    "X_nbo = X_2[nbo_list]\n",
    "X_vbur = X_2[vbur_list]"
   ]
  },
  {
   "cell_type": "code",
   "execution_count": 83,
   "id": "e9fc5960",
   "metadata": {},
   "outputs": [
    {
     "data": {
      "text/html": [
       "<div>\n",
       "<style scoped>\n",
       "    .dataframe tbody tr th:only-of-type {\n",
       "        vertical-align: middle;\n",
       "    }\n",
       "\n",
       "    .dataframe tbody tr th {\n",
       "        vertical-align: top;\n",
       "    }\n",
       "\n",
       "    .dataframe thead th {\n",
       "        text-align: right;\n",
       "    }\n",
       "</style>\n",
       "<table border=\"1\" class=\"dataframe\">\n",
       "  <thead>\n",
       "    <tr style=\"text-align: right;\">\n",
       "      <th></th>\n",
       "      <th>Total % VBur</th>\n",
       "      <th>% VBur SE</th>\n",
       "      <th>% VBur SW</th>\n",
       "      <th>% VBur NE</th>\n",
       "      <th>% VBur NW</th>\n",
       "      <th>% VBur max</th>\n",
       "      <th>% VBur min</th>\n",
       "      <th>% VBur max min diff</th>\n",
       "      <th>% VBur NE NW diff</th>\n",
       "      <th>% VBur SE SW diff</th>\n",
       "      <th>...</th>\n",
       "      <th>% VBur asymm 2</th>\n",
       "      <th>% VBur asymm 3</th>\n",
       "      <th>% VBur octant 1</th>\n",
       "      <th>% VBur octant 2</th>\n",
       "      <th>% VBur octant 3</th>\n",
       "      <th>% VBur octant 4</th>\n",
       "      <th>% VBur octant 5</th>\n",
       "      <th>% VBur octant 6</th>\n",
       "      <th>% VBur octant 7</th>\n",
       "      <th>% VBur octant 8</th>\n",
       "    </tr>\n",
       "  </thead>\n",
       "  <tbody>\n",
       "    <tr>\n",
       "      <th>1</th>\n",
       "      <td>44.968901</td>\n",
       "      <td>41.050130</td>\n",
       "      <td>49.361722</td>\n",
       "      <td>43.838520</td>\n",
       "      <td>45.625233</td>\n",
       "      <td>49.361722</td>\n",
       "      <td>41.050130</td>\n",
       "      <td>8.311592</td>\n",
       "      <td>44.731877</td>\n",
       "      <td>45.205926</td>\n",
       "      <td>...</td>\n",
       "      <td>5.049152</td>\n",
       "      <td>3.262439</td>\n",
       "      <td>81.564480</td>\n",
       "      <td>92.051808</td>\n",
       "      <td>83.060007</td>\n",
       "      <td>82.575475</td>\n",
       "      <td>5.101565</td>\n",
       "      <td>8.190458</td>\n",
       "      <td>6.671636</td>\n",
       "      <td>0.535781</td>\n",
       "    </tr>\n",
       "    <tr>\n",
       "      <th>2</th>\n",
       "      <td>47.615193</td>\n",
       "      <td>42.345322</td>\n",
       "      <td>42.617872</td>\n",
       "      <td>52.786060</td>\n",
       "      <td>52.711517</td>\n",
       "      <td>52.786060</td>\n",
       "      <td>42.345322</td>\n",
       "      <td>10.440738</td>\n",
       "      <td>52.748789</td>\n",
       "      <td>42.481597</td>\n",
       "      <td>...</td>\n",
       "      <td>0.099003</td>\n",
       "      <td>0.173546</td>\n",
       "      <td>74.021618</td>\n",
       "      <td>74.375699</td>\n",
       "      <td>95.387626</td>\n",
       "      <td>96.706113</td>\n",
       "      <td>8.866008</td>\n",
       "      <td>10.035408</td>\n",
       "      <td>10.860045</td>\n",
       "      <td>10.669027</td>\n",
       "    </tr>\n",
       "    <tr>\n",
       "      <th>3</th>\n",
       "      <td>48.969204</td>\n",
       "      <td>55.339173</td>\n",
       "      <td>57.363492</td>\n",
       "      <td>41.776929</td>\n",
       "      <td>41.397223</td>\n",
       "      <td>57.363492</td>\n",
       "      <td>41.397223</td>\n",
       "      <td>15.966269</td>\n",
       "      <td>41.587076</td>\n",
       "      <td>56.351332</td>\n",
       "      <td>...</td>\n",
       "      <td>0.822307</td>\n",
       "      <td>1.202013</td>\n",
       "      <td>97.623928</td>\n",
       "      <td>96.230898</td>\n",
       "      <td>70.308423</td>\n",
       "      <td>71.878494</td>\n",
       "      <td>11.675363</td>\n",
       "      <td>12.486023</td>\n",
       "      <td>18.496086</td>\n",
       "      <td>13.054417</td>\n",
       "    </tr>\n",
       "    <tr>\n",
       "      <th>4</th>\n",
       "      <td>46.750955</td>\n",
       "      <td>37.835445</td>\n",
       "      <td>53.053951</td>\n",
       "      <td>70.816250</td>\n",
       "      <td>25.298174</td>\n",
       "      <td>70.816250</td>\n",
       "      <td>25.298174</td>\n",
       "      <td>45.518077</td>\n",
       "      <td>48.057212</td>\n",
       "      <td>45.444698</td>\n",
       "      <td>...</td>\n",
       "      <td>15.149786</td>\n",
       "      <td>30.368291</td>\n",
       "      <td>64.340291</td>\n",
       "      <td>88.292024</td>\n",
       "      <td>40.775252</td>\n",
       "      <td>96.850540</td>\n",
       "      <td>44.781960</td>\n",
       "      <td>9.821096</td>\n",
       "      <td>17.815878</td>\n",
       "      <td>11.330600</td>\n",
       "    </tr>\n",
       "    <tr>\n",
       "      <th>5</th>\n",
       "      <td>42.413460</td>\n",
       "      <td>38.944279</td>\n",
       "      <td>48.327432</td>\n",
       "      <td>56.585445</td>\n",
       "      <td>25.796683</td>\n",
       "      <td>56.585445</td>\n",
       "      <td>25.796683</td>\n",
       "      <td>30.788763</td>\n",
       "      <td>41.191064</td>\n",
       "      <td>43.635855</td>\n",
       "      <td>...</td>\n",
       "      <td>10.702805</td>\n",
       "      <td>20.085958</td>\n",
       "      <td>68.766306</td>\n",
       "      <td>82.636042</td>\n",
       "      <td>51.118151</td>\n",
       "      <td>87.183190</td>\n",
       "      <td>25.987700</td>\n",
       "      <td>0.475214</td>\n",
       "      <td>14.018822</td>\n",
       "      <td>9.122251</td>\n",
       "    </tr>\n",
       "    <tr>\n",
       "      <th>...</th>\n",
       "      <td>...</td>\n",
       "      <td>...</td>\n",
       "      <td>...</td>\n",
       "      <td>...</td>\n",
       "      <td>...</td>\n",
       "      <td>...</td>\n",
       "      <td>...</td>\n",
       "      <td>...</td>\n",
       "      <td>...</td>\n",
       "      <td>...</td>\n",
       "      <td>...</td>\n",
       "      <td>...</td>\n",
       "      <td>...</td>\n",
       "      <td>...</td>\n",
       "      <td>...</td>\n",
       "      <td>...</td>\n",
       "      <td>...</td>\n",
       "      <td>...</td>\n",
       "      <td>...</td>\n",
       "      <td>...</td>\n",
       "      <td>...</td>\n",
       "    </tr>\n",
       "    <tr>\n",
       "      <th>372</th>\n",
       "      <td>48.706555</td>\n",
       "      <td>64.617499</td>\n",
       "      <td>56.026370</td>\n",
       "      <td>41.790906</td>\n",
       "      <td>32.391446</td>\n",
       "      <td>64.617499</td>\n",
       "      <td>32.391446</td>\n",
       "      <td>32.226053</td>\n",
       "      <td>37.091176</td>\n",
       "      <td>60.321934</td>\n",
       "      <td>...</td>\n",
       "      <td>8.995294</td>\n",
       "      <td>0.404165</td>\n",
       "      <td>98.401975</td>\n",
       "      <td>85.571189</td>\n",
       "      <td>63.939620</td>\n",
       "      <td>73.788669</td>\n",
       "      <td>9.793142</td>\n",
       "      <td>0.843272</td>\n",
       "      <td>26.481551</td>\n",
       "      <td>30.833023</td>\n",
       "    </tr>\n",
       "    <tr>\n",
       "      <th>373</th>\n",
       "      <td>49.372787</td>\n",
       "      <td>65.120667</td>\n",
       "      <td>58.060007</td>\n",
       "      <td>41.683750</td>\n",
       "      <td>32.626724</td>\n",
       "      <td>65.120667</td>\n",
       "      <td>32.626724</td>\n",
       "      <td>32.493943</td>\n",
       "      <td>37.155237</td>\n",
       "      <td>61.590337</td>\n",
       "      <td>...</td>\n",
       "      <td>8.058843</td>\n",
       "      <td>0.998183</td>\n",
       "      <td>98.541744</td>\n",
       "      <td>85.613120</td>\n",
       "      <td>64.480060</td>\n",
       "      <td>73.467201</td>\n",
       "      <td>9.900298</td>\n",
       "      <td>0.773388</td>\n",
       "      <td>30.506895</td>\n",
       "      <td>31.699590</td>\n",
       "    </tr>\n",
       "    <tr>\n",
       "      <th>374</th>\n",
       "      <td>50.093179</td>\n",
       "      <td>61.719624</td>\n",
       "      <td>58.225401</td>\n",
       "      <td>46.640887</td>\n",
       "      <td>33.786806</td>\n",
       "      <td>61.719624</td>\n",
       "      <td>33.786806</td>\n",
       "      <td>27.932818</td>\n",
       "      <td>40.213846</td>\n",
       "      <td>59.972512</td>\n",
       "      <td>...</td>\n",
       "      <td>8.174152</td>\n",
       "      <td>4.679929</td>\n",
       "      <td>96.706113</td>\n",
       "      <td>86.311964</td>\n",
       "      <td>66.912039</td>\n",
       "      <td>81.387439</td>\n",
       "      <td>11.894335</td>\n",
       "      <td>0.661573</td>\n",
       "      <td>30.138837</td>\n",
       "      <td>26.733135</td>\n",
       "    </tr>\n",
       "    <tr>\n",
       "      <th>375</th>\n",
       "      <td>49.894009</td>\n",
       "      <td>49.592341</td>\n",
       "      <td>54.141819</td>\n",
       "      <td>59.816437</td>\n",
       "      <td>36.025438</td>\n",
       "      <td>59.816437</td>\n",
       "      <td>36.025438</td>\n",
       "      <td>23.790999</td>\n",
       "      <td>47.920937</td>\n",
       "      <td>51.867080</td>\n",
       "      <td>...</td>\n",
       "      <td>9.620760</td>\n",
       "      <td>14.170239</td>\n",
       "      <td>82.389117</td>\n",
       "      <td>89.116660</td>\n",
       "      <td>64.591875</td>\n",
       "      <td>97.414275</td>\n",
       "      <td>22.218599</td>\n",
       "      <td>7.459001</td>\n",
       "      <td>19.166977</td>\n",
       "      <td>16.795565</td>\n",
       "    </tr>\n",
       "    <tr>\n",
       "      <th>376</th>\n",
       "      <td>44.278792</td>\n",
       "      <td>48.327432</td>\n",
       "      <td>26.987048</td>\n",
       "      <td>52.674245</td>\n",
       "      <td>49.126444</td>\n",
       "      <td>52.674245</td>\n",
       "      <td>26.987048</td>\n",
       "      <td>25.687197</td>\n",
       "      <td>50.900345</td>\n",
       "      <td>37.657240</td>\n",
       "      <td>...</td>\n",
       "      <td>12.444092</td>\n",
       "      <td>8.896291</td>\n",
       "      <td>85.328923</td>\n",
       "      <td>53.340477</td>\n",
       "      <td>90.486396</td>\n",
       "      <td>93.943347</td>\n",
       "      <td>11.405143</td>\n",
       "      <td>7.766493</td>\n",
       "      <td>0.633619</td>\n",
       "      <td>11.325941</td>\n",
       "    </tr>\n",
       "  </tbody>\n",
       "</table>\n",
       "<p>376 rows × 25 columns</p>\n",
       "</div>"
      ],
      "text/plain": [
       "     Total % VBur  % VBur SE  % VBur SW  % VBur NE  % VBur NW  % VBur max  \\\n",
       "1       44.968901  41.050130  49.361722  43.838520  45.625233   49.361722   \n",
       "2       47.615193  42.345322  42.617872  52.786060  52.711517   52.786060   \n",
       "3       48.969204  55.339173  57.363492  41.776929  41.397223   57.363492   \n",
       "4       46.750955  37.835445  53.053951  70.816250  25.298174   70.816250   \n",
       "5       42.413460  38.944279  48.327432  56.585445  25.796683   56.585445   \n",
       "..            ...        ...        ...        ...        ...         ...   \n",
       "372     48.706555  64.617499  56.026370  41.790906  32.391446   64.617499   \n",
       "373     49.372787  65.120667  58.060007  41.683750  32.626724   65.120667   \n",
       "374     50.093179  61.719624  58.225401  46.640887  33.786806   61.719624   \n",
       "375     49.894009  49.592341  54.141819  59.816437  36.025438   59.816437   \n",
       "376     44.278792  48.327432  26.987048  52.674245  49.126444   52.674245   \n",
       "\n",
       "     % VBur min  % VBur max min diff  % VBur NE NW diff  % VBur SE SW diff  \\\n",
       "1     41.050130             8.311592          44.731877          45.205926   \n",
       "2     42.345322            10.440738          52.748789          42.481597   \n",
       "3     41.397223            15.966269          41.587076          56.351332   \n",
       "4     25.298174            45.518077          48.057212          45.444698   \n",
       "5     25.796683            30.788763          41.191064          43.635855   \n",
       "..          ...                  ...                ...                ...   \n",
       "372   32.391446            32.226053          37.091176          60.321934   \n",
       "373   32.626724            32.493943          37.155237          61.590337   \n",
       "374   33.786806            27.932818          40.213846          59.972512   \n",
       "375   36.025438            23.790999          47.920937          51.867080   \n",
       "376   26.987048            25.687197          50.900345          37.657240   \n",
       "\n",
       "     ...  % VBur asymm 2  % VBur asymm 3  % VBur octant 1  % VBur octant 2  \\\n",
       "1    ...        5.049152        3.262439        81.564480        92.051808   \n",
       "2    ...        0.099003        0.173546        74.021618        74.375699   \n",
       "3    ...        0.822307        1.202013        97.623928        96.230898   \n",
       "4    ...       15.149786       30.368291        64.340291        88.292024   \n",
       "5    ...       10.702805       20.085958        68.766306        82.636042   \n",
       "..   ...             ...             ...              ...              ...   \n",
       "372  ...        8.995294        0.404165        98.401975        85.571189   \n",
       "373  ...        8.058843        0.998183        98.541744        85.613120   \n",
       "374  ...        8.174152        4.679929        96.706113        86.311964   \n",
       "375  ...        9.620760       14.170239        82.389117        89.116660   \n",
       "376  ...       12.444092        8.896291        85.328923        53.340477   \n",
       "\n",
       "     % VBur octant 3  % VBur octant 4  % VBur octant 5  % VBur octant 6  \\\n",
       "1          83.060007        82.575475         5.101565         8.190458   \n",
       "2          95.387626        96.706113         8.866008        10.035408   \n",
       "3          70.308423        71.878494        11.675363        12.486023   \n",
       "4          40.775252        96.850540        44.781960         9.821096   \n",
       "5          51.118151        87.183190        25.987700         0.475214   \n",
       "..               ...              ...              ...              ...   \n",
       "372        63.939620        73.788669         9.793142         0.843272   \n",
       "373        64.480060        73.467201         9.900298         0.773388   \n",
       "374        66.912039        81.387439        11.894335         0.661573   \n",
       "375        64.591875        97.414275        22.218599         7.459001   \n",
       "376        90.486396        93.943347        11.405143         7.766493   \n",
       "\n",
       "     % VBur octant 7  % VBur octant 8  \n",
       "1           6.671636         0.535781  \n",
       "2          10.860045        10.669027  \n",
       "3          18.496086        13.054417  \n",
       "4          17.815878        11.330600  \n",
       "5          14.018822         9.122251  \n",
       "..               ...              ...  \n",
       "372        26.481551        30.833023  \n",
       "373        30.506895        31.699590  \n",
       "374        30.138837        26.733135  \n",
       "375        19.166977        16.795565  \n",
       "376         0.633619        11.325941  \n",
       "\n",
       "[376 rows x 25 columns]"
      ]
     },
     "execution_count": 83,
     "metadata": {},
     "output_type": "execute_result"
    }
   ],
   "source": [
    "X_vbur"
   ]
  },
  {
   "cell_type": "markdown",
   "id": "b1bfd4cb-a7aa-4c94-accc-e8ef68c790ae",
   "metadata": {},
   "source": [
    "### Generate PCA map with V_bur descriptors - find out cluster combinations through this"
   ]
  },
  {
   "cell_type": "code",
   "execution_count": 84,
   "id": "17f17963",
   "metadata": {},
   "outputs": [
    {
     "data": {
      "application/vnd.plotly.v1+json": {
       "config": {
        "plotlyServerURL": "https://plot.ly"
       },
       "data": [
        {
         "hovertemplate": "PC 1=%{x}<br>PC 2=%{y}<br>PC 3=%{z}<br>color=%{marker.color}<extra></extra>",
         "legendgroup": "",
         "marker": {
          "color": [
           44.96890141632501,
           47.61519288110324,
           48.96920424897503,
           46.75095508758852,
           42.41345974655237,
           44.88038110324264,
           40.84105944837868,
           42.32493943346999,
           52.377818673127095,
           48.12127282892285,
           47.09746552366754,
           50.72971021244875,
           47.37059727916512,
           47.23432258665673,
           47.23781680954156,
           47.14871412597838,
           50.82929556466642,
           43.95091781587775,
           45.81974468878121,
           47.21743384271338,
           50.80774785687663,
           52.48031587774879,
           46.44288110324264,
           47.09688315318673,
           40.38156913902348,
           45.37481364144615,
           38.93321375326128,
           45.40626164740962,
           53.045797614610514,
           51.49145080134178,
           59.75004658963846,
           48.59998136414461,
           46.20469157659336,
           49.37336936265375,
           49.17943999254566,
           45.87972884830413,
           49.75016306373463,
           47.61868710398807,
           51.55667629519195,
           48.97968691762952,
           49.66106038017145,
           48.265700708162505,
           31.073541744316064,
           31.002492545657844,
           40.21734066343645,
           40.88124301155423,
           40.82650018635856,
           40.29654304882594,
           43.451243943347,
           40.28955460305628,
           40.0391352963101,
           34.497297800969065,
           47.336819791278415,
           42.95855851658591,
           47.46202944465151,
           40.93190924338428,
           52.35102963101006,
           52.8611861721953,
           55.38052087215804,
           52.667256802087216,
           47.95646198285502,
           52.40286060380171,
           52.56534196794633,
           49.25048919120388,
           40.07931885948565,
           46.45918747670518,
           48.97444558330227,
           50.77629985091316,
           53.61244409243384,
           50.27371412597839,
           57.071142377935146,
           41.43100074543422,
           44.4622390980246,
           34.197377003354454,
           35.7994781960492,
           36.81746179649646,
           37.76323145732389,
           34.32549850913157,
           34.217759970182634,
           42.29815039135296,
           45.21932072307119,
           46.80919213566902,
           47.02117499068208,
           49.25048919120388,
           43.47512113306001,
           46.76318486768543,
           49.39724655236675,
           43.47686824450242,
           43.77737141259784,
           57.82589452105852,
           57.95983973164368,
           46.63273387998509,
           41.53175083861349,
           43.117545657845696,
           52.73248229593739,
           57.42347651882221,
           45.11915300037272,
           43.479197726425646,
           43.62653745806932,
           44.10932258665673,
           41.03615355944838,
           51.21074822959374,
           41.29763790532985,
           49.036759224748415,
           57.93013883712263,
           46.501700521803954,
           53.11568207230712,
           45.179719530376445,
           50.65341967946328,
           52.55369455833024,
           49.57021058516586,
           50.05357808423406,
           41.87010808796124,
           41.2568719716735,
           43.70690458442043,
           44.47563361908312,
           46.19246179649646,
           39.10559541557957,
           33.16075754752143,
           29.914042117033173,
           29.717200894521056,
           39.867336004472605,
           39.89179556466642,
           39.91800223630265,
           33.942298732761834,
           34.49613306000746,
           34.630660641073426,
           34.40237141259784,
           33.95336377189713,
           34.36509970182631,
           34.523504472605296,
           34.569511740588894,
           42.95040532985464,
           42.503144800596345,
           50.56955833022736,
           51.8263138278047,
           50.335445396943726,
           50.040183563175546,
           56.39384550875886,
           54.75971393961983,
           42.289414834140885,
           42.3371692135669,
           43.898504472605296,
           37.00032612746925,
           43.01912504658964,
           48.55572120760343,
           48.55513883712263,
           46.36833768169959,
           46.38522642564294,
           39.41366939992545,
           39.32107249347745,
           39.28554789414834,
           44.31955833022736,
           43.97304789414834,
           47.18598583674991,
           44.89668747670518,
           39.58139209839732,
           40.06068300409989,
           40.24878866939993,
           40.5673453224003,
           47.69148341408871,
           53.46801621319418,
           41.831089265747295,
           47.686242079761456,
           41.22542396571003,
           40.88590197540067,
           45.86924617964965,
           32.641283078643305,
           38.715989563920985,
           33.91900391352964,
           39.64894707417071,
           35.79074263883712,
           37.95832556839359,
           39.0048453224003,
           34.184564852776745,
           34.8001304509877,
           32.15500372717108,
           32.54985091315692,
           36.28808702944465,
           42.15546962355572,
           39.73106131196422,
           39.86384178158777,
           42.18167629519195,
           39.65011181513232,
           39.964009504286246,
           41.34422754379426,
           42.52643961982855,
           44.35450055907566,
           40.58598117778606,
           47.09105944837868,
           47.823681513231456,
           48.25987700335445,
           46.10685333581812,
           43.726122810287,
           43.557817741334325,
           43.71331065970928,
           36.67419865821841,
           42.9113865076407,
           43.705157472978016,
           42.30572120760343,
           44.36323611628774,
           50.91723350726798,
           52.04586749906821,
           44.86116287737608,
           49.31979127841968,
           46.23381010063362,
           44.028373089824825,
           49.16604547148714,
           48.85447726425643,
           40.583069325382034,
           44.29509877003354,
           46.1621785314946,
           43.32428717853149,
           46.82433376816996,
           56.97155702571748,
           47.78699217294074,
           46.07424058889303,
           50.140933656354825,
           49.32969157659336,
           43.3126397689154,
           40.17540998881849,
           44.14892377935147,
           41.95571654863958,
           43.3132221393962,
           44.90600540439807,
           59.915439806187095,
           43.2905096906448,
           44.16814200521805,
           37.68519381289601,
           45.87332277301528,
           47.6215989563921,
           46.36367871785316,
           43.19150670890794,
           44.416231830041,
           41.43333022735744,
           45.85352217666791,
           45.79353801714498,
           42.70580972791651,
           50.95159336563548,
           54.00263231457324,
           53.82850354081252,
           50.50840942974283,
           43.88569232202758,
           42.7052273574357,
           47.80388091688408,
           52.39936638091688,
           50.22304789414834,
           44.055162131941856,
           45.81974468878121,
           44.13378214685054,
           58.03845974655236,
           50.57538203503541,
           42.34357528885575,
           45.35792489750279,
           45.52855944837868,
           45.37481364144615,
           48.86321282146851,
           52.39761926947447,
           45.21582650018636,
           44.20716082743198,
           52.31958162504659,
           52.22465523667537,
           48.24124114796869,
           48.68500745434216,
           38.62106317554976,
           44.523970368989936,
           38.38170890793887,
           40.855036339918,
           38.77189713007827,
           40.82358833395453,
           42.89740961610138,
           46.79754472605293,
           48.5871692135669,
           46.63564573238912,
           54.05504565784569,
           55.29491241147969,
           57.04493570629892,
           54.75971393961983,
           55.02178065598211,
           44.87979873276184,
           44.680045657845696,
           44.51698192322028,
           44.89028140141632,
           55.38285035408125,
           62.31713566902721,
           43.68419213566902,
           39.22905795751025,
           41.21494129705553,
           42.93176947446888,
           40.76243943346999,
           42.4973210957883,
           44.258991800223626,
           37.403908870667166,
           40.27150111815132,
           42.91313361908312,
           40.22141725680209,
           42.54915206857995,
           55.583185799478194,
           43.5892657472978,
           36.57810752888558,
           60.490821841222505,
           60.54847651882221,
           60.51469903093552,
           60.14023481177786,
           54.80572120760343,
           54.82785128587402,
           54.83542210212449,
           54.82260995154677,
           55.03925177040626,
           38.64959932910921,
           48.11486675363399,
           54.66012858740216,
           57.244106410734254,
           57.16723350726798,
           57.05541837495341,
           56.935450055907566,
           56.86440085724935,
           56.94360324263885,
           49.06413063734625,
           51.250931792769286,
           46.29379426015654,
           50.4367778606038,
           52.042373276183376,
           43.97130078270592,
           45.38587868058144,
           52.595625232948194,
           47.42417536339918,
           47.23315784569512,
           47.727008013417816,
           47.575591688408494,
           43.23169027208349,
           53.61360883339545,
           54.45629891912039,
           54.45338706671636,
           54.922777674245246,
           54.52210678345136,
           54.48192322027581,
           44.40400204994409,
           52.4115961610138,
           50.64934308609765,
           42.06578456951174,
           37.86048732761834,
           59.9148574357063,
           59.86652068579947,
           59.93640514349609,
           59.32491613865077,
           58.013417815877744,
           50.09376164740962,
           49.688431792769286,
           45.02247950055908,
           46.92974282519568,
           47.77243291092061,
           42.75938781215058,
           45.97349049571376,
           46.71892471114425,
           49.27902534476332,
           44.18736023108461,
           45.921659522922106,
           44.258991800223626,
           53.71494129705553,
           57.60459373835259,
           57.56615728661946,
           51.22356038017145,
           43.3132221393962,
           55.77769754006708,
           54.82260995154677,
           50.8613259411107,
           50.778046962355575,
           48.68675456578457,
           49.44208907938874,
           51.86358553857622,
           48.70655516213194,
           49.37278699217294,
           50.093179276928815,
           49.89400857249348,
           44.278792396571006
          ],
          "coloraxis": "coloraxis",
          "symbol": "circle"
         },
         "mode": "markers",
         "name": "",
         "scene": "scene",
         "showlegend": false,
         "type": "scatter3d",
         "x": [
          3.6936496321514496,
          -8.64476803672906,
          -15.888862794560065,
          -15.358849775182186,
          5.1108442488804435,
          -6.867802102380731,
          11.537056032822854,
          17.4868424626267,
          -42.06956640764971,
          -15.759502291262727,
          -3.4789817586815848,
          -23.988246645291923,
          -2.8256249100060695,
          -3.2220429238253594,
          -3.2325449277791924,
          -2.8169562228028497,
          -25.851728599374507,
          2.850731338615733,
          -5.772673047187987,
          -11.380652578774587,
          -20.54057237663166,
          -22.575538715564786,
          -8.400209969966792,
          -3.706478268769392,
          19.260357369203582,
          -9.294516761963202,
          37.06432115082979,
          -9.125467272513825,
          -17.17996623435156,
          -21.059446128505474,
          -53.927114159553405,
          -11.445186108629628,
          1.3897137808012914,
          -15.896457079962737,
          -15.456807217639618,
          1.09746270685993,
          -14.815124833562951,
          -5.857623026076187,
          -24.813874454791417,
          -14.956844710561398,
          -8.680980665563819,
          -9.616618783331203,
          57.697215189349606,
          58.007079041647046,
          46.24508827038052,
          42.28877422458542,
          42.86995347212051,
          45.46089696244334,
          21.534049729111807,
          45.918632872505704,
          47.11113284915156,
          37.12358621172558,
          -15.470043541368495,
          2.6237222811797847,
          -18.238509092119166,
          6.753486233455501,
          -11.558080023274147,
          -16.576924210323494,
          -27.981503461931563,
          -17.241023620298492,
          -16.91145296179601,
          -35.01796817106205,
          -35.451423452184365,
          -28.855861446309717,
          37.354373071059946,
          -11.991098734910159,
          -13.386898057472758,
          -32.15819902017574,
          -26.199845839740433,
          -30.427788353862734,
          -56.37399730675714,
          25.658252026743185,
          -1.4933437493656203,
          38.117893758534876,
          35.23350392971508,
          29.844607889324696,
          31.37223849882878,
          37.70424701880211,
          38.21285111112819,
          6.311802546683487,
          -8.493684946021908,
          -15.009964062997405,
          -17.1080470734448,
          4.887670661040845,
          9.875750933692995,
          -7.783705692275039,
          -12.495547340399586,
          10.148018308648417,
          8.189609635633126,
          -44.15215556321436,
          -44.82313659543459,
          -0.9770149868819089,
          11.683384680437323,
          35.173995493863394,
          -4.491450837290151,
          -58.12805819037738,
          -3.963170590345956,
          7.931185653756856,
          5.073023254366129,
          3.455230623907742,
          16.832814868470127,
          -18.85470304800761,
          13.987502621966716,
          -23.464063897966756,
          -58.7991091058722,
          -11.420594761107914,
          -37.1875846940546,
          -9.811133910832735,
          -26.912046823142365,
          -37.299192300868164,
          -21.418792186847373,
          -27.13901265759398,
          10.98453838654938,
          8.812891608442824,
          -2.4372685874129902,
          -5.525452454809014,
          -8.719698273789497,
          50.88349117383942,
          65.0916951368254,
          70.14940726568443,
          70.84004962074343,
          50.46590796770883,
          50.223019946039244,
          50.251555025091996,
          39.668408709645696,
          36.02161279382016,
          35.500099300270506,
          36.64599129242269,
          38.7883899323269,
          36.777196829374034,
          36.19192234617659,
          35.7835342615296,
          29.435700173151208,
          33.052173925755845,
          -20.822098041766907,
          -28.804449451558558,
          -14.936707714665006,
          -16.863198781206385,
          -46.89034943759149,
          -35.63940818927253,
          39.78493326670891,
          37.39965948275043,
          35.852618306131966,
          53.69155044845739,
          38.32140947484334,
          9.267565550524452,
          8.247246531864551,
          11.793284077216137,
          11.975153221177772,
          46.82195638713321,
          47.8651100367679,
          47.54789899311361,
          31.04124427702299,
          30.689657529781574,
          12.07381281960716,
          21.10979072994666,
          16.566604184430457,
          37.482949901771036,
          11.661276474445893,
          8.199309047255191,
          -16.768523298435156,
          -32.35990304171827,
          3.381530334688768,
          -16.675937749063568,
          5.819288184067167,
          6.910330185328676,
          -13.2046373983884,
          44.997329162111846,
          14.443971957049374,
          38.37541949181498,
          51.80978577626563,
          63.07591812387154,
          56.88422954927077,
          49.56909071900373,
          36.99008031777997,
          33.79164166366881,
          68.18410206614925,
          45.58791582354373,
          59.158726142300814,
          31.229850890543528,
          46.715739688713434,
          43.90130882038438,
          32.50385903168813,
          48.54716162963783,
          46.36395247621741,
          38.80278904258839,
          33.04092000533563,
          21.46306746524623,
          43.821368676139535,
          14.877791486173429,
          8.337475710341286,
          5.292204624553166,
          18.266113707867735,
          34.27529723180534,
          34.31309244609855,
          32.78267024740149,
          49.96359215077652,
          39.59248927804981,
          34.19519928149521,
          41.09906971617933,
          27.130321604058338,
          -4.799881732920984,
          -6.735663572556337,
          -1.7082902799664894,
          -22.118282184166265,
          -8.036618446106186,
          3.0716779011152955,
          8.055255710891977,
          1.4564357504000967,
          32.823028523456024,
          23.290337327245584,
          10.18471207611334,
          6.313959099988566,
          -13.448375973031407,
          -51.39326168009002,
          -17.08284833387603,
          -10.083177873808243,
          -19.691551883846884,
          -14.64148241425091,
          -2.0126742337425965,
          37.22410820318911,
          16.16285071755225,
          32.838120898389334,
          0.5358683579359472,
          21.791559672526112,
          -67.21595961690723,
          -2.51484738377914,
          32.842090180907775,
          26.287759176803547,
          15.99901234187236,
          -15.006086575207016,
          -10.82692665210001,
          2.834186068584972,
          -1.9215044215264074,
          25.645000278474523,
          14.379067388466913,
          -0.6547621316604011,
          7.954900182045673,
          -31.10202579683103,
          -41.80802081694654,
          -40.6075108643133,
          -27.700833054969458,
          4.565558536851791,
          7.9547239956323,
          -6.801476970743528,
          -31.523006696067522,
          -22.50586068496087,
          -4.483161588281496,
          -8.440770806417133,
          2.478465875450141,
          -57.026156985688715,
          -29.13779621735784,
          11.436378212468835,
          2.2308955210918593,
          -6.070843884745643,
          3.468183925755592,
          -22.249138637479927,
          -17.935447848927375,
          1.8371634396727847,
          1.7823297715126598,
          -36.50940773186239,
          -36.15520265521107,
          -15.10880637379956,
          -19.308861076402387,
          20.794036702730658,
          -6.692611308727435,
          42.40532559599984,
          14.708752147985892,
          19.42485574565824,
          32.81181346208938,
          2.1767590784525694,
          11.284957139417026,
          -20.073086583567914,
          15.745625252675326,
          -43.52892180621721,
          -50.09722173259654,
          -50.080764613084426,
          -40.92424899027919,
          -41.772663103865185,
          22.007961109296936,
          23.42034663052547,
          24.662937777726338,
          22.666756990925553,
          -29.508870223151927,
          -70.28059586084284,
          6.7348947745253955,
          31.0261992325585,
          15.498559382970935,
          12.520246342564665,
          19.543882909515887,
          10.086668826804384,
          5.371097244760573,
          35.229995297646354,
          19.576305849678633,
          7.206384706993171,
          20.278948383098903,
          11.650064017427672,
          -38.34795067034921,
          6.375533065032912,
          29.558122174681337,
          -57.515271351721836,
          -57.592004748595855,
          -57.37563414046793,
          -56.352338395596895,
          -40.47863465647158,
          -40.526016043911625,
          -40.59755749117451,
          -40.55107216298458,
          -38.64370441823257,
          24.648506238618303,
          -21.01403645836212,
          -22.05796146289104,
          -46.883090549694174,
          -50.58051016525839,
          -46.02875529018712,
          -49.651613573550314,
          -45.10702336647634,
          -49.67696274330237,
          2.3124691712913776,
          -9.59187009797296,
          17.704353800895788,
          -6.004401784534361,
          -16.363629674355,
          30.75978009638681,
          -8.753571788743471,
          -35.75732831855104,
          11.536900699080993,
          10.671603403555405,
          3.6330680008194434,
          10.048017772885654,
          21.406159204733957,
          -34.54370961861609,
          -33.26655513127372,
          -33.25308204690826,
          -36.862627609667676,
          -34.0085595356484,
          -33.343028276295804,
          -5.135325499767979,
          -36.14488276564984,
          -14.178959258804902,
          3.121443204124217,
          27.701348631676396,
          -61.35312474159641,
          -61.18699086553955,
          -61.446182615791336,
          -58.98163753669046,
          -53.770210323403184,
          -18.642390287019104,
          -15.985534947202023,
          5.08274197375992,
          -8.680068116358667,
          -10.924037525227767,
          21.096870624185893,
          3.3138149195144515,
          -5.476137596273032,
          -22.021576708870832,
          -6.549690526543618,
          -10.66759474327033,
          -5.659653201570092,
          -33.02683491689647,
          -55.06651178103502,
          -53.47831314212057,
          -27.66132469299637,
          4.1217610455465685,
          -43.50288703702061,
          -38.15170283448725,
          -17.053807824804153,
          -23.51720419536557,
          -5.393065484602387,
          -7.670474112623018,
          -20.40493315458537,
          -18.414278711239678,
          -20.671890175672996,
          -24.26866155417947,
          -25.4380129116725,
          3.8019406257669677
         ],
         "y": [
          -5.061245464995749,
          -4.311411534203829,
          -0.17619167048000534,
          26.183542898306357,
          27.94791321239388,
          25.415979329713423,
          24.847887624030268,
          26.540885058413675,
          39.98178509648593,
          18.115587202527575,
          -1.8740086313372477,
          2.355641908219506,
          -11.529118034928446,
          -10.143695101276888,
          -10.083919668752637,
          -10.228328359383319,
          -3.8943060772446962,
          5.775117620342859,
          3.130772418805141,
          4.982778935721366,
          -11.374301371053406,
          -9.928726150685257,
          1.5918174788089454,
          -1.5800886576414623,
          26.206739763335744,
          39.191959009046926,
          -4.497781763224486,
          29.289631063163814,
          -37.144873735497505,
          -4.781805374137952,
          -30.17260723875078,
          3.775749479695441,
          -2.199311027990826,
          -2.386807442719189,
          -1.3676198546594787,
          -10.698967783348255,
          -12.48588033214244,
          -9.149733944238495,
          -14.43764762772191,
          -6.490007155138371,
          -24.567256240862182,
          -8.471573484216398,
          31.06654023489674,
          31.16333458600597,
          -31.19623118640538,
          -29.497108128395457,
          -29.519295164346214,
          -30.93263858118816,
          -20.623078716953376,
          -31.386731717241553,
          -30.963788468241077,
          48.686331426599985,
          27.641452948218667,
          33.349567606874736,
          37.67319088439487,
          52.55861061563367,
          -41.2990719688745,
          -36.44877819584683,
          -39.31842216265476,
          -33.13374758631147,
          11.788141123607677,
          11.08618819335509,
          10.19928960387965,
          43.71474054507377,
          -13.356917613622553,
          28.06377026321699,
          14.908850645943676,
          27.88721947324152,
          -26.901670987689116,
          23.329765264315288,
          13.223225315774034,
          -10.446117392975914,
          16.266818271969612,
          50.28014413984386,
          39.1082893335139,
          36.81296333770052,
          28.128566655566527,
          49.42602151746038,
          49.157265784003926,
          30.625111170263523,
          35.51279466518456,
          34.037514739543745,
          37.50944637520747,
          -43.276004811496605,
          -1.0442034647299026,
          2.7603813001397195,
          -14.406013912699018,
          -1.319548398066579,
          -0.9985393167891664,
          -32.62430249521994,
          -32.69978695466809,
          -4.120072764141431,
          15.18937070438379,
          -37.58077574611573,
          -54.74035453091272,
          12.409728868721343,
          8.980816459520375,
          1.6671157070281182,
          4.443285534252848,
          2.64066437928277,
          8.28972581771921,
          -19.560743172782086,
          15.361369073912167,
          25.12376086183175,
          2.4580991483989383,
          22.56587248309271,
          5.687267489822474,
          33.09505419130594,
          4.806167750664848,
          17.61058821404158,
          4.383960510712617,
          24.517698922067986,
          14.726414861650031,
          41.257317286469174,
          40.35646779566145,
          29.777273232010216,
          20.0695979873597,
          -31.421863735315675,
          -3.5403456359306653,
          18.048950266433884,
          18.341429833272922,
          -35.75922014783507,
          -35.58179514270436,
          -35.559698275798254,
          49.99576025822371,
          53.22316484593358,
          52.463664496397975,
          52.412115763390005,
          52.18428561624311,
          52.534976254084555,
          52.43908477754763,
          53.02765830463674,
          -21.557471399735505,
          -25.24269360015782,
          -11.805079581517477,
          -9.694642964632639,
          -18.799894219686166,
          -14.16115805186783,
          -17.71906384189813,
          -16.37062079010136,
          -41.12941060806096,
          -35.845890485712616,
          -46.80061436622257,
          -15.48554310331519,
          -43.746612589120495,
          -29.28428902295457,
          -29.923132635664278,
          -13.806021344028933,
          -13.97113319964173,
          -26.024804624842634,
          -27.26063478429473,
          -26.859746183955018,
          -42.6776134154215,
          -40.18963792735259,
          -36.04510054206607,
          -29.076779019415238,
          41.6007373346201,
          -13.38378334033476,
          49.40119915601319,
          52.53454006158142,
          23.278608379248737,
          -17.509451329954327,
          52.19303747296644,
          23.076452782150923,
          50.98682355911694,
          52.23735056796188,
          44.3733617244546,
          50.633746098221735,
          61.18766235079615,
          54.9617979333648,
          -36.736279191618465,
          -20.038652002478322,
          -29.934198897856618,
          -29.572030545445543,
          55.865467941222995,
          56.70315458527057,
          0.18086534186859068,
          53.23433903910755,
          -21.63383265840789,
          -24.729676837963986,
          -28.614502414636593,
          -25.751806692858732,
          -22.08918125788169,
          -29.53770984264262,
          -29.444975927348278,
          -25.923416075599246,
          -24.504246073985648,
          -25.686407267453767,
          -29.610581571898216,
          -40.6402687644547,
          -33.46632142665302,
          -31.002512076981546,
          -33.13461002329214,
          -43.04559392798235,
          -42.281617952381936,
          -41.3311998967932,
          -9.606396802251032,
          -44.29138792028736,
          -42.77466130222916,
          -41.07987186495359,
          -36.80785391227464,
          -41.13183476665662,
          -45.01826424139677,
          29.909759597122964,
          18.44271388790261,
          17.540794551331928,
          14.563469852937205,
          -45.81495225326927,
          -32.974328567573615,
          -5.3339774239960445,
          -27.631138739471716,
          -20.385574458580525,
          5.306054066609521,
          23.322874058227878,
          2.0721000685241373,
          25.411646961467554,
          27.335516726645317,
          13.724844404846056,
          3.7056951698117735,
          40.206882471023896,
          -13.570741337579802,
          -15.38155742148331,
          -26.434197461997833,
          46.17318167783725,
          -29.49571570767813,
          4.940330082931148,
          50.035622244565054,
          -42.895716265478626,
          46.40783723041468,
          -30.633918670293006,
          13.711855463479418,
          17.08250493305363,
          22.2629813630733,
          18.150773521048148,
          -10.441273021804053,
          -24.14220271003463,
          16.192236091315984,
          10.536071992254957,
          17.55806233239772,
          5.290368434928388,
          3.6076143608709015,
          11.850299028587363,
          23.219452001150557,
          10.54360424649949,
          11.640524717418147,
          -10.31757889184672,
          -6.3764867797864415,
          35.857490998964465,
          19.185213645998076,
          26.901014075936846,
          -5.238701897305426,
          25.076617851625404,
          25.13448559902963,
          11.43784708996209,
          23.471321137827946,
          14.49537656112831,
          20.855598679808747,
          -18.31143535501051,
          13.303300759342203,
          14.058535187089994,
          18.790817182178888,
          15.868653165458394,
          7.052873273896607,
          9.586567882623827,
          44.82641086364463,
          44.39864456509188,
          -6.730623275285313,
          35.26877345964811,
          45.39970314550518,
          -14.027499869491145,
          31.65172446476,
          -32.56885519777161,
          36.658624825981484,
          -39.573076864833084,
          14.876055103849824,
          18.895394648341966,
          -18.11072093447021,
          -14.030877270255235,
          -14.526081410834953,
          -29.762999490172653,
          -30.49199736831663,
          -31.22441618926583,
          -31.147040674974797,
          -29.245778077124235,
          -27.572978957777543,
          8.391416797362835,
          12.569108769126817,
          9.678434322644103,
          6.342750891554161,
          8.587937606308612,
          7.4499811151168664,
          4.196778356411469,
          16.187570477956232,
          11.197944588514385,
          8.261168671720752,
          16.05368596698168,
          6.819575567631571,
          -18.70733383771432,
          4.706172850968071,
          44.16532218532927,
          -25.767388124091934,
          -25.96377843664831,
          -26.129299514274653,
          -25.06112296459897,
          -13.368431099032614,
          -13.571588476487468,
          -13.449315161599506,
          -13.394507733167183,
          -15.468926274903072,
          27.700111568648264,
          36.386470783408576,
          -41.98210650399194,
          -19.54599516392484,
          -18.320200116836045,
          -19.19091580236697,
          -17.88179059307846,
          -18.884518834705553,
          -17.88984103433383,
          -35.86016992351527,
          -33.94453311909762,
          -38.69014768702419,
          -33.31774080148568,
          -29.106744636728262,
          -35.04521840367458,
          29.712225027042674,
          10.903878198674997,
          -38.83307132944372,
          -35.46363739108889,
          -27.221682385582405,
          -37.593553408400034,
          -17.904830451183656,
          -14.28717552336581,
          -24.477052563243138,
          -24.474556307834323,
          -23.153885003343696,
          -23.974179630856625,
          -24.616419329844287,
          36.844343280742514,
          11.634919022115941,
          -10.27494357443489,
          33.768679814627006,
          37.63719448044649,
          -23.166976768682908,
          -23.059692373319628,
          -23.200083288266093,
          -22.161519395242756,
          -19.905204688819694,
          -9.37509787318529,
          -10.145646517679072,
          -3.723503390094758,
          5.937768182875563,
          1.1954583462865997,
          -10.096897887962553,
          -10.135277588780664,
          15.177672392461638,
          11.424184659833436,
          49.39326172783943,
          34.234776679635154,
          45.04170380867414,
          -14.472146151539997,
          -4.654819331278909,
          -11.939219527466,
          1.924617681974594,
          16.61001656252675,
          -16.069164634219508,
          -10.756529566111704,
          -11.962290988733171,
          -5.4547661499913955,
          -17.103890399835883,
          -19.77158395399186,
          -20.875757548624122,
          19.674493007560535,
          17.578170142054336,
          15.824960749219247,
          13.691229413917183,
          22.786031372050797
         ],
         "z": [
          6.767247480795002,
          -6.470653062485084,
          7.6005697577137505,
          58.77350288058882,
          40.39666213987124,
          60.65165305734642,
          60.75888498111658,
          -59.928446485485644,
          43.96046843958456,
          -23.79924510180146,
          -14.691225732676848,
          -18.767594576905754,
          -19.187553419704557,
          -17.79128831339033,
          -17.864552548670595,
          -17.82344154154486,
          11.941498156486999,
          19.10536496790385,
          34.6550595548116,
          -0.2244680049520735,
          -15.174882795214083,
          -47.36955868721689,
          23.845320622790858,
          -33.248529438751866,
          -15.274541513065547,
          -10.653828920668374,
          5.424901453670298,
          3.650366357723389,
          -9.184812212402536,
          -25.378063497158784,
          -11.44441239823381,
          -26.663424236345772,
          -8.271872004838027,
          -11.322081563471693,
          -10.292108506936312,
          39.115390108023966,
          20.52737040619895,
          0.744438328425403,
          14.144328707296275,
          6.895515661300218,
          9.21847998063007,
          -1.5228381754548344,
          4.6538508229891375,
          4.621306274031477,
          -6.996545482689447,
          -9.059441035434592,
          -9.991314254665854,
          -6.604895381263493,
          32.867960446548395,
          -6.903887914296311,
          -7.071673219703927,
          0.9494855471465731,
          3.1810501461273715,
          19.228429998254956,
          25.46017864913533,
          -6.857371699962929,
          -9.707648221585385,
          -8.107408040297486,
          3.1818992577684746,
          -7.287306669845418,
          -8.462374625626559,
          -6.416429366573552,
          -5.1235445797087475,
          -8.363055984580548,
          -2.0802801758246763,
          20.859324985931664,
          -35.966693782957925,
          13.109273395421946,
          -3.0185727622846468,
          11.619722296416057,
          14.6604951110361,
          12.275715567106397,
          13.638345623724014,
          -1.2513087812903934,
          -10.324782067846652,
          13.85338187929963,
          -20.907919014649032,
          -0.2198911263859171,
          0.18090992539480416,
          22.418759150969358,
          -6.4167328000790445,
          -5.2284734781607005,
          -10.888526881461363,
          -7.224955443893974,
          -2.2036435025503507,
          -6.739291076284386,
          -2.3737412072909527,
          -2.6624658186026444,
          -0.3414422605646587,
          -12.025190230955063,
          -12.218006092766956,
          -20.091101795851053,
          20.37529523461686,
          8.734347950416225,
          5.72010377982142,
          -7.450699379580935,
          23.18049951991311,
          -1.847613789574168,
          3.6826701939044932,
          7.274223080928046,
          0.4732830032664198,
          -1.4735191102062677,
          -3.348267122397139,
          1.1913197829321893,
          5.97343053290337,
          -9.415061405857491,
          -11.779322903818919,
          14.988236497546502,
          2.4152989084433663,
          34.866196011464595,
          18.582113075775112,
          15.677620410443998,
          25.35040731473933,
          -4.687525488993277,
          6.3108104030005405,
          12.568049732680628,
          2.8529526262176508,
          12.65662049003269,
          8.584005832126472,
          14.534084138317263,
          13.632954957191135,
          2.7515353638347646,
          2.6282596183554157,
          2.210572451829858,
          -6.127602925374892,
          -2.787924628781696,
          -2.8878163146954883,
          -3.6658214831388114,
          -0.6443087983873197,
          -1.9066230445977381,
          -4.629210570890459,
          -5.260514139507899,
          -16.14427380961496,
          -14.840969544067883,
          -2.609404361568409,
          28.686947741951094,
          -2.5405314137384236,
          6.703455348315819,
          31.43426233752745,
          -18.153034069208648,
          21.365992392222132,
          -8.649899243629239,
          8.971036522808772,
          -12.846443883760317,
          11.4232185198442,
          -19.488815796681763,
          -8.197038275575316,
          -18.83935455342974,
          -19.207469203704697,
          3.5219030068974284,
          2.888499372100357,
          5.443229422986957,
          15.257290735641417,
          18.851283490927223,
          25.21095496091914,
          33.855413120815854,
          -7.606022005628806,
          -2.110915668813452,
          2.989535902615028,
          -8.67024610575377,
          18.985438227690608,
          -6.203862954312053,
          1.2624078248352688,
          19.06815010720113,
          -9.513175590262433,
          -7.353848512408461,
          -0.44357500110907444,
          8.20236820758691,
          7.7496750041490845,
          1.147212321244837,
          5.213689668509683,
          -14.052255861467478,
          -1.4596728524089675,
          14.366247091177236,
          0.7656999873528562,
          0.7174029071294014,
          14.073760653353107,
          -5.690223611201088,
          8.312108310324957,
          -9.192862034756855,
          -6.330286136541509,
          -6.0340015249434575,
          -14.621675067680702,
          -7.556247876079986,
          -4.514113964849222,
          -11.91993197507441,
          -14.49222434707758,
          2.13706727493063,
          -8.907607995662937,
          -2.3201722406605714,
          -6.078116364416818,
          -5.878456745171327,
          -9.178291056223394,
          8.982726738901745,
          14.928911777490411,
          18.144615194192983,
          16.81500591473965,
          8.861628825090447,
          9.402191472003999,
          2.161525603998557,
          -5.389467046589899,
          9.807883095361102,
          13.406939201047864,
          -31.89208134314824,
          12.565451333846221,
          -19.28754436379126,
          -16.682733454319784,
          2.3238517007740236,
          11.350728307873469,
          -31.53750508479012,
          13.027693996728582,
          1.3174627583822085,
          30.611701847857255,
          37.14016930335113,
          -24.949466969048984,
          27.904828113402402,
          20.66201689154421,
          -36.58350834844974,
          -33.99828499128175,
          18.575365841953783,
          -2.9373257434603754,
          -13.33579531246695,
          7.887857220458046,
          -18.11711144111257,
          3.2474497583120336,
          -5.060707507065726,
          -0.028818932417176816,
          4.974194240688276,
          -21.30628447062535,
          30.85769742487939,
          12.085291848780452,
          19.899494987026216,
          14.665165843003667,
          15.676167672323137,
          12.276382116660995,
          -4.495920906172044,
          -34.6224322622013,
          26.014493305118243,
          23.89417554874564,
          10.924843555568936,
          10.078001015720133,
          6.5944677961769305,
          -19.150322466728603,
          25.987967849558782,
          -39.41928410025562,
          -5.378466707460492,
          -5.6703578538307315,
          8.695637379326602,
          3.765100012860007,
          -22.059624593262072,
          -9.152039987139082,
          -18.28799105279895,
          -18.912191912507538,
          -28.12337284160597,
          -9.217221599504676,
          -38.9868305016378,
          35.486252168153634,
          -34.406618378120754,
          -19.548627634176672,
          16.991518712291548,
          28.61451877173172,
          40.82156838606991,
          13.447967885603104,
          4.2648003669896495,
          -9.567533639546879,
          -11.286181578045237,
          0.6802351410199131,
          -17.407224422313508,
          -6.522536573443145,
          -13.326069135234158,
          -4.545899280483572,
          9.276179626685943,
          -20.791681977484135,
          18.953026170770723,
          -7.980632396245511,
          -0.3026548937961768,
          13.759757119689727,
          11.487728939021157,
          10.380407868122326,
          3.8614264057513075,
          2.8147349035904203,
          0.7133851283308733,
          2.277708568651233,
          -14.115895867425152,
          18.80030911405728,
          -10.645322798258764,
          -32.42000908769963,
          -0.49106724846654476,
          -20.239255032622697,
          0.9451595160869656,
          -0.26608991010207356,
          -11.585301439168141,
          -18.549845857260507,
          -1.5088860189239062,
          35.36558901383156,
          1.3394163970812474,
          -10.21555578669102,
          -20.47976320453834,
          12.688370219904622,
          -9.03443270111794,
          -30.095815537289777,
          -30.29769625351827,
          -29.662453388862666,
          -28.977193587722315,
          -4.902955518690553,
          -4.907875425548927,
          -4.852205331507564,
          -4.899667298990432,
          -17.756352404169725,
          -7.364262247261383,
          -14.783826837025936,
          -1.8585308910482412,
          -21.8819910527495,
          13.674950231312682,
          -22.32767495750466,
          14.019488916946472,
          -22.91259684400918,
          14.253142652928979,
          -3.0966891377220893,
          0.6737210223655862,
          4.565621972817244,
          -4.4487349871634985,
          -0.6912345264547557,
          2.300741080062428,
          -3.409925498719341,
          -4.605411489340708,
          20.23739783683471,
          12.415482457277275,
          2.9635276679701983,
          15.60221395683411,
          4.465065113761144,
          12.415100799939491,
          -1.2545961703859425,
          -1.2596157549099696,
          -2.265521218944991,
          -1.760999291059778,
          -1.9105828787451604,
          -10.175377940931442,
          13.449232477455654,
          -37.768917276227164,
          45.00409670532473,
          -13.926990174786376,
          18.077499307514813,
          17.482442930862504,
          17.323196100315215,
          15.311432568127644,
          18.629181482081542,
          -3.7631959276201097,
          -7.167192272917547,
          -13.263098772109014,
          -8.5723383505213,
          -10.76314361983738,
          -12.901419997488201,
          -18.935697464822052,
          -28.68099775243797,
          34.38607460471911,
          -9.828994702389306,
          -16.774783900004554,
          -11.028413899037613,
          -11.090988886866574,
          -6.89818529288915,
          12.782284108658581,
          -1.0514345205477575,
          9.413413017107551,
          -6.006110660465027,
          -14.962996453782539,
          -19.518657574620995,
          -10.156671454696436,
          3.89350077883112,
          0.7221156795766746,
          -0.34528454960596827,
          8.110057303274088,
          9.181137026201911,
          13.167303519779054,
          26.29556391824467,
          -23.42911975026163
         ]
        }
       ],
       "layout": {
        "coloraxis": {
         "colorbar": {
          "title": {
           "side": "top",
           "text": "Percent Buried<br>Volume"
          },
          "x": 0.85,
          "xanchor": "left",
          "y": 0.5,
          "yanchor": "middle"
         },
         "colorscale": [
          [
           0,
           "#0d0887"
          ],
          [
           0.1111111111111111,
           "#46039f"
          ],
          [
           0.2222222222222222,
           "#7201a8"
          ],
          [
           0.3333333333333333,
           "#9c179e"
          ],
          [
           0.4444444444444444,
           "#bd3786"
          ],
          [
           0.5555555555555556,
           "#d8576b"
          ],
          [
           0.6666666666666666,
           "#ed7953"
          ],
          [
           0.7777777777777778,
           "#fb9f3a"
          ],
          [
           0.8888888888888888,
           "#fdca26"
          ],
          [
           1,
           "#f0f921"
          ]
         ]
        },
        "height": 600,
        "legend": {
         "tracegroupgap": 0
        },
        "scene": {
         "aspectmode": "auto",
         "aspectratio": {
          "x": 1.1248907330814355,
          "y": 0.9240770650511105,
          "z": 0.9620141709514972
         },
         "camera": {
          "center": {
           "x": 0,
           "y": 0,
           "z": 0
          },
          "eye": {
           "x": 0.8091160002239007,
           "y": 1.6477824214660193,
           "z": 0.4701039465421364
          },
          "projection": {
           "type": "perspective"
          },
          "up": {
           "x": 0,
           "y": 0,
           "z": 1
          }
         },
         "domain": {
          "x": [
           0,
           1
          ],
          "y": [
           0,
           1
          ]
         },
         "xaxis": {
          "title": {
           "text": "PC 1"
          },
          "type": "linear"
         },
         "yaxis": {
          "title": {
           "text": "PC 2"
          },
          "type": "linear"
         },
         "zaxis": {
          "title": {
           "text": "PC 3"
          },
          "type": "linear"
         }
        },
        "template": {
         "data": {
          "bar": [
           {
            "error_x": {
             "color": "#2a3f5f"
            },
            "error_y": {
             "color": "#2a3f5f"
            },
            "marker": {
             "line": {
              "color": "#E5ECF6",
              "width": 0.5
             },
             "pattern": {
              "fillmode": "overlay",
              "size": 10,
              "solidity": 0.2
             }
            },
            "type": "bar"
           }
          ],
          "barpolar": [
           {
            "marker": {
             "line": {
              "color": "#E5ECF6",
              "width": 0.5
             },
             "pattern": {
              "fillmode": "overlay",
              "size": 10,
              "solidity": 0.2
             }
            },
            "type": "barpolar"
           }
          ],
          "carpet": [
           {
            "aaxis": {
             "endlinecolor": "#2a3f5f",
             "gridcolor": "white",
             "linecolor": "white",
             "minorgridcolor": "white",
             "startlinecolor": "#2a3f5f"
            },
            "baxis": {
             "endlinecolor": "#2a3f5f",
             "gridcolor": "white",
             "linecolor": "white",
             "minorgridcolor": "white",
             "startlinecolor": "#2a3f5f"
            },
            "type": "carpet"
           }
          ],
          "choropleth": [
           {
            "colorbar": {
             "outlinewidth": 0,
             "ticks": ""
            },
            "type": "choropleth"
           }
          ],
          "contour": [
           {
            "colorbar": {
             "outlinewidth": 0,
             "ticks": ""
            },
            "colorscale": [
             [
              0,
              "#0d0887"
             ],
             [
              0.1111111111111111,
              "#46039f"
             ],
             [
              0.2222222222222222,
              "#7201a8"
             ],
             [
              0.3333333333333333,
              "#9c179e"
             ],
             [
              0.4444444444444444,
              "#bd3786"
             ],
             [
              0.5555555555555556,
              "#d8576b"
             ],
             [
              0.6666666666666666,
              "#ed7953"
             ],
             [
              0.7777777777777778,
              "#fb9f3a"
             ],
             [
              0.8888888888888888,
              "#fdca26"
             ],
             [
              1,
              "#f0f921"
             ]
            ],
            "type": "contour"
           }
          ],
          "contourcarpet": [
           {
            "colorbar": {
             "outlinewidth": 0,
             "ticks": ""
            },
            "type": "contourcarpet"
           }
          ],
          "heatmap": [
           {
            "colorbar": {
             "outlinewidth": 0,
             "ticks": ""
            },
            "colorscale": [
             [
              0,
              "#0d0887"
             ],
             [
              0.1111111111111111,
              "#46039f"
             ],
             [
              0.2222222222222222,
              "#7201a8"
             ],
             [
              0.3333333333333333,
              "#9c179e"
             ],
             [
              0.4444444444444444,
              "#bd3786"
             ],
             [
              0.5555555555555556,
              "#d8576b"
             ],
             [
              0.6666666666666666,
              "#ed7953"
             ],
             [
              0.7777777777777778,
              "#fb9f3a"
             ],
             [
              0.8888888888888888,
              "#fdca26"
             ],
             [
              1,
              "#f0f921"
             ]
            ],
            "type": "heatmap"
           }
          ],
          "heatmapgl": [
           {
            "colorbar": {
             "outlinewidth": 0,
             "ticks": ""
            },
            "colorscale": [
             [
              0,
              "#0d0887"
             ],
             [
              0.1111111111111111,
              "#46039f"
             ],
             [
              0.2222222222222222,
              "#7201a8"
             ],
             [
              0.3333333333333333,
              "#9c179e"
             ],
             [
              0.4444444444444444,
              "#bd3786"
             ],
             [
              0.5555555555555556,
              "#d8576b"
             ],
             [
              0.6666666666666666,
              "#ed7953"
             ],
             [
              0.7777777777777778,
              "#fb9f3a"
             ],
             [
              0.8888888888888888,
              "#fdca26"
             ],
             [
              1,
              "#f0f921"
             ]
            ],
            "type": "heatmapgl"
           }
          ],
          "histogram": [
           {
            "marker": {
             "pattern": {
              "fillmode": "overlay",
              "size": 10,
              "solidity": 0.2
             }
            },
            "type": "histogram"
           }
          ],
          "histogram2d": [
           {
            "colorbar": {
             "outlinewidth": 0,
             "ticks": ""
            },
            "colorscale": [
             [
              0,
              "#0d0887"
             ],
             [
              0.1111111111111111,
              "#46039f"
             ],
             [
              0.2222222222222222,
              "#7201a8"
             ],
             [
              0.3333333333333333,
              "#9c179e"
             ],
             [
              0.4444444444444444,
              "#bd3786"
             ],
             [
              0.5555555555555556,
              "#d8576b"
             ],
             [
              0.6666666666666666,
              "#ed7953"
             ],
             [
              0.7777777777777778,
              "#fb9f3a"
             ],
             [
              0.8888888888888888,
              "#fdca26"
             ],
             [
              1,
              "#f0f921"
             ]
            ],
            "type": "histogram2d"
           }
          ],
          "histogram2dcontour": [
           {
            "colorbar": {
             "outlinewidth": 0,
             "ticks": ""
            },
            "colorscale": [
             [
              0,
              "#0d0887"
             ],
             [
              0.1111111111111111,
              "#46039f"
             ],
             [
              0.2222222222222222,
              "#7201a8"
             ],
             [
              0.3333333333333333,
              "#9c179e"
             ],
             [
              0.4444444444444444,
              "#bd3786"
             ],
             [
              0.5555555555555556,
              "#d8576b"
             ],
             [
              0.6666666666666666,
              "#ed7953"
             ],
             [
              0.7777777777777778,
              "#fb9f3a"
             ],
             [
              0.8888888888888888,
              "#fdca26"
             ],
             [
              1,
              "#f0f921"
             ]
            ],
            "type": "histogram2dcontour"
           }
          ],
          "mesh3d": [
           {
            "colorbar": {
             "outlinewidth": 0,
             "ticks": ""
            },
            "type": "mesh3d"
           }
          ],
          "parcoords": [
           {
            "line": {
             "colorbar": {
              "outlinewidth": 0,
              "ticks": ""
             }
            },
            "type": "parcoords"
           }
          ],
          "pie": [
           {
            "automargin": true,
            "type": "pie"
           }
          ],
          "scatter": [
           {
            "fillpattern": {
             "fillmode": "overlay",
             "size": 10,
             "solidity": 0.2
            },
            "type": "scatter"
           }
          ],
          "scatter3d": [
           {
            "line": {
             "colorbar": {
              "outlinewidth": 0,
              "ticks": ""
             }
            },
            "marker": {
             "colorbar": {
              "outlinewidth": 0,
              "ticks": ""
             }
            },
            "type": "scatter3d"
           }
          ],
          "scattercarpet": [
           {
            "marker": {
             "colorbar": {
              "outlinewidth": 0,
              "ticks": ""
             }
            },
            "type": "scattercarpet"
           }
          ],
          "scattergeo": [
           {
            "marker": {
             "colorbar": {
              "outlinewidth": 0,
              "ticks": ""
             }
            },
            "type": "scattergeo"
           }
          ],
          "scattergl": [
           {
            "marker": {
             "colorbar": {
              "outlinewidth": 0,
              "ticks": ""
             }
            },
            "type": "scattergl"
           }
          ],
          "scattermapbox": [
           {
            "marker": {
             "colorbar": {
              "outlinewidth": 0,
              "ticks": ""
             }
            },
            "type": "scattermapbox"
           }
          ],
          "scatterpolar": [
           {
            "marker": {
             "colorbar": {
              "outlinewidth": 0,
              "ticks": ""
             }
            },
            "type": "scatterpolar"
           }
          ],
          "scatterpolargl": [
           {
            "marker": {
             "colorbar": {
              "outlinewidth": 0,
              "ticks": ""
             }
            },
            "type": "scatterpolargl"
           }
          ],
          "scatterternary": [
           {
            "marker": {
             "colorbar": {
              "outlinewidth": 0,
              "ticks": ""
             }
            },
            "type": "scatterternary"
           }
          ],
          "surface": [
           {
            "colorbar": {
             "outlinewidth": 0,
             "ticks": ""
            },
            "colorscale": [
             [
              0,
              "#0d0887"
             ],
             [
              0.1111111111111111,
              "#46039f"
             ],
             [
              0.2222222222222222,
              "#7201a8"
             ],
             [
              0.3333333333333333,
              "#9c179e"
             ],
             [
              0.4444444444444444,
              "#bd3786"
             ],
             [
              0.5555555555555556,
              "#d8576b"
             ],
             [
              0.6666666666666666,
              "#ed7953"
             ],
             [
              0.7777777777777778,
              "#fb9f3a"
             ],
             [
              0.8888888888888888,
              "#fdca26"
             ],
             [
              1,
              "#f0f921"
             ]
            ],
            "type": "surface"
           }
          ],
          "table": [
           {
            "cells": {
             "fill": {
              "color": "#EBF0F8"
             },
             "line": {
              "color": "white"
             }
            },
            "header": {
             "fill": {
              "color": "#C8D4E3"
             },
             "line": {
              "color": "white"
             }
            },
            "type": "table"
           }
          ]
         },
         "layout": {
          "annotationdefaults": {
           "arrowcolor": "#2a3f5f",
           "arrowhead": 0,
           "arrowwidth": 1
          },
          "autotypenumbers": "strict",
          "coloraxis": {
           "colorbar": {
            "outlinewidth": 0,
            "ticks": ""
           }
          },
          "colorscale": {
           "diverging": [
            [
             0,
             "#8e0152"
            ],
            [
             0.1,
             "#c51b7d"
            ],
            [
             0.2,
             "#de77ae"
            ],
            [
             0.3,
             "#f1b6da"
            ],
            [
             0.4,
             "#fde0ef"
            ],
            [
             0.5,
             "#f7f7f7"
            ],
            [
             0.6,
             "#e6f5d0"
            ],
            [
             0.7,
             "#b8e186"
            ],
            [
             0.8,
             "#7fbc41"
            ],
            [
             0.9,
             "#4d9221"
            ],
            [
             1,
             "#276419"
            ]
           ],
           "sequential": [
            [
             0,
             "#0d0887"
            ],
            [
             0.1111111111111111,
             "#46039f"
            ],
            [
             0.2222222222222222,
             "#7201a8"
            ],
            [
             0.3333333333333333,
             "#9c179e"
            ],
            [
             0.4444444444444444,
             "#bd3786"
            ],
            [
             0.5555555555555556,
             "#d8576b"
            ],
            [
             0.6666666666666666,
             "#ed7953"
            ],
            [
             0.7777777777777778,
             "#fb9f3a"
            ],
            [
             0.8888888888888888,
             "#fdca26"
            ],
            [
             1,
             "#f0f921"
            ]
           ],
           "sequentialminus": [
            [
             0,
             "#0d0887"
            ],
            [
             0.1111111111111111,
             "#46039f"
            ],
            [
             0.2222222222222222,
             "#7201a8"
            ],
            [
             0.3333333333333333,
             "#9c179e"
            ],
            [
             0.4444444444444444,
             "#bd3786"
            ],
            [
             0.5555555555555556,
             "#d8576b"
            ],
            [
             0.6666666666666666,
             "#ed7953"
            ],
            [
             0.7777777777777778,
             "#fb9f3a"
            ],
            [
             0.8888888888888888,
             "#fdca26"
            ],
            [
             1,
             "#f0f921"
            ]
           ]
          },
          "colorway": [
           "#636efa",
           "#EF553B",
           "#00cc96",
           "#ab63fa",
           "#FFA15A",
           "#19d3f3",
           "#FF6692",
           "#B6E880",
           "#FF97FF",
           "#FECB52"
          ],
          "font": {
           "color": "#2a3f5f"
          },
          "geo": {
           "bgcolor": "white",
           "lakecolor": "white",
           "landcolor": "#E5ECF6",
           "showlakes": true,
           "showland": true,
           "subunitcolor": "white"
          },
          "hoverlabel": {
           "align": "left"
          },
          "hovermode": "closest",
          "mapbox": {
           "style": "light"
          },
          "paper_bgcolor": "white",
          "plot_bgcolor": "#E5ECF6",
          "polar": {
           "angularaxis": {
            "gridcolor": "white",
            "linecolor": "white",
            "ticks": ""
           },
           "bgcolor": "#E5ECF6",
           "radialaxis": {
            "gridcolor": "white",
            "linecolor": "white",
            "ticks": ""
           }
          },
          "scene": {
           "xaxis": {
            "backgroundcolor": "#E5ECF6",
            "gridcolor": "white",
            "gridwidth": 2,
            "linecolor": "white",
            "showbackground": true,
            "ticks": "",
            "zerolinecolor": "white"
           },
           "yaxis": {
            "backgroundcolor": "#E5ECF6",
            "gridcolor": "white",
            "gridwidth": 2,
            "linecolor": "white",
            "showbackground": true,
            "ticks": "",
            "zerolinecolor": "white"
           },
           "zaxis": {
            "backgroundcolor": "#E5ECF6",
            "gridcolor": "white",
            "gridwidth": 2,
            "linecolor": "white",
            "showbackground": true,
            "ticks": "",
            "zerolinecolor": "white"
           }
          },
          "shapedefaults": {
           "line": {
            "color": "#2a3f5f"
           }
          },
          "ternary": {
           "aaxis": {
            "gridcolor": "white",
            "linecolor": "white",
            "ticks": ""
           },
           "baxis": {
            "gridcolor": "white",
            "linecolor": "white",
            "ticks": ""
           },
           "bgcolor": "#E5ECF6",
           "caxis": {
            "gridcolor": "white",
            "linecolor": "white",
            "ticks": ""
           }
          },
          "title": {
           "x": 0.05
          },
          "xaxis": {
           "automargin": true,
           "gridcolor": "white",
           "linecolor": "white",
           "ticks": "",
           "title": {
            "standoff": 15
           },
           "zerolinecolor": "white",
           "zerolinewidth": 2
          },
          "yaxis": {
           "automargin": true,
           "gridcolor": "white",
           "linecolor": "white",
           "ticks": "",
           "title": {
            "standoff": 15
           },
           "zerolinecolor": "white",
           "zerolinewidth": 2
          }
         }
        },
        "title": {
         "text": "Total Explained Variance: 76.45%",
         "x": 0.5,
         "xanchor": "center",
         "y": 0.9,
         "yanchor": "top"
        },
        "width": 800
       }
      },
      "image/png": "[encoded data removed]",
      "text/html": [
       "<div>                            <div id=\"6ef8a398-33ca-4e66-9bd2-ba74c6429386\" class=\"plotly-graph-div\" style=\"height:600px; width:800px;\"></div>            <script type=\"text/javascript\">                require([\"plotly\"], function(Plotly) {                    window.PLOTLYENV=window.PLOTLYENV || {};                                    if (document.getElementById(\"6ef8a398-33ca-4e66-9bd2-ba74c6429386\")) {                    Plotly.newPlot(                        \"6ef8a398-33ca-4e66-9bd2-ba74c6429386\",                        [{\"hovertemplate\":\"PC 1=%{x}\\u003cbr\\u003ePC 2=%{y}\\u003cbr\\u003ePC 3=%{z}\\u003cbr\\u003ecolor=%{marker.color}\\u003cextra\\u003e\\u003c\\u002fextra\\u003e\",\"legendgroup\":\"\",\"marker\":{\"color\":[44.96890141632501,47.61519288110324,48.96920424897503,46.75095508758852,42.41345974655237,44.88038110324264,40.84105944837868,42.32493943346999,52.377818673127095,48.12127282892285,47.09746552366754,50.72971021244875,47.37059727916512,47.23432258665673,47.23781680954156,47.14871412597838,50.82929556466642,43.95091781587775,45.81974468878121,47.21743384271338,50.80774785687663,52.48031587774879,46.44288110324264,47.09688315318673,40.38156913902348,45.37481364144615,38.93321375326128,45.40626164740962,53.045797614610514,51.49145080134178,59.75004658963846,48.59998136414461,46.20469157659336,49.37336936265375,49.17943999254566,45.87972884830413,49.75016306373463,47.61868710398807,51.55667629519195,48.97968691762952,49.66106038017145,48.265700708162505,31.073541744316064,31.002492545657844,40.21734066343645,40.88124301155423,40.82650018635856,40.29654304882594,43.451243943347,40.28955460305628,40.0391352963101,34.497297800969065,47.336819791278415,42.95855851658591,47.46202944465151,40.93190924338428,52.35102963101006,52.8611861721953,55.38052087215804,52.667256802087216,47.95646198285502,52.40286060380171,52.56534196794633,49.25048919120388,40.07931885948565,46.45918747670518,48.97444558330227,50.77629985091316,53.61244409243384,50.27371412597839,57.071142377935146,41.43100074543422,44.4622390980246,34.197377003354454,35.7994781960492,36.81746179649646,37.76323145732389,34.32549850913157,34.217759970182634,42.29815039135296,45.21932072307119,46.80919213566902,47.02117499068208,49.25048919120388,43.47512113306001,46.76318486768543,49.39724655236675,43.47686824450242,43.77737141259784,57.82589452105852,57.95983973164368,46.63273387998509,41.53175083861349,43.117545657845696,52.73248229593739,57.42347651882221,45.11915300037272,43.479197726425646,43.62653745806932,44.10932258665673,41.03615355944838,51.21074822959374,41.29763790532985,49.036759224748415,57.93013883712263,46.501700521803954,53.11568207230712,45.179719530376445,50.65341967946328,52.55369455833024,49.57021058516586,50.05357808423406,41.87010808796124,41.2568719716735,43.70690458442043,44.47563361908312,46.19246179649646,39.10559541557957,33.16075754752143,29.914042117033173,29.717200894521056,39.867336004472605,39.89179556466642,39.91800223630265,33.942298732761834,34.49613306000746,34.630660641073426,34.40237141259784,33.95336377189713,34.36509970182631,34.523504472605296,34.569511740588894,42.95040532985464,42.503144800596345,50.56955833022736,51.8263138278047,50.335445396943726,50.040183563175546,56.39384550875886,54.75971393961983,42.289414834140885,42.3371692135669,43.898504472605296,37.00032612746925,43.01912504658964,48.55572120760343,48.55513883712263,46.36833768169959,46.38522642564294,39.41366939992545,39.32107249347745,39.28554789414834,44.31955833022736,43.97304789414834,47.18598583674991,44.89668747670518,39.58139209839732,40.06068300409989,40.24878866939993,40.5673453224003,47.69148341408871,53.46801621319418,41.831089265747295,47.686242079761456,41.22542396571003,40.88590197540067,45.86924617964965,32.641283078643305,38.715989563920985,33.91900391352964,39.64894707417071,35.79074263883712,37.95832556839359,39.0048453224003,34.184564852776745,34.8001304509877,32.15500372717108,32.54985091315692,36.28808702944465,42.15546962355572,39.73106131196422,39.86384178158777,42.18167629519195,39.65011181513232,39.964009504286246,41.34422754379426,42.52643961982855,44.35450055907566,40.58598117778606,47.09105944837868,47.823681513231456,48.25987700335445,46.10685333581812,43.726122810287,43.557817741334325,43.71331065970928,36.67419865821841,42.9113865076407,43.705157472978016,42.30572120760343,44.36323611628774,50.91723350726798,52.04586749906821,44.86116287737608,49.31979127841968,46.23381010063362,44.028373089824825,49.16604547148714,48.85447726425643,40.583069325382034,44.29509877003354,46.1621785314946,43.32428717853149,46.82433376816996,56.97155702571748,47.78699217294074,46.07424058889303,50.140933656354825,49.32969157659336,43.3126397689154,40.17540998881849,44.14892377935147,41.95571654863958,43.3132221393962,44.90600540439807,59.915439806187095,43.2905096906448,44.16814200521805,37.68519381289601,45.87332277301528,47.6215989563921,46.36367871785316,43.19150670890794,44.416231830041,41.43333022735744,45.85352217666791,45.79353801714498,42.70580972791651,50.95159336563548,54.00263231457324,53.82850354081252,50.50840942974283,43.88569232202758,42.7052273574357,47.80388091688408,52.39936638091688,50.22304789414834,44.055162131941856,45.81974468878121,44.13378214685054,58.03845974655236,50.57538203503541,42.34357528885575,45.35792489750279,45.52855944837868,45.37481364144615,48.86321282146851,52.39761926947447,45.21582650018636,44.20716082743198,52.31958162504659,52.22465523667537,48.24124114796869,48.68500745434216,38.62106317554976,44.523970368989936,38.38170890793887,40.855036339918,38.77189713007827,40.82358833395453,42.89740961610138,46.79754472605293,48.5871692135669,46.63564573238912,54.05504565784569,55.29491241147969,57.04493570629892,54.75971393961983,55.02178065598211,44.87979873276184,44.680045657845696,44.51698192322028,44.89028140141632,55.38285035408125,62.31713566902721,43.68419213566902,39.22905795751025,41.21494129705553,42.93176947446888,40.76243943346999,42.4973210957883,44.258991800223626,37.403908870667166,40.27150111815132,42.91313361908312,40.22141725680209,42.54915206857995,55.583185799478194,43.5892657472978,36.57810752888558,60.490821841222505,60.54847651882221,60.51469903093552,60.14023481177786,54.80572120760343,54.82785128587402,54.83542210212449,54.82260995154677,55.03925177040626,38.64959932910921,48.11486675363399,54.66012858740216,57.244106410734254,57.16723350726798,57.05541837495341,56.935450055907566,56.86440085724935,56.94360324263885,49.06413063734625,51.250931792769286,46.29379426015654,50.4367778606038,52.042373276183376,43.97130078270592,45.38587868058144,52.595625232948194,47.42417536339918,47.23315784569512,47.727008013417816,47.575591688408494,43.23169027208349,53.61360883339545,54.45629891912039,54.45338706671636,54.922777674245246,54.52210678345136,54.48192322027581,44.40400204994409,52.4115961610138,50.64934308609765,42.06578456951174,37.86048732761834,59.9148574357063,59.86652068579947,59.93640514349609,59.32491613865077,58.013417815877744,50.09376164740962,49.688431792769286,45.02247950055908,46.92974282519568,47.77243291092061,42.75938781215058,45.97349049571376,46.71892471114425,49.27902534476332,44.18736023108461,45.921659522922106,44.258991800223626,53.71494129705553,57.60459373835259,57.56615728661946,51.22356038017145,43.3132221393962,55.77769754006708,54.82260995154677,50.8613259411107,50.778046962355575,48.68675456578457,49.44208907938874,51.86358553857622,48.70655516213194,49.37278699217294,50.093179276928815,49.89400857249348,44.278792396571006],\"coloraxis\":\"coloraxis\",\"symbol\":\"circle\"},\"mode\":\"markers\",\"name\":\"\",\"scene\":\"scene\",\"showlegend\":false,\"x\":[3.6936496321514496,-8.64476803672906,-15.888862794560065,-15.358849775182186,5.1108442488804435,-6.867802102380731,11.537056032822854,17.4868424626267,-42.06956640764971,-15.759502291262727,-3.4789817586815848,-23.988246645291923,-2.8256249100060695,-3.2220429238253594,-3.2325449277791924,-2.8169562228028497,-25.851728599374507,2.850731338615733,-5.772673047187987,-11.380652578774587,-20.54057237663166,-22.575538715564786,-8.400209969966792,-3.706478268769392,19.260357369203582,-9.294516761963202,37.06432115082979,-9.125467272513825,-17.17996623435156,-21.059446128505474,-53.927114159553405,-11.445186108629628,1.3897137808012914,-15.896457079962737,-15.456807217639618,1.09746270685993,-14.815124833562951,-5.857623026076187,-24.813874454791417,-14.956844710561398,-8.680980665563819,-9.616618783331203,57.697215189349606,58.007079041647046,46.24508827038052,42.28877422458542,42.86995347212051,45.46089696244334,21.534049729111807,45.918632872505704,47.11113284915156,37.12358621172558,-15.470043541368495,2.6237222811797847,-18.238509092119166,6.753486233455501,-11.558080023274147,-16.576924210323494,-27.981503461931563,-17.241023620298492,-16.91145296179601,-35.01796817106205,-35.451423452184365,-28.855861446309717,37.354373071059946,-11.991098734910159,-13.386898057472758,-32.15819902017574,-26.199845839740433,-30.427788353862734,-56.37399730675714,25.658252026743185,-1.4933437493656203,38.117893758534876,35.23350392971508,29.844607889324696,31.37223849882878,37.70424701880211,38.21285111112819,6.311802546683487,-8.493684946021908,-15.009964062997405,-17.1080470734448,4.887670661040845,9.875750933692995,-7.783705692275039,-12.495547340399586,10.148018308648417,8.189609635633126,-44.15215556321436,-44.82313659543459,-0.9770149868819089,11.683384680437323,35.173995493863394,-4.491450837290151,-58.12805819037738,-3.963170590345956,7.931185653756856,5.073023254366129,3.455230623907742,16.832814868470127,-18.85470304800761,13.987502621966716,-23.464063897966756,-58.7991091058722,-11.420594761107914,-37.1875846940546,-9.811133910832735,-26.912046823142365,-37.299192300868164,-21.418792186847373,-27.13901265759398,10.98453838654938,8.812891608442824,-2.4372685874129902,-5.525452454809014,-8.719698273789497,50.88349117383942,65.0916951368254,70.14940726568443,70.84004962074343,50.46590796770883,50.223019946039244,50.251555025091996,39.668408709645696,36.02161279382016,35.500099300270506,36.64599129242269,38.7883899323269,36.777196829374034,36.19192234617659,35.7835342615296,29.435700173151208,33.052173925755845,-20.822098041766907,-28.804449451558558,-14.936707714665006,-16.863198781206385,-46.89034943759149,-35.63940818927253,39.78493326670891,37.39965948275043,35.852618306131966,53.69155044845739,38.32140947484334,9.267565550524452,8.247246531864551,11.793284077216137,11.975153221177772,46.82195638713321,47.8651100367679,47.54789899311361,31.04124427702299,30.689657529781574,12.07381281960716,21.10979072994666,16.566604184430457,37.482949901771036,11.661276474445893,8.199309047255191,-16.768523298435156,-32.35990304171827,3.381530334688768,-16.675937749063568,5.819288184067167,6.910330185328676,-13.2046373983884,44.997329162111846,14.443971957049374,38.37541949181498,51.80978577626563,63.07591812387154,56.88422954927077,49.56909071900373,36.99008031777997,33.79164166366881,68.18410206614925,45.58791582354373,59.158726142300814,31.229850890543528,46.715739688713434,43.90130882038438,32.50385903168813,48.54716162963783,46.36395247621741,38.80278904258839,33.04092000533563,21.46306746524623,43.821368676139535,14.877791486173429,8.337475710341286,5.292204624553166,18.266113707867735,34.27529723180534,34.31309244609855,32.78267024740149,49.96359215077652,39.59248927804981,34.19519928149521,41.09906971617933,27.130321604058338,-4.799881732920984,-6.735663572556337,-1.7082902799664894,-22.118282184166265,-8.036618446106186,3.0716779011152955,8.055255710891977,1.4564357504000967,32.823028523456024,23.290337327245584,10.18471207611334,6.313959099988566,-13.448375973031407,-51.39326168009002,-17.08284833387603,-10.083177873808243,-19.691551883846884,-14.64148241425091,-2.0126742337425965,37.22410820318911,16.16285071755225,32.838120898389334,0.5358683579359472,21.791559672526112,-67.21595961690723,-2.51484738377914,32.842090180907775,26.287759176803547,15.99901234187236,-15.006086575207016,-10.82692665210001,2.834186068584972,-1.9215044215264074,25.645000278474523,14.379067388466913,-0.6547621316604011,7.954900182045673,-31.10202579683103,-41.80802081694654,-40.6075108643133,-27.700833054969458,4.565558536851791,7.9547239956323,-6.801476970743528,-31.523006696067522,-22.50586068496087,-4.483161588281496,-8.440770806417133,2.478465875450141,-57.026156985688715,-29.13779621735784,11.436378212468835,2.2308955210918593,-6.070843884745643,3.468183925755592,-22.249138637479927,-17.935447848927375,1.8371634396727847,1.7823297715126598,-36.50940773186239,-36.15520265521107,-15.10880637379956,-19.308861076402387,20.794036702730658,-6.692611308727435,42.40532559599984,14.708752147985892,19.42485574565824,32.81181346208938,2.1767590784525694,11.284957139417026,-20.073086583567914,15.745625252675326,-43.52892180621721,-50.09722173259654,-50.080764613084426,-40.92424899027919,-41.772663103865185,22.007961109296936,23.42034663052547,24.662937777726338,22.666756990925553,-29.508870223151927,-70.28059586084284,6.7348947745253955,31.0261992325585,15.498559382970935,12.520246342564665,19.543882909515887,10.086668826804384,5.371097244760573,35.229995297646354,19.576305849678633,7.206384706993171,20.278948383098903,11.650064017427672,-38.34795067034921,6.375533065032912,29.558122174681337,-57.515271351721836,-57.592004748595855,-57.37563414046793,-56.352338395596895,-40.47863465647158,-40.526016043911625,-40.59755749117451,-40.55107216298458,-38.64370441823257,24.648506238618303,-21.01403645836212,-22.05796146289104,-46.883090549694174,-50.58051016525839,-46.02875529018712,-49.651613573550314,-45.10702336647634,-49.67696274330237,2.3124691712913776,-9.59187009797296,17.704353800895788,-6.004401784534361,-16.363629674355,30.75978009638681,-8.753571788743471,-35.75732831855104,11.536900699080993,10.671603403555405,3.6330680008194434,10.048017772885654,21.406159204733957,-34.54370961861609,-33.26655513127372,-33.25308204690826,-36.862627609667676,-34.0085595356484,-33.343028276295804,-5.135325499767979,-36.14488276564984,-14.178959258804902,3.121443204124217,27.701348631676396,-61.35312474159641,-61.18699086553955,-61.446182615791336,-58.98163753669046,-53.770210323403184,-18.642390287019104,-15.985534947202023,5.08274197375992,-8.680068116358667,-10.924037525227767,21.096870624185893,3.3138149195144515,-5.476137596273032,-22.021576708870832,-6.549690526543618,-10.66759474327033,-5.659653201570092,-33.02683491689647,-55.06651178103502,-53.47831314212057,-27.66132469299637,4.1217610455465685,-43.50288703702061,-38.15170283448725,-17.053807824804153,-23.51720419536557,-5.393065484602387,-7.670474112623018,-20.40493315458537,-18.414278711239678,-20.671890175672996,-24.26866155417947,-25.4380129116725,3.8019406257669677],\"y\":[-5.061245464995749,-4.311411534203829,-0.17619167048000534,26.183542898306357,27.94791321239388,25.415979329713423,24.847887624030268,26.540885058413675,39.98178509648593,18.115587202527575,-1.8740086313372477,2.355641908219506,-11.529118034928446,-10.143695101276888,-10.083919668752637,-10.228328359383319,-3.8943060772446962,5.775117620342859,3.130772418805141,4.982778935721366,-11.374301371053406,-9.928726150685257,1.5918174788089454,-1.5800886576414623,26.206739763335744,39.191959009046926,-4.497781763224486,29.289631063163814,-37.144873735497505,-4.781805374137952,-30.17260723875078,3.775749479695441,-2.199311027990826,-2.386807442719189,-1.3676198546594787,-10.698967783348255,-12.48588033214244,-9.149733944238495,-14.43764762772191,-6.490007155138371,-24.567256240862182,-8.471573484216398,31.06654023489674,31.16333458600597,-31.19623118640538,-29.497108128395457,-29.519295164346214,-30.93263858118816,-20.623078716953376,-31.386731717241553,-30.963788468241077,48.686331426599985,27.641452948218667,33.349567606874736,37.67319088439487,52.55861061563367,-41.2990719688745,-36.44877819584683,-39.31842216265476,-33.13374758631147,11.788141123607677,11.08618819335509,10.19928960387965,43.71474054507377,-13.356917613622553,28.06377026321699,14.908850645943676,27.88721947324152,-26.901670987689116,23.329765264315288,13.223225315774034,-10.446117392975914,16.266818271969612,50.28014413984386,39.1082893335139,36.81296333770052,28.128566655566527,49.42602151746038,49.157265784003926,30.625111170263523,35.51279466518456,34.037514739543745,37.50944637520747,-43.276004811496605,-1.0442034647299026,2.7603813001397195,-14.406013912699018,-1.319548398066579,-0.9985393167891664,-32.62430249521994,-32.69978695466809,-4.120072764141431,15.18937070438379,-37.58077574611573,-54.74035453091272,12.409728868721343,8.980816459520375,1.6671157070281182,4.443285534252848,2.64066437928277,8.28972581771921,-19.560743172782086,15.361369073912167,25.12376086183175,2.4580991483989383,22.56587248309271,5.687267489822474,33.09505419130594,4.806167750664848,17.61058821404158,4.383960510712617,24.517698922067986,14.726414861650031,41.257317286469174,40.35646779566145,29.777273232010216,20.0695979873597,-31.421863735315675,-3.5403456359306653,18.048950266433884,18.341429833272922,-35.75922014783507,-35.58179514270436,-35.559698275798254,49.99576025822371,53.22316484593358,52.463664496397975,52.412115763390005,52.18428561624311,52.534976254084555,52.43908477754763,53.02765830463674,-21.557471399735505,-25.24269360015782,-11.805079581517477,-9.694642964632639,-18.799894219686166,-14.16115805186783,-17.71906384189813,-16.37062079010136,-41.12941060806096,-35.845890485712616,-46.80061436622257,-15.48554310331519,-43.746612589120495,-29.28428902295457,-29.923132635664278,-13.806021344028933,-13.97113319964173,-26.024804624842634,-27.26063478429473,-26.859746183955018,-42.6776134154215,-40.18963792735259,-36.04510054206607,-29.076779019415238,41.6007373346201,-13.38378334033476,49.40119915601319,52.53454006158142,23.278608379248737,-17.509451329954327,52.19303747296644,23.076452782150923,50.98682355911694,52.23735056796188,44.3733617244546,50.633746098221735,61.18766235079615,54.9617979333648,-36.736279191618465,-20.038652002478322,-29.934198897856618,-29.572030545445543,55.865467941222995,56.70315458527057,0.18086534186859068,53.23433903910755,-21.63383265840789,-24.729676837963986,-28.614502414636593,-25.751806692858732,-22.08918125788169,-29.53770984264262,-29.444975927348278,-25.923416075599246,-24.504246073985648,-25.686407267453767,-29.610581571898216,-40.6402687644547,-33.46632142665302,-31.002512076981546,-33.13461002329214,-43.04559392798235,-42.281617952381936,-41.3311998967932,-9.606396802251032,-44.29138792028736,-42.77466130222916,-41.07987186495359,-36.80785391227464,-41.13183476665662,-45.01826424139677,29.909759597122964,18.44271388790261,17.540794551331928,14.563469852937205,-45.81495225326927,-32.974328567573615,-5.3339774239960445,-27.631138739471716,-20.385574458580525,5.306054066609521,23.322874058227878,2.0721000685241373,25.411646961467554,27.335516726645317,13.724844404846056,3.7056951698117735,40.206882471023896,-13.570741337579802,-15.38155742148331,-26.434197461997833,46.17318167783725,-29.49571570767813,4.940330082931148,50.035622244565054,-42.895716265478626,46.40783723041468,-30.633918670293006,13.711855463479418,17.08250493305363,22.2629813630733,18.150773521048148,-10.441273021804053,-24.14220271003463,16.192236091315984,10.536071992254957,17.55806233239772,5.290368434928388,3.6076143608709015,11.850299028587363,23.219452001150557,10.54360424649949,11.640524717418147,-10.31757889184672,-6.3764867797864415,35.857490998964465,19.185213645998076,26.901014075936846,-5.238701897305426,25.076617851625404,25.13448559902963,11.43784708996209,23.471321137827946,14.49537656112831,20.855598679808747,-18.31143535501051,13.303300759342203,14.058535187089994,18.790817182178888,15.868653165458394,7.052873273896607,9.586567882623827,44.82641086364463,44.39864456509188,-6.730623275285313,35.26877345964811,45.39970314550518,-14.027499869491145,31.65172446476,-32.56885519777161,36.658624825981484,-39.573076864833084,14.876055103849824,18.895394648341966,-18.11072093447021,-14.030877270255235,-14.526081410834953,-29.762999490172653,-30.49199736831663,-31.22441618926583,-31.147040674974797,-29.245778077124235,-27.572978957777543,8.391416797362835,12.569108769126817,9.678434322644103,6.342750891554161,8.587937606308612,7.4499811151168664,4.196778356411469,16.187570477956232,11.197944588514385,8.261168671720752,16.05368596698168,6.819575567631571,-18.70733383771432,4.706172850968071,44.16532218532927,-25.767388124091934,-25.96377843664831,-26.129299514274653,-25.06112296459897,-13.368431099032614,-13.571588476487468,-13.449315161599506,-13.394507733167183,-15.468926274903072,27.700111568648264,36.386470783408576,-41.98210650399194,-19.54599516392484,-18.320200116836045,-19.19091580236697,-17.88179059307846,-18.884518834705553,-17.88984103433383,-35.86016992351527,-33.94453311909762,-38.69014768702419,-33.31774080148568,-29.106744636728262,-35.04521840367458,29.712225027042674,10.903878198674997,-38.83307132944372,-35.46363739108889,-27.221682385582405,-37.593553408400034,-17.904830451183656,-14.28717552336581,-24.477052563243138,-24.474556307834323,-23.153885003343696,-23.974179630856625,-24.616419329844287,36.844343280742514,11.634919022115941,-10.27494357443489,33.768679814627006,37.63719448044649,-23.166976768682908,-23.059692373319628,-23.200083288266093,-22.161519395242756,-19.905204688819694,-9.37509787318529,-10.145646517679072,-3.723503390094758,5.937768182875563,1.1954583462865997,-10.096897887962553,-10.135277588780664,15.177672392461638,11.424184659833436,49.39326172783943,34.234776679635154,45.04170380867414,-14.472146151539997,-4.654819331278909,-11.939219527466,1.924617681974594,16.61001656252675,-16.069164634219508,-10.756529566111704,-11.962290988733171,-5.4547661499913955,-17.103890399835883,-19.77158395399186,-20.875757548624122,19.674493007560535,17.578170142054336,15.824960749219247,13.691229413917183,22.786031372050797],\"z\":[6.767247480795002,-6.470653062485084,7.6005697577137505,58.77350288058882,40.39666213987124,60.65165305734642,60.75888498111658,-59.928446485485644,43.96046843958456,-23.79924510180146,-14.691225732676848,-18.767594576905754,-19.187553419704557,-17.79128831339033,-17.864552548670595,-17.82344154154486,11.941498156486999,19.10536496790385,34.6550595548116,-0.2244680049520735,-15.174882795214083,-47.36955868721689,23.845320622790858,-33.248529438751866,-15.274541513065547,-10.653828920668374,5.424901453670298,3.650366357723389,-9.184812212402536,-25.378063497158784,-11.44441239823381,-26.663424236345772,-8.271872004838027,-11.322081563471693,-10.292108506936312,39.115390108023966,20.52737040619895,0.744438328425403,14.144328707296275,6.895515661300218,9.21847998063007,-1.5228381754548344,4.6538508229891375,4.621306274031477,-6.996545482689447,-9.059441035434592,-9.991314254665854,-6.604895381263493,32.867960446548395,-6.903887914296311,-7.071673219703927,0.9494855471465731,3.1810501461273715,19.228429998254956,25.46017864913533,-6.857371699962929,-9.707648221585385,-8.107408040297486,3.1818992577684746,-7.287306669845418,-8.462374625626559,-6.416429366573552,-5.1235445797087475,-8.363055984580548,-2.0802801758246763,20.859324985931664,-35.966693782957925,13.109273395421946,-3.0185727622846468,11.619722296416057,14.6604951110361,12.275715567106397,13.638345623724014,-1.2513087812903934,-10.324782067846652,13.85338187929963,-20.907919014649032,-0.2198911263859171,0.18090992539480416,22.418759150969358,-6.4167328000790445,-5.2284734781607005,-10.888526881461363,-7.224955443893974,-2.2036435025503507,-6.739291076284386,-2.3737412072909527,-2.6624658186026444,-0.3414422605646587,-12.025190230955063,-12.218006092766956,-20.091101795851053,20.37529523461686,8.734347950416225,5.72010377982142,-7.450699379580935,23.18049951991311,-1.847613789574168,3.6826701939044932,7.274223080928046,0.4732830032664198,-1.4735191102062677,-3.348267122397139,1.1913197829321893,5.97343053290337,-9.415061405857491,-11.779322903818919,14.988236497546502,2.4152989084433663,34.866196011464595,18.582113075775112,15.677620410443998,25.35040731473933,-4.687525488993277,6.3108104030005405,12.568049732680628,2.8529526262176508,12.65662049003269,8.584005832126472,14.534084138317263,13.632954957191135,2.7515353638347646,2.6282596183554157,2.210572451829858,-6.127602925374892,-2.787924628781696,-2.8878163146954883,-3.6658214831388114,-0.6443087983873197,-1.9066230445977381,-4.629210570890459,-5.260514139507899,-16.14427380961496,-14.840969544067883,-2.609404361568409,28.686947741951094,-2.5405314137384236,6.703455348315819,31.43426233752745,-18.153034069208648,21.365992392222132,-8.649899243629239,8.971036522808772,-12.846443883760317,11.4232185198442,-19.488815796681763,-8.197038275575316,-18.83935455342974,-19.207469203704697,3.5219030068974284,2.888499372100357,5.443229422986957,15.257290735641417,18.851283490927223,25.21095496091914,33.855413120815854,-7.606022005628806,-2.110915668813452,2.989535902615028,-8.67024610575377,18.985438227690608,-6.203862954312053,1.2624078248352688,19.06815010720113,-9.513175590262433,-7.353848512408461,-0.44357500110907444,8.20236820758691,7.7496750041490845,1.147212321244837,5.213689668509683,-14.052255861467478,-1.4596728524089675,14.366247091177236,0.7656999873528562,0.7174029071294014,14.073760653353107,-5.690223611201088,8.312108310324957,-9.192862034756855,-6.330286136541509,-6.0340015249434575,-14.621675067680702,-7.556247876079986,-4.514113964849222,-11.91993197507441,-14.49222434707758,2.13706727493063,-8.907607995662937,-2.3201722406605714,-6.078116364416818,-5.878456745171327,-9.178291056223394,8.982726738901745,14.928911777490411,18.144615194192983,16.81500591473965,8.861628825090447,9.402191472003999,2.161525603998557,-5.389467046589899,9.807883095361102,13.406939201047864,-31.89208134314824,12.565451333846221,-19.28754436379126,-16.682733454319784,2.3238517007740236,11.350728307873469,-31.53750508479012,13.027693996728582,1.3174627583822085,30.611701847857255,37.14016930335113,-24.949466969048984,27.904828113402402,20.66201689154421,-36.58350834844974,-33.99828499128175,18.575365841953783,-2.9373257434603754,-13.33579531246695,7.887857220458046,-18.11711144111257,3.2474497583120336,-5.060707507065726,-0.028818932417176816,4.974194240688276,-21.30628447062535,30.85769742487939,12.085291848780452,19.899494987026216,14.665165843003667,15.676167672323137,12.276382116660995,-4.495920906172044,-34.6224322622013,26.014493305118243,23.89417554874564,10.924843555568936,10.078001015720133,6.5944677961769305,-19.150322466728603,25.987967849558782,-39.41928410025562,-5.378466707460492,-5.6703578538307315,8.695637379326602,3.765100012860007,-22.059624593262072,-9.152039987139082,-18.28799105279895,-18.912191912507538,-28.12337284160597,-9.217221599504676,-38.9868305016378,35.486252168153634,-34.406618378120754,-19.548627634176672,16.991518712291548,28.61451877173172,40.82156838606991,13.447967885603104,4.2648003669896495,-9.567533639546879,-11.286181578045237,0.6802351410199131,-17.407224422313508,-6.522536573443145,-13.326069135234158,-4.545899280483572,9.276179626685943,-20.791681977484135,18.953026170770723,-7.980632396245511,-0.3026548937961768,13.759757119689727,11.487728939021157,10.380407868122326,3.8614264057513075,2.8147349035904203,0.7133851283308733,2.277708568651233,-14.115895867425152,18.80030911405728,-10.645322798258764,-32.42000908769963,-0.49106724846654476,-20.239255032622697,0.9451595160869656,-0.26608991010207356,-11.585301439168141,-18.549845857260507,-1.5088860189239062,35.36558901383156,1.3394163970812474,-10.21555578669102,-20.47976320453834,12.688370219904622,-9.03443270111794,-30.095815537289777,-30.29769625351827,-29.662453388862666,-28.977193587722315,-4.902955518690553,-4.907875425548927,-4.852205331507564,-4.899667298990432,-17.756352404169725,-7.364262247261383,-14.783826837025936,-1.8585308910482412,-21.8819910527495,13.674950231312682,-22.32767495750466,14.019488916946472,-22.91259684400918,14.253142652928979,-3.0966891377220893,0.6737210223655862,4.565621972817244,-4.4487349871634985,-0.6912345264547557,2.300741080062428,-3.409925498719341,-4.605411489340708,20.23739783683471,12.415482457277275,2.9635276679701983,15.60221395683411,4.465065113761144,12.415100799939491,-1.2545961703859425,-1.2596157549099696,-2.265521218944991,-1.760999291059778,-1.9105828787451604,-10.175377940931442,13.449232477455654,-37.768917276227164,45.00409670532473,-13.926990174786376,18.077499307514813,17.482442930862504,17.323196100315215,15.311432568127644,18.629181482081542,-3.7631959276201097,-7.167192272917547,-13.263098772109014,-8.5723383505213,-10.76314361983738,-12.901419997488201,-18.935697464822052,-28.68099775243797,34.38607460471911,-9.828994702389306,-16.774783900004554,-11.028413899037613,-11.090988886866574,-6.89818529288915,12.782284108658581,-1.0514345205477575,9.413413017107551,-6.006110660465027,-14.962996453782539,-19.518657574620995,-10.156671454696436,3.89350077883112,0.7221156795766746,-0.34528454960596827,8.110057303274088,9.181137026201911,13.167303519779054,26.29556391824467,-23.42911975026163],\"type\":\"scatter3d\"}],                        {\"template\":{\"data\":{\"histogram2dcontour\":[{\"type\":\"histogram2dcontour\",\"colorbar\":{\"outlinewidth\":0,\"ticks\":\"\"},\"colorscale\":[[0.0,\"#0d0887\"],[0.1111111111111111,\"#46039f\"],[0.2222222222222222,\"#7201a8\"],[0.3333333333333333,\"#9c179e\"],[0.4444444444444444,\"#bd3786\"],[0.5555555555555556,\"#d8576b\"],[0.6666666666666666,\"#ed7953\"],[0.7777777777777778,\"#fb9f3a\"],[0.8888888888888888,\"#fdca26\"],[1.0,\"#f0f921\"]]}],\"choropleth\":[{\"type\":\"choropleth\",\"colorbar\":{\"outlinewidth\":0,\"ticks\":\"\"}}],\"histogram2d\":[{\"type\":\"histogram2d\",\"colorbar\":{\"outlinewidth\":0,\"ticks\":\"\"},\"colorscale\":[[0.0,\"#0d0887\"],[0.1111111111111111,\"#46039f\"],[0.2222222222222222,\"#7201a8\"],[0.3333333333333333,\"#9c179e\"],[0.4444444444444444,\"#bd3786\"],[0.5555555555555556,\"#d8576b\"],[0.6666666666666666,\"#ed7953\"],[0.7777777777777778,\"#fb9f3a\"],[0.8888888888888888,\"#fdca26\"],[1.0,\"#f0f921\"]]}],\"heatmap\":[{\"type\":\"heatmap\",\"colorbar\":{\"outlinewidth\":0,\"ticks\":\"\"},\"colorscale\":[[0.0,\"#0d0887\"],[0.1111111111111111,\"#46039f\"],[0.2222222222222222,\"#7201a8\"],[0.3333333333333333,\"#9c179e\"],[0.4444444444444444,\"#bd3786\"],[0.5555555555555556,\"#d8576b\"],[0.6666666666666666,\"#ed7953\"],[0.7777777777777778,\"#fb9f3a\"],[0.8888888888888888,\"#fdca26\"],[1.0,\"#f0f921\"]]}],\"heatmapgl\":[{\"type\":\"heatmapgl\",\"colorbar\":{\"outlinewidth\":0,\"ticks\":\"\"},\"colorscale\":[[0.0,\"#0d0887\"],[0.1111111111111111,\"#46039f\"],[0.2222222222222222,\"#7201a8\"],[0.3333333333333333,\"#9c179e\"],[0.4444444444444444,\"#bd3786\"],[0.5555555555555556,\"#d8576b\"],[0.6666666666666666,\"#ed7953\"],[0.7777777777777778,\"#fb9f3a\"],[0.8888888888888888,\"#fdca26\"],[1.0,\"#f0f921\"]]}],\"contourcarpet\":[{\"type\":\"contourcarpet\",\"colorbar\":{\"outlinewidth\":0,\"ticks\":\"\"}}],\"contour\":[{\"type\":\"contour\",\"colorbar\":{\"outlinewidth\":0,\"ticks\":\"\"},\"colorscale\":[[0.0,\"#0d0887\"],[0.1111111111111111,\"#46039f\"],[0.2222222222222222,\"#7201a8\"],[0.3333333333333333,\"#9c179e\"],[0.4444444444444444,\"#bd3786\"],[0.5555555555555556,\"#d8576b\"],[0.6666666666666666,\"#ed7953\"],[0.7777777777777778,\"#fb9f3a\"],[0.8888888888888888,\"#fdca26\"],[1.0,\"#f0f921\"]]}],\"surface\":[{\"type\":\"surface\",\"colorbar\":{\"outlinewidth\":0,\"ticks\":\"\"},\"colorscale\":[[0.0,\"#0d0887\"],[0.1111111111111111,\"#46039f\"],[0.2222222222222222,\"#7201a8\"],[0.3333333333333333,\"#9c179e\"],[0.4444444444444444,\"#bd3786\"],[0.5555555555555556,\"#d8576b\"],[0.6666666666666666,\"#ed7953\"],[0.7777777777777778,\"#fb9f3a\"],[0.8888888888888888,\"#fdca26\"],[1.0,\"#f0f921\"]]}],\"mesh3d\":[{\"type\":\"mesh3d\",\"colorbar\":{\"outlinewidth\":0,\"ticks\":\"\"}}],\"scatter\":[{\"fillpattern\":{\"fillmode\":\"overlay\",\"size\":10,\"solidity\":0.2},\"type\":\"scatter\"}],\"parcoords\":[{\"type\":\"parcoords\",\"line\":{\"colorbar\":{\"outlinewidth\":0,\"ticks\":\"\"}}}],\"scatterpolargl\":[{\"type\":\"scatterpolargl\",\"marker\":{\"colorbar\":{\"outlinewidth\":0,\"ticks\":\"\"}}}],\"bar\":[{\"error_x\":{\"color\":\"#2a3f5f\"},\"error_y\":{\"color\":\"#2a3f5f\"},\"marker\":{\"line\":{\"color\":\"#E5ECF6\",\"width\":0.5},\"pattern\":{\"fillmode\":\"overlay\",\"size\":10,\"solidity\":0.2}},\"type\":\"bar\"}],\"scattergeo\":[{\"type\":\"scattergeo\",\"marker\":{\"colorbar\":{\"outlinewidth\":0,\"ticks\":\"\"}}}],\"scatterpolar\":[{\"type\":\"scatterpolar\",\"marker\":{\"colorbar\":{\"outlinewidth\":0,\"ticks\":\"\"}}}],\"histogram\":[{\"marker\":{\"pattern\":{\"fillmode\":\"overlay\",\"size\":10,\"solidity\":0.2}},\"type\":\"histogram\"}],\"scattergl\":[{\"type\":\"scattergl\",\"marker\":{\"colorbar\":{\"outlinewidth\":0,\"ticks\":\"\"}}}],\"scatter3d\":[{\"type\":\"scatter3d\",\"line\":{\"colorbar\":{\"outlinewidth\":0,\"ticks\":\"\"}},\"marker\":{\"colorbar\":{\"outlinewidth\":0,\"ticks\":\"\"}}}],\"scattermapbox\":[{\"type\":\"scattermapbox\",\"marker\":{\"colorbar\":{\"outlinewidth\":0,\"ticks\":\"\"}}}],\"scatterternary\":[{\"type\":\"scatterternary\",\"marker\":{\"colorbar\":{\"outlinewidth\":0,\"ticks\":\"\"}}}],\"scattercarpet\":[{\"type\":\"scattercarpet\",\"marker\":{\"colorbar\":{\"outlinewidth\":0,\"ticks\":\"\"}}}],\"carpet\":[{\"aaxis\":{\"endlinecolor\":\"#2a3f5f\",\"gridcolor\":\"white\",\"linecolor\":\"white\",\"minorgridcolor\":\"white\",\"startlinecolor\":\"#2a3f5f\"},\"baxis\":{\"endlinecolor\":\"#2a3f5f\",\"gridcolor\":\"white\",\"linecolor\":\"white\",\"minorgridcolor\":\"white\",\"startlinecolor\":\"#2a3f5f\"},\"type\":\"carpet\"}],\"table\":[{\"cells\":{\"fill\":{\"color\":\"#EBF0F8\"},\"line\":{\"color\":\"white\"}},\"header\":{\"fill\":{\"color\":\"#C8D4E3\"},\"line\":{\"color\":\"white\"}},\"type\":\"table\"}],\"barpolar\":[{\"marker\":{\"line\":{\"color\":\"#E5ECF6\",\"width\":0.5},\"pattern\":{\"fillmode\":\"overlay\",\"size\":10,\"solidity\":0.2}},\"type\":\"barpolar\"}],\"pie\":[{\"automargin\":true,\"type\":\"pie\"}]},\"layout\":{\"autotypenumbers\":\"strict\",\"colorway\":[\"#636efa\",\"#EF553B\",\"#00cc96\",\"#ab63fa\",\"#FFA15A\",\"#19d3f3\",\"#FF6692\",\"#B6E880\",\"#FF97FF\",\"#FECB52\"],\"font\":{\"color\":\"#2a3f5f\"},\"hovermode\":\"closest\",\"hoverlabel\":{\"align\":\"left\"},\"paper_bgcolor\":\"white\",\"plot_bgcolor\":\"#E5ECF6\",\"polar\":{\"bgcolor\":\"#E5ECF6\",\"angularaxis\":{\"gridcolor\":\"white\",\"linecolor\":\"white\",\"ticks\":\"\"},\"radialaxis\":{\"gridcolor\":\"white\",\"linecolor\":\"white\",\"ticks\":\"\"}},\"ternary\":{\"bgcolor\":\"#E5ECF6\",\"aaxis\":{\"gridcolor\":\"white\",\"linecolor\":\"white\",\"ticks\":\"\"},\"baxis\":{\"gridcolor\":\"white\",\"linecolor\":\"white\",\"ticks\":\"\"},\"caxis\":{\"gridcolor\":\"white\",\"linecolor\":\"white\",\"ticks\":\"\"}},\"coloraxis\":{\"colorbar\":{\"outlinewidth\":0,\"ticks\":\"\"}},\"colorscale\":{\"sequential\":[[0.0,\"#0d0887\"],[0.1111111111111111,\"#46039f\"],[0.2222222222222222,\"#7201a8\"],[0.3333333333333333,\"#9c179e\"],[0.4444444444444444,\"#bd3786\"],[0.5555555555555556,\"#d8576b\"],[0.6666666666666666,\"#ed7953\"],[0.7777777777777778,\"#fb9f3a\"],[0.8888888888888888,\"#fdca26\"],[1.0,\"#f0f921\"]],\"sequentialminus\":[[0.0,\"#0d0887\"],[0.1111111111111111,\"#46039f\"],[0.2222222222222222,\"#7201a8\"],[0.3333333333333333,\"#9c179e\"],[0.4444444444444444,\"#bd3786\"],[0.5555555555555556,\"#d8576b\"],[0.6666666666666666,\"#ed7953\"],[0.7777777777777778,\"#fb9f3a\"],[0.8888888888888888,\"#fdca26\"],[1.0,\"#f0f921\"]],\"diverging\":[[0,\"#8e0152\"],[0.1,\"#c51b7d\"],[0.2,\"#de77ae\"],[0.3,\"#f1b6da\"],[0.4,\"#fde0ef\"],[0.5,\"#f7f7f7\"],[0.6,\"#e6f5d0\"],[0.7,\"#b8e186\"],[0.8,\"#7fbc41\"],[0.9,\"#4d9221\"],[1,\"#276419\"]]},\"xaxis\":{\"gridcolor\":\"white\",\"linecolor\":\"white\",\"ticks\":\"\",\"title\":{\"standoff\":15},\"zerolinecolor\":\"white\",\"automargin\":true,\"zerolinewidth\":2},\"yaxis\":{\"gridcolor\":\"white\",\"linecolor\":\"white\",\"ticks\":\"\",\"title\":{\"standoff\":15},\"zerolinecolor\":\"white\",\"automargin\":true,\"zerolinewidth\":2},\"scene\":{\"xaxis\":{\"backgroundcolor\":\"#E5ECF6\",\"gridcolor\":\"white\",\"linecolor\":\"white\",\"showbackground\":true,\"ticks\":\"\",\"zerolinecolor\":\"white\",\"gridwidth\":2},\"yaxis\":{\"backgroundcolor\":\"#E5ECF6\",\"gridcolor\":\"white\",\"linecolor\":\"white\",\"showbackground\":true,\"ticks\":\"\",\"zerolinecolor\":\"white\",\"gridwidth\":2},\"zaxis\":{\"backgroundcolor\":\"#E5ECF6\",\"gridcolor\":\"white\",\"linecolor\":\"white\",\"showbackground\":true,\"ticks\":\"\",\"zerolinecolor\":\"white\",\"gridwidth\":2}},\"shapedefaults\":{\"line\":{\"color\":\"#2a3f5f\"}},\"annotationdefaults\":{\"arrowcolor\":\"#2a3f5f\",\"arrowhead\":0,\"arrowwidth\":1},\"geo\":{\"bgcolor\":\"white\",\"landcolor\":\"#E5ECF6\",\"subunitcolor\":\"white\",\"showland\":true,\"showlakes\":true,\"lakecolor\":\"white\"},\"title\":{\"x\":0.05},\"mapbox\":{\"style\":\"light\"}}},\"scene\":{\"domain\":{\"x\":[0.0,1.0],\"y\":[0.0,1.0]},\"xaxis\":{\"title\":{\"text\":\"PC 1\"}},\"yaxis\":{\"title\":{\"text\":\"PC 2\"}},\"zaxis\":{\"title\":{\"text\":\"PC 3\"}}},\"coloraxis\":{\"colorbar\":{\"title\":{\"text\":\"Percent Buried\\u003cbr\\u003eVolume\",\"side\":\"top\"},\"x\":0.85,\"y\":0.5,\"xanchor\":\"left\",\"yanchor\":\"middle\"},\"colorscale\":[[0.0,\"#0d0887\"],[0.1111111111111111,\"#46039f\"],[0.2222222222222222,\"#7201a8\"],[0.3333333333333333,\"#9c179e\"],[0.4444444444444444,\"#bd3786\"],[0.5555555555555556,\"#d8576b\"],[0.6666666666666666,\"#ed7953\"],[0.7777777777777778,\"#fb9f3a\"],[0.8888888888888888,\"#fdca26\"],[1.0,\"#f0f921\"]]},\"legend\":{\"tracegroupgap\":0},\"title\":{\"text\":\"Total Explained Variance: 76.45%\",\"x\":0.5,\"y\":0.9,\"xanchor\":\"center\",\"yanchor\":\"top\"},\"width\":800,\"height\":600},                        {\"responsive\": true}                    ).then(function(){\n",
       "                            \n",
       "var gd = document.getElementById('6ef8a398-33ca-4e66-9bd2-ba74c6429386');\n",
       "var x = new MutationObserver(function (mutations, observer) {{\n",
       "        var display = window.getComputedStyle(gd).display;\n",
       "        if (!display || display === 'none') {{\n",
       "            console.log([gd, 'removed!']);\n",
       "            Plotly.purge(gd);\n",
       "            observer.disconnect();\n",
       "        }}\n",
       "}});\n",
       "\n",
       "// Listen for the removal of the full notebook cells\n",
       "var notebookContainer = gd.closest('#notebook-container');\n",
       "if (notebookContainer) {{\n",
       "    x.observe(notebookContainer, {childList: true});\n",
       "}}\n",
       "\n",
       "// Listen for the clearing of the current output cell\n",
       "var outputEl = gd.closest('.output');\n",
       "if (outputEl) {{\n",
       "    x.observe(outputEl, {childList: true});\n",
       "}}\n",
       "\n",
       "                        })                };                });            </script>        </div>"
      ]
     },
     "metadata": {},
     "output_type": "display_data"
    }
   ],
   "source": [
    "A_B_NBO_values = X_nbo['A-B_NBO'].tolist()\n",
    "float_values = [float(value) for value in A_B_NBO_values]\n",
    "\n",
    "A_NBO_values = X_nbo['A_NBO'].tolist()\n",
    "float_values = [float(value) for value in A_NBO_values]\n",
    "\n",
    "vbur_values = X_vbur['Total % VBur'].tolist()\n",
    "vbur_values = [float(value) for value in vbur_values]\n",
    "\n",
    "vbur_max_values = X_vbur['% VBur max'].tolist()\n",
    "vbur_max_values = [float(value) for value in vbur_max_values]\n",
    "\n",
    "pca = PCA(n_components=3)\n",
    "components = pca.fit_transform(X_vbur)\n",
    "\n",
    "total_var = pca.explained_variance_ratio_.sum() * 100\n",
    "\n",
    "fig = px.scatter_3d(\n",
    "    components,\n",
    "    x=0,\n",
    "    y=1,\n",
    "    z=2,\n",
    "    # text=names,\n",
    "    color = percent_buried_volume,\n",
    "    title=f'Total Explained Variance: {total_var:.2f}%',\n",
    "    labels={'0': 'PC 1', '1': 'PC 2', '2': 'PC 3'}\n",
    ")\n",
    "\n",
    "fig.update_layout(width=800, \n",
    "                  height=600,\n",
    "                  coloraxis_colorbar=dict(\n",
    "                  title=dict(text=\"Percent Buried<br>Volume\",\n",
    "                             side=\"top\"),\n",
    "                  x=0.85,  # Position the legend closer to the scatter plot\n",
    "                  y=0.5,\n",
    "                  xanchor='left',\n",
    "                  yanchor='middle'),\n",
    "                  title=dict(\n",
    "                  x=0.5,          # Horizontal position (centered)\n",
    "                  y=0.9,          # Vertical position (closer to the plot)\n",
    "                  xanchor='center',\n",
    "                  yanchor='top'\n",
    "                    ) \n",
    "                 )\n",
    "fig.show()"
   ]
  },
  {
   "cell_type": "markdown",
   "id": "da068a20-01aa-4abc-a83b-43addff37498",
   "metadata": {},
   "source": []
  },
  {
   "cell_type": "code",
   "execution_count": 85,
   "id": "0ad8d972-9acb-4acf-84ed-d1618ba34f5c",
   "metadata": {
    "scrolled": true
   },
   "outputs": [
    {
     "name": "stderr",
     "output_type": "stream",
     "text": [
      "C:\\Users\\George\\.conda\\envs\\chem3\\Lib\\site-packages\\sklearn\\cluster\\_kmeans.py:1446: UserWarning:\n",
      "\n",
      "KMeans is known to have a memory leak on Windows with MKL, when there are less chunks than available threads. You can avoid it by setting the environment variable OMP_NUM_THREADS=2.\n",
      "\n"
     ]
    },
    {
     "name": "stdout",
     "output_type": "stream",
     "text": [
      "For n_clusters = 2, the average silhouette score is 0.33344233789882544\n"
     ]
    },
    {
     "name": "stderr",
     "output_type": "stream",
     "text": [
      "C:\\Users\\George\\.conda\\envs\\chem3\\Lib\\site-packages\\sklearn\\cluster\\_kmeans.py:1446: UserWarning:\n",
      "\n",
      "KMeans is known to have a memory leak on Windows with MKL, when there are less chunks than available threads. You can avoid it by setting the environment variable OMP_NUM_THREADS=2.\n",
      "\n"
     ]
    },
    {
     "name": "stdout",
     "output_type": "stream",
     "text": [
      "For n_clusters = 3, the average silhouette score is 0.3647145926571277\n"
     ]
    },
    {
     "name": "stderr",
     "output_type": "stream",
     "text": [
      "C:\\Users\\George\\.conda\\envs\\chem3\\Lib\\site-packages\\sklearn\\cluster\\_kmeans.py:1446: UserWarning:\n",
      "\n",
      "KMeans is known to have a memory leak on Windows with MKL, when there are less chunks than available threads. You can avoid it by setting the environment variable OMP_NUM_THREADS=2.\n",
      "\n"
     ]
    },
    {
     "name": "stdout",
     "output_type": "stream",
     "text": [
      "For n_clusters = 4, the average silhouette score is 0.34944822592558616\n"
     ]
    },
    {
     "name": "stderr",
     "output_type": "stream",
     "text": [
      "C:\\Users\\George\\.conda\\envs\\chem3\\Lib\\site-packages\\sklearn\\cluster\\_kmeans.py:1446: UserWarning:\n",
      "\n",
      "KMeans is known to have a memory leak on Windows with MKL, when there are less chunks than available threads. You can avoid it by setting the environment variable OMP_NUM_THREADS=2.\n",
      "\n"
     ]
    },
    {
     "name": "stdout",
     "output_type": "stream",
     "text": [
      "For n_clusters = 5, the average silhouette score is 0.3643165263047619\n"
     ]
    },
    {
     "name": "stderr",
     "output_type": "stream",
     "text": [
      "C:\\Users\\George\\.conda\\envs\\chem3\\Lib\\site-packages\\sklearn\\cluster\\_kmeans.py:1446: UserWarning:\n",
      "\n",
      "KMeans is known to have a memory leak on Windows with MKL, when there are less chunks than available threads. You can avoid it by setting the environment variable OMP_NUM_THREADS=2.\n",
      "\n"
     ]
    },
    {
     "name": "stdout",
     "output_type": "stream",
     "text": [
      "For n_clusters = 6, the average silhouette score is 0.33172382177076415\n"
     ]
    },
    {
     "name": "stderr",
     "output_type": "stream",
     "text": [
      "C:\\Users\\George\\.conda\\envs\\chem3\\Lib\\site-packages\\sklearn\\cluster\\_kmeans.py:1446: UserWarning:\n",
      "\n",
      "KMeans is known to have a memory leak on Windows with MKL, when there are less chunks than available threads. You can avoid it by setting the environment variable OMP_NUM_THREADS=2.\n",
      "\n"
     ]
    },
    {
     "name": "stdout",
     "output_type": "stream",
     "text": [
      "For n_clusters = 7, the average silhouette score is 0.3309404089592618\n"
     ]
    },
    {
     "name": "stderr",
     "output_type": "stream",
     "text": [
      "C:\\Users\\George\\.conda\\envs\\chem3\\Lib\\site-packages\\sklearn\\cluster\\_kmeans.py:1446: UserWarning:\n",
      "\n",
      "KMeans is known to have a memory leak on Windows with MKL, when there are less chunks than available threads. You can avoid it by setting the environment variable OMP_NUM_THREADS=2.\n",
      "\n"
     ]
    },
    {
     "name": "stdout",
     "output_type": "stream",
     "text": [
      "For n_clusters = 8, the average silhouette score is 0.2932356554062508\n"
     ]
    },
    {
     "name": "stderr",
     "output_type": "stream",
     "text": [
      "C:\\Users\\George\\.conda\\envs\\chem3\\Lib\\site-packages\\sklearn\\cluster\\_kmeans.py:1446: UserWarning:\n",
      "\n",
      "KMeans is known to have a memory leak on Windows with MKL, when there are less chunks than available threads. You can avoid it by setting the environment variable OMP_NUM_THREADS=2.\n",
      "\n"
     ]
    },
    {
     "name": "stdout",
     "output_type": "stream",
     "text": [
      "For n_clusters = 9, the average silhouette score is 0.30804303302355945\n"
     ]
    },
    {
     "name": "stderr",
     "output_type": "stream",
     "text": [
      "C:\\Users\\George\\.conda\\envs\\chem3\\Lib\\site-packages\\sklearn\\cluster\\_kmeans.py:1446: UserWarning:\n",
      "\n",
      "KMeans is known to have a memory leak on Windows with MKL, when there are less chunks than available threads. You can avoid it by setting the environment variable OMP_NUM_THREADS=2.\n",
      "\n"
     ]
    },
    {
     "name": "stdout",
     "output_type": "stream",
     "text": [
      "For n_clusters = 10, the average silhouette score is 0.3044609762039521\n"
     ]
    },
    {
     "name": "stderr",
     "output_type": "stream",
     "text": [
      "C:\\Users\\George\\.conda\\envs\\chem3\\Lib\\site-packages\\sklearn\\cluster\\_kmeans.py:1446: UserWarning:\n",
      "\n",
      "KMeans is known to have a memory leak on Windows with MKL, when there are less chunks than available threads. You can avoid it by setting the environment variable OMP_NUM_THREADS=2.\n",
      "\n"
     ]
    },
    {
     "name": "stdout",
     "output_type": "stream",
     "text": [
      "For n_clusters = 11, the average silhouette score is 0.31542957620228884\n"
     ]
    },
    {
     "name": "stderr",
     "output_type": "stream",
     "text": [
      "C:\\Users\\George\\.conda\\envs\\chem3\\Lib\\site-packages\\sklearn\\cluster\\_kmeans.py:1446: UserWarning:\n",
      "\n",
      "KMeans is known to have a memory leak on Windows with MKL, when there are less chunks than available threads. You can avoid it by setting the environment variable OMP_NUM_THREADS=2.\n",
      "\n"
     ]
    },
    {
     "name": "stdout",
     "output_type": "stream",
     "text": [
      "For n_clusters = 12, the average silhouette score is 0.2983134339921561\n"
     ]
    },
    {
     "name": "stderr",
     "output_type": "stream",
     "text": [
      "C:\\Users\\George\\.conda\\envs\\chem3\\Lib\\site-packages\\sklearn\\cluster\\_kmeans.py:1446: UserWarning:\n",
      "\n",
      "KMeans is known to have a memory leak on Windows with MKL, when there are less chunks than available threads. You can avoid it by setting the environment variable OMP_NUM_THREADS=2.\n",
      "\n"
     ]
    },
    {
     "name": "stdout",
     "output_type": "stream",
     "text": [
      "For n_clusters = 13, the average silhouette score is 0.3270701838092892\n"
     ]
    },
    {
     "name": "stderr",
     "output_type": "stream",
     "text": [
      "C:\\Users\\George\\.conda\\envs\\chem3\\Lib\\site-packages\\sklearn\\cluster\\_kmeans.py:1446: UserWarning:\n",
      "\n",
      "KMeans is known to have a memory leak on Windows with MKL, when there are less chunks than available threads. You can avoid it by setting the environment variable OMP_NUM_THREADS=2.\n",
      "\n"
     ]
    },
    {
     "name": "stdout",
     "output_type": "stream",
     "text": [
      "For n_clusters = 14, the average silhouette score is 0.31090776954740623\n"
     ]
    },
    {
     "name": "stderr",
     "output_type": "stream",
     "text": [
      "C:\\Users\\George\\.conda\\envs\\chem3\\Lib\\site-packages\\sklearn\\cluster\\_kmeans.py:1446: UserWarning:\n",
      "\n",
      "KMeans is known to have a memory leak on Windows with MKL, when there are less chunks than available threads. You can avoid it by setting the environment variable OMP_NUM_THREADS=2.\n",
      "\n"
     ]
    },
    {
     "name": "stdout",
     "output_type": "stream",
     "text": [
      "For n_clusters = 15, the average silhouette score is 0.32486569623654726\n"
     ]
    },
    {
     "name": "stderr",
     "output_type": "stream",
     "text": [
      "C:\\Users\\George\\.conda\\envs\\chem3\\Lib\\site-packages\\sklearn\\cluster\\_kmeans.py:1446: UserWarning:\n",
      "\n",
      "KMeans is known to have a memory leak on Windows with MKL, when there are less chunks than available threads. You can avoid it by setting the environment variable OMP_NUM_THREADS=2.\n",
      "\n"
     ]
    },
    {
     "name": "stdout",
     "output_type": "stream",
     "text": [
      "For n_clusters = 16, the average silhouette score is 0.31685620512463514\n"
     ]
    },
    {
     "name": "stderr",
     "output_type": "stream",
     "text": [
      "C:\\Users\\George\\.conda\\envs\\chem3\\Lib\\site-packages\\sklearn\\cluster\\_kmeans.py:1446: UserWarning:\n",
      "\n",
      "KMeans is known to have a memory leak on Windows with MKL, when there are less chunks than available threads. You can avoid it by setting the environment variable OMP_NUM_THREADS=2.\n",
      "\n"
     ]
    },
    {
     "name": "stdout",
     "output_type": "stream",
     "text": [
      "For n_clusters = 17, the average silhouette score is 0.3154144969621037\n"
     ]
    },
    {
     "name": "stderr",
     "output_type": "stream",
     "text": [
      "C:\\Users\\George\\.conda\\envs\\chem3\\Lib\\site-packages\\sklearn\\cluster\\_kmeans.py:1446: UserWarning:\n",
      "\n",
      "KMeans is known to have a memory leak on Windows with MKL, when there are less chunks than available threads. You can avoid it by setting the environment variable OMP_NUM_THREADS=2.\n",
      "\n"
     ]
    },
    {
     "name": "stdout",
     "output_type": "stream",
     "text": [
      "For n_clusters = 18, the average silhouette score is 0.31682162019223864\n"
     ]
    },
    {
     "name": "stderr",
     "output_type": "stream",
     "text": [
      "C:\\Users\\George\\.conda\\envs\\chem3\\Lib\\site-packages\\sklearn\\cluster\\_kmeans.py:1446: UserWarning:\n",
      "\n",
      "KMeans is known to have a memory leak on Windows with MKL, when there are less chunks than available threads. You can avoid it by setting the environment variable OMP_NUM_THREADS=2.\n",
      "\n"
     ]
    },
    {
     "name": "stdout",
     "output_type": "stream",
     "text": [
      "For n_clusters = 19, the average silhouette score is 0.3184653039781163\n",
      "\n",
      "The optimal number of clusters is 3 with a silhouette score of 0.3647145926571277\n"
     ]
    },
    {
     "data": {
      "image/png": "[encoded data removed]",
      "text/plain": [
       "<Figure size 1000x600 with 1 Axes>"
      ]
     },
     "metadata": {},
     "output_type": "display_data"
    },
    {
     "name": "stdout",
     "output_type": "stream",
     "text": [
      "\n",
      "PCA Result DataFrame with Cluster Labels:\n",
      "           PC1        PC2        PC3  Cluster Ligand\n",
      "0     3.693650  -5.061245   6.767247        2    NaN\n",
      "1    -8.644768  -4.311412  -6.470653        1    002\n",
      "2   -15.888863  -0.176192   7.600570        1    003\n",
      "3   -15.358850  26.183543  58.773503        2    004\n",
      "4     5.110844  27.947913  40.396662        2    005\n",
      "..         ...        ...        ...      ...    ...\n",
      "371 -18.414279  19.674493   8.110057        2    406\n",
      "372 -20.671890  17.578170   9.181137        2    407\n",
      "373 -24.268662  15.824961  13.167304        1    408\n",
      "374 -25.438013  13.691229  26.295564        1    409\n",
      "375   3.801941  22.786031 -23.429120        2    411\n",
      "\n",
      "[376 rows x 5 columns]\n",
      "{'c1': ['038', '048', '072', '073', '074', '075', '076', '077', '078', '092', '099', '111', '121', '122', '145', '146', '147', '148', '149', '150', '151', '160', '161', '168', '169', '170', '171', '172', '173', '174', '175', '176', '177', '178', '179', '180', '181', '182', '183', '186', '199', '200', '201', '202', '205', '207', '208', '209', '210', '211', '212', '213', '214', '215', '216', '217', '218', '219', '220', '221', '222', '223', '224', '225', '226', '227', '228', '229', '230', '231', '237', '238', '239', '240', '241', '250', '251', '252', '254', '257', '259', '264', '265', '296', '299', '301', '303', '309', '310', '311', '312', '348', '350', '353', '356', '357', '358', '359', '360', '387'], 'c2': ['002', '003', '011', '013', '018', '019', '020', '021', '022', '030', '031', '032', '033', '035', '040', '041', '042', '043', '046', '047', '053', '055', '056', '057', '058', '059', '084', '085', '086', '087', '088', '089', '090', '094', '096', '097', '098', '113', '114', '117', '118', '119', '123', '129', '132', '134', '136', '137', '138', '162', '163', '164', '165', '166', '167', '190', '244', '247', '248', '255', '268', '269', '270', '271', '275', '276', '280', '281', '287', '290', '291', '292', '293', '304', '305', '306', '307', '308', '313', '314', '327', '330', '331', '332', '333', '334', '335', '336', '337', '338', '341', '342', '343', '344', '345', '346', '347', '349', '351', '352', '355', '361', '362', '363', '364', '365', '366', '368', '369', '377', '378', '379', '380', '381', '382', '383', '385', '386', '388', '390', '394', '395', '396', '397', '399', '400', '401', '402', '403', '404', '405', '408', '409'], 'c3': [nan, '004', '005', '006', '007', '008', '009', '010', '027', '029', '036', '037', '039', '044', '060', '071', '079', '080', '081', '082', '083', '091', '093', '095', '100', '101', '102', '103', '104', '105', '106', '107', '108', '109', '110', '112', '115', '116', '120', '124', '125', '126', '127', '128', '130', '131', '133', '135', '139', '140', '141', '142', '143', '144', '152', '153', '154', '155', '156', '157', '158', '159', '184', '187', '188', '189', '191', '192', '193', '194', '195', '196', '197', '198', '203', '204', '206', '232', '233', '234', '236', '242', '243', '245', '246', '249', '253', '256', '258', '260', '261', '262', '263', '266', '267', '272', '273', '274', '277', '278', '279', '282', '283', '284', '285', '286', '288', '289', '294', '295', '297', '298', '300', '302', '315', '316', '317', '318', '319', '320', '321', '322', '323', '324', '325', '326', '328', '329', '339', '340', '354', '367', '370', '376', '384', '389', '391', '392', '393', '398', '406', '407', '411']}\n"
     ]
    },
    {
     "name": "stderr",
     "output_type": "stream",
     "text": [
      "C:\\Users\\George\\.conda\\envs\\chem3\\Lib\\site-packages\\sklearn\\cluster\\_kmeans.py:1446: UserWarning:\n",
      "\n",
      "KMeans is known to have a memory leak on Windows with MKL, when there are less chunks than available threads. You can avoid it by setting the environment variable OMP_NUM_THREADS=2.\n",
      "\n"
     ]
    }
   ],
   "source": [
    "# Generate dataframe from pca data: \n",
    "pca_df = pd.DataFrame(data=components, columns=['PC1', 'PC2','PC3'])\n",
    "\n",
    "# Apply KMeans Clustering\n",
    "# Define a range of clusters to evaluate\n",
    "range_n_clusters = list(range(2, 20))\n",
    "\n",
    "# Initialize variables to store the best number of clusters and corresponding metrics\n",
    "best_n_clusters = 0\n",
    "best_silhouette_score = -1\n",
    "inertia = []\n",
    "\n",
    "# Iterate over different cluster numbers to find the optimal number\n",
    "for n_clusters in range_n_clusters:\n",
    "    kmeans = KMeans(init=\"k-means++\", n_clusters=n_clusters, n_init=4, random_state=42)\n",
    "    cluster_labels = kmeans.fit_predict(pca_df)\n",
    "    # Calculate silhouette score\n",
    "    silhouette_avg = silhouette_score(pca_df, cluster_labels)\n",
    "    inertia.append(kmeans.inertia_)\n",
    "    \n",
    "    print(f\"For n_clusters = {n_clusters}, the average silhouette score is {silhouette_avg}\")\n",
    "    \n",
    "    # Update the best silhouette score and corresponding number of clusters\n",
    "    if silhouette_avg > best_silhouette_score:\n",
    "        best_n_clusters = n_clusters\n",
    "        best_silhouette_score = silhouette_avg\n",
    "\n",
    "# Print the optimal number of clusters and the best silhouette score\n",
    "print(f\"\\nThe optimal number of clusters is {best_n_clusters} with a silhouette score of {best_silhouette_score}\")\n",
    "\n",
    "# Plot the inertia to visualize the elbow method\n",
    "plt.figure(figsize=(10, 6))\n",
    "plt.plot(range_n_clusters, inertia, marker='o')\n",
    "plt.title('Elbow Method For Optimal Number of Clusters')\n",
    "plt.xlabel('Number of Clusters')\n",
    "plt.ylabel('Inertia')\n",
    "plt.show()\n",
    "\n",
    "# Apply KMeans with the optimal number of clusters\n",
    "kmeans = KMeans(n_clusters=best_n_clusters, random_state=42)\n",
    "cluster_labels = kmeans.fit_predict(pca_df)\n",
    "\n",
    "# Add cluster labels to the PCA result DataFrame\n",
    "pca_df['Cluster'] = cluster_labels\n",
    "pca_df['Ligand'] = X['ligand_id']\n",
    "\n",
    "\n",
    "# Print the PCA result DataFrame with cluster labels\n",
    "print(\"\\nPCA Result DataFrame with Cluster Labels:\")\n",
    "print(pca_df)\n",
    "\n",
    "\n",
    "# Create a dictionary to store clusters and their corresponding ligands\n",
    "cluster_dict_vbur_descriptor = {}\n",
    "for cluster_num in range(best_n_clusters):\n",
    "    cluster_key = f'c{cluster_num + 1}'  # Create cluster key like 'c1', 'c2', etc.\n",
    "    ligands_in_cluster = pca_df[pca_df['Cluster'] == cluster_num]['Ligand'].tolist()\n",
    "    cluster_dict_vbur_descriptor[cluster_key] = ligands_in_cluster\n",
    "\n",
    "# Print the dictionary\n",
    "print(cluster_dict_vbur_descriptor)"
   ]
  },
  {
   "cell_type": "code",
   "execution_count": null,
   "id": "e34c4e30-d065-48cb-baaf-c2b916cc1d69",
   "metadata": {},
   "outputs": [],
   "source": []
  },
  {
   "cell_type": "markdown",
   "id": "2b8dd7fc-6f29-488e-8afe-e59fc40ccdd9",
   "metadata": {},
   "source": [
    "### Generate PCA map with NBO descriptors - find out cluster combinations through this"
   ]
  },
  {
   "cell_type": "code",
   "execution_count": 86,
   "id": "7c1bb2e8",
   "metadata": {},
   "outputs": [
    {
     "data": {
      "application/vnd.plotly.v1+json": {
       "config": {
        "plotlyServerURL": "https://plot.ly"
       },
       "data": [
        {
         "hovertemplate": "PC 1=%{x}<br>PC 2=%{y}<br>PC 3=%{z}<br>color=%{marker.color}<extra></extra>",
         "legendgroup": "",
         "marker": {
          "color": [
           44.96890141632501,
           47.61519288110324,
           48.96920424897503,
           46.75095508758852,
           42.41345974655237,
           44.88038110324264,
           40.84105944837868,
           42.32493943346999,
           52.377818673127095,
           48.12127282892285,
           47.09746552366754,
           50.72971021244875,
           47.37059727916512,
           47.23432258665673,
           47.23781680954156,
           47.14871412597838,
           50.82929556466642,
           43.95091781587775,
           45.81974468878121,
           47.21743384271338,
           50.80774785687663,
           52.48031587774879,
           46.44288110324264,
           47.09688315318673,
           40.38156913902348,
           45.37481364144615,
           38.93321375326128,
           45.40626164740962,
           53.045797614610514,
           51.49145080134178,
           59.75004658963846,
           48.59998136414461,
           46.20469157659336,
           49.37336936265375,
           49.17943999254566,
           45.87972884830413,
           49.75016306373463,
           47.61868710398807,
           51.55667629519195,
           48.97968691762952,
           49.66106038017145,
           48.265700708162505,
           31.073541744316064,
           31.002492545657844,
           40.21734066343645,
           40.88124301155423,
           40.82650018635856,
           40.29654304882594,
           43.451243943347,
           40.28955460305628,
           40.0391352963101,
           34.497297800969065,
           47.336819791278415,
           42.95855851658591,
           47.46202944465151,
           40.93190924338428,
           52.35102963101006,
           52.8611861721953,
           55.38052087215804,
           52.667256802087216,
           47.95646198285502,
           52.40286060380171,
           52.56534196794633,
           49.25048919120388,
           40.07931885948565,
           46.45918747670518,
           48.97444558330227,
           50.77629985091316,
           53.61244409243384,
           50.27371412597839,
           57.071142377935146,
           41.43100074543422,
           44.4622390980246,
           34.197377003354454,
           35.7994781960492,
           36.81746179649646,
           37.76323145732389,
           34.32549850913157,
           34.217759970182634,
           42.29815039135296,
           45.21932072307119,
           46.80919213566902,
           47.02117499068208,
           49.25048919120388,
           43.47512113306001,
           46.76318486768543,
           49.39724655236675,
           43.47686824450242,
           43.77737141259784,
           57.82589452105852,
           57.95983973164368,
           46.63273387998509,
           41.53175083861349,
           43.117545657845696,
           52.73248229593739,
           57.42347651882221,
           45.11915300037272,
           43.479197726425646,
           43.62653745806932,
           44.10932258665673,
           41.03615355944838,
           51.21074822959374,
           41.29763790532985,
           49.036759224748415,
           57.93013883712263,
           46.501700521803954,
           53.11568207230712,
           45.179719530376445,
           50.65341967946328,
           52.55369455833024,
           49.57021058516586,
           50.05357808423406,
           41.87010808796124,
           41.2568719716735,
           43.70690458442043,
           44.47563361908312,
           46.19246179649646,
           39.10559541557957,
           33.16075754752143,
           29.914042117033173,
           29.717200894521056,
           39.867336004472605,
           39.89179556466642,
           39.91800223630265,
           33.942298732761834,
           34.49613306000746,
           34.630660641073426,
           34.40237141259784,
           33.95336377189713,
           34.36509970182631,
           34.523504472605296,
           34.569511740588894,
           42.95040532985464,
           42.503144800596345,
           50.56955833022736,
           51.8263138278047,
           50.335445396943726,
           50.040183563175546,
           56.39384550875886,
           54.75971393961983,
           42.289414834140885,
           42.3371692135669,
           43.898504472605296,
           37.00032612746925,
           43.01912504658964,
           48.55572120760343,
           48.55513883712263,
           46.36833768169959,
           46.38522642564294,
           39.41366939992545,
           39.32107249347745,
           39.28554789414834,
           44.31955833022736,
           43.97304789414834,
           47.18598583674991,
           44.89668747670518,
           39.58139209839732,
           40.06068300409989,
           40.24878866939993,
           40.5673453224003,
           47.69148341408871,
           53.46801621319418,
           41.831089265747295,
           47.686242079761456,
           41.22542396571003,
           40.88590197540067,
           45.86924617964965,
           32.641283078643305,
           38.715989563920985,
           33.91900391352964,
           39.64894707417071,
           35.79074263883712,
           37.95832556839359,
           39.0048453224003,
           34.184564852776745,
           34.8001304509877,
           32.15500372717108,
           32.54985091315692,
           36.28808702944465,
           42.15546962355572,
           39.73106131196422,
           39.86384178158777,
           42.18167629519195,
           39.65011181513232,
           39.964009504286246,
           41.34422754379426,
           42.52643961982855,
           44.35450055907566,
           40.58598117778606,
           47.09105944837868,
           47.823681513231456,
           48.25987700335445,
           46.10685333581812,
           43.726122810287,
           43.557817741334325,
           43.71331065970928,
           36.67419865821841,
           42.9113865076407,
           43.705157472978016,
           42.30572120760343,
           44.36323611628774,
           50.91723350726798,
           52.04586749906821,
           44.86116287737608,
           49.31979127841968,
           46.23381010063362,
           44.028373089824825,
           49.16604547148714,
           48.85447726425643,
           40.583069325382034,
           44.29509877003354,
           46.1621785314946,
           43.32428717853149,
           46.82433376816996,
           56.97155702571748,
           47.78699217294074,
           46.07424058889303,
           50.140933656354825,
           49.32969157659336,
           43.3126397689154,
           40.17540998881849,
           44.14892377935147,
           41.95571654863958,
           43.3132221393962,
           44.90600540439807,
           59.915439806187095,
           43.2905096906448,
           44.16814200521805,
           37.68519381289601,
           45.87332277301528,
           47.6215989563921,
           46.36367871785316,
           43.19150670890794,
           44.416231830041,
           41.43333022735744,
           45.85352217666791,
           45.79353801714498,
           42.70580972791651,
           50.95159336563548,
           54.00263231457324,
           53.82850354081252,
           50.50840942974283,
           43.88569232202758,
           42.7052273574357,
           47.80388091688408,
           52.39936638091688,
           50.22304789414834,
           44.055162131941856,
           45.81974468878121,
           44.13378214685054,
           58.03845974655236,
           50.57538203503541,
           42.34357528885575,
           45.35792489750279,
           45.52855944837868,
           45.37481364144615,
           48.86321282146851,
           52.39761926947447,
           45.21582650018636,
           44.20716082743198,
           52.31958162504659,
           52.22465523667537,
           48.24124114796869,
           48.68500745434216,
           38.62106317554976,
           44.523970368989936,
           38.38170890793887,
           40.855036339918,
           38.77189713007827,
           40.82358833395453,
           42.89740961610138,
           46.79754472605293,
           48.5871692135669,
           46.63564573238912,
           54.05504565784569,
           55.29491241147969,
           57.04493570629892,
           54.75971393961983,
           55.02178065598211,
           44.87979873276184,
           44.680045657845696,
           44.51698192322028,
           44.89028140141632,
           55.38285035408125,
           62.31713566902721,
           43.68419213566902,
           39.22905795751025,
           41.21494129705553,
           42.93176947446888,
           40.76243943346999,
           42.4973210957883,
           44.258991800223626,
           37.403908870667166,
           40.27150111815132,
           42.91313361908312,
           40.22141725680209,
           42.54915206857995,
           55.583185799478194,
           43.5892657472978,
           36.57810752888558,
           60.490821841222505,
           60.54847651882221,
           60.51469903093552,
           60.14023481177786,
           54.80572120760343,
           54.82785128587402,
           54.83542210212449,
           54.82260995154677,
           55.03925177040626,
           38.64959932910921,
           48.11486675363399,
           54.66012858740216,
           57.244106410734254,
           57.16723350726798,
           57.05541837495341,
           56.935450055907566,
           56.86440085724935,
           56.94360324263885,
           49.06413063734625,
           51.250931792769286,
           46.29379426015654,
           50.4367778606038,
           52.042373276183376,
           43.97130078270592,
           45.38587868058144,
           52.595625232948194,
           47.42417536339918,
           47.23315784569512,
           47.727008013417816,
           47.575591688408494,
           43.23169027208349,
           53.61360883339545,
           54.45629891912039,
           54.45338706671636,
           54.922777674245246,
           54.52210678345136,
           54.48192322027581,
           44.40400204994409,
           52.4115961610138,
           50.64934308609765,
           42.06578456951174,
           37.86048732761834,
           59.9148574357063,
           59.86652068579947,
           59.93640514349609,
           59.32491613865077,
           58.013417815877744,
           50.09376164740962,
           49.688431792769286,
           45.02247950055908,
           46.92974282519568,
           47.77243291092061,
           42.75938781215058,
           45.97349049571376,
           46.71892471114425,
           49.27902534476332,
           44.18736023108461,
           45.921659522922106,
           44.258991800223626,
           53.71494129705553,
           57.60459373835259,
           57.56615728661946,
           51.22356038017145,
           43.3132221393962,
           55.77769754006708,
           54.82260995154677,
           50.8613259411107,
           50.778046962355575,
           48.68675456578457,
           49.44208907938874,
           51.86358553857622,
           48.70655516213194,
           49.37278699217294,
           50.093179276928815,
           49.89400857249348,
           44.278792396571006
          ],
          "coloraxis": "coloraxis",
          "symbol": "circle"
         },
         "mode": "markers",
         "name": "",
         "scene": "scene",
         "showlegend": false,
         "type": "scatter3d",
         "x": [
          -2.8687449074153086,
          -2.8710567796529807,
          -2.8725439274673508,
          -2.130145790158703,
          -2.113747956488139,
          -2.1028087789291,
          -2.1053994444726993,
          -2.079649065896842,
          -2.108518621576695,
          -2.0226598006307266,
          -2.8980383642469216,
          -2.6510306802464956,
          -2.620773436026347,
          -2.6214450886803906,
          -2.6222352785631626,
          -2.6240989179341936,
          -2.8821111951190304,
          -2.8472439253655835,
          -2.788554080305769,
          -2.8707007442260677,
          -2.891782654402953,
          -2.901340466994166,
          -2.808944126544725,
          -2.8510437630619405,
          0.17402024780151581,
          5.1628359103742865,
          5.075405311405972,
          5.126033048722428,
          5.121193039617111,
          -2.834564905207551,
          -2.833283702171711,
          -2.9002861234962505,
          -2.813096388712177,
          -2.836744278298151,
          -2.865967382584062,
          -2.6995466035410223,
          -2.720288848176028,
          -2.54763540184893,
          -2.5867842093345406,
          -2.556188920895914,
          -3.023925075925727,
          -2.551796336573913,
          -2.8041659043014358,
          -2.7815820564714837,
          -1.6900915127901381,
          -1.729376113918349,
          -1.6881516874418891,
          -1.692087717087991,
          -1.7020454143188972,
          -1.7563358670883251,
          -1.6535763861660906,
          -0.5906786234105538,
          -0.5894444566872253,
          -0.5975720398584193,
          -0.6331890637413446,
          -0.5369830182969972,
          5.181518719280584,
          5.117571783253305,
          5.107446260292679,
          5.143106088242934,
          4.39316280967094,
          4.396813222674442,
          4.400821830607035,
          5.156545778141425,
          5.19048826208627,
          -0.4235737625943839,
          -0.42730666077207374,
          5.204883041599464,
          5.148839830849152,
          5.173797937844196,
          5.171473094480565,
          4.1287300019954065,
          3.9621545113190852,
          -0.47887011157332626,
          -0.5034127247446677,
          -0.5049985554371074,
          -0.5197256682969622,
          -0.5431553907356298,
          -0.5439028868785628,
          -0.46935871274845725,
          5.154179078389096,
          5.153400019390327,
          5.152919911778791,
          5.1780465036004735,
          -2.6821918595493095,
          -2.6869758728305344,
          -2.7205918119713384,
          -2.676434654988476,
          -2.6850015695248373,
          -1.6611773699602412,
          -1.6691710138421294,
          -1.6822559870018274,
          -2.9114938267123245,
          -1.236116794713078,
          -1.2338433081642892,
          -1.2565098730386925,
          -2.9078753636668746,
          -2.8088306137738086,
          -2.767607310652323,
          -2.8082464225813095,
          -2.9251457717955383,
          -2.7299094339022516,
          -2.171600986679744,
          -2.2143632359263794,
          -2.196846417864147,
          -2.123672427284256,
          -2.1725248197508535,
          -0.5467501435794511,
          5.203633204135008,
          3.88590425545724,
          3.8957535574397335,
          -2.5331649541877796,
          -2.637173670990112,
          -2.4888615475651745,
          -2.4165925985205057,
          -0.5539385148753517,
          -0.5362870198041648,
          -2.588707212217462,
          -2.19485124758134,
          -2.1863494861473196,
          -2.164974664527475,
          -2.5838842736594767,
          -2.593427936245244,
          -2.579117523795812,
          -0.37672774411639365,
          -0.7082974247845996,
          -0.6177149818677723,
          -0.28044047414852497,
          -0.2871298580254246,
          -0.2699309731910542,
          -0.29341464538548273,
          0.04268971526439965,
          -1.5439460083177399,
          -1.7190616795773372,
          -2.725893961650159,
          -2.7319344694240932,
          -2.7247848969815616,
          -2.7151521635542464,
          -2.704466513701179,
          -2.6910994573665734,
          -2.3940541212390265,
          -2.076589287560031,
          -2.14528999068929,
          -2.055814833549754,
          -2.4331895229233993,
          -1.6276718155565588,
          -1.6311202193131882,
          -2.149229086880585,
          -2.5306312211053403,
          -2.5130846211278324,
          -2.5043097032234467,
          -2.501440227429898,
          -1.5781797406350118,
          -1.6851394339261427,
          3.1710257856084434,
          3.105651869755434,
          5.115183545007298,
          5.186087462474795,
          -0.4853199432125023,
          -0.47376810938496455,
          -0.4799847293864441,
          -0.4730109395130475,
          -0.46790842530208504,
          -0.4641823710591914,
          -0.5181970261532699,
          -0.31582371563070577,
          -1.6685178007038468,
          -1.6816847272584015,
          -1.685528567896931,
          -2.5101998354887742,
          -2.5244731194083467,
          -2.508786849295632,
          -2.512914826247144,
          -2.4930644084961524,
          -2.540555975498713,
          -2.5292134557529082,
          -2.631644013560819,
          -2.5034010470063435,
          -2.498818012583704,
          -2.352894705260082,
          -2.8464371136913185,
          -2.835373882934645,
          -2.862019464706723,
          -2.8613677913440907,
          -2.86097903910663,
          -1.6766941684047054,
          -1.674330935770889,
          -1.6770256121465863,
          -1.7568921332939478,
          -1.7439343278902835,
          -1.7515483411557249,
          -1.7453478374860456,
          -1.7517273425438808,
          -1.7447341008251418,
          -1.6874999694835022,
          -1.6849270226238084,
          -1.6814736044441445,
          -1.738477634118451,
          -1.7510833816452192,
          -2.3591825564358113,
          -2.7960029878366495,
          -2.8021946141827025,
          -2.7751713256224106,
          -1.3626839200469603,
          -0.90701771263986,
          -1.3948918874921732,
          -1.4321812220482606,
          -2.8385039543061152,
          -2.7642311825320474,
          -1.9920416236516914,
          -1.977765905373869,
          -2.01684311666337,
          4.461289837554582,
          4.5214919774162095,
          4.447738994231812,
          1.8234216897758766,
          1.9346378436817346,
          3.3906734681424884,
          3.3855558182901384,
          3.731668537079692,
          5.18455964361455,
          5.087460070111192,
          5.181985605841118,
          5.203452959540725,
          5.167999348985894,
          5.0993376188227675,
          -1.392471622469464,
          -1.3934558149623142,
          -1.2113469584248897,
          -1.2384785634068243,
          4.037746614864959,
          4.15604739908185,
          4.034617164843638,
          3.9428850472341166,
          4.128513139027266,
          4.20000101010391,
          4.033828397821629,
          3.992472359148581,
          4.030228221752887,
          3.9803283695398672,
          3.9916995431000157,
          4.114689715655344,
          3.8077820558388287,
          3.992635936712425,
          3.893462031206646,
          -2.423270933496211,
          -2.6250632381962147,
          4.018859101260092,
          3.9861455510838315,
          3.9458826793178203,
          3.905656858468349,
          3.8377309140978735,
          5.171503492124387,
          5.241529862833616,
          5.258299583842036,
          4.936075718345604,
          5.080736906311049,
          5.004466135985577,
          4.98438853545798,
          4.919356988599788,
          4.982128993453806,
          5.056295279053174,
          5.13174673694612,
          4.976432688267829,
          4.7871349436596615,
          4.828045983582947,
          4.82378258424956,
          4.837338566974385,
          4.7446225824163,
          4.796013469206612,
          5.488412533874702,
          5.511706384578554,
          5.533506579968142,
          5.528448635582203,
          5.539840065971498,
          4.033729198614806,
          -2.5050208127073357,
          -2.942232137438656,
          -2.749660689828243,
          5.175761905695723,
          5.171060904812853,
          5.1588509236329685,
          5.155594449214617,
          -2.454869589710772,
          -2.4470202042141564,
          5.193617377928617,
          -2.9088106806494016,
          -2.9319166495124804,
          -2.88675195819037,
          -2.51548807077373,
          -2.5240159169140615,
          -2.481386081117613,
          -2.6901186674169724,
          -2.7522717245385553,
          -2.6753606723333885,
          -2.578355243768194,
          -2.577733149369905,
          -2.5358239242653857,
          -2.5452347401550557,
          -0.1027713608766423,
          -2.500022518362704,
          -2.5220215398989416,
          -2.4916688260162014,
          -2.4690059119523506,
          -2.748558093840733,
          -2.723316771151831,
          -2.6941541691089412,
          -2.733875607590088,
          -2.766091000263235,
          4.731279637104965,
          4.727065450476577,
          4.6700723665603485,
          -2.4706899462800407,
          -2.4879793952456595,
          -2.5122078518622244,
          -2.5173862073219397,
          -2.5400113323126012,
          -2.5549107755362654,
          5.1281106806684384,
          5.1343446821974705,
          5.130023952092785,
          5.128530983142795,
          5.138481840688966,
          -1.446930527472276,
          4.4688815590213276,
          4.4040105946895975,
          -2.308009580370006,
          -2.66778519252344,
          -2.32545922972511,
          -2.672031656563595,
          -2.672355347167346,
          -2.5759249089301024,
          -2.276042259015925,
          -2.2760788758013586,
          -2.282069101186817,
          -2.2778466623037685,
          -2.6833950226370553,
          -2.3446638254358563,
          -2.3080696479731104,
          -2.8262050173243276,
          4.622452919144531,
          4.6157213381860585,
          -2.523618546975676,
          -2.5409982658510635,
          -2.53609541157536,
          -2.4927740215682888,
          -2.77625269786297,
          -1.0452823253702628,
          -1.0307249590909593,
          -1.1062331372737368,
          -1.4605231557311598,
          -1.116698020422781,
          -1.017133372090147,
          -1.2140158641769885,
          -1.241752737085307,
          -1.1047632781476573,
          4.764498117523822,
          4.751862483304351,
          4.719518982011946,
          1.7656054248553854,
          1.7383481587135692,
          1.739435332795134,
          -2.261465119343526,
          -2.2543618703095913,
          -2.748571718622447,
          -2.759592569184748,
          -2.743940165202102,
          -2.748072892893315,
          -0.4182470068412656,
          -0.38422970696061043,
          -0.4330612333881655,
          5.1695841904848185,
          5.169960964246378,
          5.168799881839488,
          4.501760169941201,
          4.452520639398349
         ],
         "y": [
          2.033626784371602,
          2.0046049410109434,
          1.9794642363167505,
          0.2881017930969802,
          0.29750481350070257,
          0.3004450852025371,
          0.3037043818078577,
          0.3327542145355197,
          0.2647644212156774,
          0.33520792601493876,
          2.2441237190008865,
          2.1761949643733325,
          2.253133949451404,
          2.2530334477829537,
          2.252851620756992,
          2.249755305758341,
          2.062958166285379,
          2.0430177817853257,
          2.030253102285047,
          2.3022411134030953,
          2.2422571371219844,
          2.2043549322459213,
          2.1007803076454925,
          2.25419068085653,
          1.24159385173785,
          -0.27771649610855814,
          -0.5919803259463906,
          -0.40909259965308165,
          -0.448448318887483,
          2.0763300580130117,
          2.114377472314509,
          2.210992908369834,
          2.058319291398627,
          2.021128587686615,
          2.0715595735805996,
          1.7850952411318588,
          1.779617038812724,
          2.532529085170711,
          2.4681660565191708,
          2.559514133687042,
          0.4630357914960111,
          2.5674237742661608,
          -0.9209442086954056,
          -0.9298571261532736,
          -1.143271372903722,
          -1.166406817206625,
          -1.168893616912935,
          -1.1638745810843871,
          -1.1456464937937754,
          -1.1252395422417307,
          -1.1398182836898343,
          1.3638400485607656,
          1.3411400278755004,
          1.354042110428926,
          1.277401245789825,
          1.4782602741012607,
          -0.26294894876698294,
          -0.44258381776791766,
          -0.5264918720531381,
          -0.4627947769468826,
          1.2625035539810436,
          1.156514587870842,
          1.1509238853291084,
          -0.3090274635934864,
          -0.2430644544917226,
          1.5701772802340686,
          1.4958491633852444,
          -0.21019586902779536,
          -0.3669210017139438,
          -0.30811695898023167,
          -0.31697604758029635,
          1.0180060137463915,
          0.8707081722835056,
          1.3776081539585092,
          1.3709714560983997,
          1.3739708264790291,
          1.3638990722572708,
          1.3873824022236163,
          1.3369837332363133,
          1.3786445604725504,
          -0.2966070026499604,
          -0.2834194379737019,
          -0.2860860273595792,
          -0.32775707320142206,
          -0.9395730994989784,
          -0.9341166508036065,
          -0.9204591000765872,
          -0.9311418697450586,
          -0.9290902427381015,
          1.31094296349861,
          1.3137068434031287,
          1.3315418327967552,
          2.5726471501288066,
          0.15414158889570934,
          0.15422129706488166,
          0.134435301662682,
          2.314167802915402,
          2.334861883856698,
          2.3921240228469296,
          2.4405593374586427,
          2.5271243064632,
          -0.9471127058684602,
          1.5384416792260966,
          1.4575545902052978,
          1.4909644420327552,
          1.672156593632186,
          1.5356036777762851,
          1.3811504386786673,
          -0.31692665620646354,
          0.11795476059242234,
          0.13105947040196006,
          -0.979257284903206,
          -0.8540375411088674,
          -0.825422688550528,
          -0.9786044559018907,
          1.0781549974265374,
          1.1024116265053212,
          -1.0603355417866491,
          -1.1287839651136506,
          -1.1866394520542691,
          -1.1829616198769395,
          -1.18319961951629,
          -1.1807381232808176,
          -1.1813293595538852,
          1.6553554996889983,
          1.5007749268635928,
          1.5334836332768464,
          1.6370937916119042,
          1.635677466260552,
          1.6492285730754044,
          1.6111009368507814,
          1.653045468746071,
          -1.176285685924099,
          -1.1501112859351303,
          -0.9502133237069086,
          -0.9430209699155764,
          -0.9436572723699654,
          -0.9210935203647628,
          -0.9883744712131802,
          -0.97523788228925,
          -1.0383748782451283,
          -1.1056244684436456,
          -1.0767422978934036,
          -1.2054886370512612,
          -1.1666668483524234,
          -1.17452850806629,
          -1.1772585796475716,
          -1.248706147283124,
          -1.1463090190816747,
          -1.1902798555419194,
          -1.198717554831935,
          -1.200362394433953,
          -1.1933828966664581,
          -1.1574532121771972,
          -2.4958796015134226,
          -2.402499898920845,
          -0.44564001185106894,
          -0.2394125193122412,
          1.4594668278597476,
          1.4488664430717961,
          1.439112224892731,
          1.4086143782470446,
          1.4317485281336928,
          1.442997730589131,
          1.4705646158716164,
          1.6420229001607483,
          -1.2504117407745265,
          -1.2252010333469527,
          -1.2580636684512614,
          -1.2238278294782816,
          -1.2001659358321213,
          -1.2207393605077892,
          -1.216378926075835,
          -1.2308745980770104,
          -1.1941439136868703,
          -1.1984143389722626,
          -1.11337702403401,
          -1.2367372435602149,
          -1.2161231413633788,
          -0.9776585428998641,
          -0.8904434220607825,
          -0.8825701602953746,
          -0.8738663505381219,
          -0.8955337596336764,
          -0.7823873022230353,
          -1.1551438488757284,
          -1.1704495960234198,
          -1.1848842745675705,
          -1.1718099217650375,
          -1.1799019418745902,
          -1.1716365161181703,
          -1.1738414089766658,
          -1.1732722101396766,
          -1.1441677766575322,
          -1.1544745438977386,
          -1.1546486216774265,
          -1.1837061076029929,
          -1.1001605873949798,
          -1.1428311305380607,
          -1.2002660662926732,
          -0.9069871238945973,
          -0.900916950645389,
          -0.8321872749065354,
          1.734466024692843,
          2.073596229821374,
          1.5861022234551716,
          1.4867052876505789,
          -0.8967297097292246,
          -0.9133834325878254,
          -1.2569594380042202,
          -1.1846369462932154,
          -1.2150023065872504,
          -0.2019113276104589,
          -0.04396660027690132,
          -0.29413447329762676,
          -0.5923802074570456,
          -0.5614210079235772,
          -1.159741104417129,
          -1.1550439009998168,
          -0.4749352725683661,
          -0.26903788959128416,
          -0.5738049664855134,
          -0.27660412976558973,
          -0.21566797626658182,
          -0.3335874054407994,
          -0.522339880379685,
          -0.45883905966268296,
          -0.4573331765182319,
          0.20514435790252553,
          0.13980579463329174,
          1.091483916358039,
          0.8575454107195739,
          1.0722740323097915,
          0.8728678363561926,
          1.0179526830900092,
          1.1712918376857098,
          -0.027956130241120588,
          -0.1382940842862353,
          0.040974699154958716,
          -0.16074902881405398,
          -0.11491833297728639,
          -0.04973716459377818,
          -0.12222309519505552,
          -0.1382661661813512,
          0.03850635971430955,
          -0.9967614672431591,
          -0.9923175450785593,
          0.2501508422270341,
          0.20275717677104305,
          0.20931120875573073,
          0.08169945247759795,
          0.015265893482111102,
          -0.4671929815341272,
          -0.3017588525253025,
          -0.334568543360785,
          -0.21066920948781043,
          -0.2265622664353773,
          -0.3478051256874593,
          -0.37113494626590754,
          -0.16053879386591802,
          -0.16597283409439026,
          -0.18081267431960654,
          -0.0483924666902678,
          -0.13872368114185066,
          -0.42802265593594835,
          -0.2596498991663408,
          -0.2981649431439951,
          -0.28096516452619286,
          -0.44231367855121395,
          -0.29319703826924437,
          0.49656888963988444,
          0.6124246556205767,
          0.5937798427368818,
          0.5935872789247957,
          0.6530228564731945,
          -1.6408000221891446,
          -0.966838211447009,
          -0.7968032265204998,
          -0.911792452248142,
          -0.3722186702403419,
          -0.3876135992794218,
          -0.34525896788913196,
          -0.3444520862974213,
          -0.9706223942181375,
          -1.009739252350327,
          -0.30206504237957066,
          -0.8643892799573496,
          -0.8359946715859463,
          -0.8169285140392882,
          -0.9957493554601939,
          -0.9880045811002947,
          -0.9757269516667523,
          -0.9995432365354514,
          -0.9561927422066814,
          -0.9574625399401948,
          -1.0072024627197522,
          -0.991293599829867,
          -0.9644582903738955,
          -0.9758704724675973,
          1.4518244615254388,
          -0.9666729407034714,
          -0.941409213273479,
          -0.9724178611901872,
          -0.9964288004659972,
          -0.905180953173404,
          -0.9124829475995031,
          -0.9232718509585771,
          -0.9065710990442267,
          -0.9093585771897265,
          0.2892546569676545,
          0.2949770977983356,
          0.1760708851831345,
          -1.0023618086995394,
          -0.9841941847751329,
          -0.9606553502619076,
          -0.9560302548256323,
          -0.9315105195192708,
          -0.9152404472499975,
          -0.4188042034213598,
          -0.41295406675248747,
          -0.43777121912135,
          -0.4158916972212003,
          -0.41912731195729847,
          0.1588446599442312,
          1.0778614764735293,
          1.169352575532212,
          -0.9269060922118314,
          -0.9296595636382571,
          -0.915682262690577,
          -0.9287369649152503,
          -0.9163489052572555,
          -0.9667776059712404,
          -0.8746229164974268,
          -0.8746246082548915,
          -0.8723698721708046,
          -0.8675949536910045,
          -0.8992552431204206,
          -0.9032954032669523,
          -0.9083301160491528,
          -0.9228775932053498,
          -1.4300208093186833,
          -1.4621331417958534,
          -0.9470861207219404,
          -0.9543865491093567,
          -0.9597179192431803,
          -1.004572144438251,
          -0.9289944924326442,
          1.4426500326725817,
          1.4341449809662905,
          1.489481680359417,
          1.7248633605609518,
          1.6716430999836094,
          1.8770305205945108,
          1.2694485859581106,
          1.6287680394091493,
          1.6664672569189902,
          -0.2258090986361166,
          -0.21344386030740053,
          -0.21208547888380436,
          0.5444463746895905,
          0.5778498392053967,
          0.5898226366852151,
          -1.0429128133505867,
          -1.0455543850924345,
          -0.9003484534217666,
          -0.9254458528476808,
          -0.9278429007285718,
          -0.9097766365044977,
          2.0424755749779484,
          2.0132166078126903,
          1.9210254079261389,
          -0.2837837707859848,
          -0.28464957063659246,
          -0.29313953138403576,
          -0.024606180894803723,
          -0.2644062438338113
         ],
         "z": [
          1.9911807309402105,
          1.9731137726033212,
          1.913940172763059,
          -0.8744823877624232,
          -0.8885629463989103,
          -0.8960682722503822,
          -0.8960965555389034,
          -0.9219267729754465,
          -0.8370830529862396,
          -0.8182003598642111,
          2.1046945815954934,
          0.5236060607064674,
          0.5065499480440738,
          0.5150264758690491,
          0.5154237352248652,
          0.5200897644385984,
          2.099108935611264,
          2.1076735078562114,
          2.0542947266178198,
          2.2747957510458146,
          2.252795537893879,
          2.1716510026126796,
          2.152744995784849,
          2.178480682567692,
          -0.9186833286127654,
          0.21993584516971948,
          0.7352959571427384,
          0.4625852820823326,
          0.4738304318809778,
          1.9018675294431815,
          1.8931020731122008,
          2.0471060226895483,
          2.0398217693077423,
          2.039222188925016,
          2.029455506411593,
          0.458739167362217,
          0.3460352430719334,
          0.47629689473747355,
          0.3197662734324074,
          0.48788941297118343,
          -0.026773985687703596,
          0.48607597444943573,
          -0.14197473391124907,
          -0.09736132483700896,
          0.05016368178348409,
          0.049378866947544696,
          0.0459292551969179,
          0.04515625047822801,
          0.051411933927166815,
          0.01563859399448506,
          0.040789642991611044,
          -1.0986969020731936,
          -1.121570702107675,
          -1.118422210448616,
          -1.1186978465430042,
          -1.2629070788772707,
          0.3988345162158861,
          0.4762463929378109,
          0.6579228158179994,
          0.44654123511833393,
          -1.3354762326707905,
          -1.206398766748063,
          -1.2061833686160404,
          0.25459660973733306,
          0.4146713731545423,
          -1.2482264745688967,
          -1.2351636275000293,
          0.2236263883718869,
          0.43967452808293,
          0.40911995871107987,
          0.4097055614049735,
          -0.697835403066077,
          -0.8270123465356649,
          -1.0712921263633686,
          -1.0555160799762389,
          -1.0535344543628336,
          -1.0648852703375695,
          -1.058978436532275,
          -1.0886141814026318,
          -1.0937283187145226,
          0.29637164001270055,
          0.29064259431385775,
          0.28808781268501615,
          0.5489232148997135,
          -0.242940956474061,
          -0.20747561105041046,
          -0.20467303772790518,
          -0.24779821822631865,
          -0.21133582459794734,
          -0.8125571029147197,
          -0.8183289240519384,
          -0.8024033937074079,
          2.2856804359593004,
          -0.8256608844219817,
          -0.7935805064402108,
          -0.7569179369881089,
          2.0730066622652736,
          2.1282002814672896,
          2.2254237894065967,
          2.2282901694636976,
          2.153317265589517,
          -0.15317264061306987,
          -0.8046600811722266,
          -0.7982473140176302,
          -0.8153874272302316,
          -0.935997980149444,
          -0.804557078778156,
          -1.119954774446452,
          0.2612355037904077,
          -0.21414226033009637,
          -0.21851490485123387,
          0.09680145346818815,
          -0.4134371424156511,
          -0.2529345740026567,
          0.13865551567509213,
          -0.8779580388896535,
          -0.8608418406174816,
          -0.2445373061363594,
          -0.09744441232797908,
          0.011513054675679682,
          -0.0010428818065859827,
          -0.06222236076807442,
          -0.07459789310939281,
          -0.0597158045826574,
          -1.018585487128453,
          -0.8984167946969415,
          -1.0114363145700933,
          -1.1672665642715692,
          -1.1738889059659359,
          -1.1675067886307322,
          -1.1662175759419278,
          -1.1112019566772116,
          0.15278423194326932,
          0.04330052537466102,
          -0.18716537219136972,
          -0.18222251411627674,
          -0.15592811852467192,
          -0.18410894218839474,
          -0.14902992384255725,
          -0.15635737533738941,
          -0.138354474773494,
          0.054874237547982305,
          0.025368432786704233,
          0.1929599708803555,
          0.13532641056036523,
          0.24053724320181785,
          0.24892013947721442,
          0.38071318617771627,
          0.08908952416045327,
          -0.017113272444437527,
          0.00010998343251819203,
          0.004901309079511433,
          0.1440554142915501,
          0.044927934420192606,
          1.5724621665628964,
          1.381904161712315,
          0.5229156406832722,
          0.40767731369343374,
          -1.2266737398302865,
          -1.2591334723827958,
          -1.2444564050571154,
          -1.2290043652205191,
          -1.2456883052929157,
          -1.2350008018795708,
          -1.247220562470299,
          -1.2624756259241499,
          0.1514534869683845,
          0.041420473220566564,
          0.14893714049785275,
          0.000488107130862975,
          0.04061649396224464,
          0.08045022619371067,
          0.02097571394755699,
          0.08873374993765148,
          0.03496522989790185,
          0.06399887056195631,
          -0.07910008498593715,
          0.037557981039137614,
          0.057448709740168226,
          0.015079833547050244,
          -0.2599478171810937,
          -0.2665732134354416,
          -0.3332159896112678,
          -0.2527557233914066,
          -0.4506322567437379,
          0.04357988808833149,
          0.03572345347586218,
          0.06623159415307392,
          0.04464083363222464,
          0.08956419710286588,
          0.0864882975001069,
          0.08832158301830889,
          0.07100439037879713,
          0.047989742530445176,
          0.05095280042459474,
          0.0481498144992579,
          -0.016778326200720575,
          0.0198450492684327,
          0.046264640956987596,
          0.11875089466735782,
          -0.22606530619428436,
          -0.20752009866921176,
          -0.3552776289812506,
          -0.8643816528517504,
          -0.860216516356209,
          -0.8117385988543573,
          -0.7958407843113088,
          -0.230780165782908,
          -0.1981948154461595,
          0.19624576045761594,
          0.18173719257187793,
          0.19056172283773135,
          0.2772694169825357,
          0.1887444142019215,
          0.3010529706663844,
          -0.10082496323116655,
          -0.09408344738338958,
          0.41678028534490197,
          0.4146134683797866,
          -0.6454746211691966,
          0.5566191026812997,
          0.7987974472587431,
          0.39880495267371646,
          0.4436901222638366,
          0.4233455105241815,
          0.4885395398591018,
          -0.4736458869771802,
          -0.4674590985507893,
          -0.8599848538780464,
          -0.8334902774299563,
          -1.2850366482368758,
          -0.8855674193982634,
          -1.0247520253576154,
          -0.8180344398073219,
          -0.6978729278798277,
          -1.022904766808238,
          0.11077560516278652,
          0.021786396995812522,
          -0.21859808512874115,
          0.0586108305112373,
          0.1065908111395702,
          0.31146261817394527,
          0.08069625481824573,
          0.021835066722457445,
          0.13022217589184415,
          0.27895947702454255,
          -0.008654068415609681,
          -0.3057895643905984,
          -0.296616868325437,
          -0.15547763544163176,
          -0.12395693756947881,
          -0.19707754684134526,
          0.5517197547587122,
          0.5640041962713958,
          0.5917941117913632,
          0.4327515198126859,
          0.502494174962814,
          0.37573509826618245,
          0.47583033151491405,
          0.09698590147640927,
          0.13202375141484618,
          0.17122247059925333,
          0.030139560251827204,
          0.07017545486817796,
          0.47668499597480385,
          0.17304286119524018,
          0.3775877545510617,
          0.5146452306079292,
          0.45372982115038535,
          0.49528773616351746,
          0.16556724570946663,
          0.21233152472309233,
          0.24213841052118307,
          0.2363719556346317,
          0.19973674162151314,
          0.5818976675810692,
          0.190898350497344,
          -0.25769608782649306,
          -0.17101610748332968,
          0.42664860128453536,
          0.43204408002938377,
          0.4365861442464782,
          0.426406022549526,
          0.2019764353986391,
          0.1866707926153004,
          0.42143672733646664,
          -0.2872228261697418,
          -0.33998234662285376,
          -0.18718553206329375,
          0.09495572590849746,
          0.09209386070288597,
          0.2045900168848039,
          -0.16602326325134137,
          -0.248503552062258,
          -0.08138507841715358,
          -0.00786170332305772,
          -0.015142346880939735,
          0.06062738047363917,
          0.05905158190743348,
          -0.5477967441245606,
          0.21055992217702,
          0.18852966022939413,
          0.2101564509852345,
          0.22815087854407917,
          -0.1928343793043038,
          -0.1585932943404531,
          -0.13182386204032875,
          -0.1924346556293206,
          -0.19707912609729578,
          -0.435674926001416,
          -0.6045644349497028,
          -0.418997958509657,
          0.2080267804354056,
          0.19928128484911578,
          0.1821320935039306,
          0.1820491295802603,
          0.15815442213477024,
          0.1543892949482865,
          0.4923702733969241,
          0.4925680445001844,
          0.4850029587659414,
          0.47150365225619284,
          0.47475528918541854,
          -0.9229537906095705,
          -1.1757053148907932,
          -1.2149597834645696,
          -0.005414881218183633,
          0.025120824425021275,
          0.0004942051716987896,
          0.023677373036625798,
          0.008753376912544865,
          0.008038515484004208,
          0.045258499507657465,
          0.04527035233849513,
          0.04148223527032284,
          0.04230015753094412,
          0.1141318829987942,
          -0.008219511145823642,
          0.005051394389596064,
          -0.3190453056355174,
          0.891455514922184,
          0.8814148116895015,
          0.10475160860365666,
          0.13322872379975523,
          0.1333970717943212,
          0.15779762414648837,
          -0.22111124800271925,
          -0.5067184848209665,
          -0.5553392383606089,
          -0.845624045975343,
          -0.6595435399098794,
          -0.716639564800271,
          -0.5974497255988399,
          -0.647235223471177,
          -1.1028744427969945,
          -0.9177416084397872,
          0.19487513787425478,
          0.19247645741855385,
          0.1893313560890923,
          -0.03397651707835904,
          -0.3455888411174428,
          -0.35373018919962534,
          0.2302300424448761,
          0.20903800694785646,
          -0.20788261421501406,
          -0.18053453038420378,
          -0.18661574650982438,
          -0.17779103726023412,
          -0.5833434751884348,
          -0.613026491129053,
          -0.4498749978947851,
          0.21939297101074232,
          0.2205903796134693,
          0.22310846868176182,
          -0.007489157241685327,
          0.32627867591674686
         ]
        }
       ],
       "layout": {
        "coloraxis": {
         "colorbar": {
          "title": {
           "side": "top",
           "text": "Percent Buried<br>Volume"
          },
          "x": 0.85,
          "xanchor": "left",
          "y": 0.5,
          "yanchor": "middle"
         },
         "colorscale": [
          [
           0,
           "#0d0887"
          ],
          [
           0.1111111111111111,
           "#46039f"
          ],
          [
           0.2222222222222222,
           "#7201a8"
          ],
          [
           0.3333333333333333,
           "#9c179e"
          ],
          [
           0.4444444444444444,
           "#bd3786"
          ],
          [
           0.5555555555555556,
           "#d8576b"
          ],
          [
           0.6666666666666666,
           "#ed7953"
          ],
          [
           0.7777777777777778,
           "#fb9f3a"
          ],
          [
           0.8888888888888888,
           "#fdca26"
          ],
          [
           1,
           "#f0f921"
          ]
         ]
        },
        "height": 600,
        "legend": {
         "tracegroupgap": 0
        },
        "scene": {
         "aspectmode": "auto",
         "aspectratio": {
          "x": 1.5868412433729333,
          "y": 0.9391835436139818,
          "z": 0.6709899974235098
         },
         "camera": {
          "center": {
           "x": 0,
           "y": 0,
           "z": 0
          },
          "eye": {
           "x": 1.6983149720510264,
           "y": 1.2240536964675661,
           "z": 0.09241649965634023
          },
          "projection": {
           "type": "perspective"
          },
          "up": {
           "x": 0,
           "y": 0,
           "z": 1
          }
         },
         "domain": {
          "x": [
           0,
           1
          ],
          "y": [
           0,
           1
          ]
         },
         "xaxis": {
          "title": {
           "text": "PC 1"
          },
          "type": "linear"
         },
         "yaxis": {
          "title": {
           "text": "PC 2"
          },
          "type": "linear"
         },
         "zaxis": {
          "title": {
           "text": "PC 3"
          },
          "type": "linear"
         }
        },
        "template": {
         "data": {
          "bar": [
           {
            "error_x": {
             "color": "#2a3f5f"
            },
            "error_y": {
             "color": "#2a3f5f"
            },
            "marker": {
             "line": {
              "color": "#E5ECF6",
              "width": 0.5
             },
             "pattern": {
              "fillmode": "overlay",
              "size": 10,
              "solidity": 0.2
             }
            },
            "type": "bar"
           }
          ],
          "barpolar": [
           {
            "marker": {
             "line": {
              "color": "#E5ECF6",
              "width": 0.5
             },
             "pattern": {
              "fillmode": "overlay",
              "size": 10,
              "solidity": 0.2
             }
            },
            "type": "barpolar"
           }
          ],
          "carpet": [
           {
            "aaxis": {
             "endlinecolor": "#2a3f5f",
             "gridcolor": "white",
             "linecolor": "white",
             "minorgridcolor": "white",
             "startlinecolor": "#2a3f5f"
            },
            "baxis": {
             "endlinecolor": "#2a3f5f",
             "gridcolor": "white",
             "linecolor": "white",
             "minorgridcolor": "white",
             "startlinecolor": "#2a3f5f"
            },
            "type": "carpet"
           }
          ],
          "choropleth": [
           {
            "colorbar": {
             "outlinewidth": 0,
             "ticks": ""
            },
            "type": "choropleth"
           }
          ],
          "contour": [
           {
            "colorbar": {
             "outlinewidth": 0,
             "ticks": ""
            },
            "colorscale": [
             [
              0,
              "#0d0887"
             ],
             [
              0.1111111111111111,
              "#46039f"
             ],
             [
              0.2222222222222222,
              "#7201a8"
             ],
             [
              0.3333333333333333,
              "#9c179e"
             ],
             [
              0.4444444444444444,
              "#bd3786"
             ],
             [
              0.5555555555555556,
              "#d8576b"
             ],
             [
              0.6666666666666666,
              "#ed7953"
             ],
             [
              0.7777777777777778,
              "#fb9f3a"
             ],
             [
              0.8888888888888888,
              "#fdca26"
             ],
             [
              1,
              "#f0f921"
             ]
            ],
            "type": "contour"
           }
          ],
          "contourcarpet": [
           {
            "colorbar": {
             "outlinewidth": 0,
             "ticks": ""
            },
            "type": "contourcarpet"
           }
          ],
          "heatmap": [
           {
            "colorbar": {
             "outlinewidth": 0,
             "ticks": ""
            },
            "colorscale": [
             [
              0,
              "#0d0887"
             ],
             [
              0.1111111111111111,
              "#46039f"
             ],
             [
              0.2222222222222222,
              "#7201a8"
             ],
             [
              0.3333333333333333,
              "#9c179e"
             ],
             [
              0.4444444444444444,
              "#bd3786"
             ],
             [
              0.5555555555555556,
              "#d8576b"
             ],
             [
              0.6666666666666666,
              "#ed7953"
             ],
             [
              0.7777777777777778,
              "#fb9f3a"
             ],
             [
              0.8888888888888888,
              "#fdca26"
             ],
             [
              1,
              "#f0f921"
             ]
            ],
            "type": "heatmap"
           }
          ],
          "heatmapgl": [
           {
            "colorbar": {
             "outlinewidth": 0,
             "ticks": ""
            },
            "colorscale": [
             [
              0,
              "#0d0887"
             ],
             [
              0.1111111111111111,
              "#46039f"
             ],
             [
              0.2222222222222222,
              "#7201a8"
             ],
             [
              0.3333333333333333,
              "#9c179e"
             ],
             [
              0.4444444444444444,
              "#bd3786"
             ],
             [
              0.5555555555555556,
              "#d8576b"
             ],
             [
              0.6666666666666666,
              "#ed7953"
             ],
             [
              0.7777777777777778,
              "#fb9f3a"
             ],
             [
              0.8888888888888888,
              "#fdca26"
             ],
             [
              1,
              "#f0f921"
             ]
            ],
            "type": "heatmapgl"
           }
          ],
          "histogram": [
           {
            "marker": {
             "pattern": {
              "fillmode": "overlay",
              "size": 10,
              "solidity": 0.2
             }
            },
            "type": "histogram"
           }
          ],
          "histogram2d": [
           {
            "colorbar": {
             "outlinewidth": 0,
             "ticks": ""
            },
            "colorscale": [
             [
              0,
              "#0d0887"
             ],
             [
              0.1111111111111111,
              "#46039f"
             ],
             [
              0.2222222222222222,
              "#7201a8"
             ],
             [
              0.3333333333333333,
              "#9c179e"
             ],
             [
              0.4444444444444444,
              "#bd3786"
             ],
             [
              0.5555555555555556,
              "#d8576b"
             ],
             [
              0.6666666666666666,
              "#ed7953"
             ],
             [
              0.7777777777777778,
              "#fb9f3a"
             ],
             [
              0.8888888888888888,
              "#fdca26"
             ],
             [
              1,
              "#f0f921"
             ]
            ],
            "type": "histogram2d"
           }
          ],
          "histogram2dcontour": [
           {
            "colorbar": {
             "outlinewidth": 0,
             "ticks": ""
            },
            "colorscale": [
             [
              0,
              "#0d0887"
             ],
             [
              0.1111111111111111,
              "#46039f"
             ],
             [
              0.2222222222222222,
              "#7201a8"
             ],
             [
              0.3333333333333333,
              "#9c179e"
             ],
             [
              0.4444444444444444,
              "#bd3786"
             ],
             [
              0.5555555555555556,
              "#d8576b"
             ],
             [
              0.6666666666666666,
              "#ed7953"
             ],
             [
              0.7777777777777778,
              "#fb9f3a"
             ],
             [
              0.8888888888888888,
              "#fdca26"
             ],
             [
              1,
              "#f0f921"
             ]
            ],
            "type": "histogram2dcontour"
           }
          ],
          "mesh3d": [
           {
            "colorbar": {
             "outlinewidth": 0,
             "ticks": ""
            },
            "type": "mesh3d"
           }
          ],
          "parcoords": [
           {
            "line": {
             "colorbar": {
              "outlinewidth": 0,
              "ticks": ""
             }
            },
            "type": "parcoords"
           }
          ],
          "pie": [
           {
            "automargin": true,
            "type": "pie"
           }
          ],
          "scatter": [
           {
            "fillpattern": {
             "fillmode": "overlay",
             "size": 10,
             "solidity": 0.2
            },
            "type": "scatter"
           }
          ],
          "scatter3d": [
           {
            "line": {
             "colorbar": {
              "outlinewidth": 0,
              "ticks": ""
             }
            },
            "marker": {
             "colorbar": {
              "outlinewidth": 0,
              "ticks": ""
             }
            },
            "type": "scatter3d"
           }
          ],
          "scattercarpet": [
           {
            "marker": {
             "colorbar": {
              "outlinewidth": 0,
              "ticks": ""
             }
            },
            "type": "scattercarpet"
           }
          ],
          "scattergeo": [
           {
            "marker": {
             "colorbar": {
              "outlinewidth": 0,
              "ticks": ""
             }
            },
            "type": "scattergeo"
           }
          ],
          "scattergl": [
           {
            "marker": {
             "colorbar": {
              "outlinewidth": 0,
              "ticks": ""
             }
            },
            "type": "scattergl"
           }
          ],
          "scattermapbox": [
           {
            "marker": {
             "colorbar": {
              "outlinewidth": 0,
              "ticks": ""
             }
            },
            "type": "scattermapbox"
           }
          ],
          "scatterpolar": [
           {
            "marker": {
             "colorbar": {
              "outlinewidth": 0,
              "ticks": ""
             }
            },
            "type": "scatterpolar"
           }
          ],
          "scatterpolargl": [
           {
            "marker": {
             "colorbar": {
              "outlinewidth": 0,
              "ticks": ""
             }
            },
            "type": "scatterpolargl"
           }
          ],
          "scatterternary": [
           {
            "marker": {
             "colorbar": {
              "outlinewidth": 0,
              "ticks": ""
             }
            },
            "type": "scatterternary"
           }
          ],
          "surface": [
           {
            "colorbar": {
             "outlinewidth": 0,
             "ticks": ""
            },
            "colorscale": [
             [
              0,
              "#0d0887"
             ],
             [
              0.1111111111111111,
              "#46039f"
             ],
             [
              0.2222222222222222,
              "#7201a8"
             ],
             [
              0.3333333333333333,
              "#9c179e"
             ],
             [
              0.4444444444444444,
              "#bd3786"
             ],
             [
              0.5555555555555556,
              "#d8576b"
             ],
             [
              0.6666666666666666,
              "#ed7953"
             ],
             [
              0.7777777777777778,
              "#fb9f3a"
             ],
             [
              0.8888888888888888,
              "#fdca26"
             ],
             [
              1,
              "#f0f921"
             ]
            ],
            "type": "surface"
           }
          ],
          "table": [
           {
            "cells": {
             "fill": {
              "color": "#EBF0F8"
             },
             "line": {
              "color": "white"
             }
            },
            "header": {
             "fill": {
              "color": "#C8D4E3"
             },
             "line": {
              "color": "white"
             }
            },
            "type": "table"
           }
          ]
         },
         "layout": {
          "annotationdefaults": {
           "arrowcolor": "#2a3f5f",
           "arrowhead": 0,
           "arrowwidth": 1
          },
          "autotypenumbers": "strict",
          "coloraxis": {
           "colorbar": {
            "outlinewidth": 0,
            "ticks": ""
           }
          },
          "colorscale": {
           "diverging": [
            [
             0,
             "#8e0152"
            ],
            [
             0.1,
             "#c51b7d"
            ],
            [
             0.2,
             "#de77ae"
            ],
            [
             0.3,
             "#f1b6da"
            ],
            [
             0.4,
             "#fde0ef"
            ],
            [
             0.5,
             "#f7f7f7"
            ],
            [
             0.6,
             "#e6f5d0"
            ],
            [
             0.7,
             "#b8e186"
            ],
            [
             0.8,
             "#7fbc41"
            ],
            [
             0.9,
             "#4d9221"
            ],
            [
             1,
             "#276419"
            ]
           ],
           "sequential": [
            [
             0,
             "#0d0887"
            ],
            [
             0.1111111111111111,
             "#46039f"
            ],
            [
             0.2222222222222222,
             "#7201a8"
            ],
            [
             0.3333333333333333,
             "#9c179e"
            ],
            [
             0.4444444444444444,
             "#bd3786"
            ],
            [
             0.5555555555555556,
             "#d8576b"
            ],
            [
             0.6666666666666666,
             "#ed7953"
            ],
            [
             0.7777777777777778,
             "#fb9f3a"
            ],
            [
             0.8888888888888888,
             "#fdca26"
            ],
            [
             1,
             "#f0f921"
            ]
           ],
           "sequentialminus": [
            [
             0,
             "#0d0887"
            ],
            [
             0.1111111111111111,
             "#46039f"
            ],
            [
             0.2222222222222222,
             "#7201a8"
            ],
            [
             0.3333333333333333,
             "#9c179e"
            ],
            [
             0.4444444444444444,
             "#bd3786"
            ],
            [
             0.5555555555555556,
             "#d8576b"
            ],
            [
             0.6666666666666666,
             "#ed7953"
            ],
            [
             0.7777777777777778,
             "#fb9f3a"
            ],
            [
             0.8888888888888888,
             "#fdca26"
            ],
            [
             1,
             "#f0f921"
            ]
           ]
          },
          "colorway": [
           "#636efa",
           "#EF553B",
           "#00cc96",
           "#ab63fa",
           "#FFA15A",
           "#19d3f3",
           "#FF6692",
           "#B6E880",
           "#FF97FF",
           "#FECB52"
          ],
          "font": {
           "color": "#2a3f5f"
          },
          "geo": {
           "bgcolor": "white",
           "lakecolor": "white",
           "landcolor": "#E5ECF6",
           "showlakes": true,
           "showland": true,
           "subunitcolor": "white"
          },
          "hoverlabel": {
           "align": "left"
          },
          "hovermode": "closest",
          "mapbox": {
           "style": "light"
          },
          "paper_bgcolor": "white",
          "plot_bgcolor": "#E5ECF6",
          "polar": {
           "angularaxis": {
            "gridcolor": "white",
            "linecolor": "white",
            "ticks": ""
           },
           "bgcolor": "#E5ECF6",
           "radialaxis": {
            "gridcolor": "white",
            "linecolor": "white",
            "ticks": ""
           }
          },
          "scene": {
           "xaxis": {
            "backgroundcolor": "#E5ECF6",
            "gridcolor": "white",
            "gridwidth": 2,
            "linecolor": "white",
            "showbackground": true,
            "ticks": "",
            "zerolinecolor": "white"
           },
           "yaxis": {
            "backgroundcolor": "#E5ECF6",
            "gridcolor": "white",
            "gridwidth": 2,
            "linecolor": "white",
            "showbackground": true,
            "ticks": "",
            "zerolinecolor": "white"
           },
           "zaxis": {
            "backgroundcolor": "#E5ECF6",
            "gridcolor": "white",
            "gridwidth": 2,
            "linecolor": "white",
            "showbackground": true,
            "ticks": "",
            "zerolinecolor": "white"
           }
          },
          "shapedefaults": {
           "line": {
            "color": "#2a3f5f"
           }
          },
          "ternary": {
           "aaxis": {
            "gridcolor": "white",
            "linecolor": "white",
            "ticks": ""
           },
           "baxis": {
            "gridcolor": "white",
            "linecolor": "white",
            "ticks": ""
           },
           "bgcolor": "#E5ECF6",
           "caxis": {
            "gridcolor": "white",
            "linecolor": "white",
            "ticks": ""
           }
          },
          "title": {
           "x": 0.05
          },
          "xaxis": {
           "automargin": true,
           "gridcolor": "white",
           "linecolor": "white",
           "ticks": "",
           "title": {
            "standoff": 15
           },
           "zerolinecolor": "white",
           "zerolinewidth": 2
          },
          "yaxis": {
           "automargin": true,
           "gridcolor": "white",
           "linecolor": "white",
           "ticks": "",
           "title": {
            "standoff": 15
           },
           "zerolinecolor": "white",
           "zerolinewidth": 2
          }
         }
        },
        "title": {
         "text": "Total Explained Variance: 90.39%",
         "x": 0.5,
         "xanchor": "center",
         "y": 0.9,
         "yanchor": "top"
        },
        "width": 800
       }
      },
      "image/png": "[encoded data removed]",
      "text/html": [
       "<div>                            <div id=\"5314e6cf-105c-422b-8b3f-d66ffae297bd\" class=\"plotly-graph-div\" style=\"height:600px; width:800px;\"></div>            <script type=\"text/javascript\">                require([\"plotly\"], function(Plotly) {                    window.PLOTLYENV=window.PLOTLYENV || {};                                    if (document.getElementById(\"5314e6cf-105c-422b-8b3f-d66ffae297bd\")) {                    Plotly.newPlot(                        \"5314e6cf-105c-422b-8b3f-d66ffae297bd\",                        [{\"hovertemplate\":\"PC 1=%{x}\\u003cbr\\u003ePC 2=%{y}\\u003cbr\\u003ePC 3=%{z}\\u003cbr\\u003ecolor=%{marker.color}\\u003cextra\\u003e\\u003c\\u002fextra\\u003e\",\"legendgroup\":\"\",\"marker\":{\"color\":[44.96890141632501,47.61519288110324,48.96920424897503,46.75095508758852,42.41345974655237,44.88038110324264,40.84105944837868,42.32493943346999,52.377818673127095,48.12127282892285,47.09746552366754,50.72971021244875,47.37059727916512,47.23432258665673,47.23781680954156,47.14871412597838,50.82929556466642,43.95091781587775,45.81974468878121,47.21743384271338,50.80774785687663,52.48031587774879,46.44288110324264,47.09688315318673,40.38156913902348,45.37481364144615,38.93321375326128,45.40626164740962,53.045797614610514,51.49145080134178,59.75004658963846,48.59998136414461,46.20469157659336,49.37336936265375,49.17943999254566,45.87972884830413,49.75016306373463,47.61868710398807,51.55667629519195,48.97968691762952,49.66106038017145,48.265700708162505,31.073541744316064,31.002492545657844,40.21734066343645,40.88124301155423,40.82650018635856,40.29654304882594,43.451243943347,40.28955460305628,40.0391352963101,34.497297800969065,47.336819791278415,42.95855851658591,47.46202944465151,40.93190924338428,52.35102963101006,52.8611861721953,55.38052087215804,52.667256802087216,47.95646198285502,52.40286060380171,52.56534196794633,49.25048919120388,40.07931885948565,46.45918747670518,48.97444558330227,50.77629985091316,53.61244409243384,50.27371412597839,57.071142377935146,41.43100074543422,44.4622390980246,34.197377003354454,35.7994781960492,36.81746179649646,37.76323145732389,34.32549850913157,34.217759970182634,42.29815039135296,45.21932072307119,46.80919213566902,47.02117499068208,49.25048919120388,43.47512113306001,46.76318486768543,49.39724655236675,43.47686824450242,43.77737141259784,57.82589452105852,57.95983973164368,46.63273387998509,41.53175083861349,43.117545657845696,52.73248229593739,57.42347651882221,45.11915300037272,43.479197726425646,43.62653745806932,44.10932258665673,41.03615355944838,51.21074822959374,41.29763790532985,49.036759224748415,57.93013883712263,46.501700521803954,53.11568207230712,45.179719530376445,50.65341967946328,52.55369455833024,49.57021058516586,50.05357808423406,41.87010808796124,41.2568719716735,43.70690458442043,44.47563361908312,46.19246179649646,39.10559541557957,33.16075754752143,29.914042117033173,29.717200894521056,39.867336004472605,39.89179556466642,39.91800223630265,33.942298732761834,34.49613306000746,34.630660641073426,34.40237141259784,33.95336377189713,34.36509970182631,34.523504472605296,34.569511740588894,42.95040532985464,42.503144800596345,50.56955833022736,51.8263138278047,50.335445396943726,50.040183563175546,56.39384550875886,54.75971393961983,42.289414834140885,42.3371692135669,43.898504472605296,37.00032612746925,43.01912504658964,48.55572120760343,48.55513883712263,46.36833768169959,46.38522642564294,39.41366939992545,39.32107249347745,39.28554789414834,44.31955833022736,43.97304789414834,47.18598583674991,44.89668747670518,39.58139209839732,40.06068300409989,40.24878866939993,40.5673453224003,47.69148341408871,53.46801621319418,41.831089265747295,47.686242079761456,41.22542396571003,40.88590197540067,45.86924617964965,32.641283078643305,38.715989563920985,33.91900391352964,39.64894707417071,35.79074263883712,37.95832556839359,39.0048453224003,34.184564852776745,34.8001304509877,32.15500372717108,32.54985091315692,36.28808702944465,42.15546962355572,39.73106131196422,39.86384178158777,42.18167629519195,39.65011181513232,39.964009504286246,41.34422754379426,42.52643961982855,44.35450055907566,40.58598117778606,47.09105944837868,47.823681513231456,48.25987700335445,46.10685333581812,43.726122810287,43.557817741334325,43.71331065970928,36.67419865821841,42.9113865076407,43.705157472978016,42.30572120760343,44.36323611628774,50.91723350726798,52.04586749906821,44.86116287737608,49.31979127841968,46.23381010063362,44.028373089824825,49.16604547148714,48.85447726425643,40.583069325382034,44.29509877003354,46.1621785314946,43.32428717853149,46.82433376816996,56.97155702571748,47.78699217294074,46.07424058889303,50.140933656354825,49.32969157659336,43.3126397689154,40.17540998881849,44.14892377935147,41.95571654863958,43.3132221393962,44.90600540439807,59.915439806187095,43.2905096906448,44.16814200521805,37.68519381289601,45.87332277301528,47.6215989563921,46.36367871785316,43.19150670890794,44.416231830041,41.43333022735744,45.85352217666791,45.79353801714498,42.70580972791651,50.95159336563548,54.00263231457324,53.82850354081252,50.50840942974283,43.88569232202758,42.7052273574357,47.80388091688408,52.39936638091688,50.22304789414834,44.055162131941856,45.81974468878121,44.13378214685054,58.03845974655236,50.57538203503541,42.34357528885575,45.35792489750279,45.52855944837868,45.37481364144615,48.86321282146851,52.39761926947447,45.21582650018636,44.20716082743198,52.31958162504659,52.22465523667537,48.24124114796869,48.68500745434216,38.62106317554976,44.523970368989936,38.38170890793887,40.855036339918,38.77189713007827,40.82358833395453,42.89740961610138,46.79754472605293,48.5871692135669,46.63564573238912,54.05504565784569,55.29491241147969,57.04493570629892,54.75971393961983,55.02178065598211,44.87979873276184,44.680045657845696,44.51698192322028,44.89028140141632,55.38285035408125,62.31713566902721,43.68419213566902,39.22905795751025,41.21494129705553,42.93176947446888,40.76243943346999,42.4973210957883,44.258991800223626,37.403908870667166,40.27150111815132,42.91313361908312,40.22141725680209,42.54915206857995,55.583185799478194,43.5892657472978,36.57810752888558,60.490821841222505,60.54847651882221,60.51469903093552,60.14023481177786,54.80572120760343,54.82785128587402,54.83542210212449,54.82260995154677,55.03925177040626,38.64959932910921,48.11486675363399,54.66012858740216,57.244106410734254,57.16723350726798,57.05541837495341,56.935450055907566,56.86440085724935,56.94360324263885,49.06413063734625,51.250931792769286,46.29379426015654,50.4367778606038,52.042373276183376,43.97130078270592,45.38587868058144,52.595625232948194,47.42417536339918,47.23315784569512,47.727008013417816,47.575591688408494,43.23169027208349,53.61360883339545,54.45629891912039,54.45338706671636,54.922777674245246,54.52210678345136,54.48192322027581,44.40400204994409,52.4115961610138,50.64934308609765,42.06578456951174,37.86048732761834,59.9148574357063,59.86652068579947,59.93640514349609,59.32491613865077,58.013417815877744,50.09376164740962,49.688431792769286,45.02247950055908,46.92974282519568,47.77243291092061,42.75938781215058,45.97349049571376,46.71892471114425,49.27902534476332,44.18736023108461,45.921659522922106,44.258991800223626,53.71494129705553,57.60459373835259,57.56615728661946,51.22356038017145,43.3132221393962,55.77769754006708,54.82260995154677,50.8613259411107,50.778046962355575,48.68675456578457,49.44208907938874,51.86358553857622,48.70655516213194,49.37278699217294,50.093179276928815,49.89400857249348,44.278792396571006],\"coloraxis\":\"coloraxis\",\"symbol\":\"circle\"},\"mode\":\"markers\",\"name\":\"\",\"scene\":\"scene\",\"showlegend\":false,\"x\":[-2.8687449074153086,-2.8710567796529807,-2.8725439274673508,-2.130145790158703,-2.113747956488139,-2.1028087789291,-2.1053994444726993,-2.079649065896842,-2.108518621576695,-2.0226598006307266,-2.8980383642469216,-2.6510306802464956,-2.620773436026347,-2.6214450886803906,-2.6222352785631626,-2.6240989179341936,-2.8821111951190304,-2.8472439253655835,-2.788554080305769,-2.8707007442260677,-2.891782654402953,-2.901340466994166,-2.808944126544725,-2.8510437630619405,0.17402024780151581,5.1628359103742865,5.075405311405972,5.126033048722428,5.121193039617111,-2.834564905207551,-2.833283702171711,-2.9002861234962505,-2.813096388712177,-2.836744278298151,-2.865967382584062,-2.6995466035410223,-2.720288848176028,-2.54763540184893,-2.5867842093345406,-2.556188920895914,-3.023925075925727,-2.551796336573913,-2.8041659043014358,-2.7815820564714837,-1.6900915127901381,-1.729376113918349,-1.6881516874418891,-1.692087717087991,-1.7020454143188972,-1.7563358670883251,-1.6535763861660906,-0.5906786234105538,-0.5894444566872253,-0.5975720398584193,-0.6331890637413446,-0.5369830182969972,5.181518719280584,5.117571783253305,5.107446260292679,5.143106088242934,4.39316280967094,4.396813222674442,4.400821830607035,5.156545778141425,5.19048826208627,-0.4235737625943839,-0.42730666077207374,5.204883041599464,5.148839830849152,5.173797937844196,5.171473094480565,4.1287300019954065,3.9621545113190852,-0.47887011157332626,-0.5034127247446677,-0.5049985554371074,-0.5197256682969622,-0.5431553907356298,-0.5439028868785628,-0.46935871274845725,5.154179078389096,5.153400019390327,5.152919911778791,5.1780465036004735,-2.6821918595493095,-2.6869758728305344,-2.7205918119713384,-2.676434654988476,-2.6850015695248373,-1.6611773699602412,-1.6691710138421294,-1.6822559870018274,-2.9114938267123245,-1.236116794713078,-1.2338433081642892,-1.2565098730386925,-2.9078753636668746,-2.8088306137738086,-2.767607310652323,-2.8082464225813095,-2.9251457717955383,-2.7299094339022516,-2.171600986679744,-2.2143632359263794,-2.196846417864147,-2.123672427284256,-2.1725248197508535,-0.5467501435794511,5.203633204135008,3.88590425545724,3.8957535574397335,-2.5331649541877796,-2.637173670990112,-2.4888615475651745,-2.4165925985205057,-0.5539385148753517,-0.5362870198041648,-2.588707212217462,-2.19485124758134,-2.1863494861473196,-2.164974664527475,-2.5838842736594767,-2.593427936245244,-2.579117523795812,-0.37672774411639365,-0.7082974247845996,-0.6177149818677723,-0.28044047414852497,-0.2871298580254246,-0.2699309731910542,-0.29341464538548273,0.04268971526439965,-1.5439460083177399,-1.7190616795773372,-2.725893961650159,-2.7319344694240932,-2.7247848969815616,-2.7151521635542464,-2.704466513701179,-2.6910994573665734,-2.3940541212390265,-2.076589287560031,-2.14528999068929,-2.055814833549754,-2.4331895229233993,-1.6276718155565588,-1.6311202193131882,-2.149229086880585,-2.5306312211053403,-2.5130846211278324,-2.5043097032234467,-2.501440227429898,-1.5781797406350118,-1.6851394339261427,3.1710257856084434,3.105651869755434,5.115183545007298,5.186087462474795,-0.4853199432125023,-0.47376810938496455,-0.4799847293864441,-0.4730109395130475,-0.46790842530208504,-0.4641823710591914,-0.5181970261532699,-0.31582371563070577,-1.6685178007038468,-1.6816847272584015,-1.685528567896931,-2.5101998354887742,-2.5244731194083467,-2.508786849295632,-2.512914826247144,-2.4930644084961524,-2.540555975498713,-2.5292134557529082,-2.631644013560819,-2.5034010470063435,-2.498818012583704,-2.352894705260082,-2.8464371136913185,-2.835373882934645,-2.862019464706723,-2.8613677913440907,-2.86097903910663,-1.6766941684047054,-1.674330935770889,-1.6770256121465863,-1.7568921332939478,-1.7439343278902835,-1.7515483411557249,-1.7453478374860456,-1.7517273425438808,-1.7447341008251418,-1.6874999694835022,-1.6849270226238084,-1.6814736044441445,-1.738477634118451,-1.7510833816452192,-2.3591825564358113,-2.7960029878366495,-2.8021946141827025,-2.7751713256224106,-1.3626839200469603,-0.90701771263986,-1.3948918874921732,-1.4321812220482606,-2.8385039543061152,-2.7642311825320474,-1.9920416236516914,-1.977765905373869,-2.01684311666337,4.461289837554582,4.5214919774162095,4.447738994231812,1.8234216897758766,1.9346378436817346,3.3906734681424884,3.3855558182901384,3.731668537079692,5.18455964361455,5.087460070111192,5.181985605841118,5.203452959540725,5.167999348985894,5.0993376188227675,-1.392471622469464,-1.3934558149623142,-1.2113469584248897,-1.2384785634068243,4.037746614864959,4.15604739908185,4.034617164843638,3.9428850472341166,4.128513139027266,4.20000101010391,4.033828397821629,3.992472359148581,4.030228221752887,3.9803283695398672,3.9916995431000157,4.114689715655344,3.8077820558388287,3.992635936712425,3.893462031206646,-2.423270933496211,-2.6250632381962147,4.018859101260092,3.9861455510838315,3.9458826793178203,3.905656858468349,3.8377309140978735,5.171503492124387,5.241529862833616,5.258299583842036,4.936075718345604,5.080736906311049,5.004466135985577,4.98438853545798,4.919356988599788,4.982128993453806,5.056295279053174,5.13174673694612,4.976432688267829,4.7871349436596615,4.828045983582947,4.82378258424956,4.837338566974385,4.7446225824163,4.796013469206612,5.488412533874702,5.511706384578554,5.533506579968142,5.528448635582203,5.539840065971498,4.033729198614806,-2.5050208127073357,-2.942232137438656,-2.749660689828243,5.175761905695723,5.171060904812853,5.1588509236329685,5.155594449214617,-2.454869589710772,-2.4470202042141564,5.193617377928617,-2.9088106806494016,-2.9319166495124804,-2.88675195819037,-2.51548807077373,-2.5240159169140615,-2.481386081117613,-2.6901186674169724,-2.7522717245385553,-2.6753606723333885,-2.578355243768194,-2.577733149369905,-2.5358239242653857,-2.5452347401550557,-0.1027713608766423,-2.500022518362704,-2.5220215398989416,-2.4916688260162014,-2.4690059119523506,-2.748558093840733,-2.723316771151831,-2.6941541691089412,-2.733875607590088,-2.766091000263235,4.731279637104965,4.727065450476577,4.6700723665603485,-2.4706899462800407,-2.4879793952456595,-2.5122078518622244,-2.5173862073219397,-2.5400113323126012,-2.5549107755362654,5.1281106806684384,5.1343446821974705,5.130023952092785,5.128530983142795,5.138481840688966,-1.446930527472276,4.4688815590213276,4.4040105946895975,-2.308009580370006,-2.66778519252344,-2.32545922972511,-2.672031656563595,-2.672355347167346,-2.5759249089301024,-2.276042259015925,-2.2760788758013586,-2.282069101186817,-2.2778466623037685,-2.6833950226370553,-2.3446638254358563,-2.3080696479731104,-2.8262050173243276,4.622452919144531,4.6157213381860585,-2.523618546975676,-2.5409982658510635,-2.53609541157536,-2.4927740215682888,-2.77625269786297,-1.0452823253702628,-1.0307249590909593,-1.1062331372737368,-1.4605231557311598,-1.116698020422781,-1.017133372090147,-1.2140158641769885,-1.241752737085307,-1.1047632781476573,4.764498117523822,4.751862483304351,4.719518982011946,1.7656054248553854,1.7383481587135692,1.739435332795134,-2.261465119343526,-2.2543618703095913,-2.748571718622447,-2.759592569184748,-2.743940165202102,-2.748072892893315,-0.4182470068412656,-0.38422970696061043,-0.4330612333881655,5.1695841904848185,5.169960964246378,5.168799881839488,4.501760169941201,4.452520639398349],\"y\":[2.033626784371602,2.0046049410109434,1.9794642363167505,0.2881017930969802,0.29750481350070257,0.3004450852025371,0.3037043818078577,0.3327542145355197,0.2647644212156774,0.33520792601493876,2.2441237190008865,2.1761949643733325,2.253133949451404,2.2530334477829537,2.252851620756992,2.249755305758341,2.062958166285379,2.0430177817853257,2.030253102285047,2.3022411134030953,2.2422571371219844,2.2043549322459213,2.1007803076454925,2.25419068085653,1.24159385173785,-0.27771649610855814,-0.5919803259463906,-0.40909259965308165,-0.448448318887483,2.0763300580130117,2.114377472314509,2.210992908369834,2.058319291398627,2.021128587686615,2.0715595735805996,1.7850952411318588,1.779617038812724,2.532529085170711,2.4681660565191708,2.559514133687042,0.4630357914960111,2.5674237742661608,-0.9209442086954056,-0.9298571261532736,-1.143271372903722,-1.166406817206625,-1.168893616912935,-1.1638745810843871,-1.1456464937937754,-1.1252395422417307,-1.1398182836898343,1.3638400485607656,1.3411400278755004,1.354042110428926,1.277401245789825,1.4782602741012607,-0.26294894876698294,-0.44258381776791766,-0.5264918720531381,-0.4627947769468826,1.2625035539810436,1.156514587870842,1.1509238853291084,-0.3090274635934864,-0.2430644544917226,1.5701772802340686,1.4958491633852444,-0.21019586902779536,-0.3669210017139438,-0.30811695898023167,-0.31697604758029635,1.0180060137463915,0.8707081722835056,1.3776081539585092,1.3709714560983997,1.3739708264790291,1.3638990722572708,1.3873824022236163,1.3369837332363133,1.3786445604725504,-0.2966070026499604,-0.2834194379737019,-0.2860860273595792,-0.32775707320142206,-0.9395730994989784,-0.9341166508036065,-0.9204591000765872,-0.9311418697450586,-0.9290902427381015,1.31094296349861,1.3137068434031287,1.3315418327967552,2.5726471501288066,0.15414158889570934,0.15422129706488166,0.134435301662682,2.314167802915402,2.334861883856698,2.3921240228469296,2.4405593374586427,2.5271243064632,-0.9471127058684602,1.5384416792260966,1.4575545902052978,1.4909644420327552,1.672156593632186,1.5356036777762851,1.3811504386786673,-0.31692665620646354,0.11795476059242234,0.13105947040196006,-0.979257284903206,-0.8540375411088674,-0.825422688550528,-0.9786044559018907,1.0781549974265374,1.1024116265053212,-1.0603355417866491,-1.1287839651136506,-1.1866394520542691,-1.1829616198769395,-1.18319961951629,-1.1807381232808176,-1.1813293595538852,1.6553554996889983,1.5007749268635928,1.5334836332768464,1.6370937916119042,1.635677466260552,1.6492285730754044,1.6111009368507814,1.653045468746071,-1.176285685924099,-1.1501112859351303,-0.9502133237069086,-0.9430209699155764,-0.9436572723699654,-0.9210935203647628,-0.9883744712131802,-0.97523788228925,-1.0383748782451283,-1.1056244684436456,-1.0767422978934036,-1.2054886370512612,-1.1666668483524234,-1.17452850806629,-1.1772585796475716,-1.248706147283124,-1.1463090190816747,-1.1902798555419194,-1.198717554831935,-1.200362394433953,-1.1933828966664581,-1.1574532121771972,-2.4958796015134226,-2.402499898920845,-0.44564001185106894,-0.2394125193122412,1.4594668278597476,1.4488664430717961,1.439112224892731,1.4086143782470446,1.4317485281336928,1.442997730589131,1.4705646158716164,1.6420229001607483,-1.2504117407745265,-1.2252010333469527,-1.2580636684512614,-1.2238278294782816,-1.2001659358321213,-1.2207393605077892,-1.216378926075835,-1.2308745980770104,-1.1941439136868703,-1.1984143389722626,-1.11337702403401,-1.2367372435602149,-1.2161231413633788,-0.9776585428998641,-0.8904434220607825,-0.8825701602953746,-0.8738663505381219,-0.8955337596336764,-0.7823873022230353,-1.1551438488757284,-1.1704495960234198,-1.1848842745675705,-1.1718099217650375,-1.1799019418745902,-1.1716365161181703,-1.1738414089766658,-1.1732722101396766,-1.1441677766575322,-1.1544745438977386,-1.1546486216774265,-1.1837061076029929,-1.1001605873949798,-1.1428311305380607,-1.2002660662926732,-0.9069871238945973,-0.900916950645389,-0.8321872749065354,1.734466024692843,2.073596229821374,1.5861022234551716,1.4867052876505789,-0.8967297097292246,-0.9133834325878254,-1.2569594380042202,-1.1846369462932154,-1.2150023065872504,-0.2019113276104589,-0.04396660027690132,-0.29413447329762676,-0.5923802074570456,-0.5614210079235772,-1.159741104417129,-1.1550439009998168,-0.4749352725683661,-0.26903788959128416,-0.5738049664855134,-0.27660412976558973,-0.21566797626658182,-0.3335874054407994,-0.522339880379685,-0.45883905966268296,-0.4573331765182319,0.20514435790252553,0.13980579463329174,1.091483916358039,0.8575454107195739,1.0722740323097915,0.8728678363561926,1.0179526830900092,1.1712918376857098,-0.027956130241120588,-0.1382940842862353,0.040974699154958716,-0.16074902881405398,-0.11491833297728639,-0.04973716459377818,-0.12222309519505552,-0.1382661661813512,0.03850635971430955,-0.9967614672431591,-0.9923175450785593,0.2501508422270341,0.20275717677104305,0.20931120875573073,0.08169945247759795,0.015265893482111102,-0.4671929815341272,-0.3017588525253025,-0.334568543360785,-0.21066920948781043,-0.2265622664353773,-0.3478051256874593,-0.37113494626590754,-0.16053879386591802,-0.16597283409439026,-0.18081267431960654,-0.0483924666902678,-0.13872368114185066,-0.42802265593594835,-0.2596498991663408,-0.2981649431439951,-0.28096516452619286,-0.44231367855121395,-0.29319703826924437,0.49656888963988444,0.6124246556205767,0.5937798427368818,0.5935872789247957,0.6530228564731945,-1.6408000221891446,-0.966838211447009,-0.7968032265204998,-0.911792452248142,-0.3722186702403419,-0.3876135992794218,-0.34525896788913196,-0.3444520862974213,-0.9706223942181375,-1.009739252350327,-0.30206504237957066,-0.8643892799573496,-0.8359946715859463,-0.8169285140392882,-0.9957493554601939,-0.9880045811002947,-0.9757269516667523,-0.9995432365354514,-0.9561927422066814,-0.9574625399401948,-1.0072024627197522,-0.991293599829867,-0.9644582903738955,-0.9758704724675973,1.4518244615254388,-0.9666729407034714,-0.941409213273479,-0.9724178611901872,-0.9964288004659972,-0.905180953173404,-0.9124829475995031,-0.9232718509585771,-0.9065710990442267,-0.9093585771897265,0.2892546569676545,0.2949770977983356,0.1760708851831345,-1.0023618086995394,-0.9841941847751329,-0.9606553502619076,-0.9560302548256323,-0.9315105195192708,-0.9152404472499975,-0.4188042034213598,-0.41295406675248747,-0.43777121912135,-0.4158916972212003,-0.41912731195729847,0.1588446599442312,1.0778614764735293,1.169352575532212,-0.9269060922118314,-0.9296595636382571,-0.915682262690577,-0.9287369649152503,-0.9163489052572555,-0.9667776059712404,-0.8746229164974268,-0.8746246082548915,-0.8723698721708046,-0.8675949536910045,-0.8992552431204206,-0.9032954032669523,-0.9083301160491528,-0.9228775932053498,-1.4300208093186833,-1.4621331417958534,-0.9470861207219404,-0.9543865491093567,-0.9597179192431803,-1.004572144438251,-0.9289944924326442,1.4426500326725817,1.4341449809662905,1.489481680359417,1.7248633605609518,1.6716430999836094,1.8770305205945108,1.2694485859581106,1.6287680394091493,1.6664672569189902,-0.2258090986361166,-0.21344386030740053,-0.21208547888380436,0.5444463746895905,0.5778498392053967,0.5898226366852151,-1.0429128133505867,-1.0455543850924345,-0.9003484534217666,-0.9254458528476808,-0.9278429007285718,-0.9097766365044977,2.0424755749779484,2.0132166078126903,1.9210254079261389,-0.2837837707859848,-0.28464957063659246,-0.29313953138403576,-0.024606180894803723,-0.2644062438338113],\"z\":[1.9911807309402105,1.9731137726033212,1.913940172763059,-0.8744823877624232,-0.8885629463989103,-0.8960682722503822,-0.8960965555389034,-0.9219267729754465,-0.8370830529862396,-0.8182003598642111,2.1046945815954934,0.5236060607064674,0.5065499480440738,0.5150264758690491,0.5154237352248652,0.5200897644385984,2.099108935611264,2.1076735078562114,2.0542947266178198,2.2747957510458146,2.252795537893879,2.1716510026126796,2.152744995784849,2.178480682567692,-0.9186833286127654,0.21993584516971948,0.7352959571427384,0.4625852820823326,0.4738304318809778,1.9018675294431815,1.8931020731122008,2.0471060226895483,2.0398217693077423,2.039222188925016,2.029455506411593,0.458739167362217,0.3460352430719334,0.47629689473747355,0.3197662734324074,0.48788941297118343,-0.026773985687703596,0.48607597444943573,-0.14197473391124907,-0.09736132483700896,0.05016368178348409,0.049378866947544696,0.0459292551969179,0.04515625047822801,0.051411933927166815,0.01563859399448506,0.040789642991611044,-1.0986969020731936,-1.121570702107675,-1.118422210448616,-1.1186978465430042,-1.2629070788772707,0.3988345162158861,0.4762463929378109,0.6579228158179994,0.44654123511833393,-1.3354762326707905,-1.206398766748063,-1.2061833686160404,0.25459660973733306,0.4146713731545423,-1.2482264745688967,-1.2351636275000293,0.2236263883718869,0.43967452808293,0.40911995871107987,0.4097055614049735,-0.697835403066077,-0.8270123465356649,-1.0712921263633686,-1.0555160799762389,-1.0535344543628336,-1.0648852703375695,-1.058978436532275,-1.0886141814026318,-1.0937283187145226,0.29637164001270055,0.29064259431385775,0.28808781268501615,0.5489232148997135,-0.242940956474061,-0.20747561105041046,-0.20467303772790518,-0.24779821822631865,-0.21133582459794734,-0.8125571029147197,-0.8183289240519384,-0.8024033937074079,2.2856804359593004,-0.8256608844219817,-0.7935805064402108,-0.7569179369881089,2.0730066622652736,2.1282002814672896,2.2254237894065967,2.2282901694636976,2.153317265589517,-0.15317264061306987,-0.8046600811722266,-0.7982473140176302,-0.8153874272302316,-0.935997980149444,-0.804557078778156,-1.119954774446452,0.2612355037904077,-0.21414226033009637,-0.21851490485123387,0.09680145346818815,-0.4134371424156511,-0.2529345740026567,0.13865551567509213,-0.8779580388896535,-0.8608418406174816,-0.2445373061363594,-0.09744441232797908,0.011513054675679682,-0.0010428818065859827,-0.06222236076807442,-0.07459789310939281,-0.0597158045826574,-1.018585487128453,-0.8984167946969415,-1.0114363145700933,-1.1672665642715692,-1.1738889059659359,-1.1675067886307322,-1.1662175759419278,-1.1112019566772116,0.15278423194326932,0.04330052537466102,-0.18716537219136972,-0.18222251411627674,-0.15592811852467192,-0.18410894218839474,-0.14902992384255725,-0.15635737533738941,-0.138354474773494,0.054874237547982305,0.025368432786704233,0.1929599708803555,0.13532641056036523,0.24053724320181785,0.24892013947721442,0.38071318617771627,0.08908952416045327,-0.017113272444437527,0.00010998343251819203,0.004901309079511433,0.1440554142915501,0.044927934420192606,1.5724621665628964,1.381904161712315,0.5229156406832722,0.40767731369343374,-1.2266737398302865,-1.2591334723827958,-1.2444564050571154,-1.2290043652205191,-1.2456883052929157,-1.2350008018795708,-1.247220562470299,-1.2624756259241499,0.1514534869683845,0.041420473220566564,0.14893714049785275,0.000488107130862975,0.04061649396224464,0.08045022619371067,0.02097571394755699,0.08873374993765148,0.03496522989790185,0.06399887056195631,-0.07910008498593715,0.037557981039137614,0.057448709740168226,0.015079833547050244,-0.2599478171810937,-0.2665732134354416,-0.3332159896112678,-0.2527557233914066,-0.4506322567437379,0.04357988808833149,0.03572345347586218,0.06623159415307392,0.04464083363222464,0.08956419710286588,0.0864882975001069,0.08832158301830889,0.07100439037879713,0.047989742530445176,0.05095280042459474,0.0481498144992579,-0.016778326200720575,0.0198450492684327,0.046264640956987596,0.11875089466735782,-0.22606530619428436,-0.20752009866921176,-0.3552776289812506,-0.8643816528517504,-0.860216516356209,-0.8117385988543573,-0.7958407843113088,-0.230780165782908,-0.1981948154461595,0.19624576045761594,0.18173719257187793,0.19056172283773135,0.2772694169825357,0.1887444142019215,0.3010529706663844,-0.10082496323116655,-0.09408344738338958,0.41678028534490197,0.4146134683797866,-0.6454746211691966,0.5566191026812997,0.7987974472587431,0.39880495267371646,0.4436901222638366,0.4233455105241815,0.4885395398591018,-0.4736458869771802,-0.4674590985507893,-0.8599848538780464,-0.8334902774299563,-1.2850366482368758,-0.8855674193982634,-1.0247520253576154,-0.8180344398073219,-0.6978729278798277,-1.022904766808238,0.11077560516278652,0.021786396995812522,-0.21859808512874115,0.0586108305112373,0.1065908111395702,0.31146261817394527,0.08069625481824573,0.021835066722457445,0.13022217589184415,0.27895947702454255,-0.008654068415609681,-0.3057895643905984,-0.296616868325437,-0.15547763544163176,-0.12395693756947881,-0.19707754684134526,0.5517197547587122,0.5640041962713958,0.5917941117913632,0.4327515198126859,0.502494174962814,0.37573509826618245,0.47583033151491405,0.09698590147640927,0.13202375141484618,0.17122247059925333,0.030139560251827204,0.07017545486817796,0.47668499597480385,0.17304286119524018,0.3775877545510617,0.5146452306079292,0.45372982115038535,0.49528773616351746,0.16556724570946663,0.21233152472309233,0.24213841052118307,0.2363719556346317,0.19973674162151314,0.5818976675810692,0.190898350497344,-0.25769608782649306,-0.17101610748332968,0.42664860128453536,0.43204408002938377,0.4365861442464782,0.426406022549526,0.2019764353986391,0.1866707926153004,0.42143672733646664,-0.2872228261697418,-0.33998234662285376,-0.18718553206329375,0.09495572590849746,0.09209386070288597,0.2045900168848039,-0.16602326325134137,-0.248503552062258,-0.08138507841715358,-0.00786170332305772,-0.015142346880939735,0.06062738047363917,0.05905158190743348,-0.5477967441245606,0.21055992217702,0.18852966022939413,0.2101564509852345,0.22815087854407917,-0.1928343793043038,-0.1585932943404531,-0.13182386204032875,-0.1924346556293206,-0.19707912609729578,-0.435674926001416,-0.6045644349497028,-0.418997958509657,0.2080267804354056,0.19928128484911578,0.1821320935039306,0.1820491295802603,0.15815442213477024,0.1543892949482865,0.4923702733969241,0.4925680445001844,0.4850029587659414,0.47150365225619284,0.47475528918541854,-0.9229537906095705,-1.1757053148907932,-1.2149597834645696,-0.005414881218183633,0.025120824425021275,0.0004942051716987896,0.023677373036625798,0.008753376912544865,0.008038515484004208,0.045258499507657465,0.04527035233849513,0.04148223527032284,0.04230015753094412,0.1141318829987942,-0.008219511145823642,0.005051394389596064,-0.3190453056355174,0.891455514922184,0.8814148116895015,0.10475160860365666,0.13322872379975523,0.1333970717943212,0.15779762414648837,-0.22111124800271925,-0.5067184848209665,-0.5553392383606089,-0.845624045975343,-0.6595435399098794,-0.716639564800271,-0.5974497255988399,-0.647235223471177,-1.1028744427969945,-0.9177416084397872,0.19487513787425478,0.19247645741855385,0.1893313560890923,-0.03397651707835904,-0.3455888411174428,-0.35373018919962534,0.2302300424448761,0.20903800694785646,-0.20788261421501406,-0.18053453038420378,-0.18661574650982438,-0.17779103726023412,-0.5833434751884348,-0.613026491129053,-0.4498749978947851,0.21939297101074232,0.2205903796134693,0.22310846868176182,-0.007489157241685327,0.32627867591674686],\"type\":\"scatter3d\"}],                        {\"template\":{\"data\":{\"histogram2dcontour\":[{\"type\":\"histogram2dcontour\",\"colorbar\":{\"outlinewidth\":0,\"ticks\":\"\"},\"colorscale\":[[0.0,\"#0d0887\"],[0.1111111111111111,\"#46039f\"],[0.2222222222222222,\"#7201a8\"],[0.3333333333333333,\"#9c179e\"],[0.4444444444444444,\"#bd3786\"],[0.5555555555555556,\"#d8576b\"],[0.6666666666666666,\"#ed7953\"],[0.7777777777777778,\"#fb9f3a\"],[0.8888888888888888,\"#fdca26\"],[1.0,\"#f0f921\"]]}],\"choropleth\":[{\"type\":\"choropleth\",\"colorbar\":{\"outlinewidth\":0,\"ticks\":\"\"}}],\"histogram2d\":[{\"type\":\"histogram2d\",\"colorbar\":{\"outlinewidth\":0,\"ticks\":\"\"},\"colorscale\":[[0.0,\"#0d0887\"],[0.1111111111111111,\"#46039f\"],[0.2222222222222222,\"#7201a8\"],[0.3333333333333333,\"#9c179e\"],[0.4444444444444444,\"#bd3786\"],[0.5555555555555556,\"#d8576b\"],[0.6666666666666666,\"#ed7953\"],[0.7777777777777778,\"#fb9f3a\"],[0.8888888888888888,\"#fdca26\"],[1.0,\"#f0f921\"]]}],\"heatmap\":[{\"type\":\"heatmap\",\"colorbar\":{\"outlinewidth\":0,\"ticks\":\"\"},\"colorscale\":[[0.0,\"#0d0887\"],[0.1111111111111111,\"#46039f\"],[0.2222222222222222,\"#7201a8\"],[0.3333333333333333,\"#9c179e\"],[0.4444444444444444,\"#bd3786\"],[0.5555555555555556,\"#d8576b\"],[0.6666666666666666,\"#ed7953\"],[0.7777777777777778,\"#fb9f3a\"],[0.8888888888888888,\"#fdca26\"],[1.0,\"#f0f921\"]]}],\"heatmapgl\":[{\"type\":\"heatmapgl\",\"colorbar\":{\"outlinewidth\":0,\"ticks\":\"\"},\"colorscale\":[[0.0,\"#0d0887\"],[0.1111111111111111,\"#46039f\"],[0.2222222222222222,\"#7201a8\"],[0.3333333333333333,\"#9c179e\"],[0.4444444444444444,\"#bd3786\"],[0.5555555555555556,\"#d8576b\"],[0.6666666666666666,\"#ed7953\"],[0.7777777777777778,\"#fb9f3a\"],[0.8888888888888888,\"#fdca26\"],[1.0,\"#f0f921\"]]}],\"contourcarpet\":[{\"type\":\"contourcarpet\",\"colorbar\":{\"outlinewidth\":0,\"ticks\":\"\"}}],\"contour\":[{\"type\":\"contour\",\"colorbar\":{\"outlinewidth\":0,\"ticks\":\"\"},\"colorscale\":[[0.0,\"#0d0887\"],[0.1111111111111111,\"#46039f\"],[0.2222222222222222,\"#7201a8\"],[0.3333333333333333,\"#9c179e\"],[0.4444444444444444,\"#bd3786\"],[0.5555555555555556,\"#d8576b\"],[0.6666666666666666,\"#ed7953\"],[0.7777777777777778,\"#fb9f3a\"],[0.8888888888888888,\"#fdca26\"],[1.0,\"#f0f921\"]]}],\"surface\":[{\"type\":\"surface\",\"colorbar\":{\"outlinewidth\":0,\"ticks\":\"\"},\"colorscale\":[[0.0,\"#0d0887\"],[0.1111111111111111,\"#46039f\"],[0.2222222222222222,\"#7201a8\"],[0.3333333333333333,\"#9c179e\"],[0.4444444444444444,\"#bd3786\"],[0.5555555555555556,\"#d8576b\"],[0.6666666666666666,\"#ed7953\"],[0.7777777777777778,\"#fb9f3a\"],[0.8888888888888888,\"#fdca26\"],[1.0,\"#f0f921\"]]}],\"mesh3d\":[{\"type\":\"mesh3d\",\"colorbar\":{\"outlinewidth\":0,\"ticks\":\"\"}}],\"scatter\":[{\"fillpattern\":{\"fillmode\":\"overlay\",\"size\":10,\"solidity\":0.2},\"type\":\"scatter\"}],\"parcoords\":[{\"type\":\"parcoords\",\"line\":{\"colorbar\":{\"outlinewidth\":0,\"ticks\":\"\"}}}],\"scatterpolargl\":[{\"type\":\"scatterpolargl\",\"marker\":{\"colorbar\":{\"outlinewidth\":0,\"ticks\":\"\"}}}],\"bar\":[{\"error_x\":{\"color\":\"#2a3f5f\"},\"error_y\":{\"color\":\"#2a3f5f\"},\"marker\":{\"line\":{\"color\":\"#E5ECF6\",\"width\":0.5},\"pattern\":{\"fillmode\":\"overlay\",\"size\":10,\"solidity\":0.2}},\"type\":\"bar\"}],\"scattergeo\":[{\"type\":\"scattergeo\",\"marker\":{\"colorbar\":{\"outlinewidth\":0,\"ticks\":\"\"}}}],\"scatterpolar\":[{\"type\":\"scatterpolar\",\"marker\":{\"colorbar\":{\"outlinewidth\":0,\"ticks\":\"\"}}}],\"histogram\":[{\"marker\":{\"pattern\":{\"fillmode\":\"overlay\",\"size\":10,\"solidity\":0.2}},\"type\":\"histogram\"}],\"scattergl\":[{\"type\":\"scattergl\",\"marker\":{\"colorbar\":{\"outlinewidth\":0,\"ticks\":\"\"}}}],\"scatter3d\":[{\"type\":\"scatter3d\",\"line\":{\"colorbar\":{\"outlinewidth\":0,\"ticks\":\"\"}},\"marker\":{\"colorbar\":{\"outlinewidth\":0,\"ticks\":\"\"}}}],\"scattermapbox\":[{\"type\":\"scattermapbox\",\"marker\":{\"colorbar\":{\"outlinewidth\":0,\"ticks\":\"\"}}}],\"scatterternary\":[{\"type\":\"scatterternary\",\"marker\":{\"colorbar\":{\"outlinewidth\":0,\"ticks\":\"\"}}}],\"scattercarpet\":[{\"type\":\"scattercarpet\",\"marker\":{\"colorbar\":{\"outlinewidth\":0,\"ticks\":\"\"}}}],\"carpet\":[{\"aaxis\":{\"endlinecolor\":\"#2a3f5f\",\"gridcolor\":\"white\",\"linecolor\":\"white\",\"minorgridcolor\":\"white\",\"startlinecolor\":\"#2a3f5f\"},\"baxis\":{\"endlinecolor\":\"#2a3f5f\",\"gridcolor\":\"white\",\"linecolor\":\"white\",\"minorgridcolor\":\"white\",\"startlinecolor\":\"#2a3f5f\"},\"type\":\"carpet\"}],\"table\":[{\"cells\":{\"fill\":{\"color\":\"#EBF0F8\"},\"line\":{\"color\":\"white\"}},\"header\":{\"fill\":{\"color\":\"#C8D4E3\"},\"line\":{\"color\":\"white\"}},\"type\":\"table\"}],\"barpolar\":[{\"marker\":{\"line\":{\"color\":\"#E5ECF6\",\"width\":0.5},\"pattern\":{\"fillmode\":\"overlay\",\"size\":10,\"solidity\":0.2}},\"type\":\"barpolar\"}],\"pie\":[{\"automargin\":true,\"type\":\"pie\"}]},\"layout\":{\"autotypenumbers\":\"strict\",\"colorway\":[\"#636efa\",\"#EF553B\",\"#00cc96\",\"#ab63fa\",\"#FFA15A\",\"#19d3f3\",\"#FF6692\",\"#B6E880\",\"#FF97FF\",\"#FECB52\"],\"font\":{\"color\":\"#2a3f5f\"},\"hovermode\":\"closest\",\"hoverlabel\":{\"align\":\"left\"},\"paper_bgcolor\":\"white\",\"plot_bgcolor\":\"#E5ECF6\",\"polar\":{\"bgcolor\":\"#E5ECF6\",\"angularaxis\":{\"gridcolor\":\"white\",\"linecolor\":\"white\",\"ticks\":\"\"},\"radialaxis\":{\"gridcolor\":\"white\",\"linecolor\":\"white\",\"ticks\":\"\"}},\"ternary\":{\"bgcolor\":\"#E5ECF6\",\"aaxis\":{\"gridcolor\":\"white\",\"linecolor\":\"white\",\"ticks\":\"\"},\"baxis\":{\"gridcolor\":\"white\",\"linecolor\":\"white\",\"ticks\":\"\"},\"caxis\":{\"gridcolor\":\"white\",\"linecolor\":\"white\",\"ticks\":\"\"}},\"coloraxis\":{\"colorbar\":{\"outlinewidth\":0,\"ticks\":\"\"}},\"colorscale\":{\"sequential\":[[0.0,\"#0d0887\"],[0.1111111111111111,\"#46039f\"],[0.2222222222222222,\"#7201a8\"],[0.3333333333333333,\"#9c179e\"],[0.4444444444444444,\"#bd3786\"],[0.5555555555555556,\"#d8576b\"],[0.6666666666666666,\"#ed7953\"],[0.7777777777777778,\"#fb9f3a\"],[0.8888888888888888,\"#fdca26\"],[1.0,\"#f0f921\"]],\"sequentialminus\":[[0.0,\"#0d0887\"],[0.1111111111111111,\"#46039f\"],[0.2222222222222222,\"#7201a8\"],[0.3333333333333333,\"#9c179e\"],[0.4444444444444444,\"#bd3786\"],[0.5555555555555556,\"#d8576b\"],[0.6666666666666666,\"#ed7953\"],[0.7777777777777778,\"#fb9f3a\"],[0.8888888888888888,\"#fdca26\"],[1.0,\"#f0f921\"]],\"diverging\":[[0,\"#8e0152\"],[0.1,\"#c51b7d\"],[0.2,\"#de77ae\"],[0.3,\"#f1b6da\"],[0.4,\"#fde0ef\"],[0.5,\"#f7f7f7\"],[0.6,\"#e6f5d0\"],[0.7,\"#b8e186\"],[0.8,\"#7fbc41\"],[0.9,\"#4d9221\"],[1,\"#276419\"]]},\"xaxis\":{\"gridcolor\":\"white\",\"linecolor\":\"white\",\"ticks\":\"\",\"title\":{\"standoff\":15},\"zerolinecolor\":\"white\",\"automargin\":true,\"zerolinewidth\":2},\"yaxis\":{\"gridcolor\":\"white\",\"linecolor\":\"white\",\"ticks\":\"\",\"title\":{\"standoff\":15},\"zerolinecolor\":\"white\",\"automargin\":true,\"zerolinewidth\":2},\"scene\":{\"xaxis\":{\"backgroundcolor\":\"#E5ECF6\",\"gridcolor\":\"white\",\"linecolor\":\"white\",\"showbackground\":true,\"ticks\":\"\",\"zerolinecolor\":\"white\",\"gridwidth\":2},\"yaxis\":{\"backgroundcolor\":\"#E5ECF6\",\"gridcolor\":\"white\",\"linecolor\":\"white\",\"showbackground\":true,\"ticks\":\"\",\"zerolinecolor\":\"white\",\"gridwidth\":2},\"zaxis\":{\"backgroundcolor\":\"#E5ECF6\",\"gridcolor\":\"white\",\"linecolor\":\"white\",\"showbackground\":true,\"ticks\":\"\",\"zerolinecolor\":\"white\",\"gridwidth\":2}},\"shapedefaults\":{\"line\":{\"color\":\"#2a3f5f\"}},\"annotationdefaults\":{\"arrowcolor\":\"#2a3f5f\",\"arrowhead\":0,\"arrowwidth\":1},\"geo\":{\"bgcolor\":\"white\",\"landcolor\":\"#E5ECF6\",\"subunitcolor\":\"white\",\"showland\":true,\"showlakes\":true,\"lakecolor\":\"white\"},\"title\":{\"x\":0.05},\"mapbox\":{\"style\":\"light\"}}},\"scene\":{\"domain\":{\"x\":[0.0,1.0],\"y\":[0.0,1.0]},\"xaxis\":{\"title\":{\"text\":\"PC 1\"}},\"yaxis\":{\"title\":{\"text\":\"PC 2\"}},\"zaxis\":{\"title\":{\"text\":\"PC 3\"}}},\"coloraxis\":{\"colorbar\":{\"title\":{\"text\":\"Percent Buried\\u003cbr\\u003eVolume\",\"side\":\"top\"},\"x\":0.85,\"y\":0.5,\"xanchor\":\"left\",\"yanchor\":\"middle\"},\"colorscale\":[[0.0,\"#0d0887\"],[0.1111111111111111,\"#46039f\"],[0.2222222222222222,\"#7201a8\"],[0.3333333333333333,\"#9c179e\"],[0.4444444444444444,\"#bd3786\"],[0.5555555555555556,\"#d8576b\"],[0.6666666666666666,\"#ed7953\"],[0.7777777777777778,\"#fb9f3a\"],[0.8888888888888888,\"#fdca26\"],[1.0,\"#f0f921\"]]},\"legend\":{\"tracegroupgap\":0},\"title\":{\"text\":\"Total Explained Variance: 90.39%\",\"x\":0.5,\"y\":0.9,\"xanchor\":\"center\",\"yanchor\":\"top\"},\"width\":800,\"height\":600},                        {\"responsive\": true}                    ).then(function(){\n",
       "                            \n",
       "var gd = document.getElementById('5314e6cf-105c-422b-8b3f-d66ffae297bd');\n",
       "var x = new MutationObserver(function (mutations, observer) {{\n",
       "        var display = window.getComputedStyle(gd).display;\n",
       "        if (!display || display === 'none') {{\n",
       "            console.log([gd, 'removed!']);\n",
       "            Plotly.purge(gd);\n",
       "            observer.disconnect();\n",
       "        }}\n",
       "}});\n",
       "\n",
       "// Listen for the removal of the full notebook cells\n",
       "var notebookContainer = gd.closest('#notebook-container');\n",
       "if (notebookContainer) {{\n",
       "    x.observe(notebookContainer, {childList: true});\n",
       "}}\n",
       "\n",
       "// Listen for the clearing of the current output cell\n",
       "var outputEl = gd.closest('.output');\n",
       "if (outputEl) {{\n",
       "    x.observe(outputEl, {childList: true});\n",
       "}}\n",
       "\n",
       "                        })                };                });            </script>        </div>"
      ]
     },
     "metadata": {},
     "output_type": "display_data"
    }
   ],
   "source": [
    "A_B_NBO_values = X_nbo['A-B_NBO'].tolist()\n",
    "float_values = [float(value) for value in A_B_NBO_values]\n",
    "\n",
    "A_NBO_values = X_nbo['A_NBO'].tolist()\n",
    "float_values = [float(value) for value in A_NBO_values]\n",
    "\n",
    "\n",
    "NBO_dist_2_a_b_diff = X_nbo['NBO-dist-2-a-b-diff'].tolist()\n",
    "NBO_dist_2_a_b_diff = [float(value) for value in NBO_dist_2_a_b_diff]\n",
    "\n",
    "NBO_dist_3_2_b_avg_diff = X_nbo['NBO-dist-3-2-b-avg-diff'].tolist()\n",
    "NBO_dist_3_2_b_avg_diff = [float(value) for value in NBO_dist_2_a_b_diff]\n",
    "\n",
    "vbur_octant_2 = X_2['% VBur octant 2'].tolist()\n",
    "vbur_octant_2 = [float(value) for value in vbur_octant_2]\n",
    "\n",
    "\n",
    "#Create PCA Plot in 3D\n",
    "pca = PCA(n_components=3)\n",
    "components = pca.fit_transform(X_nbo)\n",
    "\n",
    "total_var = pca.explained_variance_ratio_.sum() * 100\n",
    "\n",
    "fig = px.scatter_3d(\n",
    "    components,\n",
    "    x=0,\n",
    "    y=1,\n",
    "    z=2,\n",
    "    # text=names,\n",
    "    color = percent_buried_volume,\n",
    "    title=f'Total Explained Variance: {total_var:.2f}%',\n",
    "    labels={'0': 'PC 1', '1': 'PC 2', '2': 'PC 3'}\n",
    ")\n",
    "\n",
    "fig.update_layout(width=800, \n",
    "                  height=600,\n",
    "                  coloraxis_colorbar=dict(\n",
    "                  title=dict(text=\"Percent Buried<br>Volume\",\n",
    "                             side=\"top\"),\n",
    "                  x=0.85,  # Position the legend closer to the scatter plot\n",
    "                  y=0.5,\n",
    "                  xanchor='left',\n",
    "                  yanchor='middle'),\n",
    "                  title=dict(\n",
    "                  x=0.5,          # Horizontal position (centered)\n",
    "                  y=0.9,          # Vertical position (closer to the plot)\n",
    "                  xanchor='center',\n",
    "                  yanchor='top'\n",
    "                    ) \n",
    "                 )\n",
    "fig.show()"
   ]
  },
  {
   "cell_type": "code",
   "execution_count": 87,
   "id": "ebeb2b60-bdea-43f4-a324-bd38e46ff6a9",
   "metadata": {
    "scrolled": true
   },
   "outputs": [
    {
     "name": "stderr",
     "output_type": "stream",
     "text": [
      "C:\\Users\\George\\.conda\\envs\\chem3\\Lib\\site-packages\\sklearn\\cluster\\_kmeans.py:1446: UserWarning:\n",
      "\n",
      "KMeans is known to have a memory leak on Windows with MKL, when there are less chunks than available threads. You can avoid it by setting the environment variable OMP_NUM_THREADS=2.\n",
      "\n"
     ]
    },
    {
     "name": "stdout",
     "output_type": "stream",
     "text": [
      "For n_clusters = 2, the average silhouette score is 0.721307541563031\n"
     ]
    },
    {
     "name": "stderr",
     "output_type": "stream",
     "text": [
      "C:\\Users\\George\\.conda\\envs\\chem3\\Lib\\site-packages\\sklearn\\cluster\\_kmeans.py:1446: UserWarning:\n",
      "\n",
      "KMeans is known to have a memory leak on Windows with MKL, when there are less chunks than available threads. You can avoid it by setting the environment variable OMP_NUM_THREADS=2.\n",
      "\n"
     ]
    },
    {
     "name": "stdout",
     "output_type": "stream",
     "text": [
      "For n_clusters = 3, the average silhouette score is 0.6764917127083537\n"
     ]
    },
    {
     "name": "stderr",
     "output_type": "stream",
     "text": [
      "C:\\Users\\George\\.conda\\envs\\chem3\\Lib\\site-packages\\sklearn\\cluster\\_kmeans.py:1446: UserWarning:\n",
      "\n",
      "KMeans is known to have a memory leak on Windows with MKL, when there are less chunks than available threads. You can avoid it by setting the environment variable OMP_NUM_THREADS=2.\n",
      "\n"
     ]
    },
    {
     "name": "stdout",
     "output_type": "stream",
     "text": [
      "For n_clusters = 4, the average silhouette score is 0.7389933874334447\n"
     ]
    },
    {
     "name": "stderr",
     "output_type": "stream",
     "text": [
      "C:\\Users\\George\\.conda\\envs\\chem3\\Lib\\site-packages\\sklearn\\cluster\\_kmeans.py:1446: UserWarning:\n",
      "\n",
      "KMeans is known to have a memory leak on Windows with MKL, when there are less chunks than available threads. You can avoid it by setting the environment variable OMP_NUM_THREADS=2.\n",
      "\n"
     ]
    },
    {
     "name": "stdout",
     "output_type": "stream",
     "text": [
      "For n_clusters = 5, the average silhouette score is 0.6661118754550118\n"
     ]
    },
    {
     "name": "stderr",
     "output_type": "stream",
     "text": [
      "C:\\Users\\George\\.conda\\envs\\chem3\\Lib\\site-packages\\sklearn\\cluster\\_kmeans.py:1446: UserWarning:\n",
      "\n",
      "KMeans is known to have a memory leak on Windows with MKL, when there are less chunks than available threads. You can avoid it by setting the environment variable OMP_NUM_THREADS=2.\n",
      "\n"
     ]
    },
    {
     "name": "stdout",
     "output_type": "stream",
     "text": [
      "For n_clusters = 6, the average silhouette score is 0.6230669898714697\n"
     ]
    },
    {
     "name": "stderr",
     "output_type": "stream",
     "text": [
      "C:\\Users\\George\\.conda\\envs\\chem3\\Lib\\site-packages\\sklearn\\cluster\\_kmeans.py:1446: UserWarning:\n",
      "\n",
      "KMeans is known to have a memory leak on Windows with MKL, when there are less chunks than available threads. You can avoid it by setting the environment variable OMP_NUM_THREADS=2.\n",
      "\n"
     ]
    },
    {
     "name": "stdout",
     "output_type": "stream",
     "text": [
      "For n_clusters = 7, the average silhouette score is 0.6306069011370585\n"
     ]
    },
    {
     "name": "stderr",
     "output_type": "stream",
     "text": [
      "C:\\Users\\George\\.conda\\envs\\chem3\\Lib\\site-packages\\sklearn\\cluster\\_kmeans.py:1446: UserWarning:\n",
      "\n",
      "KMeans is known to have a memory leak on Windows with MKL, when there are less chunks than available threads. You can avoid it by setting the environment variable OMP_NUM_THREADS=2.\n",
      "\n"
     ]
    },
    {
     "name": "stdout",
     "output_type": "stream",
     "text": [
      "For n_clusters = 8, the average silhouette score is 0.6516709852582935\n"
     ]
    },
    {
     "name": "stderr",
     "output_type": "stream",
     "text": [
      "C:\\Users\\George\\.conda\\envs\\chem3\\Lib\\site-packages\\sklearn\\cluster\\_kmeans.py:1446: UserWarning:\n",
      "\n",
      "KMeans is known to have a memory leak on Windows with MKL, when there are less chunks than available threads. You can avoid it by setting the environment variable OMP_NUM_THREADS=2.\n",
      "\n"
     ]
    },
    {
     "name": "stdout",
     "output_type": "stream",
     "text": [
      "For n_clusters = 9, the average silhouette score is 0.5876716242151697\n"
     ]
    },
    {
     "name": "stderr",
     "output_type": "stream",
     "text": [
      "C:\\Users\\George\\.conda\\envs\\chem3\\Lib\\site-packages\\sklearn\\cluster\\_kmeans.py:1446: UserWarning:\n",
      "\n",
      "KMeans is known to have a memory leak on Windows with MKL, when there are less chunks than available threads. You can avoid it by setting the environment variable OMP_NUM_THREADS=2.\n",
      "\n"
     ]
    },
    {
     "name": "stdout",
     "output_type": "stream",
     "text": [
      "For n_clusters = 10, the average silhouette score is 0.6661770652728465\n"
     ]
    },
    {
     "name": "stderr",
     "output_type": "stream",
     "text": [
      "C:\\Users\\George\\.conda\\envs\\chem3\\Lib\\site-packages\\sklearn\\cluster\\_kmeans.py:1446: UserWarning:\n",
      "\n",
      "KMeans is known to have a memory leak on Windows with MKL, when there are less chunks than available threads. You can avoid it by setting the environment variable OMP_NUM_THREADS=2.\n",
      "\n"
     ]
    },
    {
     "name": "stdout",
     "output_type": "stream",
     "text": [
      "For n_clusters = 11, the average silhouette score is 0.6128058390859381\n"
     ]
    },
    {
     "name": "stderr",
     "output_type": "stream",
     "text": [
      "C:\\Users\\George\\.conda\\envs\\chem3\\Lib\\site-packages\\sklearn\\cluster\\_kmeans.py:1446: UserWarning:\n",
      "\n",
      "KMeans is known to have a memory leak on Windows with MKL, when there are less chunks than available threads. You can avoid it by setting the environment variable OMP_NUM_THREADS=2.\n",
      "\n"
     ]
    },
    {
     "name": "stdout",
     "output_type": "stream",
     "text": [
      "For n_clusters = 12, the average silhouette score is 0.62190972443897\n"
     ]
    },
    {
     "name": "stderr",
     "output_type": "stream",
     "text": [
      "C:\\Users\\George\\.conda\\envs\\chem3\\Lib\\site-packages\\sklearn\\cluster\\_kmeans.py:1446: UserWarning:\n",
      "\n",
      "KMeans is known to have a memory leak on Windows with MKL, when there are less chunks than available threads. You can avoid it by setting the environment variable OMP_NUM_THREADS=2.\n",
      "\n"
     ]
    },
    {
     "name": "stdout",
     "output_type": "stream",
     "text": [
      "For n_clusters = 13, the average silhouette score is 0.6006524231736567\n"
     ]
    },
    {
     "name": "stderr",
     "output_type": "stream",
     "text": [
      "C:\\Users\\George\\.conda\\envs\\chem3\\Lib\\site-packages\\sklearn\\cluster\\_kmeans.py:1446: UserWarning:\n",
      "\n",
      "KMeans is known to have a memory leak on Windows with MKL, when there are less chunks than available threads. You can avoid it by setting the environment variable OMP_NUM_THREADS=2.\n",
      "\n"
     ]
    },
    {
     "name": "stdout",
     "output_type": "stream",
     "text": [
      "For n_clusters = 14, the average silhouette score is 0.603591350443035\n"
     ]
    },
    {
     "name": "stderr",
     "output_type": "stream",
     "text": [
      "C:\\Users\\George\\.conda\\envs\\chem3\\Lib\\site-packages\\sklearn\\cluster\\_kmeans.py:1446: UserWarning:\n",
      "\n",
      "KMeans is known to have a memory leak on Windows with MKL, when there are less chunks than available threads. You can avoid it by setting the environment variable OMP_NUM_THREADS=2.\n",
      "\n"
     ]
    },
    {
     "name": "stdout",
     "output_type": "stream",
     "text": [
      "For n_clusters = 15, the average silhouette score is 0.6012220090034905\n"
     ]
    },
    {
     "name": "stderr",
     "output_type": "stream",
     "text": [
      "C:\\Users\\George\\.conda\\envs\\chem3\\Lib\\site-packages\\sklearn\\cluster\\_kmeans.py:1446: UserWarning:\n",
      "\n",
      "KMeans is known to have a memory leak on Windows with MKL, when there are less chunks than available threads. You can avoid it by setting the environment variable OMP_NUM_THREADS=2.\n",
      "\n"
     ]
    },
    {
     "name": "stdout",
     "output_type": "stream",
     "text": [
      "For n_clusters = 16, the average silhouette score is 0.6115674236475351\n"
     ]
    },
    {
     "name": "stderr",
     "output_type": "stream",
     "text": [
      "C:\\Users\\George\\.conda\\envs\\chem3\\Lib\\site-packages\\sklearn\\cluster\\_kmeans.py:1446: UserWarning:\n",
      "\n",
      "KMeans is known to have a memory leak on Windows with MKL, when there are less chunks than available threads. You can avoid it by setting the environment variable OMP_NUM_THREADS=2.\n",
      "\n"
     ]
    },
    {
     "name": "stdout",
     "output_type": "stream",
     "text": [
      "For n_clusters = 17, the average silhouette score is 0.5951047038270281\n"
     ]
    },
    {
     "name": "stderr",
     "output_type": "stream",
     "text": [
      "C:\\Users\\George\\.conda\\envs\\chem3\\Lib\\site-packages\\sklearn\\cluster\\_kmeans.py:1446: UserWarning:\n",
      "\n",
      "KMeans is known to have a memory leak on Windows with MKL, when there are less chunks than available threads. You can avoid it by setting the environment variable OMP_NUM_THREADS=2.\n",
      "\n"
     ]
    },
    {
     "name": "stdout",
     "output_type": "stream",
     "text": [
      "For n_clusters = 18, the average silhouette score is 0.616667014306981\n"
     ]
    },
    {
     "name": "stderr",
     "output_type": "stream",
     "text": [
      "C:\\Users\\George\\.conda\\envs\\chem3\\Lib\\site-packages\\sklearn\\cluster\\_kmeans.py:1446: UserWarning:\n",
      "\n",
      "KMeans is known to have a memory leak on Windows with MKL, when there are less chunks than available threads. You can avoid it by setting the environment variable OMP_NUM_THREADS=2.\n",
      "\n"
     ]
    },
    {
     "name": "stdout",
     "output_type": "stream",
     "text": [
      "For n_clusters = 19, the average silhouette score is 0.6198182494227539\n",
      "\n",
      "The optimal number of clusters is 4 with a silhouette score of 0.7389933874334447\n"
     ]
    },
    {
     "data": {
      "image/png": "[encoded data removed]",
      "text/plain": [
       "<Figure size 1000x600 with 1 Axes>"
      ]
     },
     "metadata": {},
     "output_type": "display_data"
    },
    {
     "name": "stdout",
     "output_type": "stream",
     "text": [
      "\n",
      "PCA Result DataFrame with Cluster Labels:\n",
      "          PC1       PC2       PC3  Cluster Ligand\n",
      "0   -2.868745  2.033627  1.991181        2    NaN\n",
      "1   -2.871057  2.004605  1.973114        2    002\n",
      "2   -2.872544  1.979464  1.913940        2    003\n",
      "3   -2.130146  0.288102 -0.874482        0    004\n",
      "4   -2.113748  0.297505 -0.888563        0    005\n",
      "..        ...       ...       ...      ...    ...\n",
      "371  5.169584 -0.283784  0.219393        1    406\n",
      "372  5.169961 -0.284650  0.220590        1    407\n",
      "373  5.168800 -0.293140  0.223108        1    408\n",
      "374  4.501760 -0.024606 -0.007489        1    409\n",
      "375  4.452521 -0.264406  0.326279        1    411\n",
      "\n",
      "[376 rows x 5 columns]\n",
      "{'c1': ['004', '005', '006', '007', '008', '009', '010', '058', '060', '071', '072', '073', '074', '075', '076', '077', '078', '112', '113', '114', '115', '116', '129', '139', '140', '141', '142', '145', '146', '147', '148', '149', '150', '151', '160', '161', '162', '163', '164', '165', '166', '167', '168', '169', '170', '171', '172', '173', '174', '175', '176', '177', '178', '179', '180', '181', '195', '196', '197', '198', '199', '200', '201', '202', '203', '204', '205', '206', '207', '208', '209', '210', '211', '212', '213', '214', '215', '216', '217', '218', '219', '220', '221', '222', '223', '224', '225', '226', '227', '228', '229', '230', '231', '237', '238', '239', '240', '241', '256', '257', '275', '276', '306', '307', '308', '313', '314', '316', '317', '318', '319', '320', '321', '322', '323', '324', '325', '326', '327', '328', '330', '331', '332', '333', '334', '335', '336', '337', '338', '342', '343', '344', '345', '346', '347', '356', '357', '358', '359', '360', '361', '362', '363', '364', '365', '366', '367', '368', '369', '377', '378', '379', '380', '381', '397', '398', '399', '400', '401', '402'], 'c2': ['037', '038', '039', '040', '084', '085', '086', '087', '088', '089', '090', '091', '092', '095', '096', '097', '098', '099', '100', '108', '109', '110', '111', '136', '137', '138', '182', '183', '184', '186', '242', '243', '244', '245', '246', '247', '248', '249', '250', '251', '252', '253', '254', '255', '260', '261', '262', '263', '264', '265', '266', '267', '268', '269', '270', '271', '272', '273', '274', '277', '278', '279', '280', '281', '282', '283', '284', '285', '286', '287', '288', '289', '290', '291', '292', '293', '294', '295', '296', '297', '298', '299', '300', '301', '302', '303', '304', '305', '309', '310', '311', '312', '315', '339', '340', '341', '348', '349', '350', '351', '352', '354', '355', '370', '376', '391', '392', '393', '406', '407', '408', '409', '411'], 'c3': [nan, '002', '003', '011', '013', '018', '019', '020', '021', '022', '027', '029', '030', '031', '032', '033', '035', '041', '042', '043', '044', '046', '047', '048', '053', '055', '056', '057', '059', '120', '124', '125', '126', '127', '128'], 'c4': ['036', '079', '080', '081', '082', '083', '093', '094', '101', '102', '103', '104', '105', '106', '107', '117', '118', '119', '121', '122', '123', '130', '131', '132', '133', '134', '135', '143', '144', '152', '153', '154', '155', '156', '157', '158', '159', '187', '188', '189', '190', '191', '192', '193', '194', '232', '233', '234', '236', '258', '259', '329', '353', '382', '383', '384', '385', '386', '387', '388', '389', '390', '394', '395', '396', '403', '404', '405']}\n"
     ]
    },
    {
     "name": "stderr",
     "output_type": "stream",
     "text": [
      "C:\\Users\\George\\.conda\\envs\\chem3\\Lib\\site-packages\\sklearn\\cluster\\_kmeans.py:1446: UserWarning:\n",
      "\n",
      "KMeans is known to have a memory leak on Windows with MKL, when there are less chunks than available threads. You can avoid it by setting the environment variable OMP_NUM_THREADS=2.\n",
      "\n"
     ]
    }
   ],
   "source": [
    "# Generate dataframe from pca data: \n",
    "pca_df = pd.DataFrame(data=components, columns=['PC1', 'PC2','PC3'])\n",
    "\n",
    "# Apply KMeans Clustering\n",
    "# Define a range of clusters to evaluate\n",
    "range_n_clusters = list(range(2, 20))\n",
    "\n",
    "# Initialize variables to store the best number of clusters and corresponding metrics\n",
    "best_n_clusters = 0\n",
    "best_silhouette_score = -1\n",
    "inertia = []\n",
    "\n",
    "# Iterate over different cluster numbers to find the optimal number\n",
    "for n_clusters in range_n_clusters:\n",
    "    kmeans = KMeans(init=\"k-means++\", n_clusters=n_clusters, n_init=4, random_state=42)\n",
    "    cluster_labels = kmeans.fit_predict(pca_df)\n",
    "    # Calculate silhouette score\n",
    "    silhouette_avg = silhouette_score(pca_df, cluster_labels)\n",
    "    inertia.append(kmeans.inertia_)\n",
    "    \n",
    "    print(f\"For n_clusters = {n_clusters}, the average silhouette score is {silhouette_avg}\")\n",
    "    \n",
    "    # Update the best silhouette score and corresponding number of clusters\n",
    "    if silhouette_avg > best_silhouette_score:\n",
    "        best_n_clusters = n_clusters\n",
    "        best_silhouette_score = silhouette_avg\n",
    "\n",
    "# Print the optimal number of clusters and the best silhouette score\n",
    "print(f\"\\nThe optimal number of clusters is {best_n_clusters} with a silhouette score of {best_silhouette_score}\")\n",
    "\n",
    "# Plot the inertia to visualize the elbow method\n",
    "plt.figure(figsize=(10, 6))\n",
    "plt.plot(range_n_clusters, inertia, marker='o')\n",
    "plt.title('Elbow Method For Optimal Number of Clusters')\n",
    "plt.xlabel('Number of Clusters')\n",
    "plt.ylabel('Inertia')\n",
    "plt.show()\n",
    "\n",
    "# Apply KMeans with the optimal number of clusters\n",
    "kmeans = KMeans(n_clusters=best_n_clusters, random_state=42)\n",
    "cluster_labels = kmeans.fit_predict(pca_df)\n",
    "\n",
    "# Add cluster labels to the PCA result DataFrame\n",
    "pca_df['Cluster'] = cluster_labels\n",
    "pca_df['Ligand'] = X['ligand_id']\n",
    "\n",
    "\n",
    "# Print the PCA result DataFrame with cluster labels\n",
    "print(\"\\nPCA Result DataFrame with Cluster Labels:\")\n",
    "print(pca_df)\n",
    "\n",
    "\n",
    "# Create a dictionary to store clusters and their corresponding ligands\n",
    "cluster_dict_nbo_descriptor = {}\n",
    "for cluster_num in range(best_n_clusters):\n",
    "    cluster_key = f'c{cluster_num + 1}'  # Create cluster key like 'c1', 'c2', etc.\n",
    "    ligands_in_cluster = pca_df[pca_df['Cluster'] == cluster_num]['Ligand'].tolist()\n",
    "    cluster_dict_nbo_descriptor[cluster_key] = ligands_in_cluster\n",
    "\n",
    "# Print the dictionary\n",
    "print(cluster_dict_nbo_descriptor)"
   ]
  },
  {
   "cell_type": "code",
   "execution_count": 92,
   "id": "616768a7-e535-4f1b-b8f7-ed1cd1b6bd81",
   "metadata": {},
   "outputs": [],
   "source": [
    "import json \n",
    "\n",
    "data = {\n",
    "    'cluster_dict_all_descriptor' : cluster_dict_all_descriptor,\n",
    "    'cluster_dict_nbo_descriptor' : cluster_dict_nbo_descriptor,\n",
    "    'cluster_dict_vbur_descriptor' : cluster_dict_vbur_descriptor\n",
    "    }\n",
    "\n",
    "# Convert the combined dictionary to a JSON string\n",
    "json_data = json.dumps(data)\n",
    "\n",
    "# Write the JSON string to a .txt file\n",
    "with open('cluster_dictionaries.txt', 'w') as file:\n",
    "    file.write(json_data)"
   ]
  },
  {
   "cell_type": "code",
   "execution_count": 88,
   "id": "ebc30028",
   "metadata": {},
   "outputs": [
    {
     "data": {
      "text/plain": [
       "{'c1': ['038',\n",
       "  '072',\n",
       "  '073',\n",
       "  '074',\n",
       "  '075',\n",
       "  '076',\n",
       "  '077',\n",
       "  '078',\n",
       "  '092',\n",
       "  '099',\n",
       "  '111',\n",
       "  '121',\n",
       "  '122',\n",
       "  '145',\n",
       "  '146',\n",
       "  '149',\n",
       "  '150',\n",
       "  '151',\n",
       "  '160',\n",
       "  '161',\n",
       "  '168',\n",
       "  '169',\n",
       "  '170',\n",
       "  '171',\n",
       "  '172',\n",
       "  '173',\n",
       "  '174',\n",
       "  '177',\n",
       "  '178',\n",
       "  '179',\n",
       "  '180',\n",
       "  '181',\n",
       "  '182',\n",
       "  '183',\n",
       "  '186',\n",
       "  '199',\n",
       "  '200',\n",
       "  '201',\n",
       "  '202',\n",
       "  '205',\n",
       "  '207',\n",
       "  '208',\n",
       "  '209',\n",
       "  '210',\n",
       "  '211',\n",
       "  '212',\n",
       "  '213',\n",
       "  '214',\n",
       "  '215',\n",
       "  '216',\n",
       "  '217',\n",
       "  '218',\n",
       "  '219',\n",
       "  '220',\n",
       "  '221',\n",
       "  '222',\n",
       "  '223',\n",
       "  '224',\n",
       "  '225',\n",
       "  '226',\n",
       "  '227',\n",
       "  '228',\n",
       "  '229',\n",
       "  '230',\n",
       "  '231',\n",
       "  '237',\n",
       "  '238',\n",
       "  '239',\n",
       "  '240',\n",
       "  '241',\n",
       "  '250',\n",
       "  '251',\n",
       "  '252',\n",
       "  '254',\n",
       "  '257',\n",
       "  '259',\n",
       "  '264',\n",
       "  '265',\n",
       "  '296',\n",
       "  '299',\n",
       "  '301',\n",
       "  '303',\n",
       "  '309',\n",
       "  '310',\n",
       "  '311',\n",
       "  '312',\n",
       "  '348',\n",
       "  '350',\n",
       "  '353',\n",
       "  '356',\n",
       "  '357',\n",
       "  '358',\n",
       "  '359',\n",
       "  '360',\n",
       "  '387'],\n",
       " 'c2': ['022',\n",
       "  '031',\n",
       "  '040',\n",
       "  '042',\n",
       "  '053',\n",
       "  '056',\n",
       "  '057',\n",
       "  '058',\n",
       "  '084',\n",
       "  '085',\n",
       "  '086',\n",
       "  '087',\n",
       "  '089',\n",
       "  '090',\n",
       "  '096',\n",
       "  '098',\n",
       "  '114',\n",
       "  '117',\n",
       "  '118',\n",
       "  '123',\n",
       "  '129',\n",
       "  '132',\n",
       "  '134',\n",
       "  '136',\n",
       "  '162',\n",
       "  '163',\n",
       "  '164',\n",
       "  '165',\n",
       "  '166',\n",
       "  '167',\n",
       "  '190',\n",
       "  '244',\n",
       "  '255',\n",
       "  '269',\n",
       "  '270',\n",
       "  '275',\n",
       "  '276',\n",
       "  '280',\n",
       "  '287',\n",
       "  '304',\n",
       "  '305',\n",
       "  '306',\n",
       "  '307',\n",
       "  '308',\n",
       "  '313',\n",
       "  '314',\n",
       "  '327',\n",
       "  '330',\n",
       "  '331',\n",
       "  '332',\n",
       "  '333',\n",
       "  '334',\n",
       "  '335',\n",
       "  '336',\n",
       "  '337',\n",
       "  '338',\n",
       "  '341',\n",
       "  '342',\n",
       "  '343',\n",
       "  '344',\n",
       "  '345',\n",
       "  '346',\n",
       "  '347',\n",
       "  '349',\n",
       "  '351',\n",
       "  '352',\n",
       "  '355',\n",
       "  '361',\n",
       "  '362',\n",
       "  '363',\n",
       "  '364',\n",
       "  '365',\n",
       "  '366',\n",
       "  '377',\n",
       "  '378',\n",
       "  '379',\n",
       "  '380',\n",
       "  '381',\n",
       "  '382',\n",
       "  '383',\n",
       "  '394',\n",
       "  '395',\n",
       "  '396',\n",
       "  '397',\n",
       "  '399',\n",
       "  '400',\n",
       "  '401',\n",
       "  '402',\n",
       "  '403',\n",
       "  '404',\n",
       "  '405'],\n",
       " 'c3': ['003',\n",
       "  '004',\n",
       "  '005',\n",
       "  '006',\n",
       "  '007',\n",
       "  '009',\n",
       "  '027',\n",
       "  '029',\n",
       "  '033',\n",
       "  '039',\n",
       "  '048',\n",
       "  '080',\n",
       "  '081',\n",
       "  '082',\n",
       "  '093',\n",
       "  '095',\n",
       "  '097',\n",
       "  '100',\n",
       "  '107',\n",
       "  '120',\n",
       "  '124',\n",
       "  '127',\n",
       "  '131',\n",
       "  '135',\n",
       "  '137',\n",
       "  '138',\n",
       "  '139',\n",
       "  '140',\n",
       "  '142',\n",
       "  '143',\n",
       "  '144',\n",
       "  '189',\n",
       "  '192',\n",
       "  '195',\n",
       "  '233',\n",
       "  '242',\n",
       "  '243',\n",
       "  '245',\n",
       "  '246',\n",
       "  '249',\n",
       "  '260',\n",
       "  '261',\n",
       "  '262',\n",
       "  '263',\n",
       "  '267',\n",
       "  '268',\n",
       "  '271',\n",
       "  '273',\n",
       "  '277',\n",
       "  '278',\n",
       "  '286',\n",
       "  '289',\n",
       "  '290',\n",
       "  '291',\n",
       "  '292',\n",
       "  '293',\n",
       "  '324',\n",
       "  '328',\n",
       "  '368',\n",
       "  '370',\n",
       "  '390',\n",
       "  '398',\n",
       "  '406',\n",
       "  '407',\n",
       "  '408',\n",
       "  '409'],\n",
       " 'c4': ['036',\n",
       "  '060',\n",
       "  '071',\n",
       "  '079',\n",
       "  '083',\n",
       "  '101',\n",
       "  '102',\n",
       "  '103',\n",
       "  '104',\n",
       "  '105',\n",
       "  '106',\n",
       "  '141',\n",
       "  '147',\n",
       "  '148',\n",
       "  '152',\n",
       "  '153',\n",
       "  '154',\n",
       "  '155',\n",
       "  '156',\n",
       "  '157',\n",
       "  '158',\n",
       "  '159',\n",
       "  '184',\n",
       "  '187',\n",
       "  '188',\n",
       "  '191',\n",
       "  '193',\n",
       "  '194',\n",
       "  '196',\n",
       "  '197',\n",
       "  '198',\n",
       "  '203',\n",
       "  '204',\n",
       "  '206',\n",
       "  '253',\n",
       "  '256',\n",
       "  '258',\n",
       "  '294',\n",
       "  '297',\n",
       "  '298',\n",
       "  '322',\n",
       "  '329',\n",
       "  '339',\n",
       "  '376',\n",
       "  '391'],\n",
       " 'c5': [nan,\n",
       "  '002',\n",
       "  '008',\n",
       "  '010',\n",
       "  '011',\n",
       "  '013',\n",
       "  '018',\n",
       "  '019',\n",
       "  '020',\n",
       "  '021',\n",
       "  '030',\n",
       "  '032',\n",
       "  '035',\n",
       "  '037',\n",
       "  '041',\n",
       "  '043',\n",
       "  '044',\n",
       "  '046',\n",
       "  '047',\n",
       "  '055',\n",
       "  '059',\n",
       "  '088',\n",
       "  '091',\n",
       "  '094',\n",
       "  '108',\n",
       "  '109',\n",
       "  '110',\n",
       "  '112',\n",
       "  '113',\n",
       "  '115',\n",
       "  '116',\n",
       "  '119',\n",
       "  '125',\n",
       "  '126',\n",
       "  '128',\n",
       "  '130',\n",
       "  '133',\n",
       "  '175',\n",
       "  '176',\n",
       "  '232',\n",
       "  '234',\n",
       "  '236',\n",
       "  '247',\n",
       "  '248',\n",
       "  '266',\n",
       "  '272',\n",
       "  '274',\n",
       "  '279',\n",
       "  '281',\n",
       "  '282',\n",
       "  '283',\n",
       "  '284',\n",
       "  '285',\n",
       "  '288',\n",
       "  '295',\n",
       "  '300',\n",
       "  '302',\n",
       "  '315',\n",
       "  '316',\n",
       "  '317',\n",
       "  '318',\n",
       "  '319',\n",
       "  '320',\n",
       "  '321',\n",
       "  '323',\n",
       "  '325',\n",
       "  '326',\n",
       "  '340',\n",
       "  '354',\n",
       "  '367',\n",
       "  '369',\n",
       "  '384',\n",
       "  '385',\n",
       "  '386',\n",
       "  '388',\n",
       "  '389',\n",
       "  '392',\n",
       "  '393',\n",
       "  '411']}"
      ]
     },
     "execution_count": 88,
     "metadata": {},
     "output_type": "execute_result"
    }
   ],
   "source": [
    "cluster_dict_all_descriptor"
   ]
  },
  {
   "cell_type": "code",
   "execution_count": 90,
   "id": "cdc2638f-508e-4832-9a99-6b023f9b1150",
   "metadata": {},
   "outputs": [
    {
     "data": {
      "text/plain": [
       "{'c1': ['004',\n",
       "  '005',\n",
       "  '006',\n",
       "  '007',\n",
       "  '008',\n",
       "  '009',\n",
       "  '010',\n",
       "  '058',\n",
       "  '060',\n",
       "  '071',\n",
       "  '072',\n",
       "  '073',\n",
       "  '074',\n",
       "  '075',\n",
       "  '076',\n",
       "  '077',\n",
       "  '078',\n",
       "  '112',\n",
       "  '113',\n",
       "  '114',\n",
       "  '115',\n",
       "  '116',\n",
       "  '129',\n",
       "  '139',\n",
       "  '140',\n",
       "  '141',\n",
       "  '142',\n",
       "  '145',\n",
       "  '146',\n",
       "  '147',\n",
       "  '148',\n",
       "  '149',\n",
       "  '150',\n",
       "  '151',\n",
       "  '160',\n",
       "  '161',\n",
       "  '162',\n",
       "  '163',\n",
       "  '164',\n",
       "  '165',\n",
       "  '166',\n",
       "  '167',\n",
       "  '168',\n",
       "  '169',\n",
       "  '170',\n",
       "  '171',\n",
       "  '172',\n",
       "  '173',\n",
       "  '174',\n",
       "  '175',\n",
       "  '176',\n",
       "  '177',\n",
       "  '178',\n",
       "  '179',\n",
       "  '180',\n",
       "  '181',\n",
       "  '195',\n",
       "  '196',\n",
       "  '197',\n",
       "  '198',\n",
       "  '199',\n",
       "  '200',\n",
       "  '201',\n",
       "  '202',\n",
       "  '203',\n",
       "  '204',\n",
       "  '205',\n",
       "  '206',\n",
       "  '207',\n",
       "  '208',\n",
       "  '209',\n",
       "  '210',\n",
       "  '211',\n",
       "  '212',\n",
       "  '213',\n",
       "  '214',\n",
       "  '215',\n",
       "  '216',\n",
       "  '217',\n",
       "  '218',\n",
       "  '219',\n",
       "  '220',\n",
       "  '221',\n",
       "  '222',\n",
       "  '223',\n",
       "  '224',\n",
       "  '225',\n",
       "  '226',\n",
       "  '227',\n",
       "  '228',\n",
       "  '229',\n",
       "  '230',\n",
       "  '231',\n",
       "  '237',\n",
       "  '238',\n",
       "  '239',\n",
       "  '240',\n",
       "  '241',\n",
       "  '256',\n",
       "  '257',\n",
       "  '275',\n",
       "  '276',\n",
       "  '306',\n",
       "  '307',\n",
       "  '308',\n",
       "  '313',\n",
       "  '314',\n",
       "  '316',\n",
       "  '317',\n",
       "  '318',\n",
       "  '319',\n",
       "  '320',\n",
       "  '321',\n",
       "  '322',\n",
       "  '323',\n",
       "  '324',\n",
       "  '325',\n",
       "  '326',\n",
       "  '327',\n",
       "  '328',\n",
       "  '330',\n",
       "  '331',\n",
       "  '332',\n",
       "  '333',\n",
       "  '334',\n",
       "  '335',\n",
       "  '336',\n",
       "  '337',\n",
       "  '338',\n",
       "  '342',\n",
       "  '343',\n",
       "  '344',\n",
       "  '345',\n",
       "  '346',\n",
       "  '347',\n",
       "  '356',\n",
       "  '357',\n",
       "  '358',\n",
       "  '359',\n",
       "  '360',\n",
       "  '361',\n",
       "  '362',\n",
       "  '363',\n",
       "  '364',\n",
       "  '365',\n",
       "  '366',\n",
       "  '367',\n",
       "  '368',\n",
       "  '369',\n",
       "  '377',\n",
       "  '378',\n",
       "  '379',\n",
       "  '380',\n",
       "  '381',\n",
       "  '397',\n",
       "  '398',\n",
       "  '399',\n",
       "  '400',\n",
       "  '401',\n",
       "  '402'],\n",
       " 'c2': ['037',\n",
       "  '038',\n",
       "  '039',\n",
       "  '040',\n",
       "  '084',\n",
       "  '085',\n",
       "  '086',\n",
       "  '087',\n",
       "  '088',\n",
       "  '089',\n",
       "  '090',\n",
       "  '091',\n",
       "  '092',\n",
       "  '095',\n",
       "  '096',\n",
       "  '097',\n",
       "  '098',\n",
       "  '099',\n",
       "  '100',\n",
       "  '108',\n",
       "  '109',\n",
       "  '110',\n",
       "  '111',\n",
       "  '136',\n",
       "  '137',\n",
       "  '138',\n",
       "  '182',\n",
       "  '183',\n",
       "  '184',\n",
       "  '186',\n",
       "  '242',\n",
       "  '243',\n",
       "  '244',\n",
       "  '245',\n",
       "  '246',\n",
       "  '247',\n",
       "  '248',\n",
       "  '249',\n",
       "  '250',\n",
       "  '251',\n",
       "  '252',\n",
       "  '253',\n",
       "  '254',\n",
       "  '255',\n",
       "  '260',\n",
       "  '261',\n",
       "  '262',\n",
       "  '263',\n",
       "  '264',\n",
       "  '265',\n",
       "  '266',\n",
       "  '267',\n",
       "  '268',\n",
       "  '269',\n",
       "  '270',\n",
       "  '271',\n",
       "  '272',\n",
       "  '273',\n",
       "  '274',\n",
       "  '277',\n",
       "  '278',\n",
       "  '279',\n",
       "  '280',\n",
       "  '281',\n",
       "  '282',\n",
       "  '283',\n",
       "  '284',\n",
       "  '285',\n",
       "  '286',\n",
       "  '287',\n",
       "  '288',\n",
       "  '289',\n",
       "  '290',\n",
       "  '291',\n",
       "  '292',\n",
       "  '293',\n",
       "  '294',\n",
       "  '295',\n",
       "  '296',\n",
       "  '297',\n",
       "  '298',\n",
       "  '299',\n",
       "  '300',\n",
       "  '301',\n",
       "  '302',\n",
       "  '303',\n",
       "  '304',\n",
       "  '305',\n",
       "  '309',\n",
       "  '310',\n",
       "  '311',\n",
       "  '312',\n",
       "  '315',\n",
       "  '339',\n",
       "  '340',\n",
       "  '341',\n",
       "  '348',\n",
       "  '349',\n",
       "  '350',\n",
       "  '351',\n",
       "  '352',\n",
       "  '354',\n",
       "  '355',\n",
       "  '370',\n",
       "  '376',\n",
       "  '391',\n",
       "  '392',\n",
       "  '393',\n",
       "  '406',\n",
       "  '407',\n",
       "  '408',\n",
       "  '409',\n",
       "  '411'],\n",
       " 'c3': [nan,\n",
       "  '002',\n",
       "  '003',\n",
       "  '011',\n",
       "  '013',\n",
       "  '018',\n",
       "  '019',\n",
       "  '020',\n",
       "  '021',\n",
       "  '022',\n",
       "  '027',\n",
       "  '029',\n",
       "  '030',\n",
       "  '031',\n",
       "  '032',\n",
       "  '033',\n",
       "  '035',\n",
       "  '041',\n",
       "  '042',\n",
       "  '043',\n",
       "  '044',\n",
       "  '046',\n",
       "  '047',\n",
       "  '048',\n",
       "  '053',\n",
       "  '055',\n",
       "  '056',\n",
       "  '057',\n",
       "  '059',\n",
       "  '120',\n",
       "  '124',\n",
       "  '125',\n",
       "  '126',\n",
       "  '127',\n",
       "  '128'],\n",
       " 'c4': ['036',\n",
       "  '079',\n",
       "  '080',\n",
       "  '081',\n",
       "  '082',\n",
       "  '083',\n",
       "  '093',\n",
       "  '094',\n",
       "  '101',\n",
       "  '102',\n",
       "  '103',\n",
       "  '104',\n",
       "  '105',\n",
       "  '106',\n",
       "  '107',\n",
       "  '117',\n",
       "  '118',\n",
       "  '119',\n",
       "  '121',\n",
       "  '122',\n",
       "  '123',\n",
       "  '130',\n",
       "  '131',\n",
       "  '132',\n",
       "  '133',\n",
       "  '134',\n",
       "  '135',\n",
       "  '143',\n",
       "  '144',\n",
       "  '152',\n",
       "  '153',\n",
       "  '154',\n",
       "  '155',\n",
       "  '156',\n",
       "  '157',\n",
       "  '158',\n",
       "  '159',\n",
       "  '187',\n",
       "  '188',\n",
       "  '189',\n",
       "  '190',\n",
       "  '191',\n",
       "  '192',\n",
       "  '193',\n",
       "  '194',\n",
       "  '232',\n",
       "  '233',\n",
       "  '234',\n",
       "  '236',\n",
       "  '258',\n",
       "  '259',\n",
       "  '329',\n",
       "  '353',\n",
       "  '382',\n",
       "  '383',\n",
       "  '384',\n",
       "  '385',\n",
       "  '386',\n",
       "  '387',\n",
       "  '388',\n",
       "  '389',\n",
       "  '390',\n",
       "  '394',\n",
       "  '395',\n",
       "  '396',\n",
       "  '403',\n",
       "  '404',\n",
       "  '405']}"
      ]
     },
     "execution_count": 90,
     "metadata": {},
     "output_type": "execute_result"
    }
   ],
   "source": [
    "cluster_dict_nbo_descriptor"
   ]
  },
  {
   "cell_type": "code",
   "execution_count": 91,
   "id": "02696106-143b-4a59-9709-b1fc8f18dab9",
   "metadata": {},
   "outputs": [
    {
     "data": {
      "text/plain": [
       "{'c1': ['038',\n",
       "  '048',\n",
       "  '072',\n",
       "  '073',\n",
       "  '074',\n",
       "  '075',\n",
       "  '076',\n",
       "  '077',\n",
       "  '078',\n",
       "  '092',\n",
       "  '099',\n",
       "  '111',\n",
       "  '121',\n",
       "  '122',\n",
       "  '145',\n",
       "  '146',\n",
       "  '147',\n",
       "  '148',\n",
       "  '149',\n",
       "  '150',\n",
       "  '151',\n",
       "  '160',\n",
       "  '161',\n",
       "  '168',\n",
       "  '169',\n",
       "  '170',\n",
       "  '171',\n",
       "  '172',\n",
       "  '173',\n",
       "  '174',\n",
       "  '175',\n",
       "  '176',\n",
       "  '177',\n",
       "  '178',\n",
       "  '179',\n",
       "  '180',\n",
       "  '181',\n",
       "  '182',\n",
       "  '183',\n",
       "  '186',\n",
       "  '199',\n",
       "  '200',\n",
       "  '201',\n",
       "  '202',\n",
       "  '205',\n",
       "  '207',\n",
       "  '208',\n",
       "  '209',\n",
       "  '210',\n",
       "  '211',\n",
       "  '212',\n",
       "  '213',\n",
       "  '214',\n",
       "  '215',\n",
       "  '216',\n",
       "  '217',\n",
       "  '218',\n",
       "  '219',\n",
       "  '220',\n",
       "  '221',\n",
       "  '222',\n",
       "  '223',\n",
       "  '224',\n",
       "  '225',\n",
       "  '226',\n",
       "  '227',\n",
       "  '228',\n",
       "  '229',\n",
       "  '230',\n",
       "  '231',\n",
       "  '237',\n",
       "  '238',\n",
       "  '239',\n",
       "  '240',\n",
       "  '241',\n",
       "  '250',\n",
       "  '251',\n",
       "  '252',\n",
       "  '254',\n",
       "  '257',\n",
       "  '259',\n",
       "  '264',\n",
       "  '265',\n",
       "  '296',\n",
       "  '299',\n",
       "  '301',\n",
       "  '303',\n",
       "  '309',\n",
       "  '310',\n",
       "  '311',\n",
       "  '312',\n",
       "  '348',\n",
       "  '350',\n",
       "  '353',\n",
       "  '356',\n",
       "  '357',\n",
       "  '358',\n",
       "  '359',\n",
       "  '360',\n",
       "  '387'],\n",
       " 'c2': ['002',\n",
       "  '003',\n",
       "  '011',\n",
       "  '013',\n",
       "  '018',\n",
       "  '019',\n",
       "  '020',\n",
       "  '021',\n",
       "  '022',\n",
       "  '030',\n",
       "  '031',\n",
       "  '032',\n",
       "  '033',\n",
       "  '035',\n",
       "  '040',\n",
       "  '041',\n",
       "  '042',\n",
       "  '043',\n",
       "  '046',\n",
       "  '047',\n",
       "  '053',\n",
       "  '055',\n",
       "  '056',\n",
       "  '057',\n",
       "  '058',\n",
       "  '059',\n",
       "  '084',\n",
       "  '085',\n",
       "  '086',\n",
       "  '087',\n",
       "  '088',\n",
       "  '089',\n",
       "  '090',\n",
       "  '094',\n",
       "  '096',\n",
       "  '097',\n",
       "  '098',\n",
       "  '113',\n",
       "  '114',\n",
       "  '117',\n",
       "  '118',\n",
       "  '119',\n",
       "  '123',\n",
       "  '129',\n",
       "  '132',\n",
       "  '134',\n",
       "  '136',\n",
       "  '137',\n",
       "  '138',\n",
       "  '162',\n",
       "  '163',\n",
       "  '164',\n",
       "  '165',\n",
       "  '166',\n",
       "  '167',\n",
       "  '190',\n",
       "  '244',\n",
       "  '247',\n",
       "  '248',\n",
       "  '255',\n",
       "  '268',\n",
       "  '269',\n",
       "  '270',\n",
       "  '271',\n",
       "  '275',\n",
       "  '276',\n",
       "  '280',\n",
       "  '281',\n",
       "  '287',\n",
       "  '290',\n",
       "  '291',\n",
       "  '292',\n",
       "  '293',\n",
       "  '304',\n",
       "  '305',\n",
       "  '306',\n",
       "  '307',\n",
       "  '308',\n",
       "  '313',\n",
       "  '314',\n",
       "  '327',\n",
       "  '330',\n",
       "  '331',\n",
       "  '332',\n",
       "  '333',\n",
       "  '334',\n",
       "  '335',\n",
       "  '336',\n",
       "  '337',\n",
       "  '338',\n",
       "  '341',\n",
       "  '342',\n",
       "  '343',\n",
       "  '344',\n",
       "  '345',\n",
       "  '346',\n",
       "  '347',\n",
       "  '349',\n",
       "  '351',\n",
       "  '352',\n",
       "  '355',\n",
       "  '361',\n",
       "  '362',\n",
       "  '363',\n",
       "  '364',\n",
       "  '365',\n",
       "  '366',\n",
       "  '368',\n",
       "  '369',\n",
       "  '377',\n",
       "  '378',\n",
       "  '379',\n",
       "  '380',\n",
       "  '381',\n",
       "  '382',\n",
       "  '383',\n",
       "  '385',\n",
       "  '386',\n",
       "  '388',\n",
       "  '390',\n",
       "  '394',\n",
       "  '395',\n",
       "  '396',\n",
       "  '397',\n",
       "  '399',\n",
       "  '400',\n",
       "  '401',\n",
       "  '402',\n",
       "  '403',\n",
       "  '404',\n",
       "  '405',\n",
       "  '408',\n",
       "  '409'],\n",
       " 'c3': [nan,\n",
       "  '004',\n",
       "  '005',\n",
       "  '006',\n",
       "  '007',\n",
       "  '008',\n",
       "  '009',\n",
       "  '010',\n",
       "  '027',\n",
       "  '029',\n",
       "  '036',\n",
       "  '037',\n",
       "  '039',\n",
       "  '044',\n",
       "  '060',\n",
       "  '071',\n",
       "  '079',\n",
       "  '080',\n",
       "  '081',\n",
       "  '082',\n",
       "  '083',\n",
       "  '091',\n",
       "  '093',\n",
       "  '095',\n",
       "  '100',\n",
       "  '101',\n",
       "  '102',\n",
       "  '103',\n",
       "  '104',\n",
       "  '105',\n",
       "  '106',\n",
       "  '107',\n",
       "  '108',\n",
       "  '109',\n",
       "  '110',\n",
       "  '112',\n",
       "  '115',\n",
       "  '116',\n",
       "  '120',\n",
       "  '124',\n",
       "  '125',\n",
       "  '126',\n",
       "  '127',\n",
       "  '128',\n",
       "  '130',\n",
       "  '131',\n",
       "  '133',\n",
       "  '135',\n",
       "  '139',\n",
       "  '140',\n",
       "  '141',\n",
       "  '142',\n",
       "  '143',\n",
       "  '144',\n",
       "  '152',\n",
       "  '153',\n",
       "  '154',\n",
       "  '155',\n",
       "  '156',\n",
       "  '157',\n",
       "  '158',\n",
       "  '159',\n",
       "  '184',\n",
       "  '187',\n",
       "  '188',\n",
       "  '189',\n",
       "  '191',\n",
       "  '192',\n",
       "  '193',\n",
       "  '194',\n",
       "  '195',\n",
       "  '196',\n",
       "  '197',\n",
       "  '198',\n",
       "  '203',\n",
       "  '204',\n",
       "  '206',\n",
       "  '232',\n",
       "  '233',\n",
       "  '234',\n",
       "  '236',\n",
       "  '242',\n",
       "  '243',\n",
       "  '245',\n",
       "  '246',\n",
       "  '249',\n",
       "  '253',\n",
       "  '256',\n",
       "  '258',\n",
       "  '260',\n",
       "  '261',\n",
       "  '262',\n",
       "  '263',\n",
       "  '266',\n",
       "  '267',\n",
       "  '272',\n",
       "  '273',\n",
       "  '274',\n",
       "  '277',\n",
       "  '278',\n",
       "  '279',\n",
       "  '282',\n",
       "  '283',\n",
       "  '284',\n",
       "  '285',\n",
       "  '286',\n",
       "  '288',\n",
       "  '289',\n",
       "  '294',\n",
       "  '295',\n",
       "  '297',\n",
       "  '298',\n",
       "  '300',\n",
       "  '302',\n",
       "  '315',\n",
       "  '316',\n",
       "  '317',\n",
       "  '318',\n",
       "  '319',\n",
       "  '320',\n",
       "  '321',\n",
       "  '322',\n",
       "  '323',\n",
       "  '324',\n",
       "  '325',\n",
       "  '326',\n",
       "  '328',\n",
       "  '329',\n",
       "  '339',\n",
       "  '340',\n",
       "  '354',\n",
       "  '367',\n",
       "  '370',\n",
       "  '376',\n",
       "  '384',\n",
       "  '389',\n",
       "  '391',\n",
       "  '392',\n",
       "  '393',\n",
       "  '398',\n",
       "  '406',\n",
       "  '407',\n",
       "  '411']}"
      ]
     },
     "execution_count": 91,
     "metadata": {},
     "output_type": "execute_result"
    }
   ],
   "source": [
    "cluster_dict_vbur_descriptor"
   ]
  },
  {
   "cell_type": "code",
   "execution_count": null,
   "id": "bed33891-2517-45f9-ae9e-93b96fc60bfa",
   "metadata": {},
   "outputs": [],
   "source": []
  },
  {
   "cell_type": "code",
   "execution_count": null,
   "id": "b90b69a0",
   "metadata": {},
   "outputs": [],
   "source": []
  },
  {
   "cell_type": "code",
   "execution_count": null,
   "id": "13913bc0",
   "metadata": {},
   "outputs": [],
   "source": []
  },
  {
   "cell_type": "code",
   "execution_count": null,
   "id": "1a06eb77",
   "metadata": {},
   "outputs": [],
   "source": []
  }
 ],
 "metadata": {
  "kernelspec": {
   "display_name": "Python 3 (ipykernel)",
   "language": "python",
   "name": "python3"
  },
  "language_info": {
   "codemirror_mode": {
    "name": "ipython",
    "version": 3
   },
   "file_extension": ".py",
   "mimetype": "text/x-python",
   "name": "python",
   "nbconvert_exporter": "python",
   "pygments_lexer": "ipython3",
   "version": "3.11.9"
  }
 },
 "nbformat": 4,
 "nbformat_minor": 5
}
